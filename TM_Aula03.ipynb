{
 "cells": [
  {
   "cell_type": "code",
   "execution_count": 11,
   "metadata": {
    "ExecuteTime": {
     "end_time": "2020-11-24T17:57:38.834020Z",
     "start_time": "2020-11-24T17:57:38.810Z"
    },
    "id": "pBGS405Mtd4x",
    "slideshow": {
     "slide_type": "skip"
    }
   },
   "outputs": [],
   "source": [
    "options(warn=-1)"
   ]
  },
  {
   "cell_type": "markdown",
   "metadata": {
    "id": "XcpWFAS-WuAC",
    "slideshow": {
     "slide_type": "slide"
    }
   },
   "source": [
    "# Text Mining para Business Analytics (com R)\n",
    "\n",
    "## Aulas #03 e 04\n",
    "\n",
    "**Professor: Leandro Krug Wives**\n",
    "\n",
    "**Assistente: Brenda Salenave Santana**\n",
    "\n",
    "## Classificação e Agrupamento (clustering) de Textos"
   ]
  },
  {
   "cell_type": "markdown",
   "metadata": {
    "id": "mpqvGRuWL1C_",
    "slideshow": {
     "slide_type": "slide"
    }
   },
   "source": [
    "## <font color=DarkSlateGrey>Agenda Aula #3 </font>\n",
    "\n",
    "1. Revisão\n",
    "2. Classificação de Texto\n",
    "3. Agrupamento *(clustering)*"
   ]
  },
  {
   "cell_type": "markdown",
   "metadata": {
    "id": "AY9ZMPnktd4y",
    "slideshow": {
     "slide_type": "slide"
    }
   },
   "source": [
    "# <center><font color=Navy> Revisão </font></center>"
   ]
  },
  {
   "cell_type": "markdown",
   "metadata": {
    "ExecuteTime": {
     "end_time": "2020-11-24T17:57:46.288306Z",
     "start_time": "2020-11-24T17:57:46.274Z"
    },
    "id": "isiUNS1Etd4y",
    "slideshow": {
     "slide_type": "skip"
    }
   },
   "source": [
    "- <font color=SlateGray>Bibliotecas</font>"
   ]
  },
  {
   "cell_type": "code",
   "execution_count": 12,
   "metadata": {
    "id": "PcofUbOBy-mj",
    "slideshow": {
     "slide_type": "skip"
    }
   },
   "outputs": [],
   "source": [
    "if(!require('tm')) install.packages('tm')\n",
    "if(!require('gutenbergr')) install.packages('gutenbergr')\n",
    "if(!require('tokenizers')) install.packages('tokenizers')\n",
    "if(!require('stopwords')) install.packages('stopwords')\n",
    "if(!require('wordcloud')) install.packages('wordcloud')\n",
    "if(!require('dplyr')) install.packages('dplyr')\n",
    "if(!require('tidytext')) install.packages('tidytext')\n",
    "if(!require('ggplot2')) install.packages('ggplot2')\n",
    "if(!require('caret')) install.packages('caret')\n",
    "if(!require('lexiconPT')) install.packages('lexiconPT')\n",
    "if(!require('janeaustenr')) install.packages('janeaustenr')\n",
    "if(!require('hrbrthemes')) install.packages('hrbrthemes')\n",
    "if(!require('proxy')) install.packages('proxy')\n",
    "if(!require('fpc')) install.packages('fpc')"
   ]
  },
  {
   "cell_type": "code",
   "execution_count": 13,
   "metadata": {
    "ExecuteTime": {
     "end_time": "2020-11-24T17:58:49.120833Z",
     "start_time": "2020-11-24T17:58:48.744Z"
    },
    "id": "76Ifl5B5td4y",
    "slideshow": {
     "slide_type": "skip"
    }
   },
   "outputs": [],
   "source": [
    "library(tm)\n",
    "library(stopwords)\n",
    "library(tokenizers)\n",
    "library(wordcloud)\n",
    "library(dplyr)\n",
    "library(tidytext)\n",
    "library(ggplot2)\n",
    "library(caret)\n",
    "library(lexiconPT)\n",
    "library(gutenbergr)\n",
    "library(janeaustenr)\n",
    "library(proxy)\n",
    "library(fpc)"
   ]
  },
  {
   "cell_type": "markdown",
   "metadata": {
    "id": "y1Ppih2vzML-",
    "outputId": "2e58247a-e86d-499b-ac0c-a47c50bd5840",
    "slideshow": {
     "slide_type": "slide"
    }
   },
   "source": [
    "- <font color=SlateGray>vamos para o RSTudio!</font>"
   ]
  },
  {
   "cell_type": "markdown",
   "metadata": {
    "id": "IpcjBeCVzE_g",
    "slideshow": {
     "slide_type": "skip"
    }
   },
   "source": [
    "### Exercício 1: \n",
    "A biblioteca de tokenização tem várias funções diferentes, que criam toquens de diferentes maneiras, e.g., por caracteres, por n-gramas (i.e., grupos de caracteres ou de palavras), por frases... Analise as diferentes funções para o texto inicial e crie tabelas apresentando os resultados."
   ]
  },
  {
   "cell_type": "code",
   "execution_count": 14,
   "metadata": {
    "ExecuteTime": {
     "end_time": "2020-11-24T18:38:33.886335Z",
     "start_time": "2020-11-24T18:38:33.864Z"
    },
    "id": "uDt7Zknitd4y",
    "slideshow": {
     "slide_type": "skip"
    }
   },
   "outputs": [],
   "source": [
    "texto <- paste0(\n",
    "  \"Este parágrafo corresponde a um exemplo de texto a ser processado por nosso script.\\n\",\n",
    "  \"Ao invés de informar o texto diretamente, você pode lê-lo de um arquivo ou ainda\\n\",\n",
    "  \"de um local na Internet. A biblioteca tokenizers tem diferentes opções, é verdade. Teste algumas delas\\n\",\n",
    "  \"(consulte a página sugerida pelo professor para diferentes opções). #FICAADICA.\\n\"\n",
    ")"
   ]
  },
  {
   "cell_type": "code",
   "execution_count": 15,
   "metadata": {
    "ExecuteTime": {
     "end_time": "2020-11-24T18:38:42.682781Z",
     "start_time": "2020-11-24T18:38:35.228Z"
    },
    "colab": {
     "base_uri": "https://localhost:8080/",
     "height": 127
    },
    "id": "0t3-XLeetd4y",
    "outputId": "4e335b16-ad9a-4c54-a652-1ffbcb963b0e",
    "slideshow": {
     "slide_type": "skip"
    }
   },
   "outputs": [
    {
     "data": {
      "text/html": [
       "<ol>\n",
       "\t<li><style>\n",
       ".list-inline {list-style: none; margin:0; padding: 0}\n",
       ".list-inline>li {display: inline-block}\n",
       ".list-inline>li:not(:last-child)::after {content: \"\\00b7\"; padding: 0 .5ex}\n",
       "</style>\n",
       "<ol class=list-inline><li>'este'</li><li>'parágrafo'</li><li>'corresponde'</li><li>'a'</li><li>'um'</li><li>'exemplo'</li><li>'de'</li><li>'texto'</li><li>'a'</li><li>'ser'</li><li>'processado'</li><li>'por'</li><li>'nosso'</li><li>'script'</li><li>'ao'</li><li>'invés'</li><li>'de'</li><li>'informar'</li><li>'o'</li><li>'texto'</li><li>'diretamente'</li><li>'você'</li><li>'pode'</li><li>'lê'</li><li>'lo'</li><li>'de'</li><li>'um'</li><li>'arquivo'</li><li>'ou'</li><li>'ainda'</li><li>'de'</li><li>'um'</li><li>'local'</li><li>'na'</li><li>'internet'</li><li>'a'</li><li>'biblioteca'</li><li>'tokenizers'</li><li>'tem'</li><li>'diferentes'</li><li>'opções'</li><li>'é'</li><li>'verdade'</li><li>'teste'</li><li>'algumas'</li><li>'delas'</li><li>'consulte'</li><li>'a'</li><li>'página'</li><li>'sugerida'</li><li>'pelo'</li><li>'professor'</li><li>'para'</li><li>'diferentes'</li><li>'opções'</li><li>'ficaadica'</li></ol>\n",
       "</li>\n",
       "</ol>\n"
      ],
      "text/latex": [
       "\\begin{enumerate}\n",
       "\\item \\begin{enumerate*}\n",
       "\\item 'este'\n",
       "\\item 'parágrafo'\n",
       "\\item 'corresponde'\n",
       "\\item 'a'\n",
       "\\item 'um'\n",
       "\\item 'exemplo'\n",
       "\\item 'de'\n",
       "\\item 'texto'\n",
       "\\item 'a'\n",
       "\\item 'ser'\n",
       "\\item 'processado'\n",
       "\\item 'por'\n",
       "\\item 'nosso'\n",
       "\\item 'script'\n",
       "\\item 'ao'\n",
       "\\item 'invés'\n",
       "\\item 'de'\n",
       "\\item 'informar'\n",
       "\\item 'o'\n",
       "\\item 'texto'\n",
       "\\item 'diretamente'\n",
       "\\item 'você'\n",
       "\\item 'pode'\n",
       "\\item 'lê'\n",
       "\\item 'lo'\n",
       "\\item 'de'\n",
       "\\item 'um'\n",
       "\\item 'arquivo'\n",
       "\\item 'ou'\n",
       "\\item 'ainda'\n",
       "\\item 'de'\n",
       "\\item 'um'\n",
       "\\item 'local'\n",
       "\\item 'na'\n",
       "\\item 'internet'\n",
       "\\item 'a'\n",
       "\\item 'biblioteca'\n",
       "\\item 'tokenizers'\n",
       "\\item 'tem'\n",
       "\\item 'diferentes'\n",
       "\\item 'opções'\n",
       "\\item 'é'\n",
       "\\item 'verdade'\n",
       "\\item 'teste'\n",
       "\\item 'algumas'\n",
       "\\item 'delas'\n",
       "\\item 'consulte'\n",
       "\\item 'a'\n",
       "\\item 'página'\n",
       "\\item 'sugerida'\n",
       "\\item 'pelo'\n",
       "\\item 'professor'\n",
       "\\item 'para'\n",
       "\\item 'diferentes'\n",
       "\\item 'opções'\n",
       "\\item 'ficaadica'\n",
       "\\end{enumerate*}\n",
       "\n",
       "\\end{enumerate}\n"
      ],
      "text/markdown": [
       "1. 1. 'este'\n",
       "2. 'parágrafo'\n",
       "3. 'corresponde'\n",
       "4. 'a'\n",
       "5. 'um'\n",
       "6. 'exemplo'\n",
       "7. 'de'\n",
       "8. 'texto'\n",
       "9. 'a'\n",
       "10. 'ser'\n",
       "11. 'processado'\n",
       "12. 'por'\n",
       "13. 'nosso'\n",
       "14. 'script'\n",
       "15. 'ao'\n",
       "16. 'invés'\n",
       "17. 'de'\n",
       "18. 'informar'\n",
       "19. 'o'\n",
       "20. 'texto'\n",
       "21. 'diretamente'\n",
       "22. 'você'\n",
       "23. 'pode'\n",
       "24. 'lê'\n",
       "25. 'lo'\n",
       "26. 'de'\n",
       "27. 'um'\n",
       "28. 'arquivo'\n",
       "29. 'ou'\n",
       "30. 'ainda'\n",
       "31. 'de'\n",
       "32. 'um'\n",
       "33. 'local'\n",
       "34. 'na'\n",
       "35. 'internet'\n",
       "36. 'a'\n",
       "37. 'biblioteca'\n",
       "38. 'tokenizers'\n",
       "39. 'tem'\n",
       "40. 'diferentes'\n",
       "41. 'opções'\n",
       "42. 'é'\n",
       "43. 'verdade'\n",
       "44. 'teste'\n",
       "45. 'algumas'\n",
       "46. 'delas'\n",
       "47. 'consulte'\n",
       "48. 'a'\n",
       "49. 'página'\n",
       "50. 'sugerida'\n",
       "51. 'pelo'\n",
       "52. 'professor'\n",
       "53. 'para'\n",
       "54. 'diferentes'\n",
       "55. 'opções'\n",
       "56. 'ficaadica'\n",
       "\n",
       "\n",
       "\n",
       "\n",
       "\n"
      ],
      "text/plain": [
       "[[1]]\n",
       " [1] \"este\"        \"parágrafo\"   \"corresponde\" \"a\"           \"um\"         \n",
       " [6] \"exemplo\"     \"de\"          \"texto\"       \"a\"           \"ser\"        \n",
       "[11] \"processado\"  \"por\"         \"nosso\"       \"script\"      \"ao\"         \n",
       "[16] \"invés\"       \"de\"          \"informar\"    \"o\"           \"texto\"      \n",
       "[21] \"diretamente\" \"você\"        \"pode\"        \"lê\"          \"lo\"         \n",
       "[26] \"de\"          \"um\"          \"arquivo\"     \"ou\"          \"ainda\"      \n",
       "[31] \"de\"          \"um\"          \"local\"       \"na\"          \"internet\"   \n",
       "[36] \"a\"           \"biblioteca\"  \"tokenizers\"  \"tem\"         \"diferentes\" \n",
       "[41] \"opções\"      \"é\"           \"verdade\"     \"teste\"       \"algumas\"    \n",
       "[46] \"delas\"       \"consulte\"    \"a\"           \"página\"      \"sugerida\"   \n",
       "[51] \"pelo\"        \"professor\"   \"para\"        \"diferentes\"  \"opções\"     \n",
       "[56] \"ficaadica\"  \n"
      ]
     },
     "metadata": {},
     "output_type": "display_data"
    },
    {
     "data": {
      "text/html": [
       "<ol>\n",
       "\t<li><style>\n",
       ".list-inline {list-style: none; margin:0; padding: 0}\n",
       ".list-inline>li {display: inline-block}\n",
       ".list-inline>li:not(:last-child)::after {content: \"\\00b7\"; padding: 0 .5ex}\n",
       "</style>\n",
       "<ol class=list-inline><li>'este'</li><li>'parágrafo'</li><li>'corresponde'</li><li>'a'</li><li>'um'</li><li>'exemplo'</li><li>'de'</li><li>'texto'</li><li>'a'</li><li>'ser'</li><li>'processado'</li><li>'por'</li><li>'nosso'</li><li>'script'</li><li>'ao'</li><li>'invés'</li><li>'de'</li><li>'informar'</li><li>'o'</li><li>'texto'</li><li>'diretamente'</li><li>'você'</li><li>'pode'</li><li>'lêlo'</li><li>'de'</li><li>'um'</li><li>'arquivo'</li><li>'ou'</li><li>'ainda'</li><li>'de'</li><li>'um'</li><li>'local'</li><li>'na'</li><li>'internet'</li><li>'a'</li><li>'biblioteca'</li><li>'tokenizers'</li><li>'tem'</li><li>'diferentes'</li><li>'opções'</li><li>'é'</li><li>'verdade'</li><li>'teste'</li><li>'algumas'</li><li>'delas'</li><li>'consulte'</li><li>'a'</li><li>'página'</li><li>'sugerida'</li><li>'pelo'</li><li>'professor'</li><li>'para'</li><li>'diferentes'</li><li>'opções'</li><li>'#FICAADICA'</li></ol>\n",
       "</li>\n",
       "</ol>\n"
      ],
      "text/latex": [
       "\\begin{enumerate}\n",
       "\\item \\begin{enumerate*}\n",
       "\\item 'este'\n",
       "\\item 'parágrafo'\n",
       "\\item 'corresponde'\n",
       "\\item 'a'\n",
       "\\item 'um'\n",
       "\\item 'exemplo'\n",
       "\\item 'de'\n",
       "\\item 'texto'\n",
       "\\item 'a'\n",
       "\\item 'ser'\n",
       "\\item 'processado'\n",
       "\\item 'por'\n",
       "\\item 'nosso'\n",
       "\\item 'script'\n",
       "\\item 'ao'\n",
       "\\item 'invés'\n",
       "\\item 'de'\n",
       "\\item 'informar'\n",
       "\\item 'o'\n",
       "\\item 'texto'\n",
       "\\item 'diretamente'\n",
       "\\item 'você'\n",
       "\\item 'pode'\n",
       "\\item 'lêlo'\n",
       "\\item 'de'\n",
       "\\item 'um'\n",
       "\\item 'arquivo'\n",
       "\\item 'ou'\n",
       "\\item 'ainda'\n",
       "\\item 'de'\n",
       "\\item 'um'\n",
       "\\item 'local'\n",
       "\\item 'na'\n",
       "\\item 'internet'\n",
       "\\item 'a'\n",
       "\\item 'biblioteca'\n",
       "\\item 'tokenizers'\n",
       "\\item 'tem'\n",
       "\\item 'diferentes'\n",
       "\\item 'opções'\n",
       "\\item 'é'\n",
       "\\item 'verdade'\n",
       "\\item 'teste'\n",
       "\\item 'algumas'\n",
       "\\item 'delas'\n",
       "\\item 'consulte'\n",
       "\\item 'a'\n",
       "\\item 'página'\n",
       "\\item 'sugerida'\n",
       "\\item 'pelo'\n",
       "\\item 'professor'\n",
       "\\item 'para'\n",
       "\\item 'diferentes'\n",
       "\\item 'opções'\n",
       "\\item '\\#FICAADICA'\n",
       "\\end{enumerate*}\n",
       "\n",
       "\\end{enumerate}\n"
      ],
      "text/markdown": [
       "1. 1. 'este'\n",
       "2. 'parágrafo'\n",
       "3. 'corresponde'\n",
       "4. 'a'\n",
       "5. 'um'\n",
       "6. 'exemplo'\n",
       "7. 'de'\n",
       "8. 'texto'\n",
       "9. 'a'\n",
       "10. 'ser'\n",
       "11. 'processado'\n",
       "12. 'por'\n",
       "13. 'nosso'\n",
       "14. 'script'\n",
       "15. 'ao'\n",
       "16. 'invés'\n",
       "17. 'de'\n",
       "18. 'informar'\n",
       "19. 'o'\n",
       "20. 'texto'\n",
       "21. 'diretamente'\n",
       "22. 'você'\n",
       "23. 'pode'\n",
       "24. 'lêlo'\n",
       "25. 'de'\n",
       "26. 'um'\n",
       "27. 'arquivo'\n",
       "28. 'ou'\n",
       "29. 'ainda'\n",
       "30. 'de'\n",
       "31. 'um'\n",
       "32. 'local'\n",
       "33. 'na'\n",
       "34. 'internet'\n",
       "35. 'a'\n",
       "36. 'biblioteca'\n",
       "37. 'tokenizers'\n",
       "38. 'tem'\n",
       "39. 'diferentes'\n",
       "40. 'opções'\n",
       "41. 'é'\n",
       "42. 'verdade'\n",
       "43. 'teste'\n",
       "44. 'algumas'\n",
       "45. 'delas'\n",
       "46. 'consulte'\n",
       "47. 'a'\n",
       "48. 'página'\n",
       "49. 'sugerida'\n",
       "50. 'pelo'\n",
       "51. 'professor'\n",
       "52. 'para'\n",
       "53. 'diferentes'\n",
       "54. 'opções'\n",
       "55. '#FICAADICA'\n",
       "\n",
       "\n",
       "\n",
       "\n",
       "\n"
      ],
      "text/plain": [
       "[[1]]\n",
       " [1] \"este\"        \"parágrafo\"   \"corresponde\" \"a\"           \"um\"         \n",
       " [6] \"exemplo\"     \"de\"          \"texto\"       \"a\"           \"ser\"        \n",
       "[11] \"processado\"  \"por\"         \"nosso\"       \"script\"      \"ao\"         \n",
       "[16] \"invés\"       \"de\"          \"informar\"    \"o\"           \"texto\"      \n",
       "[21] \"diretamente\" \"você\"        \"pode\"        \"lêlo\"        \"de\"         \n",
       "[26] \"um\"          \"arquivo\"     \"ou\"          \"ainda\"       \"de\"         \n",
       "[31] \"um\"          \"local\"       \"na\"          \"internet\"    \"a\"          \n",
       "[36] \"biblioteca\"  \"tokenizers\"  \"tem\"         \"diferentes\"  \"opções\"     \n",
       "[41] \"é\"           \"verdade\"     \"teste\"       \"algumas\"     \"delas\"      \n",
       "[46] \"consulte\"    \"a\"           \"página\"      \"sugerida\"    \"pelo\"       \n",
       "[51] \"professor\"   \"para\"        \"diferentes\"  \"opções\"      \"#FICAADICA\" \n"
      ]
     },
     "metadata": {},
     "output_type": "display_data"
    }
   ],
   "source": [
    "# toquenização por palavras: separa o texto em tokens\n",
    "lst_tokens <- tokenize_words(texto)\n",
    "head(lst_tokens)\n",
    "\n",
    "# toquenização com hashtags\n",
    "lst_tokens_with_hashtags <- tokenize_tweets(texto)\n",
    "head(lst_tokens_with_hashtags)"
   ]
  },
  {
   "cell_type": "code",
   "execution_count": 16,
   "metadata": {
    "ExecuteTime": {
     "end_time": "2020-11-24T18:38:51.591518Z",
     "start_time": "2020-11-24T18:38:40.963Z"
    },
    "colab": {
     "base_uri": "https://localhost:8080/",
     "height": 127
    },
    "id": "2WHjzmsntd4z",
    "outputId": "7c9093cb-b9fc-4720-af84-d57e69196040",
    "slideshow": {
     "slide_type": "skip"
    }
   },
   "outputs": [
    {
     "data": {
      "text/html": [
       "<ol>\n",
       "\t<li><style>\n",
       ".list-inline {list-style: none; margin:0; padding: 0}\n",
       ".list-inline>li {display: inline-block}\n",
       ".list-inline>li:not(:last-child)::after {content: \"\\00b7\"; padding: 0 .5ex}\n",
       "</style>\n",
       "<ol class=list-inline><li>'Este parágrafo corresponde a um exemplo de texto a ser processado por nosso script.'</li><li>'Ao invés de informar o texto diretamente, você pode lê-lo de um arquivo ou ainda de um local na Internet.'</li><li>'A biblioteca tokenizers tem diferentes opções, é verdade.'</li><li>'Teste algumas delas (consulte a página sugerida pelo professor para diferentes opções).'</li><li>'#FICAADICA.'</li></ol>\n",
       "</li>\n",
       "</ol>\n"
      ],
      "text/latex": [
       "\\begin{enumerate}\n",
       "\\item \\begin{enumerate*}\n",
       "\\item 'Este parágrafo corresponde a um exemplo de texto a ser processado por nosso script.'\n",
       "\\item 'Ao invés de informar o texto diretamente, você pode lê-lo de um arquivo ou ainda de um local na Internet.'\n",
       "\\item 'A biblioteca tokenizers tem diferentes opções, é verdade.'\n",
       "\\item 'Teste algumas delas (consulte a página sugerida pelo professor para diferentes opções).'\n",
       "\\item '\\#FICAADICA.'\n",
       "\\end{enumerate*}\n",
       "\n",
       "\\end{enumerate}\n"
      ],
      "text/markdown": [
       "1. 1. 'Este parágrafo corresponde a um exemplo de texto a ser processado por nosso script.'\n",
       "2. 'Ao invés de informar o texto diretamente, você pode lê-lo de um arquivo ou ainda de um local na Internet.'\n",
       "3. 'A biblioteca tokenizers tem diferentes opções, é verdade.'\n",
       "4. 'Teste algumas delas (consulte a página sugerida pelo professor para diferentes opções).'\n",
       "5. '#FICAADICA.'\n",
       "\n",
       "\n",
       "\n",
       "\n",
       "\n"
      ],
      "text/plain": [
       "[[1]]\n",
       "[1] \"Este parágrafo corresponde a um exemplo de texto a ser processado por nosso script.\"                      \n",
       "[2] \"Ao invés de informar o texto diretamente, você pode lê-lo de um arquivo ou ainda de um local na Internet.\"\n",
       "[3] \"A biblioteca tokenizers tem diferentes opções, é verdade.\"                                                \n",
       "[4] \"Teste algumas delas (consulte a página sugerida pelo professor para diferentes opções).\"                  \n",
       "[5] \"#FICAADICA.\"                                                                                              \n"
      ]
     },
     "metadata": {},
     "output_type": "display_data"
    },
    {
     "data": {
      "text/html": [
       "<ol>\n",
       "\t<li>'Este parágrafo corresponde a um exemplo de texto a ser processado por nosso script. Ao invés de informar o texto diretamente, você pode lê-lo de um arquivo ou ainda de um local na Internet. A biblioteca tokenizers tem diferentes opções, é verdade. Teste algumas delas (consulte a página sugerida pelo professor para diferentes opções). #FICAADICA. '</li>\n",
       "</ol>\n"
      ],
      "text/latex": [
       "\\begin{enumerate}\n",
       "\\item 'Este parágrafo corresponde a um exemplo de texto a ser processado por nosso script. Ao invés de informar o texto diretamente, você pode lê-lo de um arquivo ou ainda de um local na Internet. A biblioteca tokenizers tem diferentes opções, é verdade. Teste algumas delas (consulte a página sugerida pelo professor para diferentes opções). \\#FICAADICA. '\n",
       "\\end{enumerate}\n"
      ],
      "text/markdown": [
       "1. 'Este parágrafo corresponde a um exemplo de texto a ser processado por nosso script. Ao invés de informar o texto diretamente, você pode lê-lo de um arquivo ou ainda de um local na Internet. A biblioteca tokenizers tem diferentes opções, é verdade. Teste algumas delas (consulte a página sugerida pelo professor para diferentes opções). #FICAADICA. '\n",
       "\n",
       "\n"
      ],
      "text/plain": [
       "[[1]]\n",
       "[1] \"Este parágrafo corresponde a um exemplo de texto a ser processado por nosso script. Ao invés de informar o texto diretamente, você pode lê-lo de um arquivo ou ainda de um local na Internet. A biblioteca tokenizers tem diferentes opções, é verdade. Teste algumas delas (consulte a página sugerida pelo professor para diferentes opções). #FICAADICA. \"\n"
      ]
     },
     "metadata": {},
     "output_type": "display_data"
    }
   ],
   "source": [
    "# toquenização por sentenças\n",
    "lst_sentences <- tokenize_sentences(texto)\n",
    "head(lst_sentences)\n",
    "\n",
    "# toquenização por parágrafos\n",
    "lst_par <- tokenize_paragraphs(texto)\n",
    "head(lst_par)"
   ]
  },
  {
   "cell_type": "code",
   "execution_count": 17,
   "metadata": {
    "colab": {
     "base_uri": "https://localhost:8080/",
     "height": 685
    },
    "id": "2Ie4o0hPtd4z",
    "outputId": "0a0de9f1-a967-43c0-c8dd-ec70e64de645",
    "slideshow": {
     "slide_type": "skip"
    }
   },
   "outputs": [
    {
     "data": {
      "text/html": [
       "<ol>\n",
       "\t<li><style>\n",
       ".list-inline {list-style: none; margin:0; padding: 0}\n",
       ".list-inline>li {display: inline-block}\n",
       ".list-inline>li:not(:last-child)::after {content: \"\\00b7\"; padding: 0 .5ex}\n",
       "</style>\n",
       "<ol class=list-inline><li>'este parágrafo corresponde'</li><li>'parágrafo corresponde a'</li><li>'corresponde a um'</li><li>'a um exemplo'</li><li>'um exemplo de'</li><li>'exemplo de texto'</li><li>'de texto a'</li><li>'texto a ser'</li><li>'a ser processado'</li><li>'ser processado por'</li><li>'processado por nosso'</li><li>'por nosso script'</li><li>'nosso script ao'</li><li>'script ao invés'</li><li>'ao invés de'</li><li>'invés de informar'</li><li>'de informar o'</li><li>'informar o texto'</li><li>'o texto diretamente'</li><li>'texto diretamente você'</li><li>'diretamente você pode'</li><li>'você pode lê'</li><li>'pode lê lo'</li><li>'lê lo de'</li><li>'lo de um'</li><li>'de um arquivo'</li><li>'um arquivo ou'</li><li>'arquivo ou ainda'</li><li>'ou ainda de'</li><li>'ainda de um'</li><li>'de um local'</li><li>'um local na'</li><li>'local na internet'</li><li>'na internet a'</li><li>'internet a biblioteca'</li><li>'a biblioteca tokenizers'</li><li>'biblioteca tokenizers tem'</li><li>'tokenizers tem diferentes'</li><li>'tem diferentes opções'</li><li>'diferentes opções é'</li><li>'opções é verdade'</li><li>'é verdade teste'</li><li>'verdade teste algumas'</li><li>'teste algumas delas'</li><li>'algumas delas consulte'</li><li>'delas consulte a'</li><li>'consulte a página'</li><li>'a página sugerida'</li><li>'página sugerida pelo'</li><li>'sugerida pelo professor'</li><li>'pelo professor para'</li><li>'professor para diferentes'</li><li>'para diferentes opções'</li><li>'diferentes opções ficaadica'</li></ol>\n",
       "</li>\n",
       "</ol>\n"
      ],
      "text/latex": [
       "\\begin{enumerate}\n",
       "\\item \\begin{enumerate*}\n",
       "\\item 'este parágrafo corresponde'\n",
       "\\item 'parágrafo corresponde a'\n",
       "\\item 'corresponde a um'\n",
       "\\item 'a um exemplo'\n",
       "\\item 'um exemplo de'\n",
       "\\item 'exemplo de texto'\n",
       "\\item 'de texto a'\n",
       "\\item 'texto a ser'\n",
       "\\item 'a ser processado'\n",
       "\\item 'ser processado por'\n",
       "\\item 'processado por nosso'\n",
       "\\item 'por nosso script'\n",
       "\\item 'nosso script ao'\n",
       "\\item 'script ao invés'\n",
       "\\item 'ao invés de'\n",
       "\\item 'invés de informar'\n",
       "\\item 'de informar o'\n",
       "\\item 'informar o texto'\n",
       "\\item 'o texto diretamente'\n",
       "\\item 'texto diretamente você'\n",
       "\\item 'diretamente você pode'\n",
       "\\item 'você pode lê'\n",
       "\\item 'pode lê lo'\n",
       "\\item 'lê lo de'\n",
       "\\item 'lo de um'\n",
       "\\item 'de um arquivo'\n",
       "\\item 'um arquivo ou'\n",
       "\\item 'arquivo ou ainda'\n",
       "\\item 'ou ainda de'\n",
       "\\item 'ainda de um'\n",
       "\\item 'de um local'\n",
       "\\item 'um local na'\n",
       "\\item 'local na internet'\n",
       "\\item 'na internet a'\n",
       "\\item 'internet a biblioteca'\n",
       "\\item 'a biblioteca tokenizers'\n",
       "\\item 'biblioteca tokenizers tem'\n",
       "\\item 'tokenizers tem diferentes'\n",
       "\\item 'tem diferentes opções'\n",
       "\\item 'diferentes opções é'\n",
       "\\item 'opções é verdade'\n",
       "\\item 'é verdade teste'\n",
       "\\item 'verdade teste algumas'\n",
       "\\item 'teste algumas delas'\n",
       "\\item 'algumas delas consulte'\n",
       "\\item 'delas consulte a'\n",
       "\\item 'consulte a página'\n",
       "\\item 'a página sugerida'\n",
       "\\item 'página sugerida pelo'\n",
       "\\item 'sugerida pelo professor'\n",
       "\\item 'pelo professor para'\n",
       "\\item 'professor para diferentes'\n",
       "\\item 'para diferentes opções'\n",
       "\\item 'diferentes opções ficaadica'\n",
       "\\end{enumerate*}\n",
       "\n",
       "\\end{enumerate}\n"
      ],
      "text/markdown": [
       "1. 1. 'este parágrafo corresponde'\n",
       "2. 'parágrafo corresponde a'\n",
       "3. 'corresponde a um'\n",
       "4. 'a um exemplo'\n",
       "5. 'um exemplo de'\n",
       "6. 'exemplo de texto'\n",
       "7. 'de texto a'\n",
       "8. 'texto a ser'\n",
       "9. 'a ser processado'\n",
       "10. 'ser processado por'\n",
       "11. 'processado por nosso'\n",
       "12. 'por nosso script'\n",
       "13. 'nosso script ao'\n",
       "14. 'script ao invés'\n",
       "15. 'ao invés de'\n",
       "16. 'invés de informar'\n",
       "17. 'de informar o'\n",
       "18. 'informar o texto'\n",
       "19. 'o texto diretamente'\n",
       "20. 'texto diretamente você'\n",
       "21. 'diretamente você pode'\n",
       "22. 'você pode lê'\n",
       "23. 'pode lê lo'\n",
       "24. 'lê lo de'\n",
       "25. 'lo de um'\n",
       "26. 'de um arquivo'\n",
       "27. 'um arquivo ou'\n",
       "28. 'arquivo ou ainda'\n",
       "29. 'ou ainda de'\n",
       "30. 'ainda de um'\n",
       "31. 'de um local'\n",
       "32. 'um local na'\n",
       "33. 'local na internet'\n",
       "34. 'na internet a'\n",
       "35. 'internet a biblioteca'\n",
       "36. 'a biblioteca tokenizers'\n",
       "37. 'biblioteca tokenizers tem'\n",
       "38. 'tokenizers tem diferentes'\n",
       "39. 'tem diferentes opções'\n",
       "40. 'diferentes opções é'\n",
       "41. 'opções é verdade'\n",
       "42. 'é verdade teste'\n",
       "43. 'verdade teste algumas'\n",
       "44. 'teste algumas delas'\n",
       "45. 'algumas delas consulte'\n",
       "46. 'delas consulte a'\n",
       "47. 'consulte a página'\n",
       "48. 'a página sugerida'\n",
       "49. 'página sugerida pelo'\n",
       "50. 'sugerida pelo professor'\n",
       "51. 'pelo professor para'\n",
       "52. 'professor para diferentes'\n",
       "53. 'para diferentes opções'\n",
       "54. 'diferentes opções ficaadica'\n",
       "\n",
       "\n",
       "\n",
       "\n",
       "\n"
      ],
      "text/plain": [
       "[[1]]\n",
       " [1] \"este parágrafo corresponde\"  \"parágrafo corresponde a\"    \n",
       " [3] \"corresponde a um\"            \"a um exemplo\"               \n",
       " [5] \"um exemplo de\"               \"exemplo de texto\"           \n",
       " [7] \"de texto a\"                  \"texto a ser\"                \n",
       " [9] \"a ser processado\"            \"ser processado por\"         \n",
       "[11] \"processado por nosso\"        \"por nosso script\"           \n",
       "[13] \"nosso script ao\"             \"script ao invés\"            \n",
       "[15] \"ao invés de\"                 \"invés de informar\"          \n",
       "[17] \"de informar o\"               \"informar o texto\"           \n",
       "[19] \"o texto diretamente\"         \"texto diretamente você\"     \n",
       "[21] \"diretamente você pode\"       \"você pode lê\"               \n",
       "[23] \"pode lê lo\"                  \"lê lo de\"                   \n",
       "[25] \"lo de um\"                    \"de um arquivo\"              \n",
       "[27] \"um arquivo ou\"               \"arquivo ou ainda\"           \n",
       "[29] \"ou ainda de\"                 \"ainda de um\"                \n",
       "[31] \"de um local\"                 \"um local na\"                \n",
       "[33] \"local na internet\"           \"na internet a\"              \n",
       "[35] \"internet a biblioteca\"       \"a biblioteca tokenizers\"    \n",
       "[37] \"biblioteca tokenizers tem\"   \"tokenizers tem diferentes\"  \n",
       "[39] \"tem diferentes opções\"       \"diferentes opções é\"        \n",
       "[41] \"opções é verdade\"            \"é verdade teste\"            \n",
       "[43] \"verdade teste algumas\"       \"teste algumas delas\"        \n",
       "[45] \"algumas delas consulte\"      \"delas consulte a\"           \n",
       "[47] \"consulte a página\"           \"a página sugerida\"          \n",
       "[49] \"página sugerida pelo\"        \"sugerida pelo professor\"    \n",
       "[51] \"pelo professor para\"         \"professor para diferentes\"  \n",
       "[53] \"para diferentes opções\"      \"diferentes opções ficaadica\"\n"
      ]
     },
     "metadata": {},
     "output_type": "display_data"
    },
    {
     "data": {
      "text/html": [
       "<ol>\n",
       "\t<li><style>\n",
       ".list-inline {list-style: none; margin:0; padding: 0}\n",
       ".list-inline>li {display: inline-block}\n",
       ".list-inline>li:not(:last-child)::after {content: \"\\00b7\"; padding: 0 .5ex}\n",
       "</style>\n",
       "<ol class=list-inline><li>'este'</li><li>'este parágrafo'</li><li>'este corresponde'</li><li>'este parágrafo corresponde'</li><li>'este parágrafo a'</li><li>'este corresponde a'</li><li>'este corresponde um'</li><li>'parágrafo'</li><li>'parágrafo corresponde'</li><li>'parágrafo a'</li><li>'parágrafo corresponde a'</li><li>'parágrafo corresponde um'</li><li>'parágrafo a um'</li><li>'parágrafo a exemplo'</li><li>'corresponde'</li><li>'corresponde a'</li><li>'corresponde um'</li><li>'corresponde a um'</li><li>'corresponde a exemplo'</li><li>'corresponde um exemplo'</li><li>'corresponde um de'</li><li>'a'</li><li>'a um'</li><li>'a exemplo'</li><li>'a um exemplo'</li><li>'a um de'</li><li>'a exemplo de'</li><li>'a exemplo texto'</li><li>'um'</li><li>'um exemplo'</li><li>'um de'</li><li>'um exemplo de'</li><li>'um exemplo texto'</li><li>'um de texto'</li><li>'um de a'</li><li>'exemplo'</li><li>'exemplo de'</li><li>'exemplo texto'</li><li>'exemplo de texto'</li><li>'exemplo de a'</li><li>'exemplo texto a'</li><li>'exemplo texto ser'</li><li>'de'</li><li>'de texto'</li><li>'de a'</li><li>'de texto a'</li><li>'de texto ser'</li><li>'de a ser'</li><li>'de a processado'</li><li>'texto'</li><li>'texto a'</li><li>'texto ser'</li><li>'texto a ser'</li><li>'texto a processado'</li><li>'texto ser processado'</li><li>'texto ser por'</li><li>'a'</li><li>'a ser'</li><li>'a processado'</li><li>'a ser processado'</li><li>'a ser por'</li><li>'a processado por'</li><li>'a processado nosso'</li><li>'ser'</li><li>'ser processado'</li><li>'ser por'</li><li>'ser processado por'</li><li>'ser processado nosso'</li><li>'ser por nosso'</li><li>'ser por script'</li><li>'processado'</li><li>'processado por'</li><li>'processado nosso'</li><li>'processado por nosso'</li><li>'processado por script'</li><li>'processado nosso script'</li><li>'processado nosso ao'</li><li>'por'</li><li>'por nosso'</li><li>'por script'</li><li>'por nosso script'</li><li>'por nosso ao'</li><li>'por script ao'</li><li>'por script invés'</li><li>'nosso'</li><li>'nosso script'</li><li>'nosso ao'</li><li>'nosso script ao'</li><li>'nosso script invés'</li><li>'nosso ao invés'</li><li>'nosso ao de'</li><li>'script'</li><li>'script ao'</li><li>'script invés'</li><li>'script ao invés'</li><li>'script ao de'</li><li>'script invés de'</li><li>'script invés informar'</li><li>'ao'</li><li>'ao invés'</li><li>'ao de'</li><li>'ao invés de'</li><li>'ao invés informar'</li><li>'ao de informar'</li><li>'ao de o'</li><li>'invés'</li><li>'invés de'</li><li>'invés informar'</li><li>'invés de informar'</li><li>'invés de o'</li><li>'invés informar o'</li><li>'invés informar texto'</li><li>'de'</li><li>'de informar'</li><li>'de o'</li><li>'de informar o'</li><li>'de informar texto'</li><li>'de o texto'</li><li>'de o diretamente'</li><li>'informar'</li><li>'informar o'</li><li>'informar texto'</li><li>'informar o texto'</li><li>'informar o diretamente'</li><li>'informar texto diretamente'</li><li>'informar texto você'</li><li>'o'</li><li>'o texto'</li><li>'o diretamente'</li><li>'o texto diretamente'</li><li>'o texto você'</li><li>'o diretamente você'</li><li>'o diretamente pode'</li><li>'texto'</li><li>'texto diretamente'</li><li>'texto você'</li><li>'texto diretamente você'</li><li>'texto diretamente pode'</li><li>'texto você pode'</li><li>'texto você lê'</li><li>'diretamente'</li><li>'diretamente você'</li><li>'diretamente pode'</li><li>'diretamente você pode'</li><li>'diretamente você lê'</li><li>'diretamente pode lê'</li><li>'diretamente pode lo'</li><li>'você'</li><li>'você pode'</li><li>'você lê'</li><li>'você pode lê'</li><li>'você pode lo'</li><li>'você lê lo'</li><li>'você lê de'</li><li>'pode'</li><li>'pode lê'</li><li>'pode lo'</li><li>'pode lê lo'</li><li>'pode lê de'</li><li>'pode lo de'</li><li>'pode lo um'</li><li>'lê'</li><li>'lê lo'</li><li>'lê de'</li><li>'lê lo de'</li><li>'lê lo um'</li><li>'lê de um'</li><li>'lê de arquivo'</li><li>'lo'</li><li>'lo de'</li><li>'lo um'</li><li>'lo de um'</li><li>'lo de arquivo'</li><li>'lo um arquivo'</li><li>'lo um ou'</li><li>'de'</li><li>'de um'</li><li>'de arquivo'</li><li>'de um arquivo'</li><li>'de um ou'</li><li>'de arquivo ou'</li><li>'de arquivo ainda'</li><li>'um'</li><li>'um arquivo'</li><li>'um ou'</li><li>'um arquivo ou'</li><li>'um arquivo ainda'</li><li>'um ou ainda'</li><li>'um ou de'</li><li>'arquivo'</li><li>'arquivo ou'</li><li>'arquivo ainda'</li><li>'arquivo ou ainda'</li><li>'arquivo ou de'</li><li>'arquivo ainda de'</li><li>'arquivo ainda um'</li><li>'ou'</li><li>'ou ainda'</li><li>'ou de'</li><li>'ou ainda de'</li><li>'ou ainda um'</li><li>'ou de um'</li><li>'ou de local'</li><li>'ainda'</li><li>'ainda de'</li><li>'ainda um'</li><li>'ainda de um'</li><li>'ainda de local'</li><li>'ainda um local'</li><li>'ainda um na'</li><li>'de'</li><li>'de um'</li><li>'de local'</li><li>'de um local'</li><li>'de um na'</li><li>'de local na'</li><li>'de local internet'</li><li>'um'</li><li>'um local'</li><li>'um na'</li><li>'um local na'</li><li>'um local internet'</li><li>'um na internet'</li><li>'um na a'</li><li>'local'</li><li>'local na'</li><li>'local internet'</li><li>'local na internet'</li><li>'local na a'</li><li>'local internet a'</li><li>'local internet biblioteca'</li><li>'na'</li><li>'na internet'</li><li>'na a'</li><li>'na internet a'</li><li>'na internet biblioteca'</li><li>'na a biblioteca'</li><li>'na a tokenizers'</li><li>'internet'</li><li>'internet a'</li><li>'internet biblioteca'</li><li>'internet a biblioteca'</li><li>'internet a tokenizers'</li><li>'internet biblioteca tokenizers'</li><li>'internet biblioteca tem'</li><li>'a'</li><li>'a biblioteca'</li><li>'a tokenizers'</li><li>'a biblioteca tokenizers'</li><li>'a biblioteca tem'</li><li>'a tokenizers tem'</li><li>'a tokenizers diferentes'</li><li>'biblioteca'</li><li>'biblioteca tokenizers'</li><li>'biblioteca tem'</li><li>'biblioteca tokenizers tem'</li><li>'biblioteca tokenizers diferentes'</li><li>'biblioteca tem diferentes'</li><li>'biblioteca tem opções'</li><li>'tokenizers'</li><li>'tokenizers tem'</li><li>'tokenizers diferentes'</li><li>'tokenizers tem diferentes'</li><li>'tokenizers tem opções'</li><li>'tokenizers diferentes opções'</li><li>'tokenizers diferentes é'</li><li>'tem'</li><li>'tem diferentes'</li><li>'tem opções'</li><li>'tem diferentes opções'</li><li>'tem diferentes é'</li><li>'tem opções é'</li><li>'tem opções verdade'</li><li>'diferentes'</li><li>'diferentes opções'</li><li>'diferentes é'</li><li>'diferentes opções é'</li><li>'diferentes opções verdade'</li><li>'diferentes é verdade'</li><li>'diferentes é teste'</li><li>'opções'</li><li>'opções é'</li><li>'opções verdade'</li><li>'opções é verdade'</li><li>'opções é teste'</li><li>'opções verdade teste'</li><li>'opções verdade algumas'</li><li>'é'</li><li>'é verdade'</li><li>'é teste'</li><li>'é verdade teste'</li><li>'é verdade algumas'</li><li>'é teste algumas'</li><li>'é teste delas'</li><li>'verdade'</li><li>'verdade teste'</li><li>'verdade algumas'</li><li>'verdade teste algumas'</li><li>'verdade teste delas'</li><li>'verdade algumas delas'</li><li>'verdade algumas consulte'</li><li>'teste'</li><li>'teste algumas'</li><li>'teste delas'</li><li>'teste algumas delas'</li><li>'teste algumas consulte'</li><li>'teste delas consulte'</li><li>'teste delas a'</li><li>'algumas'</li><li>'algumas delas'</li><li>'algumas consulte'</li><li>'algumas delas consulte'</li><li>'algumas delas a'</li><li>'algumas consulte a'</li><li>'algumas consulte página'</li><li>'delas'</li><li>'delas consulte'</li><li>'delas a'</li><li>'delas consulte a'</li><li>'delas consulte página'</li><li>'delas a página'</li><li>'delas a sugerida'</li><li>'consulte'</li><li>'consulte a'</li><li>'consulte página'</li><li>'consulte a página'</li><li>'consulte a sugerida'</li><li>'consulte página sugerida'</li><li>'consulte página pelo'</li><li>'a'</li><li>'a página'</li><li>'a sugerida'</li><li>'a página sugerida'</li><li>'a página pelo'</li><li>'a sugerida pelo'</li><li>'a sugerida professor'</li><li>'página'</li><li>'página sugerida'</li><li>'página pelo'</li><li>'página sugerida pelo'</li><li>'página sugerida professor'</li><li>'página pelo professor'</li><li>'página pelo para'</li><li>'sugerida'</li><li>'sugerida pelo'</li><li>'sugerida professor'</li><li>'sugerida pelo professor'</li><li>'sugerida pelo para'</li><li>'sugerida professor para'</li><li>'sugerida professor diferentes'</li><li>'pelo'</li><li>'pelo professor'</li><li>'pelo para'</li><li>'pelo professor para'</li><li>'pelo professor diferentes'</li><li>'pelo para diferentes'</li><li>'pelo para opções'</li><li>'professor'</li><li>'professor para'</li><li>'professor diferentes'</li><li>'professor para diferentes'</li><li>'professor para opções'</li><li>'professor diferentes opções'</li><li>'professor diferentes ficaadica'</li><li>'para'</li><li>'para diferentes'</li><li>'para opções'</li><li>'para diferentes opções'</li><li>'para diferentes ficaadica'</li><li>'para opções ficaadica'</li><li>'diferentes'</li><li>'diferentes opções'</li><li>'diferentes ficaadica'</li><li>'diferentes opções ficaadica'</li><li>'opções'</li><li>'opções ficaadica'</li><li>'ficaadica'</li></ol>\n",
       "</li>\n",
       "</ol>\n"
      ],
      "text/latex": [
       "\\begin{enumerate}\n",
       "\\item \\begin{enumerate*}\n",
       "\\item 'este'\n",
       "\\item 'este parágrafo'\n",
       "\\item 'este corresponde'\n",
       "\\item 'este parágrafo corresponde'\n",
       "\\item 'este parágrafo a'\n",
       "\\item 'este corresponde a'\n",
       "\\item 'este corresponde um'\n",
       "\\item 'parágrafo'\n",
       "\\item 'parágrafo corresponde'\n",
       "\\item 'parágrafo a'\n",
       "\\item 'parágrafo corresponde a'\n",
       "\\item 'parágrafo corresponde um'\n",
       "\\item 'parágrafo a um'\n",
       "\\item 'parágrafo a exemplo'\n",
       "\\item 'corresponde'\n",
       "\\item 'corresponde a'\n",
       "\\item 'corresponde um'\n",
       "\\item 'corresponde a um'\n",
       "\\item 'corresponde a exemplo'\n",
       "\\item 'corresponde um exemplo'\n",
       "\\item 'corresponde um de'\n",
       "\\item 'a'\n",
       "\\item 'a um'\n",
       "\\item 'a exemplo'\n",
       "\\item 'a um exemplo'\n",
       "\\item 'a um de'\n",
       "\\item 'a exemplo de'\n",
       "\\item 'a exemplo texto'\n",
       "\\item 'um'\n",
       "\\item 'um exemplo'\n",
       "\\item 'um de'\n",
       "\\item 'um exemplo de'\n",
       "\\item 'um exemplo texto'\n",
       "\\item 'um de texto'\n",
       "\\item 'um de a'\n",
       "\\item 'exemplo'\n",
       "\\item 'exemplo de'\n",
       "\\item 'exemplo texto'\n",
       "\\item 'exemplo de texto'\n",
       "\\item 'exemplo de a'\n",
       "\\item 'exemplo texto a'\n",
       "\\item 'exemplo texto ser'\n",
       "\\item 'de'\n",
       "\\item 'de texto'\n",
       "\\item 'de a'\n",
       "\\item 'de texto a'\n",
       "\\item 'de texto ser'\n",
       "\\item 'de a ser'\n",
       "\\item 'de a processado'\n",
       "\\item 'texto'\n",
       "\\item 'texto a'\n",
       "\\item 'texto ser'\n",
       "\\item 'texto a ser'\n",
       "\\item 'texto a processado'\n",
       "\\item 'texto ser processado'\n",
       "\\item 'texto ser por'\n",
       "\\item 'a'\n",
       "\\item 'a ser'\n",
       "\\item 'a processado'\n",
       "\\item 'a ser processado'\n",
       "\\item 'a ser por'\n",
       "\\item 'a processado por'\n",
       "\\item 'a processado nosso'\n",
       "\\item 'ser'\n",
       "\\item 'ser processado'\n",
       "\\item 'ser por'\n",
       "\\item 'ser processado por'\n",
       "\\item 'ser processado nosso'\n",
       "\\item 'ser por nosso'\n",
       "\\item 'ser por script'\n",
       "\\item 'processado'\n",
       "\\item 'processado por'\n",
       "\\item 'processado nosso'\n",
       "\\item 'processado por nosso'\n",
       "\\item 'processado por script'\n",
       "\\item 'processado nosso script'\n",
       "\\item 'processado nosso ao'\n",
       "\\item 'por'\n",
       "\\item 'por nosso'\n",
       "\\item 'por script'\n",
       "\\item 'por nosso script'\n",
       "\\item 'por nosso ao'\n",
       "\\item 'por script ao'\n",
       "\\item 'por script invés'\n",
       "\\item 'nosso'\n",
       "\\item 'nosso script'\n",
       "\\item 'nosso ao'\n",
       "\\item 'nosso script ao'\n",
       "\\item 'nosso script invés'\n",
       "\\item 'nosso ao invés'\n",
       "\\item 'nosso ao de'\n",
       "\\item 'script'\n",
       "\\item 'script ao'\n",
       "\\item 'script invés'\n",
       "\\item 'script ao invés'\n",
       "\\item 'script ao de'\n",
       "\\item 'script invés de'\n",
       "\\item 'script invés informar'\n",
       "\\item 'ao'\n",
       "\\item 'ao invés'\n",
       "\\item 'ao de'\n",
       "\\item 'ao invés de'\n",
       "\\item 'ao invés informar'\n",
       "\\item 'ao de informar'\n",
       "\\item 'ao de o'\n",
       "\\item 'invés'\n",
       "\\item 'invés de'\n",
       "\\item 'invés informar'\n",
       "\\item 'invés de informar'\n",
       "\\item 'invés de o'\n",
       "\\item 'invés informar o'\n",
       "\\item 'invés informar texto'\n",
       "\\item 'de'\n",
       "\\item 'de informar'\n",
       "\\item 'de o'\n",
       "\\item 'de informar o'\n",
       "\\item 'de informar texto'\n",
       "\\item 'de o texto'\n",
       "\\item 'de o diretamente'\n",
       "\\item 'informar'\n",
       "\\item 'informar o'\n",
       "\\item 'informar texto'\n",
       "\\item 'informar o texto'\n",
       "\\item 'informar o diretamente'\n",
       "\\item 'informar texto diretamente'\n",
       "\\item 'informar texto você'\n",
       "\\item 'o'\n",
       "\\item 'o texto'\n",
       "\\item 'o diretamente'\n",
       "\\item 'o texto diretamente'\n",
       "\\item 'o texto você'\n",
       "\\item 'o diretamente você'\n",
       "\\item 'o diretamente pode'\n",
       "\\item 'texto'\n",
       "\\item 'texto diretamente'\n",
       "\\item 'texto você'\n",
       "\\item 'texto diretamente você'\n",
       "\\item 'texto diretamente pode'\n",
       "\\item 'texto você pode'\n",
       "\\item 'texto você lê'\n",
       "\\item 'diretamente'\n",
       "\\item 'diretamente você'\n",
       "\\item 'diretamente pode'\n",
       "\\item 'diretamente você pode'\n",
       "\\item 'diretamente você lê'\n",
       "\\item 'diretamente pode lê'\n",
       "\\item 'diretamente pode lo'\n",
       "\\item 'você'\n",
       "\\item 'você pode'\n",
       "\\item 'você lê'\n",
       "\\item 'você pode lê'\n",
       "\\item 'você pode lo'\n",
       "\\item 'você lê lo'\n",
       "\\item 'você lê de'\n",
       "\\item 'pode'\n",
       "\\item 'pode lê'\n",
       "\\item 'pode lo'\n",
       "\\item 'pode lê lo'\n",
       "\\item 'pode lê de'\n",
       "\\item 'pode lo de'\n",
       "\\item 'pode lo um'\n",
       "\\item 'lê'\n",
       "\\item 'lê lo'\n",
       "\\item 'lê de'\n",
       "\\item 'lê lo de'\n",
       "\\item 'lê lo um'\n",
       "\\item 'lê de um'\n",
       "\\item 'lê de arquivo'\n",
       "\\item 'lo'\n",
       "\\item 'lo de'\n",
       "\\item 'lo um'\n",
       "\\item 'lo de um'\n",
       "\\item 'lo de arquivo'\n",
       "\\item 'lo um arquivo'\n",
       "\\item 'lo um ou'\n",
       "\\item 'de'\n",
       "\\item 'de um'\n",
       "\\item 'de arquivo'\n",
       "\\item 'de um arquivo'\n",
       "\\item 'de um ou'\n",
       "\\item 'de arquivo ou'\n",
       "\\item 'de arquivo ainda'\n",
       "\\item 'um'\n",
       "\\item 'um arquivo'\n",
       "\\item 'um ou'\n",
       "\\item 'um arquivo ou'\n",
       "\\item 'um arquivo ainda'\n",
       "\\item 'um ou ainda'\n",
       "\\item 'um ou de'\n",
       "\\item 'arquivo'\n",
       "\\item 'arquivo ou'\n",
       "\\item 'arquivo ainda'\n",
       "\\item 'arquivo ou ainda'\n",
       "\\item 'arquivo ou de'\n",
       "\\item 'arquivo ainda de'\n",
       "\\item 'arquivo ainda um'\n",
       "\\item 'ou'\n",
       "\\item 'ou ainda'\n",
       "\\item 'ou de'\n",
       "\\item 'ou ainda de'\n",
       "\\item 'ou ainda um'\n",
       "\\item 'ou de um'\n",
       "\\item 'ou de local'\n",
       "\\item 'ainda'\n",
       "\\item 'ainda de'\n",
       "\\item 'ainda um'\n",
       "\\item 'ainda de um'\n",
       "\\item 'ainda de local'\n",
       "\\item 'ainda um local'\n",
       "\\item 'ainda um na'\n",
       "\\item 'de'\n",
       "\\item 'de um'\n",
       "\\item 'de local'\n",
       "\\item 'de um local'\n",
       "\\item 'de um na'\n",
       "\\item 'de local na'\n",
       "\\item 'de local internet'\n",
       "\\item 'um'\n",
       "\\item 'um local'\n",
       "\\item 'um na'\n",
       "\\item 'um local na'\n",
       "\\item 'um local internet'\n",
       "\\item 'um na internet'\n",
       "\\item 'um na a'\n",
       "\\item 'local'\n",
       "\\item 'local na'\n",
       "\\item 'local internet'\n",
       "\\item 'local na internet'\n",
       "\\item 'local na a'\n",
       "\\item 'local internet a'\n",
       "\\item 'local internet biblioteca'\n",
       "\\item 'na'\n",
       "\\item 'na internet'\n",
       "\\item 'na a'\n",
       "\\item 'na internet a'\n",
       "\\item 'na internet biblioteca'\n",
       "\\item 'na a biblioteca'\n",
       "\\item 'na a tokenizers'\n",
       "\\item 'internet'\n",
       "\\item 'internet a'\n",
       "\\item 'internet biblioteca'\n",
       "\\item 'internet a biblioteca'\n",
       "\\item 'internet a tokenizers'\n",
       "\\item 'internet biblioteca tokenizers'\n",
       "\\item 'internet biblioteca tem'\n",
       "\\item 'a'\n",
       "\\item 'a biblioteca'\n",
       "\\item 'a tokenizers'\n",
       "\\item 'a biblioteca tokenizers'\n",
       "\\item 'a biblioteca tem'\n",
       "\\item 'a tokenizers tem'\n",
       "\\item 'a tokenizers diferentes'\n",
       "\\item 'biblioteca'\n",
       "\\item 'biblioteca tokenizers'\n",
       "\\item 'biblioteca tem'\n",
       "\\item 'biblioteca tokenizers tem'\n",
       "\\item 'biblioteca tokenizers diferentes'\n",
       "\\item 'biblioteca tem diferentes'\n",
       "\\item 'biblioteca tem opções'\n",
       "\\item 'tokenizers'\n",
       "\\item 'tokenizers tem'\n",
       "\\item 'tokenizers diferentes'\n",
       "\\item 'tokenizers tem diferentes'\n",
       "\\item 'tokenizers tem opções'\n",
       "\\item 'tokenizers diferentes opções'\n",
       "\\item 'tokenizers diferentes é'\n",
       "\\item 'tem'\n",
       "\\item 'tem diferentes'\n",
       "\\item 'tem opções'\n",
       "\\item 'tem diferentes opções'\n",
       "\\item 'tem diferentes é'\n",
       "\\item 'tem opções é'\n",
       "\\item 'tem opções verdade'\n",
       "\\item 'diferentes'\n",
       "\\item 'diferentes opções'\n",
       "\\item 'diferentes é'\n",
       "\\item 'diferentes opções é'\n",
       "\\item 'diferentes opções verdade'\n",
       "\\item 'diferentes é verdade'\n",
       "\\item 'diferentes é teste'\n",
       "\\item 'opções'\n",
       "\\item 'opções é'\n",
       "\\item 'opções verdade'\n",
       "\\item 'opções é verdade'\n",
       "\\item 'opções é teste'\n",
       "\\item 'opções verdade teste'\n",
       "\\item 'opções verdade algumas'\n",
       "\\item 'é'\n",
       "\\item 'é verdade'\n",
       "\\item 'é teste'\n",
       "\\item 'é verdade teste'\n",
       "\\item 'é verdade algumas'\n",
       "\\item 'é teste algumas'\n",
       "\\item 'é teste delas'\n",
       "\\item 'verdade'\n",
       "\\item 'verdade teste'\n",
       "\\item 'verdade algumas'\n",
       "\\item 'verdade teste algumas'\n",
       "\\item 'verdade teste delas'\n",
       "\\item 'verdade algumas delas'\n",
       "\\item 'verdade algumas consulte'\n",
       "\\item 'teste'\n",
       "\\item 'teste algumas'\n",
       "\\item 'teste delas'\n",
       "\\item 'teste algumas delas'\n",
       "\\item 'teste algumas consulte'\n",
       "\\item 'teste delas consulte'\n",
       "\\item 'teste delas a'\n",
       "\\item 'algumas'\n",
       "\\item 'algumas delas'\n",
       "\\item 'algumas consulte'\n",
       "\\item 'algumas delas consulte'\n",
       "\\item 'algumas delas a'\n",
       "\\item 'algumas consulte a'\n",
       "\\item 'algumas consulte página'\n",
       "\\item 'delas'\n",
       "\\item 'delas consulte'\n",
       "\\item 'delas a'\n",
       "\\item 'delas consulte a'\n",
       "\\item 'delas consulte página'\n",
       "\\item 'delas a página'\n",
       "\\item 'delas a sugerida'\n",
       "\\item 'consulte'\n",
       "\\item 'consulte a'\n",
       "\\item 'consulte página'\n",
       "\\item 'consulte a página'\n",
       "\\item 'consulte a sugerida'\n",
       "\\item 'consulte página sugerida'\n",
       "\\item 'consulte página pelo'\n",
       "\\item 'a'\n",
       "\\item 'a página'\n",
       "\\item 'a sugerida'\n",
       "\\item 'a página sugerida'\n",
       "\\item 'a página pelo'\n",
       "\\item 'a sugerida pelo'\n",
       "\\item 'a sugerida professor'\n",
       "\\item 'página'\n",
       "\\item 'página sugerida'\n",
       "\\item 'página pelo'\n",
       "\\item 'página sugerida pelo'\n",
       "\\item 'página sugerida professor'\n",
       "\\item 'página pelo professor'\n",
       "\\item 'página pelo para'\n",
       "\\item 'sugerida'\n",
       "\\item 'sugerida pelo'\n",
       "\\item 'sugerida professor'\n",
       "\\item 'sugerida pelo professor'\n",
       "\\item 'sugerida pelo para'\n",
       "\\item 'sugerida professor para'\n",
       "\\item 'sugerida professor diferentes'\n",
       "\\item 'pelo'\n",
       "\\item 'pelo professor'\n",
       "\\item 'pelo para'\n",
       "\\item 'pelo professor para'\n",
       "\\item 'pelo professor diferentes'\n",
       "\\item 'pelo para diferentes'\n",
       "\\item 'pelo para opções'\n",
       "\\item 'professor'\n",
       "\\item 'professor para'\n",
       "\\item 'professor diferentes'\n",
       "\\item 'professor para diferentes'\n",
       "\\item 'professor para opções'\n",
       "\\item 'professor diferentes opções'\n",
       "\\item 'professor diferentes ficaadica'\n",
       "\\item 'para'\n",
       "\\item 'para diferentes'\n",
       "\\item 'para opções'\n",
       "\\item 'para diferentes opções'\n",
       "\\item 'para diferentes ficaadica'\n",
       "\\item 'para opções ficaadica'\n",
       "\\item 'diferentes'\n",
       "\\item 'diferentes opções'\n",
       "\\item 'diferentes ficaadica'\n",
       "\\item 'diferentes opções ficaadica'\n",
       "\\item 'opções'\n",
       "\\item 'opções ficaadica'\n",
       "\\item 'ficaadica'\n",
       "\\end{enumerate*}\n",
       "\n",
       "\\end{enumerate}\n"
      ],
      "text/markdown": [
       "1. 1. 'este'\n",
       "2. 'este parágrafo'\n",
       "3. 'este corresponde'\n",
       "4. 'este parágrafo corresponde'\n",
       "5. 'este parágrafo a'\n",
       "6. 'este corresponde a'\n",
       "7. 'este corresponde um'\n",
       "8. 'parágrafo'\n",
       "9. 'parágrafo corresponde'\n",
       "10. 'parágrafo a'\n",
       "11. 'parágrafo corresponde a'\n",
       "12. 'parágrafo corresponde um'\n",
       "13. 'parágrafo a um'\n",
       "14. 'parágrafo a exemplo'\n",
       "15. 'corresponde'\n",
       "16. 'corresponde a'\n",
       "17. 'corresponde um'\n",
       "18. 'corresponde a um'\n",
       "19. 'corresponde a exemplo'\n",
       "20. 'corresponde um exemplo'\n",
       "21. 'corresponde um de'\n",
       "22. 'a'\n",
       "23. 'a um'\n",
       "24. 'a exemplo'\n",
       "25. 'a um exemplo'\n",
       "26. 'a um de'\n",
       "27. 'a exemplo de'\n",
       "28. 'a exemplo texto'\n",
       "29. 'um'\n",
       "30. 'um exemplo'\n",
       "31. 'um de'\n",
       "32. 'um exemplo de'\n",
       "33. 'um exemplo texto'\n",
       "34. 'um de texto'\n",
       "35. 'um de a'\n",
       "36. 'exemplo'\n",
       "37. 'exemplo de'\n",
       "38. 'exemplo texto'\n",
       "39. 'exemplo de texto'\n",
       "40. 'exemplo de a'\n",
       "41. 'exemplo texto a'\n",
       "42. 'exemplo texto ser'\n",
       "43. 'de'\n",
       "44. 'de texto'\n",
       "45. 'de a'\n",
       "46. 'de texto a'\n",
       "47. 'de texto ser'\n",
       "48. 'de a ser'\n",
       "49. 'de a processado'\n",
       "50. 'texto'\n",
       "51. 'texto a'\n",
       "52. 'texto ser'\n",
       "53. 'texto a ser'\n",
       "54. 'texto a processado'\n",
       "55. 'texto ser processado'\n",
       "56. 'texto ser por'\n",
       "57. 'a'\n",
       "58. 'a ser'\n",
       "59. 'a processado'\n",
       "60. 'a ser processado'\n",
       "61. 'a ser por'\n",
       "62. 'a processado por'\n",
       "63. 'a processado nosso'\n",
       "64. 'ser'\n",
       "65. 'ser processado'\n",
       "66. 'ser por'\n",
       "67. 'ser processado por'\n",
       "68. 'ser processado nosso'\n",
       "69. 'ser por nosso'\n",
       "70. 'ser por script'\n",
       "71. 'processado'\n",
       "72. 'processado por'\n",
       "73. 'processado nosso'\n",
       "74. 'processado por nosso'\n",
       "75. 'processado por script'\n",
       "76. 'processado nosso script'\n",
       "77. 'processado nosso ao'\n",
       "78. 'por'\n",
       "79. 'por nosso'\n",
       "80. 'por script'\n",
       "81. 'por nosso script'\n",
       "82. 'por nosso ao'\n",
       "83. 'por script ao'\n",
       "84. 'por script invés'\n",
       "85. 'nosso'\n",
       "86. 'nosso script'\n",
       "87. 'nosso ao'\n",
       "88. 'nosso script ao'\n",
       "89. 'nosso script invés'\n",
       "90. 'nosso ao invés'\n",
       "91. 'nosso ao de'\n",
       "92. 'script'\n",
       "93. 'script ao'\n",
       "94. 'script invés'\n",
       "95. 'script ao invés'\n",
       "96. 'script ao de'\n",
       "97. 'script invés de'\n",
       "98. 'script invés informar'\n",
       "99. 'ao'\n",
       "100. 'ao invés'\n",
       "101. 'ao de'\n",
       "102. 'ao invés de'\n",
       "103. 'ao invés informar'\n",
       "104. 'ao de informar'\n",
       "105. 'ao de o'\n",
       "106. 'invés'\n",
       "107. 'invés de'\n",
       "108. 'invés informar'\n",
       "109. 'invés de informar'\n",
       "110. 'invés de o'\n",
       "111. 'invés informar o'\n",
       "112. 'invés informar texto'\n",
       "113. 'de'\n",
       "114. 'de informar'\n",
       "115. 'de o'\n",
       "116. 'de informar o'\n",
       "117. 'de informar texto'\n",
       "118. 'de o texto'\n",
       "119. 'de o diretamente'\n",
       "120. 'informar'\n",
       "121. 'informar o'\n",
       "122. 'informar texto'\n",
       "123. 'informar o texto'\n",
       "124. 'informar o diretamente'\n",
       "125. 'informar texto diretamente'\n",
       "126. 'informar texto você'\n",
       "127. 'o'\n",
       "128. 'o texto'\n",
       "129. 'o diretamente'\n",
       "130. 'o texto diretamente'\n",
       "131. 'o texto você'\n",
       "132. 'o diretamente você'\n",
       "133. 'o diretamente pode'\n",
       "134. 'texto'\n",
       "135. 'texto diretamente'\n",
       "136. 'texto você'\n",
       "137. 'texto diretamente você'\n",
       "138. 'texto diretamente pode'\n",
       "139. 'texto você pode'\n",
       "140. 'texto você lê'\n",
       "141. 'diretamente'\n",
       "142. 'diretamente você'\n",
       "143. 'diretamente pode'\n",
       "144. 'diretamente você pode'\n",
       "145. 'diretamente você lê'\n",
       "146. 'diretamente pode lê'\n",
       "147. 'diretamente pode lo'\n",
       "148. 'você'\n",
       "149. 'você pode'\n",
       "150. 'você lê'\n",
       "151. 'você pode lê'\n",
       "152. 'você pode lo'\n",
       "153. 'você lê lo'\n",
       "154. 'você lê de'\n",
       "155. 'pode'\n",
       "156. 'pode lê'\n",
       "157. 'pode lo'\n",
       "158. 'pode lê lo'\n",
       "159. 'pode lê de'\n",
       "160. 'pode lo de'\n",
       "161. 'pode lo um'\n",
       "162. 'lê'\n",
       "163. 'lê lo'\n",
       "164. 'lê de'\n",
       "165. 'lê lo de'\n",
       "166. 'lê lo um'\n",
       "167. 'lê de um'\n",
       "168. 'lê de arquivo'\n",
       "169. 'lo'\n",
       "170. 'lo de'\n",
       "171. 'lo um'\n",
       "172. 'lo de um'\n",
       "173. 'lo de arquivo'\n",
       "174. 'lo um arquivo'\n",
       "175. 'lo um ou'\n",
       "176. 'de'\n",
       "177. 'de um'\n",
       "178. 'de arquivo'\n",
       "179. 'de um arquivo'\n",
       "180. 'de um ou'\n",
       "181. 'de arquivo ou'\n",
       "182. 'de arquivo ainda'\n",
       "183. 'um'\n",
       "184. 'um arquivo'\n",
       "185. 'um ou'\n",
       "186. 'um arquivo ou'\n",
       "187. 'um arquivo ainda'\n",
       "188. 'um ou ainda'\n",
       "189. 'um ou de'\n",
       "190. 'arquivo'\n",
       "191. 'arquivo ou'\n",
       "192. 'arquivo ainda'\n",
       "193. 'arquivo ou ainda'\n",
       "194. 'arquivo ou de'\n",
       "195. 'arquivo ainda de'\n",
       "196. 'arquivo ainda um'\n",
       "197. 'ou'\n",
       "198. 'ou ainda'\n",
       "199. 'ou de'\n",
       "200. 'ou ainda de'\n",
       "201. 'ou ainda um'\n",
       "202. 'ou de um'\n",
       "203. 'ou de local'\n",
       "204. 'ainda'\n",
       "205. 'ainda de'\n",
       "206. 'ainda um'\n",
       "207. 'ainda de um'\n",
       "208. 'ainda de local'\n",
       "209. 'ainda um local'\n",
       "210. 'ainda um na'\n",
       "211. 'de'\n",
       "212. 'de um'\n",
       "213. 'de local'\n",
       "214. 'de um local'\n",
       "215. 'de um na'\n",
       "216. 'de local na'\n",
       "217. 'de local internet'\n",
       "218. 'um'\n",
       "219. 'um local'\n",
       "220. 'um na'\n",
       "221. 'um local na'\n",
       "222. 'um local internet'\n",
       "223. 'um na internet'\n",
       "224. 'um na a'\n",
       "225. 'local'\n",
       "226. 'local na'\n",
       "227. 'local internet'\n",
       "228. 'local na internet'\n",
       "229. 'local na a'\n",
       "230. 'local internet a'\n",
       "231. 'local internet biblioteca'\n",
       "232. 'na'\n",
       "233. 'na internet'\n",
       "234. 'na a'\n",
       "235. 'na internet a'\n",
       "236. 'na internet biblioteca'\n",
       "237. 'na a biblioteca'\n",
       "238. 'na a tokenizers'\n",
       "239. 'internet'\n",
       "240. 'internet a'\n",
       "241. 'internet biblioteca'\n",
       "242. 'internet a biblioteca'\n",
       "243. 'internet a tokenizers'\n",
       "244. 'internet biblioteca tokenizers'\n",
       "245. 'internet biblioteca tem'\n",
       "246. 'a'\n",
       "247. 'a biblioteca'\n",
       "248. 'a tokenizers'\n",
       "249. 'a biblioteca tokenizers'\n",
       "250. 'a biblioteca tem'\n",
       "251. 'a tokenizers tem'\n",
       "252. 'a tokenizers diferentes'\n",
       "253. 'biblioteca'\n",
       "254. 'biblioteca tokenizers'\n",
       "255. 'biblioteca tem'\n",
       "256. 'biblioteca tokenizers tem'\n",
       "257. 'biblioteca tokenizers diferentes'\n",
       "258. 'biblioteca tem diferentes'\n",
       "259. 'biblioteca tem opções'\n",
       "260. 'tokenizers'\n",
       "261. 'tokenizers tem'\n",
       "262. 'tokenizers diferentes'\n",
       "263. 'tokenizers tem diferentes'\n",
       "264. 'tokenizers tem opções'\n",
       "265. 'tokenizers diferentes opções'\n",
       "266. 'tokenizers diferentes é'\n",
       "267. 'tem'\n",
       "268. 'tem diferentes'\n",
       "269. 'tem opções'\n",
       "270. 'tem diferentes opções'\n",
       "271. 'tem diferentes é'\n",
       "272. 'tem opções é'\n",
       "273. 'tem opções verdade'\n",
       "274. 'diferentes'\n",
       "275. 'diferentes opções'\n",
       "276. 'diferentes é'\n",
       "277. 'diferentes opções é'\n",
       "278. 'diferentes opções verdade'\n",
       "279. 'diferentes é verdade'\n",
       "280. 'diferentes é teste'\n",
       "281. 'opções'\n",
       "282. 'opções é'\n",
       "283. 'opções verdade'\n",
       "284. 'opções é verdade'\n",
       "285. 'opções é teste'\n",
       "286. 'opções verdade teste'\n",
       "287. 'opções verdade algumas'\n",
       "288. 'é'\n",
       "289. 'é verdade'\n",
       "290. 'é teste'\n",
       "291. 'é verdade teste'\n",
       "292. 'é verdade algumas'\n",
       "293. 'é teste algumas'\n",
       "294. 'é teste delas'\n",
       "295. 'verdade'\n",
       "296. 'verdade teste'\n",
       "297. 'verdade algumas'\n",
       "298. 'verdade teste algumas'\n",
       "299. 'verdade teste delas'\n",
       "300. 'verdade algumas delas'\n",
       "301. 'verdade algumas consulte'\n",
       "302. 'teste'\n",
       "303. 'teste algumas'\n",
       "304. 'teste delas'\n",
       "305. 'teste algumas delas'\n",
       "306. 'teste algumas consulte'\n",
       "307. 'teste delas consulte'\n",
       "308. 'teste delas a'\n",
       "309. 'algumas'\n",
       "310. 'algumas delas'\n",
       "311. 'algumas consulte'\n",
       "312. 'algumas delas consulte'\n",
       "313. 'algumas delas a'\n",
       "314. 'algumas consulte a'\n",
       "315. 'algumas consulte página'\n",
       "316. 'delas'\n",
       "317. 'delas consulte'\n",
       "318. 'delas a'\n",
       "319. 'delas consulte a'\n",
       "320. 'delas consulte página'\n",
       "321. 'delas a página'\n",
       "322. 'delas a sugerida'\n",
       "323. 'consulte'\n",
       "324. 'consulte a'\n",
       "325. 'consulte página'\n",
       "326. 'consulte a página'\n",
       "327. 'consulte a sugerida'\n",
       "328. 'consulte página sugerida'\n",
       "329. 'consulte página pelo'\n",
       "330. 'a'\n",
       "331. 'a página'\n",
       "332. 'a sugerida'\n",
       "333. 'a página sugerida'\n",
       "334. 'a página pelo'\n",
       "335. 'a sugerida pelo'\n",
       "336. 'a sugerida professor'\n",
       "337. 'página'\n",
       "338. 'página sugerida'\n",
       "339. 'página pelo'\n",
       "340. 'página sugerida pelo'\n",
       "341. 'página sugerida professor'\n",
       "342. 'página pelo professor'\n",
       "343. 'página pelo para'\n",
       "344. 'sugerida'\n",
       "345. 'sugerida pelo'\n",
       "346. 'sugerida professor'\n",
       "347. 'sugerida pelo professor'\n",
       "348. 'sugerida pelo para'\n",
       "349. 'sugerida professor para'\n",
       "350. 'sugerida professor diferentes'\n",
       "351. 'pelo'\n",
       "352. 'pelo professor'\n",
       "353. 'pelo para'\n",
       "354. 'pelo professor para'\n",
       "355. 'pelo professor diferentes'\n",
       "356. 'pelo para diferentes'\n",
       "357. 'pelo para opções'\n",
       "358. 'professor'\n",
       "359. 'professor para'\n",
       "360. 'professor diferentes'\n",
       "361. 'professor para diferentes'\n",
       "362. 'professor para opções'\n",
       "363. 'professor diferentes opções'\n",
       "364. 'professor diferentes ficaadica'\n",
       "365. 'para'\n",
       "366. 'para diferentes'\n",
       "367. 'para opções'\n",
       "368. 'para diferentes opções'\n",
       "369. 'para diferentes ficaadica'\n",
       "370. 'para opções ficaadica'\n",
       "371. 'diferentes'\n",
       "372. 'diferentes opções'\n",
       "373. 'diferentes ficaadica'\n",
       "374. 'diferentes opções ficaadica'\n",
       "375. 'opções'\n",
       "376. 'opções ficaadica'\n",
       "377. 'ficaadica'\n",
       "\n",
       "\n",
       "\n",
       "\n",
       "\n"
      ],
      "text/plain": [
       "[[1]]\n",
       "  [1] \"este\"                             \"este parágrafo\"                  \n",
       "  [3] \"este corresponde\"                 \"este parágrafo corresponde\"      \n",
       "  [5] \"este parágrafo a\"                 \"este corresponde a\"              \n",
       "  [7] \"este corresponde um\"              \"parágrafo\"                       \n",
       "  [9] \"parágrafo corresponde\"            \"parágrafo a\"                     \n",
       " [11] \"parágrafo corresponde a\"          \"parágrafo corresponde um\"        \n",
       " [13] \"parágrafo a um\"                   \"parágrafo a exemplo\"             \n",
       " [15] \"corresponde\"                      \"corresponde a\"                   \n",
       " [17] \"corresponde um\"                   \"corresponde a um\"                \n",
       " [19] \"corresponde a exemplo\"            \"corresponde um exemplo\"          \n",
       " [21] \"corresponde um de\"                \"a\"                               \n",
       " [23] \"a um\"                             \"a exemplo\"                       \n",
       " [25] \"a um exemplo\"                     \"a um de\"                         \n",
       " [27] \"a exemplo de\"                     \"a exemplo texto\"                 \n",
       " [29] \"um\"                               \"um exemplo\"                      \n",
       " [31] \"um de\"                            \"um exemplo de\"                   \n",
       " [33] \"um exemplo texto\"                 \"um de texto\"                     \n",
       " [35] \"um de a\"                          \"exemplo\"                         \n",
       " [37] \"exemplo de\"                       \"exemplo texto\"                   \n",
       " [39] \"exemplo de texto\"                 \"exemplo de a\"                    \n",
       " [41] \"exemplo texto a\"                  \"exemplo texto ser\"               \n",
       " [43] \"de\"                               \"de texto\"                        \n",
       " [45] \"de a\"                             \"de texto a\"                      \n",
       " [47] \"de texto ser\"                     \"de a ser\"                        \n",
       " [49] \"de a processado\"                  \"texto\"                           \n",
       " [51] \"texto a\"                          \"texto ser\"                       \n",
       " [53] \"texto a ser\"                      \"texto a processado\"              \n",
       " [55] \"texto ser processado\"             \"texto ser por\"                   \n",
       " [57] \"a\"                                \"a ser\"                           \n",
       " [59] \"a processado\"                     \"a ser processado\"                \n",
       " [61] \"a ser por\"                        \"a processado por\"                \n",
       " [63] \"a processado nosso\"               \"ser\"                             \n",
       " [65] \"ser processado\"                   \"ser por\"                         \n",
       " [67] \"ser processado por\"               \"ser processado nosso\"            \n",
       " [69] \"ser por nosso\"                    \"ser por script\"                  \n",
       " [71] \"processado\"                       \"processado por\"                  \n",
       " [73] \"processado nosso\"                 \"processado por nosso\"            \n",
       " [75] \"processado por script\"            \"processado nosso script\"         \n",
       " [77] \"processado nosso ao\"              \"por\"                             \n",
       " [79] \"por nosso\"                        \"por script\"                      \n",
       " [81] \"por nosso script\"                 \"por nosso ao\"                    \n",
       " [83] \"por script ao\"                    \"por script invés\"                \n",
       " [85] \"nosso\"                            \"nosso script\"                    \n",
       " [87] \"nosso ao\"                         \"nosso script ao\"                 \n",
       " [89] \"nosso script invés\"               \"nosso ao invés\"                  \n",
       " [91] \"nosso ao de\"                      \"script\"                          \n",
       " [93] \"script ao\"                        \"script invés\"                    \n",
       " [95] \"script ao invés\"                  \"script ao de\"                    \n",
       " [97] \"script invés de\"                  \"script invés informar\"           \n",
       " [99] \"ao\"                               \"ao invés\"                        \n",
       "[101] \"ao de\"                            \"ao invés de\"                     \n",
       "[103] \"ao invés informar\"                \"ao de informar\"                  \n",
       "[105] \"ao de o\"                          \"invés\"                           \n",
       "[107] \"invés de\"                         \"invés informar\"                  \n",
       "[109] \"invés de informar\"                \"invés de o\"                      \n",
       "[111] \"invés informar o\"                 \"invés informar texto\"            \n",
       "[113] \"de\"                               \"de informar\"                     \n",
       "[115] \"de o\"                             \"de informar o\"                   \n",
       "[117] \"de informar texto\"                \"de o texto\"                      \n",
       "[119] \"de o diretamente\"                 \"informar\"                        \n",
       "[121] \"informar o\"                       \"informar texto\"                  \n",
       "[123] \"informar o texto\"                 \"informar o diretamente\"          \n",
       "[125] \"informar texto diretamente\"       \"informar texto você\"             \n",
       "[127] \"o\"                                \"o texto\"                         \n",
       "[129] \"o diretamente\"                    \"o texto diretamente\"             \n",
       "[131] \"o texto você\"                     \"o diretamente você\"              \n",
       "[133] \"o diretamente pode\"               \"texto\"                           \n",
       "[135] \"texto diretamente\"                \"texto você\"                      \n",
       "[137] \"texto diretamente você\"           \"texto diretamente pode\"          \n",
       "[139] \"texto você pode\"                  \"texto você lê\"                   \n",
       "[141] \"diretamente\"                      \"diretamente você\"                \n",
       "[143] \"diretamente pode\"                 \"diretamente você pode\"           \n",
       "[145] \"diretamente você lê\"              \"diretamente pode lê\"             \n",
       "[147] \"diretamente pode lo\"              \"você\"                            \n",
       "[149] \"você pode\"                        \"você lê\"                         \n",
       "[151] \"você pode lê\"                     \"você pode lo\"                    \n",
       "[153] \"você lê lo\"                       \"você lê de\"                      \n",
       "[155] \"pode\"                             \"pode lê\"                         \n",
       "[157] \"pode lo\"                          \"pode lê lo\"                      \n",
       "[159] \"pode lê de\"                       \"pode lo de\"                      \n",
       "[161] \"pode lo um\"                       \"lê\"                              \n",
       "[163] \"lê lo\"                            \"lê de\"                           \n",
       "[165] \"lê lo de\"                         \"lê lo um\"                        \n",
       "[167] \"lê de um\"                         \"lê de arquivo\"                   \n",
       "[169] \"lo\"                               \"lo de\"                           \n",
       "[171] \"lo um\"                            \"lo de um\"                        \n",
       "[173] \"lo de arquivo\"                    \"lo um arquivo\"                   \n",
       "[175] \"lo um ou\"                         \"de\"                              \n",
       "[177] \"de um\"                            \"de arquivo\"                      \n",
       "[179] \"de um arquivo\"                    \"de um ou\"                        \n",
       "[181] \"de arquivo ou\"                    \"de arquivo ainda\"                \n",
       "[183] \"um\"                               \"um arquivo\"                      \n",
       "[185] \"um ou\"                            \"um arquivo ou\"                   \n",
       "[187] \"um arquivo ainda\"                 \"um ou ainda\"                     \n",
       "[189] \"um ou de\"                         \"arquivo\"                         \n",
       "[191] \"arquivo ou\"                       \"arquivo ainda\"                   \n",
       "[193] \"arquivo ou ainda\"                 \"arquivo ou de\"                   \n",
       "[195] \"arquivo ainda de\"                 \"arquivo ainda um\"                \n",
       "[197] \"ou\"                               \"ou ainda\"                        \n",
       "[199] \"ou de\"                            \"ou ainda de\"                     \n",
       "[201] \"ou ainda um\"                      \"ou de um\"                        \n",
       "[203] \"ou de local\"                      \"ainda\"                           \n",
       "[205] \"ainda de\"                         \"ainda um\"                        \n",
       "[207] \"ainda de um\"                      \"ainda de local\"                  \n",
       "[209] \"ainda um local\"                   \"ainda um na\"                     \n",
       "[211] \"de\"                               \"de um\"                           \n",
       "[213] \"de local\"                         \"de um local\"                     \n",
       "[215] \"de um na\"                         \"de local na\"                     \n",
       "[217] \"de local internet\"                \"um\"                              \n",
       "[219] \"um local\"                         \"um na\"                           \n",
       "[221] \"um local na\"                      \"um local internet\"               \n",
       "[223] \"um na internet\"                   \"um na a\"                         \n",
       "[225] \"local\"                            \"local na\"                        \n",
       "[227] \"local internet\"                   \"local na internet\"               \n",
       "[229] \"local na a\"                       \"local internet a\"                \n",
       "[231] \"local internet biblioteca\"        \"na\"                              \n",
       "[233] \"na internet\"                      \"na a\"                            \n",
       "[235] \"na internet a\"                    \"na internet biblioteca\"          \n",
       "[237] \"na a biblioteca\"                  \"na a tokenizers\"                 \n",
       "[239] \"internet\"                         \"internet a\"                      \n",
       "[241] \"internet biblioteca\"              \"internet a biblioteca\"           \n",
       "[243] \"internet a tokenizers\"            \"internet biblioteca tokenizers\"  \n",
       "[245] \"internet biblioteca tem\"          \"a\"                               \n",
       "[247] \"a biblioteca\"                     \"a tokenizers\"                    \n",
       "[249] \"a biblioteca tokenizers\"          \"a biblioteca tem\"                \n",
       "[251] \"a tokenizers tem\"                 \"a tokenizers diferentes\"         \n",
       "[253] \"biblioteca\"                       \"biblioteca tokenizers\"           \n",
       "[255] \"biblioteca tem\"                   \"biblioteca tokenizers tem\"       \n",
       "[257] \"biblioteca tokenizers diferentes\" \"biblioteca tem diferentes\"       \n",
       "[259] \"biblioteca tem opções\"            \"tokenizers\"                      \n",
       "[261] \"tokenizers tem\"                   \"tokenizers diferentes\"           \n",
       "[263] \"tokenizers tem diferentes\"        \"tokenizers tem opções\"           \n",
       "[265] \"tokenizers diferentes opções\"     \"tokenizers diferentes é\"         \n",
       "[267] \"tem\"                              \"tem diferentes\"                  \n",
       "[269] \"tem opções\"                       \"tem diferentes opções\"           \n",
       "[271] \"tem diferentes é\"                 \"tem opções é\"                    \n",
       "[273] \"tem opções verdade\"               \"diferentes\"                      \n",
       "[275] \"diferentes opções\"                \"diferentes é\"                    \n",
       "[277] \"diferentes opções é\"              \"diferentes opções verdade\"       \n",
       "[279] \"diferentes é verdade\"             \"diferentes é teste\"              \n",
       "[281] \"opções\"                           \"opções é\"                        \n",
       "[283] \"opções verdade\"                   \"opções é verdade\"                \n",
       "[285] \"opções é teste\"                   \"opções verdade teste\"            \n",
       "[287] \"opções verdade algumas\"           \"é\"                               \n",
       "[289] \"é verdade\"                        \"é teste\"                         \n",
       "[291] \"é verdade teste\"                  \"é verdade algumas\"               \n",
       "[293] \"é teste algumas\"                  \"é teste delas\"                   \n",
       "[295] \"verdade\"                          \"verdade teste\"                   \n",
       "[297] \"verdade algumas\"                  \"verdade teste algumas\"           \n",
       "[299] \"verdade teste delas\"              \"verdade algumas delas\"           \n",
       "[301] \"verdade algumas consulte\"         \"teste\"                           \n",
       "[303] \"teste algumas\"                    \"teste delas\"                     \n",
       "[305] \"teste algumas delas\"              \"teste algumas consulte\"          \n",
       "[307] \"teste delas consulte\"             \"teste delas a\"                   \n",
       "[309] \"algumas\"                          \"algumas delas\"                   \n",
       "[311] \"algumas consulte\"                 \"algumas delas consulte\"          \n",
       "[313] \"algumas delas a\"                  \"algumas consulte a\"              \n",
       "[315] \"algumas consulte página\"          \"delas\"                           \n",
       "[317] \"delas consulte\"                   \"delas a\"                         \n",
       "[319] \"delas consulte a\"                 \"delas consulte página\"           \n",
       "[321] \"delas a página\"                   \"delas a sugerida\"                \n",
       "[323] \"consulte\"                         \"consulte a\"                      \n",
       "[325] \"consulte página\"                  \"consulte a página\"               \n",
       "[327] \"consulte a sugerida\"              \"consulte página sugerida\"        \n",
       "[329] \"consulte página pelo\"             \"a\"                               \n",
       "[331] \"a página\"                         \"a sugerida\"                      \n",
       "[333] \"a página sugerida\"                \"a página pelo\"                   \n",
       "[335] \"a sugerida pelo\"                  \"a sugerida professor\"            \n",
       "[337] \"página\"                           \"página sugerida\"                 \n",
       "[339] \"página pelo\"                      \"página sugerida pelo\"            \n",
       "[341] \"página sugerida professor\"        \"página pelo professor\"           \n",
       "[343] \"página pelo para\"                 \"sugerida\"                        \n",
       "[345] \"sugerida pelo\"                    \"sugerida professor\"              \n",
       "[347] \"sugerida pelo professor\"          \"sugerida pelo para\"              \n",
       "[349] \"sugerida professor para\"          \"sugerida professor diferentes\"   \n",
       "[351] \"pelo\"                             \"pelo professor\"                  \n",
       "[353] \"pelo para\"                        \"pelo professor para\"             \n",
       "[355] \"pelo professor diferentes\"        \"pelo para diferentes\"            \n",
       "[357] \"pelo para opções\"                 \"professor\"                       \n",
       "[359] \"professor para\"                   \"professor diferentes\"            \n",
       "[361] \"professor para diferentes\"        \"professor para opções\"           \n",
       "[363] \"professor diferentes opções\"      \"professor diferentes ficaadica\"  \n",
       "[365] \"para\"                             \"para diferentes\"                 \n",
       "[367] \"para opções\"                      \"para diferentes opções\"          \n",
       "[369] \"para diferentes ficaadica\"        \"para opções ficaadica\"           \n",
       "[371] \"diferentes\"                       \"diferentes opções\"               \n",
       "[373] \"diferentes ficaadica\"             \"diferentes opções ficaadica\"     \n",
       "[375] \"opções\"                           \"opções ficaadica\"                \n",
       "[377] \"ficaadica\"                       \n"
      ]
     },
     "metadata": {},
     "output_type": "display_data"
    },
    {
     "data": {
      "text/html": [
       "<ol>\n",
       "\t<li><style>\n",
       ".list-inline {list-style: none; margin:0; padding: 0}\n",
       ".list-inline>li {display: inline-block}\n",
       ".list-inline>li:not(:last-child)::after {content: \"\\00b7\"; padding: 0 .5ex}\n",
       "</style>\n",
       "<ol class=list-inline><li>'este'</li><li>'este parágrafo'</li><li>'este parágrafo corresponde'</li><li>'parágrafo'</li><li>'parágrafo corresponde'</li><li>'parágrafo corresponde a'</li><li>'corresponde'</li><li>'corresponde a'</li><li>'corresponde a um'</li><li>'a'</li><li>'a um'</li><li>'a um exemplo'</li><li>'um'</li><li>'um exemplo'</li><li>'um exemplo de'</li><li>'exemplo'</li><li>'exemplo de'</li><li>'exemplo de texto'</li><li>'de'</li><li>'de texto'</li><li>'de texto a'</li><li>'texto'</li><li>'texto a'</li><li>'texto a ser'</li><li>'a'</li><li>'a ser'</li><li>'a ser processado'</li><li>'ser'</li><li>'ser processado'</li><li>'ser processado por'</li><li>'processado'</li><li>'processado por'</li><li>'processado por nosso'</li><li>'por'</li><li>'por nosso'</li><li>'por nosso script'</li><li>'nosso'</li><li>'nosso script'</li><li>'nosso script ao'</li><li>'script'</li><li>'script ao'</li><li>'script ao invés'</li><li>'ao'</li><li>'ao invés'</li><li>'ao invés de'</li><li>'invés'</li><li>'invés de'</li><li>'invés de informar'</li><li>'de'</li><li>'de informar'</li><li>'de informar o'</li><li>'informar'</li><li>'informar o'</li><li>'informar o texto'</li><li>'o'</li><li>'o texto'</li><li>'o texto diretamente'</li><li>'texto'</li><li>'texto diretamente'</li><li>'texto diretamente você'</li><li>'diretamente'</li><li>'diretamente você'</li><li>'diretamente você pode'</li><li>'você'</li><li>'você pode'</li><li>'você pode lê'</li><li>'pode'</li><li>'pode lê'</li><li>'pode lê lo'</li><li>'lê'</li><li>'lê lo'</li><li>'lê lo de'</li><li>'lo'</li><li>'lo de'</li><li>'lo de um'</li><li>'de'</li><li>'de um'</li><li>'de um arquivo'</li><li>'um'</li><li>'um arquivo'</li><li>'um arquivo ou'</li><li>'arquivo'</li><li>'arquivo ou'</li><li>'arquivo ou ainda'</li><li>'ou'</li><li>'ou ainda'</li><li>'ou ainda de'</li><li>'ainda'</li><li>'ainda de'</li><li>'ainda de um'</li><li>'de'</li><li>'de um'</li><li>'de um local'</li><li>'um'</li><li>'um local'</li><li>'um local na'</li><li>'local'</li><li>'local na'</li><li>'local na internet'</li><li>'na'</li><li>'na internet'</li><li>'na internet a'</li><li>'internet'</li><li>'internet a'</li><li>'internet a biblioteca'</li><li>'a'</li><li>'a biblioteca'</li><li>'a biblioteca tokenizers'</li><li>'biblioteca'</li><li>'biblioteca tokenizers'</li><li>'biblioteca tokenizers tem'</li><li>'tokenizers'</li><li>'tokenizers tem'</li><li>'tokenizers tem diferentes'</li><li>'tem'</li><li>'tem diferentes'</li><li>'tem diferentes opções'</li><li>'diferentes'</li><li>'diferentes opções'</li><li>'diferentes opções é'</li><li>'opções'</li><li>'opções é'</li><li>'opções é verdade'</li><li>'é'</li><li>'é verdade'</li><li>'é verdade teste'</li><li>'verdade'</li><li>'verdade teste'</li><li>'verdade teste algumas'</li><li>'teste'</li><li>'teste algumas'</li><li>'teste algumas delas'</li><li>'algumas'</li><li>'algumas delas'</li><li>'algumas delas consulte'</li><li>'delas'</li><li>'delas consulte'</li><li>'delas consulte a'</li><li>'consulte'</li><li>'consulte a'</li><li>'consulte a página'</li><li>'a'</li><li>'a página'</li><li>'a página sugerida'</li><li>'página'</li><li>'página sugerida'</li><li>'página sugerida pelo'</li><li>'sugerida'</li><li>'sugerida pelo'</li><li>'sugerida pelo professor'</li><li>'pelo'</li><li>'pelo professor'</li><li>'pelo professor para'</li><li>'professor'</li><li>'professor para'</li><li>'professor para diferentes'</li><li>'para'</li><li>'para diferentes'</li><li>'para diferentes opções'</li><li>'diferentes'</li><li>'diferentes opções'</li><li>'diferentes opções ficaadica'</li><li>'opções'</li><li>'opções ficaadica'</li><li>'ficaadica'</li></ol>\n",
       "</li>\n",
       "</ol>\n"
      ],
      "text/latex": [
       "\\begin{enumerate}\n",
       "\\item \\begin{enumerate*}\n",
       "\\item 'este'\n",
       "\\item 'este parágrafo'\n",
       "\\item 'este parágrafo corresponde'\n",
       "\\item 'parágrafo'\n",
       "\\item 'parágrafo corresponde'\n",
       "\\item 'parágrafo corresponde a'\n",
       "\\item 'corresponde'\n",
       "\\item 'corresponde a'\n",
       "\\item 'corresponde a um'\n",
       "\\item 'a'\n",
       "\\item 'a um'\n",
       "\\item 'a um exemplo'\n",
       "\\item 'um'\n",
       "\\item 'um exemplo'\n",
       "\\item 'um exemplo de'\n",
       "\\item 'exemplo'\n",
       "\\item 'exemplo de'\n",
       "\\item 'exemplo de texto'\n",
       "\\item 'de'\n",
       "\\item 'de texto'\n",
       "\\item 'de texto a'\n",
       "\\item 'texto'\n",
       "\\item 'texto a'\n",
       "\\item 'texto a ser'\n",
       "\\item 'a'\n",
       "\\item 'a ser'\n",
       "\\item 'a ser processado'\n",
       "\\item 'ser'\n",
       "\\item 'ser processado'\n",
       "\\item 'ser processado por'\n",
       "\\item 'processado'\n",
       "\\item 'processado por'\n",
       "\\item 'processado por nosso'\n",
       "\\item 'por'\n",
       "\\item 'por nosso'\n",
       "\\item 'por nosso script'\n",
       "\\item 'nosso'\n",
       "\\item 'nosso script'\n",
       "\\item 'nosso script ao'\n",
       "\\item 'script'\n",
       "\\item 'script ao'\n",
       "\\item 'script ao invés'\n",
       "\\item 'ao'\n",
       "\\item 'ao invés'\n",
       "\\item 'ao invés de'\n",
       "\\item 'invés'\n",
       "\\item 'invés de'\n",
       "\\item 'invés de informar'\n",
       "\\item 'de'\n",
       "\\item 'de informar'\n",
       "\\item 'de informar o'\n",
       "\\item 'informar'\n",
       "\\item 'informar o'\n",
       "\\item 'informar o texto'\n",
       "\\item 'o'\n",
       "\\item 'o texto'\n",
       "\\item 'o texto diretamente'\n",
       "\\item 'texto'\n",
       "\\item 'texto diretamente'\n",
       "\\item 'texto diretamente você'\n",
       "\\item 'diretamente'\n",
       "\\item 'diretamente você'\n",
       "\\item 'diretamente você pode'\n",
       "\\item 'você'\n",
       "\\item 'você pode'\n",
       "\\item 'você pode lê'\n",
       "\\item 'pode'\n",
       "\\item 'pode lê'\n",
       "\\item 'pode lê lo'\n",
       "\\item 'lê'\n",
       "\\item 'lê lo'\n",
       "\\item 'lê lo de'\n",
       "\\item 'lo'\n",
       "\\item 'lo de'\n",
       "\\item 'lo de um'\n",
       "\\item 'de'\n",
       "\\item 'de um'\n",
       "\\item 'de um arquivo'\n",
       "\\item 'um'\n",
       "\\item 'um arquivo'\n",
       "\\item 'um arquivo ou'\n",
       "\\item 'arquivo'\n",
       "\\item 'arquivo ou'\n",
       "\\item 'arquivo ou ainda'\n",
       "\\item 'ou'\n",
       "\\item 'ou ainda'\n",
       "\\item 'ou ainda de'\n",
       "\\item 'ainda'\n",
       "\\item 'ainda de'\n",
       "\\item 'ainda de um'\n",
       "\\item 'de'\n",
       "\\item 'de um'\n",
       "\\item 'de um local'\n",
       "\\item 'um'\n",
       "\\item 'um local'\n",
       "\\item 'um local na'\n",
       "\\item 'local'\n",
       "\\item 'local na'\n",
       "\\item 'local na internet'\n",
       "\\item 'na'\n",
       "\\item 'na internet'\n",
       "\\item 'na internet a'\n",
       "\\item 'internet'\n",
       "\\item 'internet a'\n",
       "\\item 'internet a biblioteca'\n",
       "\\item 'a'\n",
       "\\item 'a biblioteca'\n",
       "\\item 'a biblioteca tokenizers'\n",
       "\\item 'biblioteca'\n",
       "\\item 'biblioteca tokenizers'\n",
       "\\item 'biblioteca tokenizers tem'\n",
       "\\item 'tokenizers'\n",
       "\\item 'tokenizers tem'\n",
       "\\item 'tokenizers tem diferentes'\n",
       "\\item 'tem'\n",
       "\\item 'tem diferentes'\n",
       "\\item 'tem diferentes opções'\n",
       "\\item 'diferentes'\n",
       "\\item 'diferentes opções'\n",
       "\\item 'diferentes opções é'\n",
       "\\item 'opções'\n",
       "\\item 'opções é'\n",
       "\\item 'opções é verdade'\n",
       "\\item 'é'\n",
       "\\item 'é verdade'\n",
       "\\item 'é verdade teste'\n",
       "\\item 'verdade'\n",
       "\\item 'verdade teste'\n",
       "\\item 'verdade teste algumas'\n",
       "\\item 'teste'\n",
       "\\item 'teste algumas'\n",
       "\\item 'teste algumas delas'\n",
       "\\item 'algumas'\n",
       "\\item 'algumas delas'\n",
       "\\item 'algumas delas consulte'\n",
       "\\item 'delas'\n",
       "\\item 'delas consulte'\n",
       "\\item 'delas consulte a'\n",
       "\\item 'consulte'\n",
       "\\item 'consulte a'\n",
       "\\item 'consulte a página'\n",
       "\\item 'a'\n",
       "\\item 'a página'\n",
       "\\item 'a página sugerida'\n",
       "\\item 'página'\n",
       "\\item 'página sugerida'\n",
       "\\item 'página sugerida pelo'\n",
       "\\item 'sugerida'\n",
       "\\item 'sugerida pelo'\n",
       "\\item 'sugerida pelo professor'\n",
       "\\item 'pelo'\n",
       "\\item 'pelo professor'\n",
       "\\item 'pelo professor para'\n",
       "\\item 'professor'\n",
       "\\item 'professor para'\n",
       "\\item 'professor para diferentes'\n",
       "\\item 'para'\n",
       "\\item 'para diferentes'\n",
       "\\item 'para diferentes opções'\n",
       "\\item 'diferentes'\n",
       "\\item 'diferentes opções'\n",
       "\\item 'diferentes opções ficaadica'\n",
       "\\item 'opções'\n",
       "\\item 'opções ficaadica'\n",
       "\\item 'ficaadica'\n",
       "\\end{enumerate*}\n",
       "\n",
       "\\end{enumerate}\n"
      ],
      "text/markdown": [
       "1. 1. 'este'\n",
       "2. 'este parágrafo'\n",
       "3. 'este parágrafo corresponde'\n",
       "4. 'parágrafo'\n",
       "5. 'parágrafo corresponde'\n",
       "6. 'parágrafo corresponde a'\n",
       "7. 'corresponde'\n",
       "8. 'corresponde a'\n",
       "9. 'corresponde a um'\n",
       "10. 'a'\n",
       "11. 'a um'\n",
       "12. 'a um exemplo'\n",
       "13. 'um'\n",
       "14. 'um exemplo'\n",
       "15. 'um exemplo de'\n",
       "16. 'exemplo'\n",
       "17. 'exemplo de'\n",
       "18. 'exemplo de texto'\n",
       "19. 'de'\n",
       "20. 'de texto'\n",
       "21. 'de texto a'\n",
       "22. 'texto'\n",
       "23. 'texto a'\n",
       "24. 'texto a ser'\n",
       "25. 'a'\n",
       "26. 'a ser'\n",
       "27. 'a ser processado'\n",
       "28. 'ser'\n",
       "29. 'ser processado'\n",
       "30. 'ser processado por'\n",
       "31. 'processado'\n",
       "32. 'processado por'\n",
       "33. 'processado por nosso'\n",
       "34. 'por'\n",
       "35. 'por nosso'\n",
       "36. 'por nosso script'\n",
       "37. 'nosso'\n",
       "38. 'nosso script'\n",
       "39. 'nosso script ao'\n",
       "40. 'script'\n",
       "41. 'script ao'\n",
       "42. 'script ao invés'\n",
       "43. 'ao'\n",
       "44. 'ao invés'\n",
       "45. 'ao invés de'\n",
       "46. 'invés'\n",
       "47. 'invés de'\n",
       "48. 'invés de informar'\n",
       "49. 'de'\n",
       "50. 'de informar'\n",
       "51. 'de informar o'\n",
       "52. 'informar'\n",
       "53. 'informar o'\n",
       "54. 'informar o texto'\n",
       "55. 'o'\n",
       "56. 'o texto'\n",
       "57. 'o texto diretamente'\n",
       "58. 'texto'\n",
       "59. 'texto diretamente'\n",
       "60. 'texto diretamente você'\n",
       "61. 'diretamente'\n",
       "62. 'diretamente você'\n",
       "63. 'diretamente você pode'\n",
       "64. 'você'\n",
       "65. 'você pode'\n",
       "66. 'você pode lê'\n",
       "67. 'pode'\n",
       "68. 'pode lê'\n",
       "69. 'pode lê lo'\n",
       "70. 'lê'\n",
       "71. 'lê lo'\n",
       "72. 'lê lo de'\n",
       "73. 'lo'\n",
       "74. 'lo de'\n",
       "75. 'lo de um'\n",
       "76. 'de'\n",
       "77. 'de um'\n",
       "78. 'de um arquivo'\n",
       "79. 'um'\n",
       "80. 'um arquivo'\n",
       "81. 'um arquivo ou'\n",
       "82. 'arquivo'\n",
       "83. 'arquivo ou'\n",
       "84. 'arquivo ou ainda'\n",
       "85. 'ou'\n",
       "86. 'ou ainda'\n",
       "87. 'ou ainda de'\n",
       "88. 'ainda'\n",
       "89. 'ainda de'\n",
       "90. 'ainda de um'\n",
       "91. 'de'\n",
       "92. 'de um'\n",
       "93. 'de um local'\n",
       "94. 'um'\n",
       "95. 'um local'\n",
       "96. 'um local na'\n",
       "97. 'local'\n",
       "98. 'local na'\n",
       "99. 'local na internet'\n",
       "100. 'na'\n",
       "101. 'na internet'\n",
       "102. 'na internet a'\n",
       "103. 'internet'\n",
       "104. 'internet a'\n",
       "105. 'internet a biblioteca'\n",
       "106. 'a'\n",
       "107. 'a biblioteca'\n",
       "108. 'a biblioteca tokenizers'\n",
       "109. 'biblioteca'\n",
       "110. 'biblioteca tokenizers'\n",
       "111. 'biblioteca tokenizers tem'\n",
       "112. 'tokenizers'\n",
       "113. 'tokenizers tem'\n",
       "114. 'tokenizers tem diferentes'\n",
       "115. 'tem'\n",
       "116. 'tem diferentes'\n",
       "117. 'tem diferentes opções'\n",
       "118. 'diferentes'\n",
       "119. 'diferentes opções'\n",
       "120. 'diferentes opções é'\n",
       "121. 'opções'\n",
       "122. 'opções é'\n",
       "123. 'opções é verdade'\n",
       "124. 'é'\n",
       "125. 'é verdade'\n",
       "126. 'é verdade teste'\n",
       "127. 'verdade'\n",
       "128. 'verdade teste'\n",
       "129. 'verdade teste algumas'\n",
       "130. 'teste'\n",
       "131. 'teste algumas'\n",
       "132. 'teste algumas delas'\n",
       "133. 'algumas'\n",
       "134. 'algumas delas'\n",
       "135. 'algumas delas consulte'\n",
       "136. 'delas'\n",
       "137. 'delas consulte'\n",
       "138. 'delas consulte a'\n",
       "139. 'consulte'\n",
       "140. 'consulte a'\n",
       "141. 'consulte a página'\n",
       "142. 'a'\n",
       "143. 'a página'\n",
       "144. 'a página sugerida'\n",
       "145. 'página'\n",
       "146. 'página sugerida'\n",
       "147. 'página sugerida pelo'\n",
       "148. 'sugerida'\n",
       "149. 'sugerida pelo'\n",
       "150. 'sugerida pelo professor'\n",
       "151. 'pelo'\n",
       "152. 'pelo professor'\n",
       "153. 'pelo professor para'\n",
       "154. 'professor'\n",
       "155. 'professor para'\n",
       "156. 'professor para diferentes'\n",
       "157. 'para'\n",
       "158. 'para diferentes'\n",
       "159. 'para diferentes opções'\n",
       "160. 'diferentes'\n",
       "161. 'diferentes opções'\n",
       "162. 'diferentes opções ficaadica'\n",
       "163. 'opções'\n",
       "164. 'opções ficaadica'\n",
       "165. 'ficaadica'\n",
       "\n",
       "\n",
       "\n",
       "\n",
       "\n"
      ],
      "text/plain": [
       "[[1]]\n",
       "  [1] \"este\"                        \"este parágrafo\"             \n",
       "  [3] \"este parágrafo corresponde\"  \"parágrafo\"                  \n",
       "  [5] \"parágrafo corresponde\"       \"parágrafo corresponde a\"    \n",
       "  [7] \"corresponde\"                 \"corresponde a\"              \n",
       "  [9] \"corresponde a um\"            \"a\"                          \n",
       " [11] \"a um\"                        \"a um exemplo\"               \n",
       " [13] \"um\"                          \"um exemplo\"                 \n",
       " [15] \"um exemplo de\"               \"exemplo\"                    \n",
       " [17] \"exemplo de\"                  \"exemplo de texto\"           \n",
       " [19] \"de\"                          \"de texto\"                   \n",
       " [21] \"de texto a\"                  \"texto\"                      \n",
       " [23] \"texto a\"                     \"texto a ser\"                \n",
       " [25] \"a\"                           \"a ser\"                      \n",
       " [27] \"a ser processado\"            \"ser\"                        \n",
       " [29] \"ser processado\"              \"ser processado por\"         \n",
       " [31] \"processado\"                  \"processado por\"             \n",
       " [33] \"processado por nosso\"        \"por\"                        \n",
       " [35] \"por nosso\"                   \"por nosso script\"           \n",
       " [37] \"nosso\"                       \"nosso script\"               \n",
       " [39] \"nosso script ao\"             \"script\"                     \n",
       " [41] \"script ao\"                   \"script ao invés\"            \n",
       " [43] \"ao\"                          \"ao invés\"                   \n",
       " [45] \"ao invés de\"                 \"invés\"                      \n",
       " [47] \"invés de\"                    \"invés de informar\"          \n",
       " [49] \"de\"                          \"de informar\"                \n",
       " [51] \"de informar o\"               \"informar\"                   \n",
       " [53] \"informar o\"                  \"informar o texto\"           \n",
       " [55] \"o\"                           \"o texto\"                    \n",
       " [57] \"o texto diretamente\"         \"texto\"                      \n",
       " [59] \"texto diretamente\"           \"texto diretamente você\"     \n",
       " [61] \"diretamente\"                 \"diretamente você\"           \n",
       " [63] \"diretamente você pode\"       \"você\"                       \n",
       " [65] \"você pode\"                   \"você pode lê\"               \n",
       " [67] \"pode\"                        \"pode lê\"                    \n",
       " [69] \"pode lê lo\"                  \"lê\"                         \n",
       " [71] \"lê lo\"                       \"lê lo de\"                   \n",
       " [73] \"lo\"                          \"lo de\"                      \n",
       " [75] \"lo de um\"                    \"de\"                         \n",
       " [77] \"de um\"                       \"de um arquivo\"              \n",
       " [79] \"um\"                          \"um arquivo\"                 \n",
       " [81] \"um arquivo ou\"               \"arquivo\"                    \n",
       " [83] \"arquivo ou\"                  \"arquivo ou ainda\"           \n",
       " [85] \"ou\"                          \"ou ainda\"                   \n",
       " [87] \"ou ainda de\"                 \"ainda\"                      \n",
       " [89] \"ainda de\"                    \"ainda de um\"                \n",
       " [91] \"de\"                          \"de um\"                      \n",
       " [93] \"de um local\"                 \"um\"                         \n",
       " [95] \"um local\"                    \"um local na\"                \n",
       " [97] \"local\"                       \"local na\"                   \n",
       " [99] \"local na internet\"           \"na\"                         \n",
       "[101] \"na internet\"                 \"na internet a\"              \n",
       "[103] \"internet\"                    \"internet a\"                 \n",
       "[105] \"internet a biblioteca\"       \"a\"                          \n",
       "[107] \"a biblioteca\"                \"a biblioteca tokenizers\"    \n",
       "[109] \"biblioteca\"                  \"biblioteca tokenizers\"      \n",
       "[111] \"biblioteca tokenizers tem\"   \"tokenizers\"                 \n",
       "[113] \"tokenizers tem\"              \"tokenizers tem diferentes\"  \n",
       "[115] \"tem\"                         \"tem diferentes\"             \n",
       "[117] \"tem diferentes opções\"       \"diferentes\"                 \n",
       "[119] \"diferentes opções\"           \"diferentes opções é\"        \n",
       "[121] \"opções\"                      \"opções é\"                   \n",
       "[123] \"opções é verdade\"            \"é\"                          \n",
       "[125] \"é verdade\"                   \"é verdade teste\"            \n",
       "[127] \"verdade\"                     \"verdade teste\"              \n",
       "[129] \"verdade teste algumas\"       \"teste\"                      \n",
       "[131] \"teste algumas\"               \"teste algumas delas\"        \n",
       "[133] \"algumas\"                     \"algumas delas\"              \n",
       "[135] \"algumas delas consulte\"      \"delas\"                      \n",
       "[137] \"delas consulte\"              \"delas consulte a\"           \n",
       "[139] \"consulte\"                    \"consulte a\"                 \n",
       "[141] \"consulte a página\"           \"a\"                          \n",
       "[143] \"a página\"                    \"a página sugerida\"          \n",
       "[145] \"página\"                      \"página sugerida\"            \n",
       "[147] \"página sugerida pelo\"        \"sugerida\"                   \n",
       "[149] \"sugerida pelo\"               \"sugerida pelo professor\"    \n",
       "[151] \"pelo\"                        \"pelo professor\"             \n",
       "[153] \"pelo professor para\"         \"professor\"                  \n",
       "[155] \"professor para\"              \"professor para diferentes\"  \n",
       "[157] \"para\"                        \"para diferentes\"            \n",
       "[159] \"para diferentes opções\"      \"diferentes\"                 \n",
       "[161] \"diferentes opções\"           \"diferentes opções ficaadica\"\n",
       "[163] \"opções\"                      \"opções ficaadica\"           \n",
       "[165] \"ficaadica\"                  \n"
      ]
     },
     "metadata": {},
     "output_type": "display_data"
    }
   ],
   "source": [
    "# toquenização por gramas\n",
    "lst_ngrams_1 <- tokenize_ngrams(texto, n = 3)\n",
    "head(lst_ngrams_1)\n",
    "\n",
    "lst_ngrams_2 <- tokenize_skip_ngrams(texto, n = 3)\n",
    "head(lst_ngrams_2)\n",
    "\n",
    "lst_ngrams_3 <- tokenize_ngrams(texto, n = 3, n_min = 1)\n",
    "head(lst_ngrams_3)"
   ]
  },
  {
   "cell_type": "markdown",
   "metadata": {
    "id": "1iPVO6VCzQ-7",
    "slideshow": {
     "slide_type": "skip"
    }
   },
   "source": [
    "### Exercício 2: \n",
    "Mude o texto inicialpara um seu, maior. Se possível, carregue de um arquivo. Crie um Tibble que represente suas palavras (tokens), respectivas frequências (total de palavras, $n$ e $tf$) e stems. Ao invés de remover as stopwords, crie uma coluna extra que indique se cada uma delas é ou não stopword. Depois, conte e mostre quantas são stopwords ou não."
   ]
  },
  {
   "cell_type": "code",
   "execution_count": 18,
   "metadata": {
    "ExecuteTime": {
     "end_time": "2020-11-24T18:21:49.371618Z",
     "start_time": "2020-11-24T18:21:48.018Z"
    },
    "colab": {
     "base_uri": "https://localhost:8080/"
    },
    "collapsed": true,
    "id": "SSlOXLnszRIQ",
    "outputId": "150174cd-ad07-457e-888c-dac6b85eb4ca",
    "slideshow": {
     "slide_type": "skip"
    }
   },
   "outputs": [
    {
     "name": "stderr",
     "output_type": "stream",
     "text": [
      "Determining mirror for Project Gutenberg from http://www.gutenberg.org/robot/harvest\n",
      "\n",
      "Using mirror http://aleph.gutenberg.org\n",
      "\n"
     ]
    }
   ],
   "source": [
    "# Carrega um texto de Machado de Assis, da biblioteca Gutenberg\n",
    "machado <- gutenberg_download(55752) \n",
    "\n",
    "# ajusta texto para formato correto (UTF-8)\n",
    "machado_utf8 <- machado %>% mutate(text=iconv(text, from = \"latin1\", to = \"UTF-8\"))\n",
    "\n",
    "# A função gutenberg_download retorna um tibble com 2 colunas (id_gutenberg e text), \n",
    "# temos que pedir para unnest_tokens pegar a segunda, chamada `text` \n",
    "# (que tem o texto)\n",
    "tokens <- machado_utf8 %>% unnest_tokens(token, text) \n",
    "\n",
    "# remove gutenberg_id da tabela\n",
    "tokens <- select(tokens, -gutenberg_id, token) \n",
    "\n",
    "# ordena tokens por ocorrências (n)\n",
    "tokens <- count(tokens, token, sort = TRUE)                                                     \n",
    "\n",
    "# descobre stems\n",
    "palavras_texto <- tokens %>%\n",
    "  mutate(stem = SnowballC::wordStem(token, language = \"portuguese\"))\n",
    "\n",
    "#cria lista de stopwords\n",
    "lst_sw <- c(stopwords(\"pt\"))\n",
    "lst_sw <- tibble(token = lst_sw)\n",
    "\n",
    "lst_sw$is_sw <- TRUE "
   ]
  },
  {
   "cell_type": "code",
   "execution_count": 19,
   "metadata": {
    "ExecuteTime": {
     "end_time": "2020-11-24T18:21:49.371618Z",
     "start_time": "2020-11-24T18:21:48.018Z"
    },
    "colab": {
     "base_uri": "https://localhost:8080/",
     "height": 323
    },
    "id": "vHDNmI_Ttd4z",
    "outputId": "77c69b27-48c4-4b15-c2b9-ffb48b4d2d9c",
    "slideshow": {
     "slide_type": "skip"
    }
   },
   "outputs": [
    {
     "name": "stderr",
     "output_type": "stream",
     "text": [
      "`summarise()` ungrouping output (override with `.groups` argument)\n",
      "\n"
     ]
    },
    {
     "data": {
      "text/html": [
       "<table>\n",
       "<caption>A tibble: 6 × 4</caption>\n",
       "<thead>\n",
       "\t<tr><th scope=col>token</th><th scope=col>n</th><th scope=col>stem</th><th scope=col>is_sw</th></tr>\n",
       "\t<tr><th scope=col>&lt;chr&gt;</th><th scope=col>&lt;int&gt;</th><th scope=col>&lt;chr&gt;</th><th scope=col>&lt;lgl&gt;</th></tr>\n",
       "</thead>\n",
       "<tbody>\n",
       "\t<tr><td>que</td><td>2663</td><td>que</td><td>TRUE</td></tr>\n",
       "\t<tr><td>a  </td><td>2608</td><td>a  </td><td>TRUE</td></tr>\n",
       "\t<tr><td>e  </td><td>2192</td><td>e  </td><td>TRUE</td></tr>\n",
       "\t<tr><td>de </td><td>1974</td><td>de </td><td>TRUE</td></tr>\n",
       "\t<tr><td>o  </td><td>1865</td><td>o  </td><td>TRUE</td></tr>\n",
       "\t<tr><td>não</td><td>1532</td><td>nã </td><td>TRUE</td></tr>\n",
       "</tbody>\n",
       "</table>\n"
      ],
      "text/latex": [
       "A tibble: 6 × 4\n",
       "\\begin{tabular}{llll}\n",
       " token & n & stem & is\\_sw\\\\\n",
       " <chr> & <int> & <chr> & <lgl>\\\\\n",
       "\\hline\n",
       "\t que & 2663 & que & TRUE\\\\\n",
       "\t a   & 2608 & a   & TRUE\\\\\n",
       "\t e   & 2192 & e   & TRUE\\\\\n",
       "\t de  & 1974 & de  & TRUE\\\\\n",
       "\t o   & 1865 & o   & TRUE\\\\\n",
       "\t não & 1532 & nã  & TRUE\\\\\n",
       "\\end{tabular}\n"
      ],
      "text/markdown": [
       "\n",
       "A tibble: 6 × 4\n",
       "\n",
       "| token &lt;chr&gt; | n &lt;int&gt; | stem &lt;chr&gt; | is_sw &lt;lgl&gt; |\n",
       "|---|---|---|---|\n",
       "| que | 2663 | que | TRUE |\n",
       "| a   | 2608 | a   | TRUE |\n",
       "| e   | 2192 | e   | TRUE |\n",
       "| de  | 1974 | de  | TRUE |\n",
       "| o   | 1865 | o   | TRUE |\n",
       "| não | 1532 | nã  | TRUE |\n",
       "\n"
      ],
      "text/plain": [
       "  token n    stem is_sw\n",
       "1 que   2663 que  TRUE \n",
       "2 a     2608 a    TRUE \n",
       "3 e     2192 e    TRUE \n",
       "4 de    1974 de   TRUE \n",
       "5 o     1865 o    TRUE \n",
       "6 não   1532 nã   TRUE "
      ]
     },
     "metadata": {},
     "output_type": "display_data"
    },
    {
     "name": "stdout",
     "output_type": "stream",
     "text": [
      "\u001b[38;5;246m# A tibble: 2 x 2\u001b[39m\n",
      "  is_sw total\n",
      "  \u001b[3m\u001b[38;5;246m<lgl>\u001b[39m\u001b[23m \u001b[3m\u001b[38;5;246m<int>\u001b[39m\u001b[23m\n",
      "\u001b[38;5;250m1\u001b[39m FALSE \u001b[4m3\u001b[24m\u001b[4m7\u001b[24m428\n",
      "\u001b[38;5;250m2\u001b[39m TRUE  \u001b[4m2\u001b[24m\u001b[4m9\u001b[24m866\n"
     ]
    }
   ],
   "source": [
    "palavras_texto <- palavras_texto %>% left_join(lst_sw, by='token')\n",
    "\n",
    "palavras_texto[\"is_sw\"][is.na(palavras_texto[\"is_sw\"])] <- FALSE\n",
    "\n",
    "#descobre total de palavras (sw e 'normais')\n",
    "totais <- palavras_texto %>% group_by(is_sw) %>% summarize(total = sum(n))\n",
    "\n",
    "head(palavras_texto)\n",
    "\n",
    "print(totais)"
   ]
  },
  {
   "cell_type": "markdown",
   "metadata": {
    "id": "oEwcZ_MuzRV-",
    "slideshow": {
     "slide_type": "skip"
    }
   },
   "source": [
    "### Exercício 3: \n",
    "Carregue vários textos (mínimo 5) e gere uma tabela semelhante, mas indicando \n",
    " também o tf-idf. Monte um histograma das frequências das palavras. \n",
    " Ordene-o por frequências e verifique se é verdade que as stopwords são mais\n",
    " frequentes. Você pode usar alguma biblioteca de textos existentes (como a da \n",
    " Jane Austin, R tem várias prontas, para textos). "
   ]
  },
  {
   "cell_type": "code",
   "execution_count": 20,
   "metadata": {
    "ExecuteTime": {
     "end_time": "2020-11-24T18:22:52.583798Z",
     "start_time": "2020-11-24T18:22:51.085Z"
    },
    "colab": {
     "base_uri": "https://localhost:8080/",
     "height": 188
    },
    "id": "huTBKDLazRcj",
    "outputId": "f97cc0f6-3285-495b-bdee-aa561f23494a",
    "slideshow": {
     "slide_type": "skip"
    }
   },
   "outputs": [
    {
     "name": "stderr",
     "output_type": "stream",
     "text": [
      "`summarise()` ungrouping output (override with `.groups` argument)\n",
      "\n",
      "`summarise()` ungrouping output (override with `.groups` argument)\n",
      "\n"
     ]
    },
    {
     "data": {
      "text/html": [
       "<table>\n",
       "<caption>A tibble: 2 × 2</caption>\n",
       "<thead>\n",
       "\t<tr><th scope=col>stopword</th><th scope=col>total</th></tr>\n",
       "\t<tr><th scope=col>&lt;chr&gt;</th><th scope=col>&lt;int&gt;</th></tr>\n",
       "</thead>\n",
       "<tbody>\n",
       "\t<tr><td>Não</td><td>325084</td></tr>\n",
       "\t<tr><td>Sim</td><td>399971</td></tr>\n",
       "</tbody>\n",
       "</table>\n"
      ],
      "text/latex": [
       "A tibble: 2 × 2\n",
       "\\begin{tabular}{ll}\n",
       " stopword & total\\\\\n",
       " <chr> & <int>\\\\\n",
       "\\hline\n",
       "\t Não & 325084\\\\\n",
       "\t Sim & 399971\\\\\n",
       "\\end{tabular}\n"
      ],
      "text/markdown": [
       "\n",
       "A tibble: 2 × 2\n",
       "\n",
       "| stopword &lt;chr&gt; | total &lt;int&gt; |\n",
       "|---|---|\n",
       "| Não | 325084 |\n",
       "| Sim | 399971 |\n",
       "\n"
      ],
      "text/plain": [
       "  stopword total \n",
       "1 Não      325084\n",
       "2 Sim      399971"
      ]
     },
     "metadata": {},
     "output_type": "display_data"
    }
   ],
   "source": [
    "book_words <- austen_books() %>%\n",
    "  unnest_tokens(word, text) %>%\n",
    "  count(book, word, sort = TRUE)\n",
    "\n",
    "# Calcula e insere tf-idf\n",
    "total_words <- book_words %>%\n",
    "  group_by(book) %>%\n",
    "  summarize(total = sum(n))                                                     \n",
    "\n",
    "book_words <- left_join(book_words, total_words,, by='book')                                \n",
    "\n",
    "book_tf_idf <- book_words %>% \n",
    "  bind_tf_idf(word, book, n)            \n",
    "  \n",
    "sw <-stopwords(\"en\")\n",
    "\n",
    "book_tf_idf$stopword <- ifelse(book_tf_idf$word %in% sw, 'Sim', 'Não')\n",
    "\n",
    "# Qtde de stopwords x não stopwords\n",
    "book_tf_idf %>% \n",
    "  group_by(stopword) %>% summarise(total=sum(n))"
   ]
  },
  {
   "cell_type": "code",
   "execution_count": 21,
   "metadata": {
    "ExecuteTime": {
     "end_time": "2020-11-24T18:01:45.750833Z",
     "start_time": "2020-11-24T18:01:45.719Z"
    },
    "colab": {
     "base_uri": "https://localhost:8080/",
     "height": 204
    },
    "id": "euw59-oXtd4z",
    "outputId": "71e3eb4c-42d0-4295-eae1-9c15729183c8",
    "slideshow": {
     "slide_type": "skip"
    }
   },
   "outputs": [
    {
     "data": {
      "text/html": [
       "<table>\n",
       "<caption>A tibble: 6 × 8</caption>\n",
       "<thead>\n",
       "\t<tr><th scope=col>book</th><th scope=col>word</th><th scope=col>n</th><th scope=col>total</th><th scope=col>tf</th><th scope=col>idf</th><th scope=col>tf_idf</th><th scope=col>stopword</th></tr>\n",
       "\t<tr><th scope=col>&lt;fct&gt;</th><th scope=col>&lt;chr&gt;</th><th scope=col>&lt;int&gt;</th><th scope=col>&lt;int&gt;</th><th scope=col>&lt;dbl&gt;</th><th scope=col>&lt;dbl&gt;</th><th scope=col>&lt;dbl&gt;</th><th scope=col>&lt;chr&gt;</th></tr>\n",
       "</thead>\n",
       "<tbody>\n",
       "\t<tr><td>Mansfield Park</td><td>the</td><td>6206</td><td>160460</td><td>0.03867631</td><td>0</td><td>0</td><td>Sim</td></tr>\n",
       "\t<tr><td>Mansfield Park</td><td>to </td><td>5475</td><td>160460</td><td>0.03412065</td><td>0</td><td>0</td><td>Sim</td></tr>\n",
       "\t<tr><td>Mansfield Park</td><td>and</td><td>5438</td><td>160460</td><td>0.03389007</td><td>0</td><td>0</td><td>Sim</td></tr>\n",
       "\t<tr><td>Emma          </td><td>to </td><td>5239</td><td>160996</td><td>0.03254118</td><td>0</td><td>0</td><td>Sim</td></tr>\n",
       "\t<tr><td>Emma          </td><td>the</td><td>5201</td><td>160996</td><td>0.03230515</td><td>0</td><td>0</td><td>Sim</td></tr>\n",
       "\t<tr><td>Emma          </td><td>and</td><td>4896</td><td>160996</td><td>0.03041069</td><td>0</td><td>0</td><td>Sim</td></tr>\n",
       "</tbody>\n",
       "</table>\n"
      ],
      "text/latex": [
       "A tibble: 6 × 8\n",
       "\\begin{tabular}{llllllll}\n",
       " book & word & n & total & tf & idf & tf\\_idf & stopword\\\\\n",
       " <fct> & <chr> & <int> & <int> & <dbl> & <dbl> & <dbl> & <chr>\\\\\n",
       "\\hline\n",
       "\t Mansfield Park & the & 6206 & 160460 & 0.03867631 & 0 & 0 & Sim\\\\\n",
       "\t Mansfield Park & to  & 5475 & 160460 & 0.03412065 & 0 & 0 & Sim\\\\\n",
       "\t Mansfield Park & and & 5438 & 160460 & 0.03389007 & 0 & 0 & Sim\\\\\n",
       "\t Emma           & to  & 5239 & 160996 & 0.03254118 & 0 & 0 & Sim\\\\\n",
       "\t Emma           & the & 5201 & 160996 & 0.03230515 & 0 & 0 & Sim\\\\\n",
       "\t Emma           & and & 4896 & 160996 & 0.03041069 & 0 & 0 & Sim\\\\\n",
       "\\end{tabular}\n"
      ],
      "text/markdown": [
       "\n",
       "A tibble: 6 × 8\n",
       "\n",
       "| book &lt;fct&gt; | word &lt;chr&gt; | n &lt;int&gt; | total &lt;int&gt; | tf &lt;dbl&gt; | idf &lt;dbl&gt; | tf_idf &lt;dbl&gt; | stopword &lt;chr&gt; |\n",
       "|---|---|---|---|---|---|---|---|\n",
       "| Mansfield Park | the | 6206 | 160460 | 0.03867631 | 0 | 0 | Sim |\n",
       "| Mansfield Park | to  | 5475 | 160460 | 0.03412065 | 0 | 0 | Sim |\n",
       "| Mansfield Park | and | 5438 | 160460 | 0.03389007 | 0 | 0 | Sim |\n",
       "| Emma           | to  | 5239 | 160996 | 0.03254118 | 0 | 0 | Sim |\n",
       "| Emma           | the | 5201 | 160996 | 0.03230515 | 0 | 0 | Sim |\n",
       "| Emma           | and | 4896 | 160996 | 0.03041069 | 0 | 0 | Sim |\n",
       "\n"
      ],
      "text/plain": [
       "  book           word n    total  tf         idf tf_idf stopword\n",
       "1 Mansfield Park the  6206 160460 0.03867631 0   0      Sim     \n",
       "2 Mansfield Park to   5475 160460 0.03412065 0   0      Sim     \n",
       "3 Mansfield Park and  5438 160460 0.03389007 0   0      Sim     \n",
       "4 Emma           to   5239 160996 0.03254118 0   0      Sim     \n",
       "5 Emma           the  5201 160996 0.03230515 0   0      Sim     \n",
       "6 Emma           and  4896 160996 0.03041069 0   0      Sim     "
      ]
     },
     "metadata": {},
     "output_type": "display_data"
    }
   ],
   "source": [
    "# ordenar por qtde de ocorrencias.\n",
    "book_tf_idf <- book_tf_idf %>% \n",
    "  arrange (desc(n))\n",
    "\n",
    "head(book_tf_idf)\n",
    "\n",
    "#Exercício: incluir stems"
   ]
  },
  {
   "cell_type": "markdown",
   "metadata": {
    "ExecuteTime": {
     "end_time": "2020-11-24T18:02:55.715694Z",
     "start_time": "2020-11-24T18:02:55.700Z"
    },
    "id": "mRp3EGp90MD0",
    "outputId": "fe4e9772-9ed4-4ba0-8da9-a3fecfa7013a",
    "slideshow": {
     "slide_type": "skip"
    }
   },
   "source": [
    "- <font color=SlateGray>mesmo, mas com documentos da gutenberg</font>"
   ]
  },
  {
   "cell_type": "code",
   "execution_count": 22,
   "metadata": {
    "ExecuteTime": {
     "end_time": "2020-11-24T18:23:13.269659Z",
     "start_time": "2020-11-24T18:23:07.564Z"
    },
    "colab": {
     "base_uri": "https://localhost:8080/"
    },
    "id": "HXTx7Fmktd4z",
    "outputId": "def4ff00-220b-47a2-c284-1a6caf01f8ba",
    "slideshow": {
     "slide_type": "skip"
    }
   },
   "outputs": [
    {
     "name": "stderr",
     "output_type": "stream",
     "text": [
      "`summarise()` ungrouping output (override with `.groups` argument)\n",
      "\n"
     ]
    }
   ],
   "source": [
    "austen <- gutenberg_download(c(\"105\", \"141\", \"158\", \"21839\", \"42671\", \"946\", \"21839\"), meta_fields = \"title\") \n",
    "\n",
    "book_words <- austen %>% \n",
    "  select(-gutenberg_id, title, text) %>%\n",
    "  mutate(book=title, title=NULL) %>%\n",
    "  unnest_tokens(word, text) %>% \n",
    "  count(book, word, sort = TRUE)\n",
    "\n",
    "total_words <- book_words %>%\n",
    "  group_by(book) %>%\n",
    "  summarize(total = sum(n))                                                     \n",
    "\n",
    "book_words <- left_join(book_words, total_words, by='book')                                \n",
    "\n",
    "book_tf_idf <- book_words %>% bind_tf_idf(word, book, n)                                                    \n",
    "\n",
    "sw <-stopwords(\"en\")\n",
    "\n",
    "book_tf_idf$stopword <- ifelse(book_tf_idf$word %in% sw, 'Sim', 'Não')"
   ]
  },
  {
   "cell_type": "code",
   "execution_count": 23,
   "metadata": {
    "ExecuteTime": {
     "end_time": "2020-11-24T18:03:41.310279Z",
     "start_time": "2020-11-24T18:03:41.166Z"
    },
    "colab": {
     "base_uri": "https://localhost:8080/",
     "height": 154
    },
    "id": "x9i-FgKjtd4z",
    "outputId": "f6f2c1b2-8bf8-4f2b-cb57-e8fc32a017a8",
    "slideshow": {
     "slide_type": "skip"
    }
   },
   "outputs": [
    {
     "name": "stderr",
     "output_type": "stream",
     "text": [
      "`summarise()` ungrouping output (override with `.groups` argument)\n",
      "\n"
     ]
    },
    {
     "data": {
      "text/html": [
       "<table>\n",
       "<caption>A tibble: 2 × 2</caption>\n",
       "<thead>\n",
       "\t<tr><th scope=col>stopword</th><th scope=col>total</th></tr>\n",
       "\t<tr><th scope=col>&lt;chr&gt;</th><th scope=col>&lt;int&gt;</th></tr>\n",
       "</thead>\n",
       "<tbody>\n",
       "\t<tr><td>Não</td><td>302526</td></tr>\n",
       "\t<tr><td>Sim</td><td>371449</td></tr>\n",
       "</tbody>\n",
       "</table>\n"
      ],
      "text/latex": [
       "A tibble: 2 × 2\n",
       "\\begin{tabular}{ll}\n",
       " stopword & total\\\\\n",
       " <chr> & <int>\\\\\n",
       "\\hline\n",
       "\t Não & 302526\\\\\n",
       "\t Sim & 371449\\\\\n",
       "\\end{tabular}\n"
      ],
      "text/markdown": [
       "\n",
       "A tibble: 2 × 2\n",
       "\n",
       "| stopword &lt;chr&gt; | total &lt;int&gt; |\n",
       "|---|---|\n",
       "| Não | 302526 |\n",
       "| Sim | 371449 |\n",
       "\n"
      ],
      "text/plain": [
       "  stopword total \n",
       "1 Não      302526\n",
       "2 Sim      371449"
      ]
     },
     "metadata": {},
     "output_type": "display_data"
    }
   ],
   "source": [
    "# Qtde de stopwords x não stopwords\n",
    "book_tf_idf %>% group_by(stopword) %>% summarise(total=sum(n))"
   ]
  },
  {
   "cell_type": "code",
   "execution_count": 24,
   "metadata": {
    "ExecuteTime": {
     "end_time": "2020-11-24T18:03:45.523990Z",
     "start_time": "2020-11-24T18:03:44.099Z"
    },
    "colab": {
     "base_uri": "https://localhost:8080/",
     "height": 204
    },
    "id": "Nv8s_EtNtd4z",
    "outputId": "be6b2c40-def9-4eb9-c798-55afc5f49fa2",
    "slideshow": {
     "slide_type": "skip"
    }
   },
   "outputs": [
    {
     "data": {
      "text/html": [
       "<table>\n",
       "<caption>A tibble: 6 × 8</caption>\n",
       "<thead>\n",
       "\t<tr><th scope=col>book</th><th scope=col>word</th><th scope=col>n</th><th scope=col>total</th><th scope=col>tf</th><th scope=col>idf</th><th scope=col>tf_idf</th><th scope=col>stopword</th></tr>\n",
       "\t<tr><th scope=col>&lt;chr&gt;</th><th scope=col>&lt;chr&gt;</th><th scope=col>&lt;int&gt;</th><th scope=col>&lt;int&gt;</th><th scope=col>&lt;dbl&gt;</th><th scope=col>&lt;dbl&gt;</th><th scope=col>&lt;dbl&gt;</th><th scope=col>&lt;chr&gt;</th></tr>\n",
       "</thead>\n",
       "<tbody>\n",
       "\t<tr><td>Mansfield Park</td><td>the</td><td>6206</td><td>160460</td><td>0.03867631</td><td>0</td><td>0</td><td>Sim</td></tr>\n",
       "\t<tr><td>Mansfield Park</td><td>to </td><td>5475</td><td>160460</td><td>0.03412065</td><td>0</td><td>0</td><td>Sim</td></tr>\n",
       "\t<tr><td>Mansfield Park</td><td>and</td><td>5438</td><td>160460</td><td>0.03389007</td><td>0</td><td>0</td><td>Sim</td></tr>\n",
       "\t<tr><td>Emma          </td><td>to </td><td>5239</td><td>160996</td><td>0.03254118</td><td>0</td><td>0</td><td>Sim</td></tr>\n",
       "\t<tr><td>Emma          </td><td>the</td><td>5201</td><td>160996</td><td>0.03230515</td><td>0</td><td>0</td><td>Sim</td></tr>\n",
       "\t<tr><td>Emma          </td><td>and</td><td>4896</td><td>160996</td><td>0.03041069</td><td>0</td><td>0</td><td>Sim</td></tr>\n",
       "</tbody>\n",
       "</table>\n"
      ],
      "text/latex": [
       "A tibble: 6 × 8\n",
       "\\begin{tabular}{llllllll}\n",
       " book & word & n & total & tf & idf & tf\\_idf & stopword\\\\\n",
       " <chr> & <chr> & <int> & <int> & <dbl> & <dbl> & <dbl> & <chr>\\\\\n",
       "\\hline\n",
       "\t Mansfield Park & the & 6206 & 160460 & 0.03867631 & 0 & 0 & Sim\\\\\n",
       "\t Mansfield Park & to  & 5475 & 160460 & 0.03412065 & 0 & 0 & Sim\\\\\n",
       "\t Mansfield Park & and & 5438 & 160460 & 0.03389007 & 0 & 0 & Sim\\\\\n",
       "\t Emma           & to  & 5239 & 160996 & 0.03254118 & 0 & 0 & Sim\\\\\n",
       "\t Emma           & the & 5201 & 160996 & 0.03230515 & 0 & 0 & Sim\\\\\n",
       "\t Emma           & and & 4896 & 160996 & 0.03041069 & 0 & 0 & Sim\\\\\n",
       "\\end{tabular}\n"
      ],
      "text/markdown": [
       "\n",
       "A tibble: 6 × 8\n",
       "\n",
       "| book &lt;chr&gt; | word &lt;chr&gt; | n &lt;int&gt; | total &lt;int&gt; | tf &lt;dbl&gt; | idf &lt;dbl&gt; | tf_idf &lt;dbl&gt; | stopword &lt;chr&gt; |\n",
       "|---|---|---|---|---|---|---|---|\n",
       "| Mansfield Park | the | 6206 | 160460 | 0.03867631 | 0 | 0 | Sim |\n",
       "| Mansfield Park | to  | 5475 | 160460 | 0.03412065 | 0 | 0 | Sim |\n",
       "| Mansfield Park | and | 5438 | 160460 | 0.03389007 | 0 | 0 | Sim |\n",
       "| Emma           | to  | 5239 | 160996 | 0.03254118 | 0 | 0 | Sim |\n",
       "| Emma           | the | 5201 | 160996 | 0.03230515 | 0 | 0 | Sim |\n",
       "| Emma           | and | 4896 | 160996 | 0.03041069 | 0 | 0 | Sim |\n",
       "\n"
      ],
      "text/plain": [
       "  book           word n    total  tf         idf tf_idf stopword\n",
       "1 Mansfield Park the  6206 160460 0.03867631 0   0      Sim     \n",
       "2 Mansfield Park to   5475 160460 0.03412065 0   0      Sim     \n",
       "3 Mansfield Park and  5438 160460 0.03389007 0   0      Sim     \n",
       "4 Emma           to   5239 160996 0.03254118 0   0      Sim     \n",
       "5 Emma           the  5201 160996 0.03230515 0   0      Sim     \n",
       "6 Emma           and  4896 160996 0.03041069 0   0      Sim     "
      ]
     },
     "metadata": {},
     "output_type": "display_data"
    }
   ],
   "source": [
    "# ordenar por qtde de ocorrencias.\n",
    "book_tf_idf <- book_tf_idf %>% arrange (desc(n))\n",
    "\n",
    "head(book_tf_idf)"
   ]
  },
  {
   "cell_type": "markdown",
   "metadata": {
    "id": "Ljz4YB4mzRmD",
    "slideshow": {
     "slide_type": "slide"
    }
   },
   "source": [
    "### Exercício 4: \n",
    "A frequência dos termos em um corpus (i.e., conjunto de documentos) obedece a\n",
    " Lei de Zipf (https://en.wikipedia.org/wiki/Zipf%27s_law). Procure demonstrar \n",
    " tal Lei, criando um gráfico de dispersão onde em x aparecem as frequencias \n",
    " médias de termos (tf médio) e em y aparece a quantidade de documentos\n",
    " (ou o idf). Se for muito complicado, eventualmente use um histograma ou outro\n",
    " tipo de gráfico que ilustre o efeito..."
   ]
  },
  {
   "cell_type": "code",
   "execution_count": 25,
   "metadata": {
    "ExecuteTime": {
     "end_time": "2020-11-24T18:05:43.499156Z",
     "start_time": "2020-11-24T18:05:41.195Z"
    },
    "colab": {
     "base_uri": "https://localhost:8080/"
    },
    "id": "bQR7NaAazRtV",
    "outputId": "48c2cc82-5e39-4ab4-9337-c146724af07e",
    "slideshow": {
     "slide_type": "skip"
    }
   },
   "outputs": [],
   "source": [
    "# A lei de Zipf’s afirma que a frequencia das palavras é inversamente proporcional ao seu ranque.\n",
    "\n",
    "library(ggplot2)\n",
    "library(hrbrthemes)"
   ]
  },
  {
   "cell_type": "code",
   "execution_count": 26,
   "metadata": {
    "ExecuteTime": {
     "end_time": "2020-11-24T18:05:43.499156Z",
     "start_time": "2020-11-24T18:05:41.195Z"
    },
    "colab": {
     "base_uri": "https://localhost:8080/",
     "height": 471
    },
    "id": "sFwi52QStd40",
    "outputId": "c1e371c0-42fb-4a35-a587-3f25723b4319",
    "slideshow": {
     "slide_type": "subslide"
    }
   },
   "outputs": [
    {
     "name": "stderr",
     "output_type": "stream",
     "text": [
      "`stat_bin()` using `bins = 30`. Pick better value with `binwidth`.\n",
      "\n"
     ]
    },
    {
     "data": {
      "image/png": "[encoded data removed]",
      "text/plain": [
       "plot without title"
      ]
     },
     "metadata": {
      "image/png": {
       "height": 420,
       "width": 420
      }
     },
     "output_type": "display_data"
    }
   ],
   "source": [
    "ggplot(book_words, aes(n/total, fill = book)) +\n",
    "  geom_histogram(show.legend = FALSE) +\n",
    "  xlim(NA, 0.0009) +\n",
    "  facet_wrap(~book, ncol = 2, scales = \"free_y\")"
   ]
  },
  {
   "cell_type": "code",
   "execution_count": 27,
   "metadata": {
    "colab": {
     "base_uri": "https://localhost:8080/",
     "height": 471
    },
    "id": "Pz-L2H12bMvY",
    "outputId": "9650110d-d6d0-425e-be8c-0fa4fd7f3601",
    "slideshow": {
     "slide_type": "subslide"
    }
   },
   "outputs": [
    {
     "name": "stderr",
     "output_type": "stream",
     "text": [
      "`summarise()` ungrouping output (override with `.groups` argument)\n",
      "\n"
     ]
    },
    {
     "data": {
      "image/png": "[encoded data removed]",
      "text/plain": [
       "plot without title"
      ]
     },
     "metadata": {
      "image/png": {
       "height": 420,
       "width": 420
      }
     },
     "output_type": "display_data"
    }
   ],
   "source": [
    "words <- book_tf_idf %>% \n",
    "  select(word, n) %>% \n",
    "  group_by(word) %>% \n",
    "  summarise(total=sum(n)) %>%\n",
    "  arrange(desc(total)) \n",
    "\n",
    "max = summarise(words, sum(total))\n",
    "\n",
    "qplot(words$total, geom=\"histogram\", bins=50)"
   ]
  },
  {
   "cell_type": "code",
   "execution_count": 28,
   "metadata": {
    "colab": {
     "base_uri": "https://localhost:8080/",
     "height": 488
    },
    "id": "XLOVhu5XaosW",
    "outputId": "e62359e4-d4f8-4c70-83fc-29f46ff643e0",
    "slideshow": {
     "slide_type": "subslide"
    }
   },
   "outputs": [
    {
     "name": "stderr",
     "output_type": "stream",
     "text": [
      "geom_path: Each group consists of only one observation. Do you need to adjust\n",
      "the group aesthetic?\n",
      "\n"
     ]
    },
    {
     "data": {
      "image/png": "[encoded data removed]",
      "text/plain": [
       "plot without title"
      ]
     },
     "metadata": {
      "image/png": {
       "height": 420,
       "width": 420
      }
     },
     "output_type": "display_data"
    }
   ],
   "source": [
    "words %>% \n",
    "  filter(total>1000) %>%\n",
    "  ggplot(aes(x=reorder(word, -total), y=total)) +\n",
    "  geom_line() + \n",
    "  geom_point(shape=21, color=\"black\", fill=\"#69b3a2\", size=2) +\n",
    "  ggtitle(\"Distribuição de palavras\") + \n",
    "  theme_ipsum()"
   ]
  },
  {
   "cell_type": "code",
   "execution_count": 63,
   "metadata": {
    "ExecuteTime": {
     "end_time": "2020-11-24T18:23:44.299282Z",
     "start_time": "2020-11-24T18:23:43.852Z"
    },
    "colab": {
     "base_uri": "https://localhost:8080/",
     "height": 505
    },
    "id": "1PvfQSLPbk0u",
    "outputId": "aa7abcfd-d4ec-4e9f-c5bf-82cf26591595",
    "slideshow": {
     "slide_type": "subslide"
    }
   },
   "outputs": [
    {
     "name": "stderr",
     "output_type": "stream",
     "text": [
      "`summarise()` ungrouping output (override with `.groups` argument)\n",
      "\n",
      "Joining, by = c(\"book\", \"total\")\n",
      "\n"
     ]
    },
    {
     "data": {
      "image/png": "[encoded data removed]",
      "text/plain": [
       "plot without title"
      ]
     },
     "metadata": {
      "image/png": {
       "height": 420,
       "width": 420
      }
     },
     "output_type": "display_data"
    }
   ],
   "source": [
    "total_words <- book_words %>% group_by(book) %>% summarize(total = sum(n))\n",
    "\n",
    "book_words <- left_join(book_words, total_words)\n",
    "\n",
    "freq_by_rank <- book_words %>% group_by(book) %>% mutate(rank = row_number(), `tf` = n/total) %>% ungroup()\n",
    "\n",
    "freq_by_rank %>% ggplot(aes(rank, `tf`, color = book)) + \n",
    "  geom_abline(intercept = -0.62, slope = -1.1, color = \"gray50\", linetype = 2) +\n",
    "  geom_line(size = 1.1, alpha = 0.8, show.legend = FALSE) + \n",
    "  scale_x_log10() + scale_y_log10()\n",
    "\n",
    "  # Mais detalhes em: https://www.tidytextmining.com/tfidf.html"
   ]
  },
  {
   "cell_type": "markdown",
   "metadata": {
    "id": "RekmvwDGtd40",
    "slideshow": {
     "slide_type": "slide"
    }
   },
   "source": [
    "# <center><font color=Navy> Classificação </font></center>"
   ]
  },
  {
   "cell_type": "markdown",
   "metadata": {
    "id": "72447xy_XikB",
    "slideshow": {
     "slide_type": "subslide"
    }
   },
   "source": [
    "## <font color=MidnightBlue> Classificação </font>\n",
    "\n",
    "Associa documentos a classes pré-definidas, a partir de características textuais, como palavras."
   ]
  },
  {
   "cell_type": "markdown",
   "metadata": {
    "id": "5pi03nuKXraT",
    "slideshow": {
     "slide_type": "fragment"
    }
   },
   "source": [
    "### Aplicações: \n",
    "- identificação tópicos, assuntos ou temas\n",
    "- roteamento de mensagens/documentos, detecção de SPAM\n",
    "- detecção de polaridade, sentimentos\n",
    "\n",
    "<img src=\"https://miro.medium.com/max/2554/1*Fm58r_RQ53sEHfwFa28LpA.png\" width=\"290\" height=\"290\" />\n",
    "\n",
    "**<font color=OrangeRed>*</font>**_É necessário conhecer a priori as classes ou suas propriedades!_"
   ]
  },
  {
   "cell_type": "markdown",
   "metadata": {
    "id": "ZETCU-wQXwmv",
    "slideshow": {
     "slide_type": "subslide"
    }
   },
   "source": [
    "### Abordagens\n",
    "- Engenharia de Conhecimento (regras heurísticas)\n",
    "- Algoritmos Supervisionados de Aprendizagem de Máquina"
   ]
  },
  {
   "cell_type": "markdown",
   "metadata": {
    "id": "q1aP2mbptd40",
    "slideshow": {
     "slide_type": "subslide"
    }
   },
   "source": [
    "# <center><font color=SteelBlue> Dúvidas? </font></center>"
   ]
  },
  {
   "cell_type": "markdown",
   "metadata": {
    "id": "0LnGl2fEtd40",
    "slideshow": {
     "slide_type": "slide"
    }
   },
   "source": [
    "# <center><font color=Navy> Agrupamento </font></center>"
   ]
  },
  {
   "cell_type": "markdown",
   "metadata": {
    "id": "3BgWrHIb9sqi",
    "slideshow": {
     "slide_type": "subslide"
    }
   },
   "source": [
    "## <font color=MidnightBlue> Agrupamento </font>\n",
    "\n",
    "- procura identificar subtipos ou grupos que não foram definidos a priori\n",
    "- organiza dados não etiquetados em grupos similares, chamados de clusters\n",
    "- é um tipo de análise exploratória de dados"
   ]
  },
  {
   "cell_type": "markdown",
   "metadata": {
    "id": "ezU62Dtj9_mx",
    "slideshow": {
     "slide_type": "fragment"
    }
   },
   "source": [
    "<img src=\"https://miro.medium.com/max/700/1*YWEqFeKKKzDiNWy5UfrTsg.png\" width=\"300\" height=\"300\" />\n"
   ]
  },
  {
   "cell_type": "markdown",
   "metadata": {
    "id": "MGK0s9zgMYG2",
    "slideshow": {
     "slide_type": "subslide"
    }
   },
   "source": [
    "### Aplicações\n",
    "- Visão do todo e das relações \n",
    "- Identificação de padrões, características comuns, o assunto de um conjunto de textos\n",
    "- Detecção de outliers "
   ]
  },
  {
   "cell_type": "markdown",
   "metadata": {
    "id": "byNx7IJn-M6w",
    "slideshow": {
     "slide_type": "subslide"
    }
   },
   "source": [
    "### Abordagens\n",
    "- Envolve o uso de técnicas não-supervisionadas \n",
    "    - partitivo\n",
    "    - hierárquico"
   ]
  },
  {
   "cell_type": "markdown",
   "metadata": {
    "id": "901Zm5K9td40",
    "slideshow": {
     "slide_type": "skip"
    }
   },
   "source": [
    "# <center><font color=Navy> Processo / Etapas </font></center>"
   ]
  },
  {
   "cell_type": "markdown",
   "metadata": {
    "id": "VfR9owkG-ev7",
    "slideshow": {
     "slide_type": "slide"
    }
   },
   "source": [
    "## Processo / Etapas\n",
    "Em ambos (classificação ou clusterização) precisamos realizar as etapas já discutidas (carga, limpeza, seleção de palavras...) e organizar os dados (palavras dos documentos) em uma estrutura adequada para o processamento."
   ]
  },
  {
   "cell_type": "markdown",
   "metadata": {
    "id": "qUWvyXR0UHT4",
    "slideshow": {
     "slide_type": "slide"
    }
   },
   "source": [
    "### Esquema de Representação\n",
    "Na última aula vimos como gerar uma matriz de tf-idf de palavras:"
   ]
  },
  {
   "cell_type": "code",
   "execution_count": 30,
   "metadata": {
    "colab": {
     "base_uri": "https://localhost:8080/",
     "height": 272
    },
    "id": "3KmrTFOy_IQl",
    "outputId": "ade9e44d-1508-4374-fdf4-4a5d3522973f",
    "slideshow": {
     "slide_type": "fragment"
    }
   },
   "outputs": [
    {
     "name": "stderr",
     "output_type": "stream",
     "text": [
      "`summarise()` ungrouping output (override with `.groups` argument)\n",
      "\n",
      "Joining, by = \"book\"\n",
      "\n"
     ]
    },
    {
     "data": {
      "text/html": [
       "<table>\n",
       "<caption>A tibble: 6 × 6</caption>\n",
       "<thead>\n",
       "\t<tr><th scope=col>book</th><th scope=col>word</th><th scope=col>n</th><th scope=col>tf</th><th scope=col>idf</th><th scope=col>tf_idf</th></tr>\n",
       "\t<tr><th scope=col>&lt;fct&gt;</th><th scope=col>&lt;chr&gt;</th><th scope=col>&lt;int&gt;</th><th scope=col>&lt;dbl&gt;</th><th scope=col>&lt;dbl&gt;</th><th scope=col>&lt;dbl&gt;</th></tr>\n",
       "</thead>\n",
       "<tbody>\n",
       "\t<tr><td>Sense &amp; Sensibility</td><td><span style=white-space:pre-wrap>elinor  </span></td><td>623</td><td>0.005193528</td><td>1.791759</td><td>0.009305552</td></tr>\n",
       "\t<tr><td>Sense &amp; Sensibility</td><td>marianne</td><td>492</td><td>0.004101470</td><td>1.791759</td><td>0.007348847</td></tr>\n",
       "\t<tr><td>Mansfield Park     </td><td>crawford</td><td>493</td><td>0.003072417</td><td>1.791759</td><td>0.005505032</td></tr>\n",
       "\t<tr><td><span style=white-space:pre-wrap>Pride &amp; Prejudice  </span></td><td><span style=white-space:pre-wrap>darcy   </span></td><td>373</td><td>0.003052273</td><td>1.791759</td><td>0.005468939</td></tr>\n",
       "\t<tr><td>Persuasion         </td><td>elliot  </td><td>254</td><td>0.003036171</td><td>1.791759</td><td>0.005440088</td></tr>\n",
       "\t<tr><td>Emma               </td><td>emma    </td><td>786</td><td>0.004882109</td><td>1.098612</td><td>0.005363545</td></tr>\n",
       "</tbody>\n",
       "</table>\n"
      ],
      "text/latex": [
       "A tibble: 6 × 6\n",
       "\\begin{tabular}{llllll}\n",
       " book & word & n & tf & idf & tf\\_idf\\\\\n",
       " <fct> & <chr> & <int> & <dbl> & <dbl> & <dbl>\\\\\n",
       "\\hline\n",
       "\t Sense \\& Sensibility & elinor   & 623 & 0.005193528 & 1.791759 & 0.009305552\\\\\n",
       "\t Sense \\& Sensibility & marianne & 492 & 0.004101470 & 1.791759 & 0.007348847\\\\\n",
       "\t Mansfield Park      & crawford & 493 & 0.003072417 & 1.791759 & 0.005505032\\\\\n",
       "\t Pride \\& Prejudice   & darcy    & 373 & 0.003052273 & 1.791759 & 0.005468939\\\\\n",
       "\t Persuasion          & elliot   & 254 & 0.003036171 & 1.791759 & 0.005440088\\\\\n",
       "\t Emma                & emma     & 786 & 0.004882109 & 1.098612 & 0.005363545\\\\\n",
       "\\end{tabular}\n"
      ],
      "text/markdown": [
       "\n",
       "A tibble: 6 × 6\n",
       "\n",
       "| book &lt;fct&gt; | word &lt;chr&gt; | n &lt;int&gt; | tf &lt;dbl&gt; | idf &lt;dbl&gt; | tf_idf &lt;dbl&gt; |\n",
       "|---|---|---|---|---|---|\n",
       "| Sense &amp; Sensibility | elinor   | 623 | 0.005193528 | 1.791759 | 0.009305552 |\n",
       "| Sense &amp; Sensibility | marianne | 492 | 0.004101470 | 1.791759 | 0.007348847 |\n",
       "| Mansfield Park      | crawford | 493 | 0.003072417 | 1.791759 | 0.005505032 |\n",
       "| Pride &amp; Prejudice   | darcy    | 373 | 0.003052273 | 1.791759 | 0.005468939 |\n",
       "| Persuasion          | elliot   | 254 | 0.003036171 | 1.791759 | 0.005440088 |\n",
       "| Emma                | emma     | 786 | 0.004882109 | 1.098612 | 0.005363545 |\n",
       "\n"
      ],
      "text/plain": [
       "  book                word     n   tf          idf      tf_idf     \n",
       "1 Sense & Sensibility elinor   623 0.005193528 1.791759 0.009305552\n",
       "2 Sense & Sensibility marianne 492 0.004101470 1.791759 0.007348847\n",
       "3 Mansfield Park      crawford 493 0.003072417 1.791759 0.005505032\n",
       "4 Pride & Prejudice   darcy    373 0.003052273 1.791759 0.005468939\n",
       "5 Persuasion          elliot   254 0.003036171 1.791759 0.005440088\n",
       "6 Emma                emma     786 0.004882109 1.098612 0.005363545"
      ]
     },
     "metadata": {},
     "output_type": "display_data"
    }
   ],
   "source": [
    "book_words <- austen_books() %>% unnest_tokens(word, text) %>% count(book, word, sort = TRUE)\n",
    "\n",
    "total_words <- book_words %>% group_by(book) %>% summarize(total = sum(n))                                                     \n",
    "\n",
    "book_words <- left_join(book_words, total_words)                                \n",
    "\n",
    "book_tf_idf <- book_words %>% bind_tf_idf(word, book, n) %>% select(-total)            \n",
    "\n",
    "head(book_tf_idf  %>% arrange(desc(tf_idf)))"
   ]
  },
  {
   "cell_type": "markdown",
   "metadata": {
    "id": "mm3ZpXDWNnfD",
    "slideshow": {
     "slide_type": "slide"
    }
   },
   "source": [
    "### Esquema de Representação\n",
    "- O problema é que as palavras podem aparecer em mais de um livro!"
   ]
  },
  {
   "cell_type": "code",
   "execution_count": 31,
   "metadata": {
    "colab": {
     "base_uri": "https://localhost:8080/",
     "height": 238
    },
    "id": "kVA54qn7BFBQ",
    "outputId": "92b9ecd6-5abc-4675-dbbf-192d0ea67e1d",
    "slideshow": {
     "slide_type": "fragment"
    }
   },
   "outputs": [
    {
     "name": "stderr",
     "output_type": "stream",
     "text": [
      "`summarise()` regrouping output by 'word' (override with `.groups` argument)\n",
      "\n"
     ]
    },
    {
     "data": {
      "text/html": [
       "<table>\n",
       "<caption>A grouped_df: 6 × 3</caption>\n",
       "<thead>\n",
       "\t<tr><th scope=col>word</th><th scope=col>book</th><th scope=col>total</th></tr>\n",
       "\t<tr><th scope=col>&lt;chr&gt;</th><th scope=col>&lt;fct&gt;</th><th scope=col>&lt;int&gt;</th></tr>\n",
       "</thead>\n",
       "<tbody>\n",
       "\t<tr><td>the</td><td>Mansfield Park</td><td>6206</td></tr>\n",
       "\t<tr><td>to </td><td>Mansfield Park</td><td>5475</td></tr>\n",
       "\t<tr><td>and</td><td>Mansfield Park</td><td>5438</td></tr>\n",
       "\t<tr><td>to </td><td>Emma          </td><td>5239</td></tr>\n",
       "\t<tr><td>the</td><td>Emma          </td><td>5201</td></tr>\n",
       "\t<tr><td>and</td><td>Emma          </td><td>4896</td></tr>\n",
       "</tbody>\n",
       "</table>\n"
      ],
      "text/latex": [
       "A grouped\\_df: 6 × 3\n",
       "\\begin{tabular}{lll}\n",
       " word & book & total\\\\\n",
       " <chr> & <fct> & <int>\\\\\n",
       "\\hline\n",
       "\t the & Mansfield Park & 6206\\\\\n",
       "\t to  & Mansfield Park & 5475\\\\\n",
       "\t and & Mansfield Park & 5438\\\\\n",
       "\t to  & Emma           & 5239\\\\\n",
       "\t the & Emma           & 5201\\\\\n",
       "\t and & Emma           & 4896\\\\\n",
       "\\end{tabular}\n"
      ],
      "text/markdown": [
       "\n",
       "A grouped_df: 6 × 3\n",
       "\n",
       "| word &lt;chr&gt; | book &lt;fct&gt; | total &lt;int&gt; |\n",
       "|---|---|---|\n",
       "| the | Mansfield Park | 6206 |\n",
       "| to  | Mansfield Park | 5475 |\n",
       "| and | Mansfield Park | 5438 |\n",
       "| to  | Emma           | 5239 |\n",
       "| the | Emma           | 5201 |\n",
       "| and | Emma           | 4896 |\n",
       "\n"
      ],
      "text/plain": [
       "  word book           total\n",
       "1 the  Mansfield Park 6206 \n",
       "2 to   Mansfield Park 5475 \n",
       "3 and  Mansfield Park 5438 \n",
       "4 to   Emma           5239 \n",
       "5 the  Emma           5201 \n",
       "6 and  Emma           4896 "
      ]
     },
     "metadata": {},
     "output_type": "display_data"
    }
   ],
   "source": [
    "# Perceba que as palavras podem aparecer em mais de um livro...\n",
    "head(book_tf_idf %>% group_by(word,book) %>% summarize(total=sum(n)) %>% arrange(desc(total)))"
   ]
  },
  {
   "cell_type": "markdown",
   "metadata": {
    "id": "wkYv8LD3TrBT",
    "slideshow": {
     "slide_type": "slide"
    }
   },
   "source": [
    "### Esquema de Representação\n",
    "\n",
    "Precisamos de esquemas de representação mais adequados e representativos:\n",
    "- para a coleção de documentos, usar VCorpus, que oferece metadados sobre os documentos\n",
    "- para as informções de palavras por documentos, usar matriz termo-documento"
   ]
  },
  {
   "cell_type": "markdown",
   "metadata": {
    "id": "-cgAb61JWdZs",
    "slideshow": {
     "slide_type": "subslide"
    }
   },
   "source": [
    "#### VCorpus\n",
    "\n",
    "Em linguística, *Corpus* (do Latin) é um conjunto de textos utilizado como base de análise. Seu plural é *Corpora*.\n",
    "\n",
    "A estrutura VCorpus oferece uma série de funções interessantes.\n",
    "\n",
    "Detalhes em https://cran.r-project.org/web/packages/tm/vignettes/tm.pdf."
   ]
  },
  {
   "cell_type": "code",
   "execution_count": 32,
   "metadata": {
    "ExecuteTime": {
     "end_time": "2020-11-24T18:26:36.739051Z",
     "start_time": "2020-11-24T18:26:36.704Z"
    },
    "colab": {
     "base_uri": "https://localhost:8080/"
    },
    "id": "RoMlkSdKa9qe",
    "outputId": "2de53a3e-86e6-4e41-927f-d8cca72b4b73",
    "slideshow": {
     "slide_type": "fragment"
    }
   },
   "outputs": [
    {
     "name": "stdout",
     "output_type": "stream",
     "text": [
      "<<VCorpus>>\n",
      "Metadata:  corpus specific: 0, document level (indexed): 0\n",
      "Content:  documents: 3\n",
      "\n",
      "[[1]]\n",
      "<<PlainTextDocument>>\n",
      "Metadata:  7\n",
      "Content:  chars: 45\n",
      "\n",
      "[[2]]\n",
      "<<PlainTextDocument>>\n",
      "Metadata:  7\n",
      "Content:  chars: 50\n",
      "\n",
      "[[3]]\n",
      "<<PlainTextDocument>>\n",
      "Metadata:  7\n",
      "Content:  chars: 54\n",
      "\n"
     ]
    }
   ],
   "source": [
    "# definição / carga do corpus\n",
    "docs <- c(\"Texto de um  documento (documento com id 01).\",                      # define alguns documentos e coloca em um vetor        \n",
    "   \"Texto de    outro documento (documento com id 02).\", \n",
    "   \"Terceiro documento  e seu texto (documento com id 03).\")\n",
    "\n",
    "corpus = VCorpus(VectorSource(docs), list(language=\"pt\"))                       # cria uma estrutura de dados que representa o corpus em memória (VCorpus) \n",
    "\n",
    "inspect(corpus)                                                                 # devolve informações gerais sobre a estrutura e seus documentos"
   ]
  },
  {
   "cell_type": "code",
   "execution_count": 33,
   "metadata": {
    "id": "dOKShizdWY5j",
    "slideshow": {
     "slide_type": "skip"
    }
   },
   "outputs": [],
   "source": [
    "# meta(corpus[[1]])                                                             # devolve os metadados do primeiro documento\n",
    "\n",
    "# corpus[[1]]$content                                                           # seu conteúdo\n",
    "\n",
    "# for (i in 1:length(corpus)) {                                                 # mostra todos os documentos\n",
    "#   print(corpus[[i]]$content)\n",
    "# }"
   ]
  },
  {
   "cell_type": "code",
   "execution_count": 34,
   "metadata": {
    "ExecuteTime": {
     "end_time": "2020-11-24T18:26:41.954107Z",
     "start_time": "2020-11-24T18:26:39.985Z"
    },
    "colab": {
     "base_uri": "https://localhost:8080/"
    },
    "id": "Fhen623vYXxh",
    "outputId": "634b529a-5d3d-458e-af6c-46ae795f939e",
    "slideshow": {
     "slide_type": "subslide"
    }
   },
   "outputs": [
    {
     "name": "stdout",
     "output_type": "stream",
     "text": [
      "[1] \"texto documento documento id \"\n",
      "[1] \"texto outro documento documento id \"\n",
      "[1] \"terceiro documento texto documento id \"\n"
     ]
    }
   ],
   "source": [
    "# preprocessamento\n",
    "corpus = tm_map(corpus, content_transformer(tolower))                           # transforma tudo para minúsculas\n",
    "corpus = tm_map(corpus, removeNumbers)                                          # remove números\n",
    "corpus = tm_map(corpus, removePunctuation)                                      # remove pontuação\n",
    "corpus = tm_map(corpus, removeWords, stopwords(\"pt\"))                           # remove stopwords\n",
    "# corpus = tm_map(corpus, stemDocument, language=\"portuguese\")                  # aplica stemming (para português, não funciona - há um bug reconhecido na versão atual da biblioteca - sugere-se usar a biblioteca alternativa 'quantenda', ao invés da 'tm' - procure no Google e tente utilizá-la, como desafio)                                                                                \n",
    "corpus = tm_map(corpus, stripWhitespace)                                        # remove espaços extras e tabulações\n",
    "\n",
    "for (i in 1:length(corpus)) {                                                 \n",
    "  print(corpus[[i]]$content)\n",
    "}"
   ]
  },
  {
   "cell_type": "markdown",
   "metadata": {
    "id": "hwncCossXNWe",
    "slideshow": {
     "slide_type": "subslide"
    }
   },
   "source": [
    "#### DocumentTermMatrix\n",
    "\n",
    "A estrutura $Termo-Documento$ representa as palavras identificadas em um *corpus* e indica os respectivos documentos em que aparecem.\n",
    "\n",
    "Ela também oferece uma série de funções interessantes...\n",
    "\n",
    "Maiores detalhes podem ser obtidos em https://cran.r-project.org/web/packages/tm/vignettes/tm.pdf."
   ]
  },
  {
   "cell_type": "code",
   "execution_count": 35,
   "metadata": {
    "ExecuteTime": {
     "end_time": "2020-11-24T18:26:49.029056Z",
     "start_time": "2020-11-24T18:26:48.997Z"
    },
    "colab": {
     "base_uri": "https://localhost:8080/"
    },
    "id": "hfqeiW-HWU97",
    "outputId": "77cb16c3-115a-498c-87bf-b31a4a709e7b",
    "slideshow": {
     "slide_type": "fragment"
    }
   },
   "outputs": [
    {
     "name": "stdout",
     "output_type": "stream",
     "text": [
      "<<DocumentTermMatrix (documents: 3, terms: 4)>>\n",
      "Non-/sparse entries: 8/4\n",
      "Sparsity           : 33%\n",
      "Maximal term length: 9\n",
      "Weighting          : term frequency (tf)\n",
      "Sample             :\n",
      "    Terms\n",
      "Docs documento outro terceiro texto\n",
      "   1         2     0        0     1\n",
      "   2         2     1        0     1\n",
      "   3         2     0        1     1\n"
     ]
    }
   ],
   "source": [
    "dtm <- DocumentTermMatrix(corpus)                                               # cria uma matriz de termos vs documentos (por padrão, usa número absoluto de ocorrrências e remove palavras com menos de 3 caracteres)\n",
    "inspect(dtm)                                                                    # mostra a matriz "
   ]
  },
  {
   "cell_type": "code",
   "execution_count": 36,
   "metadata": {
    "ExecuteTime": {
     "end_time": "2020-11-24T18:26:54.069580Z",
     "start_time": "2020-11-24T18:26:52.327Z"
    },
    "colab": {
     "base_uri": "https://localhost:8080/"
    },
    "id": "2katWXMJj0Ky",
    "outputId": "d5484ef8-7c36-417d-8a26-470825a87468",
    "slideshow": {
     "slide_type": "subslide"
    }
   },
   "outputs": [
    {
     "name": "stdout",
     "output_type": "stream",
     "text": [
      "<<DocumentTermMatrix (documents: 3, terms: 5)>>\n",
      "Non-/sparse entries: 11/4\n",
      "Sparsity           : 27%\n",
      "Maximal term length: 9\n",
      "Weighting          : term frequency (tf)\n",
      "Sample             :\n",
      "    Terms\n",
      "Docs documento id outro terceiro texto\n",
      "   1         2  1     0        0     1\n",
      "   2         2  1     1        0     1\n",
      "   3         2  1     0        1     1\n"
     ]
    }
   ],
   "source": [
    "dtm <- DocumentTermMatrix(corpus, control = list(wordLengths = c(1,Inf)))       # inclui palavras de qualquer tamanho                                         \n",
    "inspect(dtm)                                                 \n",
    "\n",
    "#dtm <- DocumentTermMatrix(corpus, control = list(wordLengths=c(1,Inf), bounds = list(global = c(2,Inf)))) # limita frequencia das palavras (mínima, máxima) a incluir\n",
    "#inspect(dtm)                                                 "
   ]
  },
  {
   "cell_type": "code",
   "execution_count": 37,
   "metadata": {
    "id": "pmnLgcKFhKqZ",
    "slideshow": {
     "slide_type": "fragment"
    }
   },
   "outputs": [],
   "source": [
    "# findFreqTerms(dtm, 2)                                                         # recupera os termos com frequencia >= 2"
   ]
  },
  {
   "cell_type": "code",
   "execution_count": 38,
   "metadata": {
    "ExecuteTime": {
     "end_time": "2020-11-24T18:26:59.227836Z",
     "start_time": "2020-11-24T18:26:57.402Z"
    },
    "colab": {
     "base_uri": "https://localhost:8080/"
    },
    "id": "4bT7CJAVeYFU",
    "outputId": "e2b7feca-ac60-4bb2-9c4b-c81fe3f1d497",
    "slideshow": {
     "slide_type": "subslide"
    }
   },
   "outputs": [
    {
     "name": "stdout",
     "output_type": "stream",
     "text": [
      "<<DocumentTermMatrix (documents: 3, terms: 5)>>\n",
      "Non-/sparse entries: 2/13\n",
      "Sparsity           : 87%\n",
      "Maximal term length: 9\n",
      "Weighting          : term frequency - inverse document frequency (normalized) (tf-idf)\n",
      "Sample             :\n",
      "    Terms\n",
      "Docs documento id     outro  terceiro texto\n",
      "   1         0  0 0.0000000 0.0000000     0\n",
      "   2         0  0 0.3169925 0.0000000     0\n",
      "   3         0  0 0.0000000 0.3169925     0\n"
     ]
    }
   ],
   "source": [
    "# cria matriz considerando tf-idf ao invés de tf tradicional\n",
    "tfidf_dtm <- DocumentTermMatrix(corpus, \n",
    "                                control = list(weighting = weightTfIdf,         \n",
    "                                               wordLengths = c(1,Inf)))\n",
    "inspect(tfidf_dtm)"
   ]
  },
  {
   "cell_type": "code",
   "execution_count": 39,
   "metadata": {
    "id": "cyilSaiqeYHq",
    "slideshow": {
     "slide_type": "skip"
    }
   },
   "outputs": [],
   "source": [
    "# tfidf_dtm = removeSparseTerms(tfidf_dtm, 0.9)                                 # remove termos com esparsividade menor do que o valor passado\n",
    "# inspect(tfidf_dtm)"
   ]
  },
  {
   "cell_type": "markdown",
   "metadata": {
    "id": "RY2PC7HvdPVP",
    "slideshow": {
     "slide_type": "subslide"
    }
   },
   "source": [
    "### Juntando tudo..."
   ]
  },
  {
   "cell_type": "markdown",
   "metadata": {
    "id": "XfZVqLXttd40",
    "slideshow": {
     "slide_type": "skip"
    }
   },
   "source": [
    "- <font color=SlateGray>Bibliotecas</font>"
   ]
  },
  {
   "cell_type": "code",
   "execution_count": 40,
   "metadata": {
    "id": "IwOeAyEznWaM",
    "slideshow": {
     "slide_type": "skip"
    }
   },
   "outputs": [],
   "source": [
    "if(!require('tm')) install.packages('tm')\n",
    "if(!require('gutenbergr')) install.packages('gutenbergr')\n",
    "if(!require('tokenizers')) install.packages('tokenizers')\n",
    "if(!require('stopwords')) install.packages('stopwords')\n",
    "if(!require('wordcloud')) install.packages('wordcloud')\n",
    "if(!require('dplyr')) install.packages('dplyr')"
   ]
  },
  {
   "cell_type": "code",
   "execution_count": 41,
   "metadata": {
    "ExecuteTime": {
     "end_time": "2020-11-24T18:27:10.207015Z",
     "start_time": "2020-11-24T18:27:10.183Z"
    },
    "id": "pQuMdfK5td40",
    "slideshow": {
     "slide_type": "skip"
    }
   },
   "outputs": [],
   "source": [
    "library(tm)\n",
    "library(stopwords)\n",
    "library(gutenbergr)\n",
    "library(tokenizers)\n",
    "library(wordcloud)\n",
    "library(dplyr)"
   ]
  },
  {
   "cell_type": "code",
   "execution_count": 42,
   "metadata": {
    "ExecuteTime": {
     "end_time": "2020-11-24T18:27:19.178985Z",
     "start_time": "2020-11-24T18:27:15.486Z"
    },
    "id": "QHeq070ztd40",
    "slideshow": {
     "slide_type": "fragment"
    }
   },
   "outputs": [],
   "source": [
    "# Carrega textos de Machado de Assis da biblioteca Gutenberg\n",
    "machado <- gutenberg_download(c(55752, 56737, 54829, 55682)) \n",
    "\n",
    "# Ajusta caracteres para UTF-8\n",
    "machado$text <- machado$text %>% iconv(\"latin1\", \"UTF-8\")\n",
    "\n",
    "corpus = VCorpus(VectorSource(machado)) # TODO: verificar porque cria só 2 documentos!   \n",
    "# corpus\n",
    "\n",
    "# preprocessamento \n",
    "tdm <- DocumentTermMatrix(corpus, \n",
    "  control = list(\n",
    "    removePunctuation = TRUE, \n",
    "    stopwords = c(stopwords('portuguese'), 'elle', 'ella', 'capitulo', 'ainda', 'tambem'), \n",
    "    removeNumbers = TRUE,\n",
    "    content_transformer = tolower,\n",
    "    content_transformer = stripWhitespace\n",
    "  ))"
   ]
  },
  {
   "cell_type": "code",
   "execution_count": 43,
   "metadata": {
    "ExecuteTime": {
     "end_time": "2020-11-24T18:27:43.060137Z",
     "start_time": "2020-11-24T18:27:42.799Z"
    },
    "colab": {
     "base_uri": "https://localhost:8080/",
     "height": 437
    },
    "id": "A4vxUpvEtd40",
    "outputId": "867b966b-a17c-434c-8ace-4f89ff47c3f1",
    "slideshow": {
     "slide_type": "subslide"
    }
   },
   "outputs": [
    {
     "data": {
      "image/png": "[encoded data removed]",
      "text/plain": [
       "plot without title"
      ]
     },
     "metadata": {
      "image/png": {
       "height": 420,
       "width": 420
      }
     },
     "output_type": "display_data"
    }
   ],
   "source": [
    "# cria núvem de palavras\n",
    "freq = data.frame(sort(colSums(as.matrix(tdm)), decreasing=TRUE))\n",
    "wordcloud(rownames(freq), freq[,1], max.words=50, colors=brewer.pal(1, \"Dark2\"))"
   ]
  },
  {
   "cell_type": "markdown",
   "metadata": {
    "id": "PdG_lPFxj-Gp",
    "slideshow": {
     "slide_type": "slide"
    }
   },
   "source": [
    "## Exemplo de Classificação (usando heurísticas)\n",
    "\n",
    "### Aplicação: detecção de polaridade\n",
    "\n",
    "Objetivo: analisar palavras com polaridade negativa, neutra ou positiva"
   ]
  },
  {
   "cell_type": "code",
   "execution_count": 44,
   "metadata": {
    "ExecuteTime": {
     "end_time": "2020-11-24T18:28:19.570558Z",
     "start_time": "2020-11-24T18:28:19.476Z"
    },
    "colab": {
     "base_uri": "https://localhost:8080/",
     "height": 288
    },
    "id": "pMB-OthbUClP",
    "outputId": "4b2d6815-d68d-4039-eadb-cf84f35305a3",
    "slideshow": {
     "slide_type": "subslide"
    }
   },
   "outputs": [
    {
     "data": {
      "text/html": [
       "<table>\n",
       "<caption>A tibble: 10 × 5</caption>\n",
       "<thead>\n",
       "\t<tr><th scope=col>word</th><th scope=col>palavra</th><th scope=col>tipo</th><th scope=col>sentimento</th><th scope=col>revisão</th></tr>\n",
       "\t<tr><th scope=col>&lt;chr&gt;</th><th scope=col>&lt;dbl&gt;</th><th scope=col>&lt;chr&gt;</th><th scope=col>&lt;int&gt;</th><th scope=col>&lt;chr&gt;</th></tr>\n",
       "</thead>\n",
       "<tbody>\n",
       "\t<tr><td>ser   </td><td>618</td><td>vb </td><td> 1</td><td>A</td></tr>\n",
       "\t<tr><td>nada  </td><td>575</td><td>adj</td><td> 0</td><td>A</td></tr>\n",
       "\t<tr><td>pouco </td><td>352</td><td>adj</td><td>-1</td><td>A</td></tr>\n",
       "\t<tr><td>dizer </td><td>310</td><td>vb </td><td> 0</td><td>A</td></tr>\n",
       "\t<tr><td>mesma </td><td>298</td><td>adj</td><td> 0</td><td>M</td></tr>\n",
       "\t<tr><td>grande</td><td>289</td><td>adj</td><td> 0</td><td>M</td></tr>\n",
       "\t<tr><td>ver   </td><td>286</td><td>vb </td><td> 1</td><td>A</td></tr>\n",
       "\t<tr><td>melhor</td><td>279</td><td>adj</td><td> 1</td><td>M</td></tr>\n",
       "\t<tr><td>amigo </td><td>231</td><td>adj</td><td> 1</td><td>A</td></tr>\n",
       "\t<tr><td>ter   </td><td>218</td><td>vb </td><td> 0</td><td>A</td></tr>\n",
       "</tbody>\n",
       "</table>\n"
      ],
      "text/latex": [
       "A tibble: 10 × 5\n",
       "\\begin{tabular}{lllll}\n",
       " word & palavra & tipo & sentimento & revisão\\\\\n",
       " <chr> & <dbl> & <chr> & <int> & <chr>\\\\\n",
       "\\hline\n",
       "\t ser    & 618 & vb  &  1 & A\\\\\n",
       "\t nada   & 575 & adj &  0 & A\\\\\n",
       "\t pouco  & 352 & adj & -1 & A\\\\\n",
       "\t dizer  & 310 & vb  &  0 & A\\\\\n",
       "\t mesma  & 298 & adj &  0 & M\\\\\n",
       "\t grande & 289 & adj &  0 & M\\\\\n",
       "\t ver    & 286 & vb  &  1 & A\\\\\n",
       "\t melhor & 279 & adj &  1 & M\\\\\n",
       "\t amigo  & 231 & adj &  1 & A\\\\\n",
       "\t ter    & 218 & vb  &  0 & A\\\\\n",
       "\\end{tabular}\n"
      ],
      "text/markdown": [
       "\n",
       "A tibble: 10 × 5\n",
       "\n",
       "| word &lt;chr&gt; | palavra &lt;dbl&gt; | tipo &lt;chr&gt; | sentimento &lt;int&gt; | revisão &lt;chr&gt; |\n",
       "|---|---|---|---|---|\n",
       "| ser    | 618 | vb  |  1 | A |\n",
       "| nada   | 575 | adj |  0 | A |\n",
       "| pouco  | 352 | adj | -1 | A |\n",
       "| dizer  | 310 | vb  |  0 | A |\n",
       "| mesma  | 298 | adj |  0 | M |\n",
       "| grande | 289 | adj |  0 | M |\n",
       "| ver    | 286 | vb  |  1 | A |\n",
       "| melhor | 279 | adj |  1 | M |\n",
       "| amigo  | 231 | adj |  1 | A |\n",
       "| ter    | 218 | vb  |  0 | A |\n",
       "\n"
      ],
      "text/plain": [
       "   word   palavra tipo sentimento revisão\n",
       "1  ser    618     vb    1         A      \n",
       "2  nada   575     adj   0         A      \n",
       "3  pouco  352     adj  -1         A      \n",
       "4  dizer  310     vb    0         A      \n",
       "5  mesma  298     adj   0         M      \n",
       "6  grande 289     adj   0         M      \n",
       "7  ver    286     vb    1         A      \n",
       "8  melhor 279     adj   1         M      \n",
       "9  amigo  231     adj   1         A      \n",
       "10 ter    218     vb    0         A      "
      ]
     },
     "metadata": {},
     "output_type": "display_data"
    }
   ],
   "source": [
    "# Carrega e prepara dicionário de polaridades em lingua portuguesa\n",
    "# detalhes em https://www.inf.pucrs.br/linatural/wordpress/recursos-e-ferramentas/oplexicon/\n",
    "data(\"oplexicon_v3.0\")\n",
    "op30 <- oplexicon_v3.0\n",
    "colnames(op30) <- c(\"word\", \"tipo\", \"sentimento\", \"revisão\")            # palavra, tipo (classe gramatical), polaridade (-1: negativa, 0: neutra, 1: positiva), atribuição (A)utomática ou (M)anual)\n",
    "\n",
    "# recupera palavras dos textos de Machado de Assis (Carregados na célula \"Juntando tudo...\")\n",
    "palavras <- tibble::rownames_to_column(freq, \"word\") %>% \n",
    "  rename(palavra = \"sort.colSums.as.matrix.tdm....decreasing...TRUE.\") %>%\n",
    "  as_tibble()\n",
    "\n",
    "#palavras\n",
    "\n",
    "# Identifica a polaridade das palavras (e sua classe gramatical)\n",
    "polaridade <- palavras %>%\n",
    "  inner_join(op30, by='word')\n",
    "\n",
    "head(polaridade, 10)"
   ]
  },
  {
   "cell_type": "code",
   "execution_count": 45,
   "metadata": {
    "ExecuteTime": {
     "end_time": "2020-11-24T18:31:59.646898Z",
     "start_time": "2020-11-24T18:31:58.912Z"
    },
    "id": "_V_zczV6td40",
    "slideshow": {
     "slide_type": "subslide"
    }
   },
   "outputs": [],
   "source": [
    "tidy_machado <- machado %>%\n",
    "  unnest_tokens(word, text)\n",
    "  \n",
    "count <- tidy_machado %>%\n",
    "          count(word, sort = TRUE)"
   ]
  },
  {
   "cell_type": "code",
   "execution_count": 46,
   "metadata": {
    "ExecuteTime": {
     "end_time": "2020-11-24T18:34:37.104361Z",
     "start_time": "2020-11-24T18:34:36.943Z"
    },
    "colab": {
     "base_uri": "https://localhost:8080/",
     "height": 183
    },
    "id": "yGOERBQItd40",
    "outputId": "4e059fb0-c73d-4576-bdd8-8e154e12caf9",
    "slideshow": {
     "slide_type": "fragment"
    }
   },
   "outputs": [
    {
     "data": {
      "text/html": [
       "<table>\n",
       "<caption>A tibble: 5 × 3</caption>\n",
       "<thead>\n",
       "\t<tr><th scope=col>word</th><th scope=col>sentimento</th><th scope=col>n</th></tr>\n",
       "\t<tr><th scope=col>&lt;chr&gt;</th><th scope=col>&lt;int&gt;</th><th scope=col>&lt;int&gt;</th></tr>\n",
       "</thead>\n",
       "<tbody>\n",
       "\t<tr><td>mas  </td><td>-1</td><td>2236</td></tr>\n",
       "\t<tr><td>por  </td><td> 0</td><td>1405</td></tr>\n",
       "\t<tr><td>ser  </td><td> 1</td><td> 621</td></tr>\n",
       "\t<tr><td>nada </td><td> 0</td><td> 581</td></tr>\n",
       "\t<tr><td>mesmo</td><td> 0</td><td> 426</td></tr>\n",
       "</tbody>\n",
       "</table>\n"
      ],
      "text/latex": [
       "A tibble: 5 × 3\n",
       "\\begin{tabular}{lll}\n",
       " word & sentimento & n\\\\\n",
       " <chr> & <int> & <int>\\\\\n",
       "\\hline\n",
       "\t mas   & -1 & 2236\\\\\n",
       "\t por   &  0 & 1405\\\\\n",
       "\t ser   &  1 &  621\\\\\n",
       "\t nada  &  0 &  581\\\\\n",
       "\t mesmo &  0 &  426\\\\\n",
       "\\end{tabular}\n"
      ],
      "text/markdown": [
       "\n",
       "A tibble: 5 × 3\n",
       "\n",
       "| word &lt;chr&gt; | sentimento &lt;int&gt; | n &lt;int&gt; |\n",
       "|---|---|---|\n",
       "| mas   | -1 | 2236 |\n",
       "| por   |  0 | 1405 |\n",
       "| ser   |  1 |  621 |\n",
       "| nada  |  0 |  581 |\n",
       "| mesmo |  0 |  426 |\n",
       "\n"
      ],
      "text/plain": [
       "  word  sentimento n   \n",
       "1 mas   -1         2236\n",
       "2 por    0         1405\n",
       "3 ser    1          621\n",
       "4 nada   0          581\n",
       "5 mesmo  0          426"
      ]
     },
     "metadata": {},
     "output_type": "display_data"
    }
   ],
   "source": [
    "bing_word_counts <- tidy_machado %>%\n",
    "  inner_join(op30, by='word') %>%\n",
    "  count(word, sentimento, sort = TRUE) %>%\n",
    "  ungroup()\n",
    "head(bing_word_counts, n=5)"
   ]
  },
  {
   "cell_type": "code",
   "execution_count": 47,
   "metadata": {
    "ExecuteTime": {
     "end_time": "2020-11-24T18:35:41.752746Z",
     "start_time": "2020-11-24T18:35:41.483Z"
    },
    "colab": {
     "base_uri": "https://localhost:8080/",
     "height": 471
    },
    "id": "-6gi2TwGtd40",
    "outputId": "1e7fb96d-bf2d-4efa-a3c8-fce32db2c6f0",
    "slideshow": {
     "slide_type": "subslide"
    }
   },
   "outputs": [
    {
     "name": "stderr",
     "output_type": "stream",
     "text": [
      "Selecting by n\n",
      "\n"
     ]
    },
    {
     "data": {
      "image/png": "[encoded data removed]",
      "text/plain": [
       "plot without title"
      ]
     },
     "metadata": {
      "image/png": {
       "height": 420,
       "width": 420
      }
     },
     "output_type": "display_data"
    }
   ],
   "source": [
    "bing_word_counts %>%\n",
    "  group_by(sentimento) %>% top_n(10) %>% ungroup() %>%\n",
    "  mutate(word = reorder(word, n)) %>%\n",
    "  ggplot(aes(word, n, fill = sentimento)) + geom_col(show.legend = FALSE) +\n",
    "  facet_wrap(~sentimento, scales = \"free_y\") +\n",
    "  labs(y = \"Palavras que contribuem para o sentimento\", x = NULL) + coord_flip()"
   ]
  },
  {
   "cell_type": "markdown",
   "metadata": {
    "id": "2tw7c4C_Px9t",
    "slideshow": {
     "slide_type": "slide"
    }
   },
   "source": [
    "## Exemplo de Classificação (usando aprendizado de máquina supervisionado)\n",
    "\n",
    "Objetivo: detectar a categoria ou assunto de um documento\n",
    "\n",
    "---\n",
    "\n"
   ]
  },
  {
   "cell_type": "markdown",
   "metadata": {
    "id": "7LGUgUYAW1dJ",
    "slideshow": {
     "slide_type": "skip"
    }
   },
   "source": [
    "- <font color=SlateGray>Bibliotecas</font>"
   ]
  },
  {
   "cell_type": "code",
   "execution_count": 48,
   "metadata": {
    "ExecuteTime": {
     "end_time": "2020-11-24T18:15:37.124694Z",
     "start_time": "2020-11-24T18:15:37.095Z"
    },
    "colab": {
     "base_uri": "https://localhost:8080/"
    },
    "collapsed": true,
    "id": "3M8dGA6lW3sv",
    "outputId": "a84bb647-e2fe-4ce3-c2d4-a55956c3348c",
    "slideshow": {
     "slide_type": "skip"
    }
   },
   "outputs": [
    {
     "name": "stderr",
     "output_type": "stream",
     "text": [
      "Loading required package: arm\n",
      "\n",
      "Loading required package: MASS\n",
      "\n",
      "\n",
      "Attaching package: ‘MASS’\n",
      "\n",
      "\n",
      "The following object is masked from ‘package:dplyr’:\n",
      "\n",
      "    select\n",
      "\n",
      "\n",
      "Loading required package: Matrix\n",
      "\n",
      "Loading required package: lme4\n",
      "\n",
      "\n",
      "arm (Version 1.11-2, built: 2020-7-27)\n",
      "\n",
      "\n",
      "Working directory is /home/wives\n",
      "\n",
      "\n",
      "Loading required package: e1071\n",
      "\n"
     ]
    }
   ],
   "source": [
    "if(!require('caret')) install.packages('caret')\n",
    "if(!require('arm')) install.packages('arm')\n",
    "if(!require('tm')) install.packages('tm')\n",
    "if(!require('tidytext')) install.packages('tidytext')\n",
    "if(!require('e1071')) install.packages('e1071')\n",
    "\n",
    "library(tm)\n",
    "library(tidytext)\n",
    "library(caret)                                                                  # oferece um conjunto de funções para auxiliar o processo de criação de modelos preditivos.\n",
    "library(arm)\n",
    "library(e1071)"
   ]
  },
  {
   "cell_type": "markdown",
   "metadata": {
    "id": "_r08IRvgXREq",
    "slideshow": {
     "slide_type": "subslide"
    }
   },
   "source": [
    "- <font color=SlateGray> Dados de Treino</font>"
   ]
  },
  {
   "cell_type": "code",
   "execution_count": 49,
   "metadata": {
    "id": "kt0BR1BQt5VS",
    "slideshow": {
     "slide_type": "fragment"
    }
   },
   "outputs": [],
   "source": [
    "data <- c('bom', 'ruim')\n",
    "corpus <- VCorpus(VectorSource(data))"
   ]
  },
  {
   "cell_type": "markdown",
   "metadata": {
    "id": "DfAVKqPKXY83",
    "slideshow": {
     "slide_type": "fragment"
    }
   },
   "source": [
    "- <font color=SlateGray> Cria matriz de termos por documentos </font>"
   ]
  },
  {
   "cell_type": "code",
   "execution_count": 50,
   "metadata": {
    "colab": {
     "base_uri": "https://localhost:8080/",
     "height": 102
    },
    "id": "uuTFPRpPXZ8r",
    "outputId": "e0a9c4ec-5065-47c0-a961-1bc9ad7c55eb",
    "slideshow": {
     "slide_type": "fragment"
    }
   },
   "outputs": [
    {
     "data": {
      "text/plain": [
       "<<DocumentTermMatrix (documents: 2, terms: 2)>>\n",
       "Non-/sparse entries: 2/2\n",
       "Sparsity           : 50%\n",
       "Maximal term length: 4\n",
       "Weighting          : term frequency (tf)"
      ]
     },
     "metadata": {},
     "output_type": "display_data"
    }
   ],
   "source": [
    "tdm <- DocumentTermMatrix(corpus, list(removePunctuation = TRUE, stopwords = stopwords('portuguese'), stemming = TRUE, removeNumbers = TRUE))\n",
    "tdm"
   ]
  },
  {
   "cell_type": "markdown",
   "metadata": {
    "id": "_rqBceB5Xda2",
    "slideshow": {
     "slide_type": "subslide"
    }
   },
   "source": [
    "- <font color=SlateGray> Converte em um data.frame para treinamento e atribui uma classificação (fator) a cada documento. </font>"
   ]
  },
  {
   "cell_type": "code",
   "execution_count": 51,
   "metadata": {
    "colab": {
     "base_uri": "https://localhost:8080/",
     "height": 120
    },
    "id": "bllFK3LKXfEx",
    "outputId": "432db2bc-a2ad-4ba6-f498-a54556786eee",
    "slideshow": {
     "slide_type": "fragment"
    }
   },
   "outputs": [
    {
     "data": {
      "text/html": [
       "<table>\n",
       "<caption>A data.frame: 2 × 3</caption>\n",
       "<thead>\n",
       "\t<tr><th></th><th scope=col>bom</th><th scope=col>ruim</th><th scope=col>y</th></tr>\n",
       "\t<tr><th></th><th scope=col>&lt;dbl&gt;</th><th scope=col>&lt;dbl&gt;</th><th scope=col>&lt;fct&gt;</th></tr>\n",
       "</thead>\n",
       "<tbody>\n",
       "\t<tr><th scope=row>1</th><td>1</td><td>0</td><td>0</td></tr>\n",
       "\t<tr><th scope=row>2</th><td>0</td><td>1</td><td>1</td></tr>\n",
       "</tbody>\n",
       "</table>\n"
      ],
      "text/latex": [
       "A data.frame: 2 × 3\n",
       "\\begin{tabular}{r|lll}\n",
       "  & bom & ruim & y\\\\\n",
       "  & <dbl> & <dbl> & <fct>\\\\\n",
       "\\hline\n",
       "\t1 & 1 & 0 & 0\\\\\n",
       "\t2 & 0 & 1 & 1\\\\\n",
       "\\end{tabular}\n"
      ],
      "text/markdown": [
       "\n",
       "A data.frame: 2 × 3\n",
       "\n",
       "| <!--/--> | bom &lt;dbl&gt; | ruim &lt;dbl&gt; | y &lt;fct&gt; |\n",
       "|---|---|---|---|\n",
       "| 1 | 1 | 0 | 0 |\n",
       "| 2 | 0 | 1 | 1 |\n",
       "\n"
      ],
      "text/plain": [
       "  bom ruim y\n",
       "1 1   0    0\n",
       "2 0   1    1"
      ]
     },
     "metadata": {},
     "output_type": "display_data"
    }
   ],
   "source": [
    "train <- as.matrix(tdm)\n",
    "train <- cbind(train, c(0, 1))\n",
    "colnames(train)[ncol(train)] <- 'y'\n",
    "train <- as.data.frame(train)\n",
    "train$y <- as.factor(train$y)\n",
    "train"
   ]
  },
  {
   "cell_type": "markdown",
   "metadata": {
    "id": "NGy9h3tUXivc",
    "slideshow": {
     "slide_type": "subslide"
    }
   },
   "source": [
    "- <font color=SlateGray> Treino </font>"
   ]
  },
  {
   "cell_type": "code",
   "execution_count": 52,
   "metadata": {
    "id": "wxcDRminXjNw",
    "slideshow": {
     "slide_type": "fragment"
    }
   },
   "outputs": [],
   "source": [
    "fit <- train(y ~ ., data = train, method = 'bayesglm')"
   ]
  },
  {
   "cell_type": "markdown",
   "metadata": {
    "id": "OJO8Ff_sXrHG",
    "slideshow": {
     "slide_type": "subslide"
    }
   },
   "source": [
    "- <font color=SlateGray> Verifica acurácia no treino </font>"
   ]
  },
  {
   "cell_type": "code",
   "execution_count": 53,
   "metadata": {
    "id": "YIsHC_RrXtOL",
    "slideshow": {
     "slide_type": "fragment"
    }
   },
   "outputs": [
    {
     "data": {
      "text/html": [
       "<table>\n",
       "<caption>A data.frame: 2 × 2</caption>\n",
       "<thead>\n",
       "\t<tr><th></th><th scope=col>0</th><th scope=col>1</th></tr>\n",
       "\t<tr><th></th><th scope=col>&lt;dbl&gt;</th><th scope=col>&lt;dbl&gt;</th></tr>\n",
       "</thead>\n",
       "<tbody>\n",
       "\t<tr><th scope=row>1</th><td>0.7913193</td><td>0.2086807</td></tr>\n",
       "\t<tr><th scope=row>2</th><td>0.2086807</td><td>0.7913193</td></tr>\n",
       "</tbody>\n",
       "</table>\n"
      ],
      "text/latex": [
       "A data.frame: 2 × 2\n",
       "\\begin{tabular}{r|ll}\n",
       "  & 0 & 1\\\\\n",
       "  & <dbl> & <dbl>\\\\\n",
       "\\hline\n",
       "\t1 & 0.7913193 & 0.2086807\\\\\n",
       "\t2 & 0.2086807 & 0.7913193\\\\\n",
       "\\end{tabular}\n"
      ],
      "text/markdown": [
       "\n",
       "A data.frame: 2 × 2\n",
       "\n",
       "| <!--/--> | 0 &lt;dbl&gt; | 1 &lt;dbl&gt; |\n",
       "|---|---|---|\n",
       "| 1 | 0.7913193 | 0.2086807 |\n",
       "| 2 | 0.2086807 | 0.7913193 |\n",
       "\n"
      ],
      "text/plain": [
       "  0         1        \n",
       "1 0.7913193 0.2086807\n",
       "2 0.2086807 0.7913193"
      ]
     },
     "metadata": {},
     "output_type": "display_data"
    }
   ],
   "source": [
    "predict(fit, newdata = train, type='prob')"
   ]
  },
  {
   "cell_type": "markdown",
   "metadata": {
    "id": "njANtiR3XwtB",
    "slideshow": {
     "slide_type": "subslide"
    }
   },
   "source": [
    "- <font color=SlateGray> Dados de Teste </font>"
   ]
  },
  {
   "cell_type": "code",
   "execution_count": 54,
   "metadata": {
    "id": "dTroiMKBXxV9",
    "slideshow": {
     "slide_type": "subslide"
    }
   },
   "outputs": [
    {
     "data": {
      "text/html": [
       "<table>\n",
       "<caption>A matrix: 1 × 2 of type dbl</caption>\n",
       "<thead>\n",
       "\t<tr><th></th><th scope=col>bom</th><th scope=col>ruim</th></tr>\n",
       "</thead>\n",
       "<tbody>\n",
       "\t<tr><th scope=row>1</th><td>1</td><td>2</td></tr>\n",
       "</tbody>\n",
       "</table>\n"
      ],
      "text/latex": [
       "A matrix: 1 × 2 of type dbl\n",
       "\\begin{tabular}{r|ll}\n",
       "  & bom & ruim\\\\\n",
       "\\hline\n",
       "\t1 & 1 & 2\\\\\n",
       "\\end{tabular}\n"
      ],
      "text/markdown": [
       "\n",
       "A matrix: 1 × 2 of type dbl\n",
       "\n",
       "| <!--/--> | bom | ruim |\n",
       "|---|---|---|\n",
       "| 1 | 1 | 2 |\n",
       "\n"
      ],
      "text/plain": [
       "    Terms\n",
       "Docs bom ruim\n",
       "   1 1   2   "
      ]
     },
     "metadata": {},
     "output_type": "display_data"
    }
   ],
   "source": [
    "data2 <- c('Bom? Ruim! Muito Ruim!!')\n",
    "corpus <- VCorpus(VectorSource(data2))\n",
    "tdm <- DocumentTermMatrix(corpus, control = list(dictionary = Terms(tdm), removePunctuation = TRUE, stopwords = stopwords('portuguese'), removeNumbers = TRUE))\n",
    "test <- as.matrix(tdm)\n",
    "test"
   ]
  },
  {
   "cell_type": "markdown",
   "metadata": {
    "id": "xT9UZP4yX3u0",
    "slideshow": {
     "slide_type": "subslide"
    }
   },
   "source": [
    "- <font color=SlateGray>Verifica acurácia no teste</font>"
   ]
  },
  {
   "cell_type": "code",
   "execution_count": 55,
   "metadata": {
    "id": "LRYeit18X5d6",
    "slideshow": {
     "slide_type": "fragment"
    }
   },
   "outputs": [
    {
     "data": {
      "text/html": [
       "1\n",
       "<details>\n",
       "\t<summary style=display:list-item;cursor:pointer>\n",
       "\t\t<strong>Levels</strong>:\n",
       "\t</summary>\n",
       "\t<style>\n",
       "\t.list-inline {list-style: none; margin:0; padding: 0}\n",
       "\t.list-inline>li {display: inline-block}\n",
       "\t.list-inline>li:not(:last-child)::after {content: \"\\00b7\"; padding: 0 .5ex}\n",
       "\t</style>\n",
       "\t<ol class=list-inline><li>'0'</li><li>'1'</li></ol>\n",
       "</details>"
      ],
      "text/latex": [
       "1\n",
       "\\emph{Levels}: \\begin{enumerate*}\n",
       "\\item '0'\n",
       "\\item '1'\n",
       "\\end{enumerate*}\n"
      ],
      "text/markdown": [
       "1\n",
       "**Levels**: 1. '0'\n",
       "2. '1'\n",
       "\n",
       "\n"
      ],
      "text/plain": [
       "[1] 1\n",
       "Levels: 0 1"
      ]
     },
     "metadata": {},
     "output_type": "display_data"
    },
    {
     "data": {
      "text/html": [
       "<table>\n",
       "<caption>A data.frame: 1 × 2</caption>\n",
       "<thead>\n",
       "\t<tr><th></th><th scope=col>0</th><th scope=col>1</th></tr>\n",
       "\t<tr><th></th><th scope=col>&lt;dbl&gt;</th><th scope=col>&lt;dbl&gt;</th></tr>\n",
       "</thead>\n",
       "<tbody>\n",
       "\t<tr><th scope=row>1</th><td>0.2086807</td><td>0.7913193</td></tr>\n",
       "</tbody>\n",
       "</table>\n"
      ],
      "text/latex": [
       "A data.frame: 1 × 2\n",
       "\\begin{tabular}{r|ll}\n",
       "  & 0 & 1\\\\\n",
       "  & <dbl> & <dbl>\\\\\n",
       "\\hline\n",
       "\t1 & 0.2086807 & 0.7913193\\\\\n",
       "\\end{tabular}\n"
      ],
      "text/markdown": [
       "\n",
       "A data.frame: 1 × 2\n",
       "\n",
       "| <!--/--> | 0 &lt;dbl&gt; | 1 &lt;dbl&gt; |\n",
       "|---|---|---|\n",
       "| 1 | 0.2086807 | 0.7913193 |\n",
       "\n"
      ],
      "text/plain": [
       "  0         1        \n",
       "1 0.2086807 0.7913193"
      ]
     },
     "metadata": {},
     "output_type": "display_data"
    }
   ],
   "source": [
    "predict(fit, newdata = test)\n",
    "predict(fit, newdata = test, type='prob')"
   ]
  },
  {
   "cell_type": "markdown",
   "metadata": {
    "id": "4x4jsYOWQZ9I",
    "slideshow": {
     "slide_type": "slide"
    }
   },
   "source": [
    "## Exemplo de clustering \n"
   ]
  },
  {
   "cell_type": "code",
   "execution_count": 57,
   "metadata": {
    "ExecuteTime": {
     "end_time": "2020-11-24T18:16:16.203544Z",
     "start_time": "2020-11-24T18:16:16.162Z"
    },
    "id": "KeKl5B2Ttd41",
    "slideshow": {
     "slide_type": "subslide"
    }
   },
   "outputs": [
    {
     "data": {
      "text/plain": [
       "                       Length Class             Mode\n",
       "A Era do Gelo          2      PlainTextDocument list\n",
       "A Era do Gelo 2        2      PlainTextDocument list\n",
       "A Era do Gelo 3        2      PlainTextDocument list\n",
       "Meu Malvado Favorito   2      PlainTextDocument list\n",
       "Meu Malvado Favorito 2 2      PlainTextDocument list\n",
       "Minions                2      PlainTextDocument list\n",
       "Mulan                  2      PlainTextDocument list\n",
       "Pocahontas             2      PlainTextDocument list\n",
       "Procurando Dory        2      PlainTextDocument list\n",
       "Procurando Nemo        2      PlainTextDocument list\n",
       "Rei Leão               2      PlainTextDocument list\n",
       "Rei Leão 2             2      PlainTextDocument list\n",
       "Shrek                  2      PlainTextDocument list\n",
       "Shrek 2                2      PlainTextDocument list"
      ]
     },
     "metadata": {},
     "output_type": "display_data"
    }
   ],
   "source": [
    "# Leitura dos dados (de arquivos locais)\n",
    "# (os originais estão em https://github.com/brendasalenave/text-mining-R/tree/master/datasets, caso queira baixar em sua máquina)\n",
    "path = \"./datasets\"                                                   # pasta onde os arquivos TXT se encontram\n",
    "dir = DirSource(paste(path,\"/filmes/\",sep=\"\"), encoding = \"UTF-8\")    # tem outra pasta dentro? precisa?\n",
    "corpus = Corpus(dir)\n",
    "summary(corpus)"
   ]
  },
  {
   "cell_type": "code",
   "execution_count": 58,
   "metadata": {
    "ExecuteTime": {
     "end_time": "2020-11-24T18:17:09.086793Z",
     "start_time": "2020-11-24T18:17:09.011Z"
    },
    "id": "uY1g-xfxgeYf",
    "slideshow": {
     "slide_type": "subslide"
    }
   },
   "outputs": [],
   "source": [
    "# cria matriz de termos por documento\n",
    "\n",
    "ndocs <- length(corpus)\n",
    "\n",
    "minTermFreq <- ndocs * 0.01 # ignora palavras extremamente raras, i.e., termos que aparecem em menos de 1% dos documentos\n",
    "maxTermFreq <- ndocs * .5 # ignora palavras muito comuns, i.e., termos que aparecem em mais de 50% dos documentos\n",
    "dtm = DocumentTermMatrix(corpus,\n",
    "                         control = list(\n",
    "                                        stopwords = TRUE, \n",
    "                                        wordLengths=c(4, 15),\n",
    "                                        removePunctuation = T,\n",
    "                                        removeNumbers = T,\n",
    "                                        #stemming = T,\n",
    "                                        bounds = list(global = c(minTermFreq, maxTermFreq))\n",
    "                                       ))\n",
    "write.csv((as.matrix(dtm)), \"test.csv\") # exemplo de escrita de arquivo csv\n",
    "dtm.matrix = as.matrix(dtm)"
   ]
  },
  {
   "cell_type": "markdown",
   "metadata": {
    "id": "5b-O2nm8RZeh",
    "slideshow": {
     "slide_type": "subslide"
    }
   },
   "source": [
    "- <font color=SlateGray>Term Frequency–Inverse Document Frequency (TF-IDF)</font>:\n",
    "  - No DTM percebe-se que os termos que ocorrem com frequência têm um alto valor associado. No entanto, a alta frequência de um determinado termo em um documento significa pouco se esses termos aparecerem com frequência em outros documentos no corpus. Em outras palavras, os termos que ocorrem com freqüência em um documento, mas não com frequência dentro do corpus, recebem uma ponderação mais alta, uma vez que se supõe que essas palavras contenham mais significado em relação ao documento.\n",
    "\n",
    "  - Para conseguir isso, diminui-se os termos que ocorrem com frequência nos documentos. Isso é feito calculando as estatísticas do tf-idf."
   ]
  },
  {
   "cell_type": "code",
   "execution_count": 59,
   "metadata": {
    "ExecuteTime": {
     "end_time": "2020-11-24T18:17:27.655669Z",
     "start_time": "2020-11-24T18:17:27.624Z"
    },
    "id": "G1qc73AGRUmr",
    "slideshow": {
     "slide_type": "subslide"
    }
   },
   "outputs": [
    {
     "name": "stdout",
     "output_type": "stream",
     "text": [
      "<<DocumentTermMatrix (documents: 14, terms: 2249)>>\n",
      "Non-/sparse entries: 3319/28167\n",
      "Sparsity           : 89%\n",
      "Maximal term length: 15\n",
      "Weighting          : term frequency (tf)\n",
      "Sample             :\n",
      "                        Terms\n",
      "Docs                     diego dory fiona manny marlin nemo reino scar shrek\n",
      "  A Era do Gelo             14    0     0    15      0    0     0    0     0\n",
      "  A Era do Gelo 2            9    0     0    11      0    0     0    0     0\n",
      "  A Era do Gelo 3            8    0     0    13      0    0     0    0     0\n",
      "  Meu Malvado Favorito 2     0    0     0     0      0    0     0    0     0\n",
      "  Mulan                      0    0     0     0      0    0     0    0     0\n",
      "  Procurando Dory            0   29     0     0     11   13     0    0     0\n",
      "  Rei Leão                   0    0     0     0      0    0    12   19     0\n",
      "  Rei Leão 2                 0    0     0     0      0    0     5    6     0\n",
      "  Shrek                      0    0    17     0      0    0     1    0    21\n",
      "  Shrek 2                    0    0    13     0      0    0     4    0    14\n",
      "                        Terms\n",
      "Docs                     simba\n",
      "  A Era do Gelo              0\n",
      "  A Era do Gelo 2            0\n",
      "  A Era do Gelo 3            0\n",
      "  Meu Malvado Favorito 2     0\n",
      "  Mulan                      0\n",
      "  Procurando Dory            0\n",
      "  Rei Leão                  34\n",
      "  Rei Leão 2                24\n",
      "  Shrek                      0\n",
      "  Shrek 2                    0\n"
     ]
    }
   ],
   "source": [
    "inspect(dtm)"
   ]
  },
  {
   "cell_type": "markdown",
   "metadata": {
    "id": "-VwWZu5RRehO",
    "slideshow": {
     "slide_type": "subslide"
    }
   },
   "source": [
    "- <font color=SlateGray> Lista dos termos mais importantes para o Rei Leão, conforme determinado usando a ponderação tf-idf </font>"
   ]
  },
  {
   "cell_type": "code",
   "execution_count": 60,
   "metadata": {
    "ExecuteTime": {
     "end_time": "2020-11-24T18:17:32.390077Z",
     "start_time": "2020-11-24T18:17:30.256Z"
    },
    "id": "mBemwn40RhPF",
    "slideshow": {
     "slide_type": "fragment"
    }
   },
   "outputs": [
    {
     "data": {
      "image/png": "[encoded data removed]",
      "text/plain": [
       "plot without title"
      ]
     },
     "metadata": {
      "image/png": {
       "height": 420,
       "width": 420
      }
     },
     "output_type": "display_data"
    }
   ],
   "source": [
    "wordcloud(colnames(dtm.matrix), dtm.matrix[11, ], max.words = 20)"
   ]
  },
  {
   "cell_type": "markdown",
   "metadata": {
    "id": "yg5kdPhdRorr",
    "slideshow": {
     "slide_type": "subslide"
    }
   },
   "source": [
    "### <font color=SlateGrey> Clustering Hierárquico</font>\n",
    "\n",
    "- Atribuir cada documento ao seu próprio cluster (membro único) encontrando o par de clusters mais próximos entre si (dist) e mesclando-os.\n",
    "- Cluster menor que antes.\n",
    "\n",
    "Calcula a distância euclidiana/cosseno entre os documentos. Essa distância é o que o algoritmo de Clustering usa para agrupar documentos."
   ]
  },
  {
   "cell_type": "code",
   "execution_count": 61,
   "metadata": {
    "id": "qlUv-o5uRyXG",
    "slideshow": {
     "slide_type": "fragment"
    }
   },
   "outputs": [],
   "source": [
    "m  <- as.matrix(dtm)\n",
    "distMatrix <- dist(m, method=\"cosine\")"
   ]
  },
  {
   "cell_type": "markdown",
   "metadata": {
    "id": "15XncGkITOy0",
    "slideshow": {
     "slide_type": "subslide"
    }
   },
   "source": [
    "- <font color=SlateGray>Método</font>:\n",
    "  - Calcular as distâncias entre o novo cluster e cada um dos clusters antigos;\n",
    "  - Repitir as etapas 2 e 3 até que você tenha um único cluster contendo todos os documentos."
   ]
  },
  {
   "cell_type": "code",
   "execution_count": 62,
   "metadata": {
    "id": "LXO3wdPOTQS8",
    "slideshow": {
     "slide_type": "fragment"
    }
   },
   "outputs": [
    {
     "data": {
      "image/png": "[encoded data removed]",
      "text/plain": [
       "Plot with title “Dendrograma”"
      ]
     },
     "metadata": {
      "image/png": {
       "height": 420,
       "width": 420
      }
     },
     "output_type": "display_data"
    }
   ],
   "source": [
    "groups <- hclust(distMatrix,method=\"ward.D\")\n",
    "plot(groups, cex=0.9, hang=-1, main='Dendrograma', ylab='Altura')\n",
    "rect.hclust(groups, k=6)"
   ]
  },
  {
   "cell_type": "markdown",
   "metadata": {
    "id": "IwY_-M8phrAf",
    "slideshow": {
     "slide_type": "slide"
    }
   },
   "source": [
    "# Exercícios\n",
    "1. **Modifique o código da célula \"Juntando tudo...\" de maneira a carregar outros documentos**. Na página http://gutenberg.org/ebooks/ você pode consultar outros livros, por autor, título, etc. Monte uma núvem de palavras adequada. Se necessário, adicione palavras à lista de stopwords.\n",
    "2. **Modifique o código da célula \"Exemplo de classificação** (usando heurísticas)\" **de maneira a detectar a polaridade de outros textos em português**. Monte uma núvem de palavras negativas vs positivas (em um único gráfico, colocando vermelho para negativas, azul para neutras e verde para positivas) ou em gráficos separados. **Desafio**: conte quantas são positivas e quantas são negativas, por documento.\n",
    "3. **Leia um dos artigos disponibilizados no item \"Material recomendado\"** da Segunda Quinzena, no Moodle. Em seguida, **elabore uma resenha do artigo lido**. A resenha deve conter, pelo menos, os seguintes itens: artigo lido, objetivo, o que foi efetivamente feito e como (se possível, identificar e descrever a técnica de mineração de textos utilizada e a ferramenta, se houver), principais resultados, limitações e benefícios. Finalizar com uma análise de como tal abordagem, ferramenta ou técnica poderia ser utilizada no seu dia a dia."
   ]
  },
  {
   "cell_type": "code",
   "execution_count": null,
   "metadata": {
    "id": "Y4s57H8WuAVc"
   },
   "outputs": [],
   "source": []
  }
 ],
 "metadata": {
  "celltoolbar": "Slideshow",
  "colab": {
   "collapsed_sections": [
    "5pi03nuKXraT"
   ],
   "name": "TM_Aula03.ipynb",
   "provenance": []
  },
  "hide_input": false,
  "kernelspec": {
   "display_name": "R 4.0.3",
   "language": "R",
   "name": "ir"
  },
  "language_info": {
   "codemirror_mode": "r",
   "file_extension": ".r",
   "mimetype": "text/x-r-source",
   "name": "R",
   "pygments_lexer": "r",
   "version": "4.0.3"
  },
  "toc": {
   "base_numbering": 1,
   "nav_menu": {},
   "number_sections": true,
   "sideBar": true,
   "skip_h1_title": false,
   "title_cell": "Table of Contents",
   "title_sidebar": "Contents",
   "toc_cell": false,
   "toc_position": {},
   "toc_section_display": true,
   "toc_window_display": false
  },
  "varInspector": {
   "cols": {
    "lenName": 16,
    "lenType": 16,
    "lenVar": 40
   },
   "kernels_config": {
    "python": {
     "delete_cmd_postfix": "",
     "delete_cmd_prefix": "del ",
     "library": "var_list.py",
     "varRefreshCmd": "print(var_dic_list())"
    },
    "r": {
     "delete_cmd_postfix": ") ",
     "delete_cmd_prefix": "rm(",
     "library": "var_list.r",
     "varRefreshCmd": "cat(var_dic_list()) "
    }
   },
   "types_to_exclude": [
    "module",
    "function",
    "builtin_function_or_method",
    "instance",
    "_Feature"
   ],
   "window_display": false
  }
 },
 "nbformat": 4,
 "nbformat_minor": 1
}
