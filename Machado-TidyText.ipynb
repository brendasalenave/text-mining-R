{
 "cells": [
  {
   "cell_type": "markdown",
   "metadata": {},
   "source": [
    "#### Verifica e instala pacotes"
   ]
  },
  {
   "cell_type": "code",
   "execution_count": null,
   "metadata": {
    "scrolled": true
   },
   "outputs": [],
   "source": [
    "if(!require('dplyr')) install.packages('dplyr')\n",
    "#if(!require('tm.plugin.webmining')) install.packages('tm.plugin.webmining')\n",
    "if(!require('purr')) install.packages('purr')\n",
    "if(!require('tidytext')) install.packages('tidytext')\n",
    "if(!require('gutenbergr')) install.packages('gutenbergr')\n",
    "if(!require('ggplot2')) install.packages('ggplot2')\n",
    "if(!require('lexiconPT')) install.packages('lexiconPT')"
   ]
  },
  {
   "cell_type": "code",
   "execution_count": 22,
   "metadata": {
    "scrolled": true
   },
   "outputs": [],
   "source": [
    "library(dplyr)\n",
    "#library(tm.plugin.webmining)\n",
    "library(purrr)\n",
    "library(tidytext)\n",
    "library(gutenbergr)\n",
    "library(ggplot2)\n",
    "library(lexiconPT)\n",
    "\n",
    "library(readr)\n",
    "library(stringr)\n",
    "library(tidyr)\n",
    "library(reshape2)\n",
    "library(syuzhet)"
   ]
  },
  {
   "cell_type": "code",
   "execution_count": null,
   "metadata": {
    "scrolled": true
   },
   "outputs": [],
   "source": [
    "# dickens <- gutenberg_download(c(98, 1400, 46, 730, 786))\n",
    "machado <- gutenberg_download(c(55752, 56737, 54829, 55682))"
   ]
  },
  {
   "cell_type": "markdown",
   "metadata": {},
   "source": [
    "library(gutenbergr)\n",
    "#gutenberg_metadata\n",
    "library(stringr)\n",
    "gutenberg_works(str_detect(language, \"pt\"))"
   ]
  },
  {
   "cell_type": "markdown",
   "metadata": {},
   "source": [
    " #### stop words"
   ]
  },
  {
   "cell_type": "code",
   "execution_count": null,
   "metadata": {},
   "outputs": [],
   "source": [
    "custom_stop_words <- bind_rows(stop_words,\n",
    "                               tibble(word = tm::stopwords(\"portuguese\"),\n",
    "                                          lexicon = \"custom\"))\n",
    "custom_stop_words.search('')"
   ]
  },
  {
   "cell_type": "code",
   "execution_count": null,
   "metadata": {
    "scrolled": true
   },
   "outputs": [],
   "source": [
    "tidy_machado <- machado %>%\n",
    "  unnest_tokens(word, text) %>%\n",
    "  anti_join(custom_stop_words)"
   ]
  },
  {
   "cell_type": "code",
   "execution_count": null,
   "metadata": {},
   "outputs": [],
   "source": [
    "tidy_machado %>%\n",
    "  count(word, sort = TRUE)"
   ]
  },
  {
   "cell_type": "code",
   "execution_count": null,
   "metadata": {},
   "outputs": [],
   "source": [
    "data(\"oplexicon_v3.0\")\n",
    "op30 <- oplexicon_v3.0\n",
    "\n",
    "glimpse(op30)\n",
    "typeof(op30)\n",
    "# op30\n",
    "\n",
    "colnames(op30) <- c(\"word\", \"type\", \"sentiment\", \"polarity_revision\")\n",
    "\n",
    "op30 <- data.frame(lapply(op30, function(x) {\n",
    "                  gsub(\"-1\", \"negative\", x)\n",
    "              }))\n",
    "\n",
    "op30 <- data.frame(lapply(op30, function(x) {\n",
    "                  gsub(\"1\", \"positive\", x)\n",
    "              }))\n",
    "\n",
    "op30 <- data.frame(lapply(op30, function(x) {\n",
    "                  gsub(\"0\", \"neutral\", x)\n",
    "              }))\n",
    "\n",
    "glimpse(op30)"
   ]
  },
  {
   "cell_type": "code",
   "execution_count": null,
   "metadata": {},
   "outputs": [],
   "source": [
    "bing_word_counts <- tidy_machado %>%\n",
    "  inner_join(op30) %>%\n",
    "  count(word, sentiment, sort = TRUE) %>%\n",
    "  ungroup()\n",
    "bing_word_counts"
   ]
  },
  {
   "cell_type": "code",
   "execution_count": null,
   "metadata": {},
   "outputs": [],
   "source": [
    "tidy_dickens %>%\n",
    "  count(word, sort = TRUE) %>%\n",
    "  filter(n > 600) %>%\n",
    "  mutate(word = reorder(word, n)) %>%\n",
    "  ggplot(aes(word, n)) +\n",
    "  geom_col() +\n",
    "  xlab(NULL) +\n",
    "  coord_flip() + ggtitle(\"The Most Common Words in Charles Dickens' Novels\")"
   ]
  },
  {
   "cell_type": "code",
   "execution_count": null,
   "metadata": {},
   "outputs": [],
   "source": [
    "bing_word_counts <- tidy_machado %>%\n",
    "  inner_join(get_sentiments(\"bing\")) %>%\n",
    "  count(word, sentiment, sort = TRUE) %>%\n",
    "  ungroup()\n",
    "bing_word_counts"
   ]
  },
  {
   "cell_type": "code",
   "execution_count": null,
   "metadata": {},
   "outputs": [],
   "source": [
    "bing_word_counts %>%\n",
    "  group_by(sentiment) %>%\n",
    "  top_n(10) %>%\n",
    "  ungroup() %>%\n",
    "  mutate(word = reorder(word, n)) %>%\n",
    "  ggplot(aes(word, n, fill = sentiment)) +\n",
    "  geom_col(show.legend = FALSE) +\n",
    "  facet_wrap(~sentiment, scales = \"free_y\") +\n",
    "  labs(y = \"Words Contribute to sentiment\",\n",
    "       x = NULL) +\n",
    "  coord_flip()"
   ]
  },
  {
   "cell_type": "code",
   "execution_count": null,
   "metadata": {},
   "outputs": [],
   "source": [
    "if(!require('wordcloud')) install.packages('wordcloud')\n",
    "library(wordcloud)\n",
    "tidy_machado %>%\n",
    "  anti_join(stop_words) %>%\n",
    "  count(word) %>%\n",
    "  with(wordcloud(word, n, max.words = 100))"
   ]
  },
  {
   "cell_type": "code",
   "execution_count": null,
   "metadata": {
    "scrolled": true
   },
   "outputs": [],
   "source": [
    "# library(reshape2)\n",
    "tidy_machado %>%\n",
    "  inner_join(get_sentiments(\"bing\")) %>%\n",
    "  count(word, sentiment, sort = TRUE) %>%\n",
    "  acast(word ~ sentiment, value.var = \"n\", fill = 0) %>%\n",
    "  comparison.cloud(colors = c(\"#F8766D\", \"#00BFC4\"),\n",
    "                   max.words = 100)"
   ]
  },
  {
   "cell_type": "code",
   "execution_count": null,
   "metadata": {},
   "outputs": [],
   "source": [
    "machado_bigrams <- machado %>%\n",
    "  unnest_tokens(bigram, text, token = \"ngrams\", n = 2)\n",
    "machado_bigrams"
   ]
  },
  {
   "cell_type": "code",
   "execution_count": null,
   "metadata": {},
   "outputs": [],
   "source": [
    "# library(tidyr)\n",
    "bigrams_separated <- machado_bigrams %>%\n",
    "  separate(bigram, c(\"word1\", \"word2\"), sep = \" \")\n",
    "bigrams_filtered <- bigrams_separated %>%\n",
    "  filter(!word1 %in% stop_words$word) %>%\n",
    "  filter(!word2 %in% stop_words$word)\n",
    "bigram_counts <- bigrams_filtered %>% \n",
    "  count(word1, word2, sort = TRUE)\n",
    "bigram_counts"
   ]
  },
  {
   "cell_type": "code",
   "execution_count": null,
   "metadata": {},
   "outputs": [],
   "source": [
    "bigrams_united <- bigrams_filtered %>%\n",
    "  unite(bigram, word1, word2, sep = \" \")\n",
    "bigrams_united"
   ]
  },
  {
   "cell_type": "code",
   "execution_count": null,
   "metadata": {},
   "outputs": [],
   "source": [
    "bigram_tf_idf <- bigrams_united %>%\n",
    "  count(bigram)\n",
    "bigram_tf_idf <- bigram_tf_idf %>% filter(n>30)\n",
    "ggplot(aes(x = reorder(bigram, n), y=n), data=bigram_tf_idf) + geom_bar(stat = 'identity') + ggtitle(\"The Most Common Bigrams in Dickens' novels\") + coord_flip()"
   ]
  },
  {
   "cell_type": "code",
   "execution_count": null,
   "metadata": {},
   "outputs": [],
   "source": [
    "library(igraph)\n",
    "bigram_graph <- bigram_counts %>%\n",
    "  filter(n > 20) %>%\n",
    "  graph_from_data_frame()\n",
    "bigram_graph"
   ]
  },
  {
   "cell_type": "code",
   "execution_count": null,
   "metadata": {},
   "outputs": [],
   "source": [
    "library(ggraph)\n",
    "set.seed(2017)\n",
    "ggraph(bigram_graph, layout = \"fr\") +\n",
    "  geom_edge_link() +\n",
    "  geom_node_point(color = \"darkslategray4\", size = 3) +\n",
    "  geom_node_text(aes(label = name), vjust = 1.8) + ggtitle(\"Common Bigrams in Dickens' five Novels\")"
   ]
  },
  {
   "cell_type": "markdown",
   "metadata": {},
   "source": [
    "## Sentiment in “A Marca de uma Lagrima”"
   ]
  },
  {
   "cell_type": "code",
   "execution_count": 23,
   "metadata": {},
   "outputs": [
    {
     "data": {
      "text/html": [
       "<ol class=list-inline>\n",
       "\t<li>'Levemente, seus dedos tocaram a face fria do inimigo, bem na rachadura. Lentamente, seus dedos percorreram a rachadura, tateando como um cego que procura reconhecer alguém. — Todos riem... Mas eu não queria tantos risos. Eu queria um sorriso apenas. Um só. Queria estar quieta e ver alguém aproximar-se, olhando nos meus olhos... sorrindo... Eu sorriria de volta, e nada mais precisaria ser dito... Isabel deixou as lágrimas correrem fartas pelo rosto. Foi aí que o inimigo resolveu feri-la mais fundo e cortou-lhe o dedo com a borda da rachadura. Num gesto maquinai, a menina levou o dedo à boca, chupando o ferimento. Na rachadura, no peito do inimigo, ficou uma gota de sangue. '</li>\n",
       "\t<li><span style=white-space:pre-wrap>'\\fO dedo não doía quase nada. Era ali que doía.  2 - Lindo como um deus Que cheiro bom, Rosana! Que perfume você está usando? — Deixe de besteira, Isabel. É o mesmo que o seu. Rosana estava linda, como sempre. Linda como de propósito para humilhar Isabel. Era mesmo uma beleza a casa da tia Adelaide. O que não parecia uma beleza era a própria tia Adelaide. Recebia os convidados como se ela própria estivesse fazendo dezesseis anos. E o pior é que estava\\' vestida como se fizesse dezesseis anos.'</span></li>\n",
       "</ol>\n"
      ],
      "text/latex": [
       "\\begin{enumerate*}\n",
       "\\item 'Levemente, seus dedos tocaram a face fria do inimigo, bem na rachadura. Lentamente, seus dedos percorreram a rachadura, tateando como um cego que procura reconhecer alguém. — Todos riem... Mas eu não queria tantos risos. Eu queria um sorriso apenas. Um só. Queria estar quieta e ver alguém aproximar-se, olhando nos meus olhos... sorrindo... Eu sorriria de volta, e nada mais precisaria ser dito... Isabel deixou as lágrimas correrem fartas pelo rosto. Foi aí que o inimigo resolveu feri-la mais fundo e cortou-lhe o dedo com a borda da rachadura. Num gesto maquinai, a menina levou o dedo à boca, chupando o ferimento. Na rachadura, no peito do inimigo, ficou uma gota de sangue. '\n",
       "\\item '\\textbackslash{}fO dedo não doía quase nada. Era ali que doía.  2 - Lindo como um deus Que cheiro bom, Rosana! Que perfume você está usando? — Deixe de besteira, Isabel. É o mesmo que o seu. Rosana estava linda, como sempre. Linda como de propósito para humilhar Isabel. Era mesmo uma beleza a casa da tia Adelaide. O que não parecia uma beleza era a própria tia Adelaide. Recebia os convidados como se ela própria estivesse fazendo dezesseis anos. E o pior é que estava\\textbackslash{}' vestida como se fizesse dezesseis anos.'\n",
       "\\end{enumerate*}\n"
      ],
      "text/markdown": [
       "1. 'Levemente, seus dedos tocaram a face fria do inimigo, bem na rachadura. Lentamente, seus dedos percorreram a rachadura, tateando como um cego que procura reconhecer alguém. — Todos riem... Mas eu não queria tantos risos. Eu queria um sorriso apenas. Um só. Queria estar quieta e ver alguém aproximar-se, olhando nos meus olhos... sorrindo... Eu sorriria de volta, e nada mais precisaria ser dito... Isabel deixou as lágrimas correrem fartas pelo rosto. Foi aí que o inimigo resolveu feri-la mais fundo e cortou-lhe o dedo com a borda da rachadura. Num gesto maquinai, a menina levou o dedo à boca, chupando o ferimento. Na rachadura, no peito do inimigo, ficou uma gota de sangue. '\n",
       "2. <span style=white-space:pre-wrap>'\\fO dedo não doía quase nada. Era ali que doía.  2 - Lindo como um deus Que cheiro bom, Rosana! Que perfume você está usando? — Deixe de besteira, Isabel. É o mesmo que o seu. Rosana estava linda, como sempre. Linda como de propósito para humilhar Isabel. Era mesmo uma beleza a casa da tia Adelaide. O que não parecia uma beleza era a própria tia Adelaide. Recebia os convidados como se ela própria estivesse fazendo dezesseis anos. E o pior é que estava\\' vestida como se fizesse dezesseis anos.'</span>\n",
       "\n",
       "\n"
      ],
      "text/plain": [
       "[1] \"Levemente, seus dedos tocaram a face fria do inimigo, bem na rachadura. Lentamente, seus dedos percorreram a rachadura, tateando como um cego que procura reconhecer alguém. — Todos riem... Mas eu não queria tantos risos. Eu queria um sorriso apenas. Um só. Queria estar quieta e ver alguém aproximar-se, olhando nos meus olhos... sorrindo... Eu sorriria de volta, e nada mais precisaria ser dito... Isabel deixou as lágrimas correrem fartas pelo rosto. Foi aí que o inimigo resolveu feri-la mais fundo e cortou-lhe o dedo com a borda da rachadura. Num gesto maquinai, a menina levou o dedo à boca, chupando o ferimento. Na rachadura, no peito do inimigo, ficou uma gota de sangue. \"\n",
       "[2] \"\\fO dedo não doía quase nada. Era ali que doía.  2 - Lindo como um deus Que cheiro bom, Rosana! Que perfume você está usando? — Deixe de besteira, Isabel. É o mesmo que o seu. Rosana estava linda, como sempre. Linda como de propósito para humilhar Isabel. Era mesmo uma beleza a casa da tia Adelaide. O que não parecia uma beleza era a própria tia Adelaide. Recebia os convidados como se ela própria estivesse fazendo dezesseis anos. E o pior é que estava' vestida como se fizesse dezesseis anos.\"                                                                                                                                                                                         "
      ]
     },
     "metadata": {},
     "output_type": "display_data"
    }
   ],
   "source": [
    "raw_tale <- read_lines('a-marca-de-uma-lagrima.txt', skip = 78, n_max = 2873)\n",
    "tale <- character()\n",
    "for (i in seq_along(raw_tale)) {\n",
    "        if (i%%10 == 1) tale[ceiling(i/10)] <- str_c(raw_tale[i], \n",
    "                                                     raw_tale[i+1],\n",
    "                                                     raw_tale[i+2],\n",
    "                                                     raw_tale[i+3],\n",
    "                                                     raw_tale[i+4],\n",
    "                                                     raw_tale[i+5],\n",
    "                                                     raw_tale[i+6],\n",
    "                                                     raw_tale[i+7],\n",
    "                                                     raw_tale[i+8],\n",
    "                                                     raw_tale[i+9], sep = \" \")\n",
    "}\n",
    "tale[9:10]"
   ]
  },
  {
   "cell_type": "code",
   "execution_count": 25,
   "metadata": {
    "scrolled": true
   },
   "outputs": [],
   "source": [
    "# library(syuzhet)\n",
    "tale_nrc <- cbind(linenumber = seq_along(tale), get_nrc_sentiment(tale, language = \"portuguese\"))"
   ]
  },
  {
   "cell_type": "code",
   "execution_count": 26,
   "metadata": {},
   "outputs": [],
   "source": [
    "tale_nrc$negative <- -tale_nrc$negative\n",
    "pos_neg <- tale_nrc %>% select(linenumber, positive, negative) %>% \n",
    "        melt(id = \"linenumber\")\n",
    "names(pos_neg) <- c(\"linenumber\", \"sentiment\", \"value\")"
   ]
  },
  {
   "cell_type": "code",
   "execution_count": 27,
   "metadata": {},
   "outputs": [
    {
     "data": {},
     "metadata": {},
     "output_type": "display_data"
    },
    {
     "data": {
      "image/png": "[encoded data removed]",
      "text/plain": [
       "plot without title"
      ]
     },
     "metadata": {},
     "output_type": "display_data"
    }
   ],
   "source": [
    "library(ggthemes)\n",
    "ggplot(data = pos_neg, aes(x = linenumber, y = value, fill = sentiment)) +\n",
    "        geom_bar(stat = 'identity', position = position_dodge()) + theme_minimal() +\n",
    "        ylab(\"Sentiment\") + \n",
    "        ggtitle(\"Positive and Negative Sentiment\") +\n",
    "  scale_color_manual(values = c(\"darkcyan\", \"brown3\")) +\n",
    "  scale_fill_manual(values = c(\"darkcyan\", \"brown3\"))"
   ]
  },
  {
   "cell_type": "code",
   "execution_count": 28,
   "metadata": {},
   "outputs": [
    {
     "data": {},
     "metadata": {},
     "output_type": "display_data"
    },
    {
     "data": {
      "image/png": "[encoded data removed]",
      "text/plain": [
       "plot without title"
      ]
     },
     "metadata": {},
     "output_type": "display_data"
    }
   ],
   "source": [
    "emotions <- tale_nrc %>% select(linenumber, anger, anticipation, \n",
    "                                      disgust, fear, joy, sadness, surprise, \n",
    "                                      trust) %>% \n",
    "        melt(id = \"linenumber\")\n",
    "names(emotions) <- c(\"linenumber\", \"sentiment\", \"value\")\n",
    "emotions_group <- group_by(emotions, sentiment)\n",
    "by_emotions <- summarise(emotions_group, \n",
    "                         values=sum(value))\n",
    "ggplot(aes(reorder(x=sentiment, values), y=values, fill=sentiment), data = by_emotions) +\n",
    "  geom_bar(stat = 'identity') + ggtitle('Sentimento - A Marca de uma Lagrima') +\n",
    "  coord_flip() + theme(legend.position=\"none\")"
   ]
  },
  {
   "cell_type": "code",
   "execution_count": null,
   "metadata": {},
   "outputs": [],
   "source": []
  }
 ],
 "metadata": {
  "kernelspec": {
   "display_name": "R",
   "language": "R",
   "name": "ir"
  },
  "language_info": {
   "codemirror_mode": "r",
   "file_extension": ".r",
   "mimetype": "text/x-r-source",
   "name": "R",
   "pygments_lexer": "r",
   "version": "3.5.1"
  }
 },
 "nbformat": 4,
 "nbformat_minor": 2
}
