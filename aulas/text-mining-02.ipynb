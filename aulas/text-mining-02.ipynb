{
 "cells": [
  {
   "cell_type": "code",
   "execution_count": 31,
   "metadata": {
    "ExecuteTime": {
     "end_time": "2020-11-12T22:02:42.212773Z",
     "start_time": "2020-11-12T17:36:59.134Z"
    },
    "id": "6w_tdATT_4Kp",
    "scrolled": true,
    "slideshow": {
     "slide_type": "skip"
    }
   },
   "outputs": [],
   "source": [
    "options(warn=-1)"
   ]
  },
  {
   "cell_type": "markdown",
   "metadata": {
    "id": "DytiZxjD_4Ks",
    "slideshow": {
     "slide_type": "slide"
    }
   },
   "source": [
    "# Business Analytics Aplicado a Text Mining\n",
    "\n",
    "\n",
    "# Aula # 02 - Abordagens de Mineração de Texto\n",
    "\n",
    "\n",
    "#### Prof. Dr. Leandro Krug Wives <font color=LightSteelBlue> - lwives@inf.ufrgs.br </font>\n",
    "#### Brenda Salenave Santana <font color=LightSteelBlue> - bssantana@inf.ufrgs.br </font>"
   ]
  },
  {
   "cell_type": "markdown",
   "metadata": {
    "id": "1DYWo_7o_4LO",
    "slideshow": {
     "slide_type": "slide"
    }
   },
   "source": [
    "# <font color=DarkSlateGrey>Agenda Aula #2 </font>\n",
    "\n",
    "1. Revisão\n",
    "2. Visão Geral: tarefas/atividades ligadas à de Mineração de Textos\n",
    " - Classificação\n",
    " - Agrupamento\n",
    " - Associação\n",
    " - Sumarização"
   ]
  },
  {
   "cell_type": "markdown",
   "metadata": {
    "id": "TUQTFb1w_4LO",
    "slideshow": {
     "slide_type": "slide"
    }
   },
   "source": [
    "## Mineração de Texto\n",
    "\n",
    "### <font color=MidnightBlue> Retomando.. </font>\n",
    "\n",
    "- Técnicas de convencionais de mineração de dados são usualmente empregadas sobre conjuntos de dados no formato atributo-valor (forma estruturada de representar os dados)\n",
    "\n",
    "- Textos precisam ser pré-processados para que sejam convertidos em formas estruturadas de dados\n",
    "    - assim, algoritmos convencionais podem ser utilizados para extrair informações relevantes de textos.\n",
    "    \n",
    "- Atenção as etapas de <font color=LightSeaGreen>coleta e pré-processamento dos dados</font> é **<font color=LightSeaGreen>essencial</font>**  !\n"
   ]
  },
  {
   "cell_type": "markdown",
   "metadata": {
    "id": "TUQTFb1w_4LO",
    "slideshow": {
     "slide_type": "subslide"
    }
   },
   "source": [
    "Mineração de Textos possui uma forte relação com as áreas de recuperação de informação (RI) e processamento de linguagem natural (PLN)."
   ]
  },
  {
   "cell_type": "markdown",
   "metadata": {
    "id": "TUQTFb1w_4LO",
    "slideshow": {
     "slide_type": "fragment"
    }
   },
   "source": [
    "As técnicas de RI podem ser classificadas:\n",
    "- De acordo com a forma de consulta: baseada em documento ou baseada em consulta\n",
    "- De acordo com a forma de análise: estatística ou semântica\n",
    "    - Estatística: abordagens normalmente extraem palavras isoladas ou palavras compostas no texto analisado; Palavras normalmente identificadas pela frequência de co-ocorrência ou pela presença em dicionários, ontologias, etc.\n",
    "        - Ex: Análise de distribuição (de frequências)\n",
    "\n",
    "    - Semântica: utilizam conhecimento sintático e semântico das palavras presentes no texto.\n",
    "\n",
    "<font color=DarkGrey>Fonte - Inteligência Artificial: Uma Abordagem de Aprendizado de Máquina.</font>"
   ]
  },
  {
   "cell_type": "markdown",
   "metadata": {
    "id": "dZH0l9xK_4LU",
    "slideshow": {
     "slide_type": "subslide"
    }
   },
   "source": [
    "### <font color=DarkSlateGrey> Exemplo Uso: Mineração de Redes Sociais</font>\n",
    "\n",
    "- Redes sociais:\n",
    "    - estrutura social composta de atores e de camadas ou conexões dinâmicas e complexas sobre eles\n",
    "    - estrutura social feita de indivíduos ou organizações\n",
    "- Sites/serviços de redes sociais\n",
    "    - permite relacionamentos via web\n",
    "- Análise de Redes Sociais:\n",
    "    - permite identificar padrões locais ou globais\n",
    "    - entidades influentes\n",
    "    - dinâmicas de rede\n",
    "    - engenharia social"
   ]
  },
  {
   "cell_type": "markdown",
   "metadata": {
    "id": "TUQTFb1w_4LO",
    "slideshow": {
     "slide_type": "slide"
    }
   },
   "source": [
    "## Mineração de Texto\n",
    "### <font color=MidnightBlue> Tarefas Associadas </font>\n",
    "\n",
    "- Extração de Informações\n",
    "- Análise de Distribuição\n",
    "- ...\n"
   ]
  },
  {
   "cell_type": "markdown",
   "metadata": {
    "id": "JV1gLljL_4LO",
    "slideshow": {
     "slide_type": "subslide"
    }
   },
   "source": [
    "### <font color=MidnightBlue> Extração de Informações </font>\n",
    "\n",
    "*Objetivo principal*: Estruturar a informação"
   ]
  },
  {
   "cell_type": "markdown",
   "metadata": {
    "id": "_a323GtQ_4LP",
    "slideshow": {
     "slide_type": "fragment"
    }
   },
   "source": [
    "\n",
    "> José da Silva  funcionário da Empresa XYZ, mora na\n",
    "Rua X, número 31, tem 35 anos de idade, e ...\n",
    "\n",
    "\n",
    "\n",
    "**🠋**\n",
    "\n",
    "---\n",
    "- Nome: José da Silva\n",
    "- Empresa: XYZ\n",
    "- Endereço: Rua X, 31\n",
    "- Idade: 35 anos\n",
    "\n",
    "---"
   ]
  },
  {
   "cell_type": "markdown",
   "metadata": {
    "id": "LlMDFmAL_4LP",
    "slideshow": {
     "slide_type": "subslide"
    }
   },
   "source": [
    "### <font color=MidnightBlue> Análise de distribuição (lexicometria) </font>\n",
    "\n",
    "#### Análise da diversidade léxica e número de ocorrências\n",
    "\n",
    "Pode ser usada em documentos, redes sociais, bases de patentes, etc. a fim de identificar temas relevantes e seu dinamismo, realizar análise de sinais fracos, mercadologia..."
   ]
  },
  {
   "cell_type": "markdown",
   "metadata": {
    "heading_collapsed": true,
    "id": "TUQTFb1w_4LO",
    "slideshow": {
     "slide_type": "slide"
    }
   },
   "source": [
    "## Mineração de Texto\n",
    "### <font color=MidnightBlue> Tarefas Gerais </font>\n",
    "\n",
    "- Classificação \n",
    "- Agrupamento\n",
    "- Associação\n",
    "    - Descoberta de associações, correlações, sequências (temporais)\n",
    "- Sumarização\n",
    "\n"
   ]
  },
  {
   "cell_type": "markdown",
   "metadata": {
    "hidden": true,
    "id": "fGD_qMui_4LP",
    "slideshow": {
     "slide_type": "subslide"
    }
   },
   "source": [
    "### <font color=MidnightBlue> Classificação </font>\n",
    "\n",
    "#### Identificação da classe ou categoria (tópico, assunto)\n",
    "- Associar documentos de texto a classes temáticas pré-definidas\n",
    "- Documentos são classificados a partir de características do texto, como termos ou palavras presentes nos documentos"
   ]
  },
  {
   "cell_type": "markdown",
   "metadata": {
    "hidden": true,
    "id": "fGD_qMui_4LP",
    "slideshow": {
     "slide_type": "fragment"
    }
   },
   "source": [
    "Exemplos: redirecionamento de mensagens, detecção de SPAM, polaridade/\n",
    "sentimento em textos...\n",
    "<img src=\"https://miro.medium.com/max/2554/1*Fm58r_RQ53sEHfwFa28LpA.png\" width=\"290\" height=\"290\" />\n",
    "\n",
    "**<font color=OrangeRed>*</font>**_Necessário conhecer a priori as classes ou suas propriedades!_"
   ]
  },
  {
   "cell_type": "markdown",
   "metadata": {
    "hidden": true,
    "id": "XcUrPkAX_4LQ",
    "slideshow": {
     "slide_type": "subslide"
    }
   },
   "source": [
    "### <font color=MidnightBlue> Classificação </font>\n",
    "\n",
    "#### Aplicações\n",
    "Recomendação ou personalização:\n",
    "- Amazon: identificação do perfil, recomendação de produtos relacionados;\n",
    "- Fóruns eletrônicos (EAD): recomendação de resposta (TCC Feevale);\n",
    "- Analisar currículos e indicar competências de candidatos ou funcionários aptos a determinada tarefa;\n",
    "- SisRecCol (UCPEL): recomendação de artigos em chats;\n",
    "- Encaminhamentos em Ouvidorias (TCC Feevale);\n",
    "- Análise de Redes Sociais (TCC Vânia - Banrisul).\n"
   ]
  },
  {
   "cell_type": "markdown",
   "metadata": {
    "hidden": true,
    "id": "fGD_qMui_4LP",
    "slideshow": {
     "slide_type": "subslide"
    }
   },
   "source": [
    "### <font color=MidnightBlue> Classificação </font>\n",
    "\n",
    "#### Abordagens\n",
    "- Algoritmos de Aprendizagem de Máquina supervisionada\n",
    "- Engenharia de Conhecimento\n",
    "    - classificação com regras"
   ]
  },
  {
   "cell_type": "markdown",
   "metadata": {
    "hidden": true,
    "id": "SxhpDkF4_4LR",
    "slideshow": {
     "slide_type": "subslide"
    }
   },
   "source": [
    "### <font color=MidnightBlue> Agrupamento </font>\n",
    "\n",
    "- procura identificar subtipos ou grupos que não foram definidos a priori\n",
    "- organiza dados não etiquetados em grupos similares, chamados de clusters\n",
    "- é um tipo de análise exploratória de dados"
   ]
  },
  {
   "cell_type": "markdown",
   "metadata": {
    "hidden": true,
    "id": "EJX37z-z_4LR",
    "slideshow": {
     "slide_type": "fragment"
    }
   },
   "source": [
    "<img src=\"https://miro.medium.com/max/700/1*YWEqFeKKKzDiNWy5UfrTsg.png\" width=\"300\" height=\"300\" />\n"
   ]
  },
  {
   "cell_type": "markdown",
   "metadata": {
    "hidden": true,
    "id": "1b-3d0LQ_4LS"
   },
   "source": [
    "### <font color=MidnightBlue> Agrupamento </font>\n",
    "\n",
    "#### Aplicações\n",
    "- Visão do todo e das relações \n",
    "- Identificação de padrões, características comuns, o assunto de um conjunto de textos\n",
    "- Detecção de outliers \n",
    "- Agrupar resultados de busca na web (Vivissimo, Clusty...)."
   ]
  },
  {
   "cell_type": "markdown",
   "metadata": {
    "hidden": true,
    "id": "uY8AmekV_4LS",
    "slideshow": {
     "slide_type": "subslide"
    }
   },
   "source": [
    "#### Outliers\n",
    "\n",
    "- Ocorrem durante a coleta de dados, devido a:\n",
    "    - erros humanos\n",
    "    - atos maliciosos\n",
    "    - “ruído” (temporal, espacial)\n",
    "    - premissas incorretas"
   ]
  },
  {
   "cell_type": "markdown",
   "metadata": {
    "hidden": true,
    "id": "6RYD2dY1_4LS",
    "slideshow": {
     "slide_type": "fragment"
    }
   },
   "source": [
    "<img src=\"https://www.stevesjogren.com/wp-content/uploads/2011/06/1_TbUF_HTQ6jOhO8EoPnmekQ.jpg\" width=\"350\" height=\"350\" />\n"
   ]
  },
  {
   "cell_type": "markdown",
   "metadata": {
    "hidden": true,
    "id": "1b-3d0LQ_4LS",
    "slideshow": {
     "slide_type": "subslide"
    }
   },
   "source": [
    "### <font color=MidnightBlue> Agrupamento </font>\n",
    "\n",
    "#### Abordagens\n",
    "- Envolve o uso de técnicas de Aprendizagem de Máquina não-supervisionada \n",
    "    - k-means\n",
    "    - clustering hierárquico"
   ]
  },
  {
   "cell_type": "markdown",
   "metadata": {
    "hidden": true,
    "id": "Vkm3g4ca_4LQ",
    "slideshow": {
     "slide_type": "subslide"
    }
   },
   "source": [
    "### <font color=MidnightBlue> Associações </font>\n",
    "\n",
    "- Objetivo: descobrir padrões que descrevem características dos documentos ou da base de documentos\n",
    "- Regras associativas para identificar a probabilidade condicional entre temas, conceitos ou atributos"
   ]
  },
  {
   "cell_type": "markdown",
   "metadata": {
    "hidden": true,
    "id": "Vkm3g4ca_4LQ",
    "slideshow": {
     "slide_type": "fragment"
    }
   },
   "source": [
    "- Análise da influência:\n",
    "    - Exemplo do WallMart: “Fralda x Cerveja”\n",
    "    - Case da TV por assinatura:\n",
    "    \n",
    "| Associação             \t| Grau de Associação \t|\n",
    "|------------------------\t|--------------------\t|\n",
    "| Imagem → Qualidade     \t| 80%                \t|\n",
    "| Plano X → Custo        \t| 66.67%             \t|\n",
    "| Concorrência → Filmes  \t| 58.3%              \t|\n",
    "| Filmes → Repetição     \t| 39.5%              \t|\n",
    "| Atendimento → Demora   \t| 37.5%              \t|\n",
    "| Concorrência → Custo   \t| 33.3%              \t|\n",
    "| Filmes  → Qualidade    \t| 18.4%              \t|\n",
    "| Filmes → Concorrência  \t| 6.1%               \t|\n",
    "| Filmes → Pay per  view \t| 6.1%               \t|\n",
    "| Filmes → Lançamento    \t| 4.4%               \t|"
   ]
  },
  {
   "cell_type": "markdown",
   "metadata": {
    "hidden": true,
    "id": "Do7fwIdr_4LQ",
    "slideshow": {
     "slide_type": "subslide"
    }
   },
   "source": [
    "### <font color=MidnightBlue> Associações </font>\n",
    "\n",
    "- Regras associativas para identificar a probabilidade condicional entre temas, conceitos ou atributos\n",
    "- Análise da sequência temporal ou padrões recorrentes:\n",
    "    - “Compradores TV_X” → “Compram DVD em 1 Mês” (conf.:80%)\n",
    "    - “Prescrição Medicamento_X” → “Condição clínica deteriorada em 40% dos casos”"
   ]
  },
  {
   "cell_type": "markdown",
   "metadata": {
    "hidden": true,
    "id": "Do7fwIdr_4LQ",
    "slideshow": {
     "slide_type": "subslide"
    }
   },
   "source": [
    "### <font color=MidnightBlue> Sumarização </font>\n",
    "\n",
    "Dois tipos de sumarização:\n",
    "- Sumarização de documento único\n",
    "  - Sintetiza o conteúdo de um documento\n",
    "- Sumarização de múltiplos documentos\n",
    "  - Sintetiza e condensa informações a partir de diversos documentos de entrada"
   ]
  },
  {
   "cell_type": "markdown",
   "metadata": {
    "slideshow": {
     "slide_type": "slide"
    }
   },
   "source": [
    "# Exercícios\n",
    "\n",
    "A partir dos exemplos mostrados na aula 1, com um texto de sua escolha faça:\n",
    "\n",
    "1. Apresente 3 formas de tokenização diferentes para o texto escolhido.\n",
    "    - Referência: https://cran.r-project.org/web/packages/tokenizers/vignettes/introduction-to-tokenizers.html\n",
    "2. Remoção as stopwords.\n",
    "3. Contagem de frequência de palavras.\n",
    "4. Aplicação da técnica de TF-IDF."
   ]
  }
 ],
 "metadata": {
  "celltoolbar": "Slideshow",
  "colab": {
   "name": "text-mining.ipynb",
   "provenance": []
  },
  "hide_input": false,
  "kernelspec": {
   "display_name": "R",
   "language": "R",
   "name": "ir"
  },
  "toc": {
   "base_numbering": 1,
   "nav_menu": {},
   "number_sections": true,
   "sideBar": true,
   "skip_h1_title": false,
   "title_cell": "Table of Contents",
   "title_sidebar": "Contents",
   "toc_cell": false,
   "toc_position": {},
   "toc_section_display": true,
   "toc_window_display": false
  },
  "varInspector": {
   "cols": {
    "lenName": 16,
    "lenType": 16,
    "lenVar": 40
   },
   "kernels_config": {
    "python": {
     "delete_cmd_postfix": "",
     "delete_cmd_prefix": "del ",
     "library": "var_list.py",
     "varRefreshCmd": "print(var_dic_list())"
    },
    "r": {
     "delete_cmd_postfix": ") ",
     "delete_cmd_prefix": "rm(",
     "library": "var_list.r",
     "varRefreshCmd": "cat(var_dic_list()) "
    }
   },
   "types_to_exclude": [
    "module",
    "function",
    "builtin_function_or_method",
    "instance",
    "_Feature"
   ],
   "window_display": false
  }
 },
 "nbformat": 4,
 "nbformat_minor": 1
}
