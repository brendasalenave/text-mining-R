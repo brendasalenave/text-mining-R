{
 "cells": [
  {
   "cell_type": "code",
   "execution_count": 2,
   "metadata": {
    "ExecuteTime": {
     "end_time": "2020-11-10T17:49:16.727796Z",
     "start_time": "2020-11-10T17:49:16.703Z"
    },
    "slideshow": {
     "slide_type": "skip"
    }
   },
   "outputs": [],
   "source": [
    "options(warn=-1)"
   ]
  },
  {
   "cell_type": "markdown",
   "metadata": {
    "slideshow": {
     "slide_type": "slide"
    }
   },
   "source": [
    "# Disciplina de Business Analytics Aplicado a Text Mining\n",
    "\n",
    "\n",
    "# Aula # 01 - Visão geral da Mineração de Textos\n",
    "\n",
    "\n",
    "#### Prof. Dr. Leandro Krug Wives <font color=LightSteelBlue> - lwives@inf.ufrgs.br </font>\n",
    "#### Brenda Salenave Santana <font color=LightSteelBlue> - bssantana@inf.ufrgs.br </font>"
   ]
  },
  {
   "cell_type": "markdown",
   "metadata": {
    "slideshow": {
     "slide_type": "slide"
    }
   },
   "source": [
    "# Apresentação\n",
    "\n",
    "### Leandro Krug Wives\n",
    "\n",
    "#### Professor Associado @ INF / UFRGS\n",
    "- http://www.inf.ufrgs.br/~wives\n",
    "- leandro.wives@.ufrgs.br\n",
    "\n",
    "#### Interesses de pesquisa:\n",
    "- Text Mining, Data Mining e Web Mining\n",
    "- Data Science, Learning Analytics\n",
    "- Sistemas de Recomendação (aplicados nos contextos acima)"
   ]
  },
  {
   "cell_type": "markdown",
   "metadata": {
    "slideshow": {
     "slide_type": "subslide"
    }
   },
   "source": [
    "# Apresentação\n",
    "\n",
    "### Brenda Salenave Santana\n",
    "\n",
    "#### Doutoranda em Computação @ INF / UFRGS\n",
    "- Comunidades de Tecnologia: PyData PoA, Afropython, PyLadies.\n",
    "- INESC TEC, Porto - Portugal.\n",
    "- brenda.s.santana@inf.ufrgs.br\n",
    "\n",
    "#### Interesses de pesquisa:\n",
    "- Detecção de Discurso de Ódio em Redes Sociais\n",
    "- Text Mining, Data Mining e Web Mining\n",
    "- Data Science"
   ]
  },
  {
   "cell_type": "markdown",
   "metadata": {
    "slideshow": {
     "slide_type": "slide"
    }
   },
   "source": [
    "# <font color=DarkSlateGrey>Agenda Aula #1 </font>\n",
    "\n",
    "1. Contexto e necessidade\n",
    "2. Conceitos relacionados\n",
    "3. Tipos de mineração\n",
    "4. Algumas técnicas a aplicações\n",
    "5. Considerações"
   ]
  },
  {
   "cell_type": "markdown",
   "metadata": {
    "slideshow": {
     "slide_type": "slide"
    }
   },
   "source": [
    "## Contexto e Necessidade\n",
    "\n",
    "## Um pouco de história...\n",
    "\n",
    "Desde seus primórdios, o homem tem inventado diferentes <font color=LightSeaGreen>meios para registrar eventos e transmití-los</font> para gerações futuras"
   ]
  },
  {
   "cell_type": "markdown",
   "metadata": {
    "slideshow": {
     "slide_type": "subslide"
    }
   },
   "source": [
    "### Biblioteca de Alexandria:\n",
    "- primeira biblioteca pública de larga escala\n",
    "- catálogo de 700.000 manuscritos, já em 300 AC\n",
    "- queimada 1600 anos atrás!"
   ]
  },
  {
   "cell_type": "markdown",
   "metadata": {
    "slideshow": {
     "slide_type": "fragment"
    }
   },
   "source": [
    "#### <font color=LightSeaGreen>Apesar de lembrar as bibliotecas atuais, não se imaginava o que estava por vir..."
   ]
  },
  {
   "cell_type": "markdown",
   "metadata": {
    "slideshow": {
     "slide_type": "subslide"
    }
   },
   "source": [
    "Não é preciso ir tão longe, pois ainda há quem duvide da capacidade do homem!"
   ]
  },
  {
   "cell_type": "markdown",
   "metadata": {
    "ExecuteTime": {
     "end_time": "2020-11-06T17:29:06.125017Z",
     "start_time": "2020-11-06T17:29:06.104Z"
    },
    "slideshow": {
     "slide_type": "subslide"
    }
   },
   "source": [
    "**“640KB devem ser suficientes para todos”**\n",
    "-- Bill Gates, 1981\n",
    "\n",
    "<font color=LightSeaGreen>(1 MP3 ocupa 6x mais do que isso!)</font>\n",
    "\n",
    "<p align=\"center\">\n",
    "<img src=\"https://media.giphy.com/media/1hMjFZY16VxGWrfDfq/giphy.gif\" width=\"230\" height=\"230\" />\n",
    "</p>\n"
   ]
  },
  {
   "cell_type": "markdown",
   "metadata": {
    "slideshow": {
     "slide_type": "subslide"
    }
   },
   "source": [
    "**“Não há demanda no mundo para mais do que cinco computadores”**\n",
    "-- Thomas Watson, IBM, 1943\n",
    "\n",
    "<font color=LightSeaGreen>(que bom que ele estava errado!)</font>\n",
    "\n"
   ]
  },
  {
   "cell_type": "markdown",
   "metadata": {
    "slideshow": {
     "slide_type": "subslide"
    }
   },
   "source": [
    "## Eis que surge a Web...\n",
    "\n",
    "- por Tim Berns Lee (Físico) em 1989\n",
    "-  <font color=LightSeaGreen>Parte gráfica</font> da Internet\n",
    "- <font color=LightSeaGreen>Hiperdocumentos</font> (recursos) <font color=LightSeaGreen>que podem apontar para outros</font> documentos (escritos por outras pessoas em qualquer lugar do mundo), <font color=LightSeaGreen>formando uma teia</font> de alcance mundial\n",
    "- Deslanchou em 1993, quando um grupo de estudantes da University of Illinois desenvolveu o Mosaic"
   ]
  },
  {
   "cell_type": "markdown",
   "metadata": {
    "slideshow": {
     "slide_type": "subslide"
    }
   },
   "source": [
    "#### Web: uma ideia do seu tamanho...\n",
    "\n",
    "| Fonte  \t| Dados \t|\n",
    "|---------\t|---------------------------------\t|\n",
    "| Google Searches \t| ~ 3.5 bilhões de consultas /dia \t|\n",
    "| E-mails \t| ~ 156 milhões /dia              \t|\n",
    "| Tweets  \t| ~ 500 milhões /dia              \t|\n",
    "| Posts em Blog  \t| ~ 5.5 milhões /dia              \t|\n",
    "\n",
    "<font color=LightGrey> Fonte: https://www.internetlivestats.com </font>\n",
    "\n"
   ]
  },
  {
   "cell_type": "markdown",
   "metadata": {
    "slideshow": {
     "slide_type": "subslide"
    }
   },
   "source": [
    "## O problema  não é só da Web\n",
    "\n",
    "- Computador pessoal suporta ~10 TB de informação em seu HD\n",
    "- Em escalas corporativas, a capacidade de armazenamento e a diversidade de formatos de informação é comparável ao número de funcionários multiplicado por 1000\n",
    "- Nossa capacidade de armazenamento de informações é muito maior do poderíamos consumir durante toda a vida..."
   ]
  },
  {
   "cell_type": "markdown",
   "metadata": {
    "slideshow": {
     "slide_type": "subslide"
    }
   },
   "source": [
    "## Considerações\n",
    "\n",
    "- Os recursos que desenvolvemos produzem e propagam ainda mais a informação\n",
    "- Continuamos perdidos (lost in the cyberspace) e sobrecarregados por uma imensa quantidade de informação\n",
    "- Não somos capazes de administrar a quantidade de informações que é gerada\n",
    "- <font color=FireBrick>Poder de comunicação e manipulação similar ao dos tempos das cavernas!</font>"
   ]
  },
  {
   "cell_type": "markdown",
   "metadata": {
    "slideshow": {
     "slide_type": "slide"
    }
   },
   "source": [
    "## Mas afinal, para que tudo isso?\n",
    "\n",
    "- Evitar a perda de produtividade e de lucratividade\n",
    "- Necessidade de informação: informação é poder!\n",
    "- Poder de que?\n"
   ]
  },
  {
   "cell_type": "markdown",
   "metadata": {
    "slideshow": {
     "slide_type": "fragment"
    }
   },
   "source": [
    "- Para:      \n",
    "    - tomar decisão\n",
    "    - prever acontecimentos\n",
    "    - antecipar o futuro e garantir que determinada escolha ou solução é mais correta do que outras"
   ]
  },
  {
   "cell_type": "markdown",
   "metadata": {
    "slideshow": {
     "slide_type": "subslide"
    }
   },
   "source": [
    "## Proposta\n",
    "- Aproveitar esses dados e informações\n",
    "- Utilizar os computadores e os algoritmos para nos auxiliar a resolver esses problemas"
   ]
  },
  {
   "cell_type": "markdown",
   "metadata": {
    "slideshow": {
     "slide_type": "fragment"
    }
   },
   "source": [
    "### <font color=DarkCyan>Mas como?</font>"
   ]
  },
  {
   "cell_type": "markdown",
   "metadata": {
    "slideshow": {
     "slide_type": "subslide"
    }
   },
   "source": [
    "# <font color=DarkCyan>Aplicando Técnicas de Mineração de Dados!</font>"
   ]
  },
  {
   "cell_type": "markdown",
   "metadata": {
    "slideshow": {
     "slide_type": "subslide"
    }
   },
   "source": [
    "## Mas o que é mineração afinal?"
   ]
  },
  {
   "cell_type": "markdown",
   "metadata": {
    "slideshow": {
     "slide_type": "slide"
    }
   },
   "source": [
    "## Mineração de Dados"
   ]
  },
  {
   "attachments": {
    "image.png": {
     "image/png": "[encoded data removed]"
    }
   },
   "cell_type": "markdown",
   "metadata": {
    "slideshow": {
     "slide_type": "subslide"
    }
   },
   "source": [
    "### Visão de BDs relacionais tradicionais (E-R):\n",
    "\n",
    "![image.png](attachment:image.png)"
   ]
  },
  {
   "cell_type": "markdown",
   "metadata": {
    "slideshow": {
     "slide_type": "fragment"
    }
   },
   "source": [
    "Podemos facilmente consultar dados explícitos:\n",
    "- funcionários/colaboradores, departamentos e suas lotações\n",
    "- pessoas e seus parceiros (casamentos)"
   ]
  },
  {
   "cell_type": "markdown",
   "metadata": {
    "slideshow": {
     "slide_type": "subslide"
    }
   },
   "source": [
    "### Consultas tradicionais em BDs\n",
    "\n",
    "- Havia suspeita de sua utilização correspondesse apenas a uma fração do que poderia ser...\n",
    "- **Hipótese**: há informações e relacionamentos implícitos nos dados!?\n",
    "- Frequentemente existe informação “escondida” nos dados, i.e., não evidente de ser encontrada utilizando linguagens de consultas tradicionais"
   ]
  },
  {
   "cell_type": "markdown",
   "metadata": {
    "slideshow": {
     "slide_type": "subslide"
    }
   },
   "source": [
    "### Exemplos Informação não evidente: \n",
    "\n",
    "- Colaboradores costumam mudar muito de departamentos/setores?\n",
    "- Algum salário foge do padrão?\n",
    "- As pessoas casadas compram quais tipos de produtos?\n",
    "- Solteiros compram os mesmos produtos?\n",
    "- Podemos estimular a venda casada de produtos pelo perfil do cliente?"
   ]
  },
  {
   "cell_type": "markdown",
   "metadata": {
    "slideshow": {
     "slide_type": "fragment"
    }
   },
   "source": [
    "- Analistas <font color=FireBrick>humanos podem levar muito tempo para correlacionar e descobrir alguma informação útil</font> dentro deu uma grande massa de dados\n",
    "- <font color=FireBrick>Boa parte dos dados nunca é analisada</font> (cemitério de dados)"
   ]
  },
  {
   "cell_type": "markdown",
   "metadata": {
    "slideshow": {
     "slide_type": "subslide"
    }
   },
   "source": [
    "## Mas o que é mineração afinal?\n",
    "\n",
    "<font color=DimGray>É o processo de <strong>extração de informação implícita</strong>, previamente desconhecida e potencialmente útil</font>, sendo uma etapa do processo maior, de Descoberta de Conhecimento (Fayyard et al., 1996)!"
   ]
  },
  {
   "cell_type": "markdown",
   "metadata": {
    "slideshow": {
     "slide_type": "subslide"
    }
   },
   "source": [
    "## Descoberta de Conhecimento\n",
    "\n",
    "<font color=DarkSlateGrey>Descobrir conhecimento significa <strong>identificar/receber informação relevante</strong> e poder <strong>computá-la</strong> e <strong>agregá-la</strong> ao seu <strong>conhecimento prévio</strong>, mudando o estado de conhecimento atual, a fim de <strong>resolver algum problema</strong> ou situação</font>"
   ]
  },
  {
   "cell_type": "markdown",
   "metadata": {
    "slideshow": {
     "slide_type": "fragment"
    }
   },
   "source": [
    "Observações:\n",
    "- Processo Complexo e subjetivo\n",
    "- Depende de um problema a ser resolvido (foco, objetivo)\n",
    "- Dependente de um indivíduo (ou grupo):\n",
    "    - de sua percepção sobre o problema\n",
    "    - de sua capacidade de receber e computar informações relevantes\n",
    "    - de sua capacidade de tomar decisões adequadas com base no seu estado de conhecimento"
   ]
  },
  {
   "cell_type": "markdown",
   "metadata": {
    "ExecuteTime": {
     "end_time": "2020-11-06T14:05:19.092694Z",
     "start_time": "2020-11-06T14:05:01.395Z"
    },
    "slideshow": {
     "slide_type": "subslide"
    }
   },
   "source": [
    "## Análise de Dados\n",
    "\n",
    "Ciência de examinar dados brutos com o objetivo de encontrar padrões e tirar conclusões sobre essa informação, aplicando um processo algorítmico ou mecânico para obter informações"
   ]
  },
  {
   "cell_type": "markdown",
   "metadata": {
    "ExecuteTime": {
     "end_time": "2020-11-06T14:05:19.092694Z",
     "start_time": "2020-11-06T14:05:01.395Z"
    },
    "slideshow": {
     "slide_type": "subslide"
    }
   },
   "source": [
    "#### Análise descritiva (exploratória)\n",
    "- Uso de métricas e técnicas estatísticos para entender e explicar como os dados são\n",
    "\n",
    "\n",
    "#### Análise preditiva\n",
    "- Uso de modelos estatísticos para avaliar como serão os dados no futuro (ou como se comportam em condições diversas)\n",
    "\n",
    "\n",
    "#### Análise prescritiva\n",
    "- Uso de ferramentas estatísticas (descritivas e preditivas), alinhadas à gestão de negócios, para gerar recomendações de ações a serem tomadas de forma (semi)automática para otimizar estratégias adotadas pelas empresas e alcançar melhores resultados no menor espaço de tempo\n",
    "\n",
    "\n",
    "#### Análise diagnóstica\n",
    "- Busca compreender as causas de um evento, ou seja, responder \"quem?\", \"quando?\", \"onde?\", \"como?\", \"por que?\" "
   ]
  },
  {
   "cell_type": "markdown",
   "metadata": {
    "slideshow": {
     "slide_type": "subslide"
    }
   },
   "source": [
    "# Mineração \n",
    "\n",
    "- Data Mining\n",
    "- Text Mining\n",
    "- Web Mining (estrutura, conteúdo e navegação)"
   ]
  },
  {
   "cell_type": "markdown",
   "metadata": {
    "slideshow": {
     "slide_type": "subslide"
    }
   },
   "source": [
    "# Mineração de Textos\n",
    "\n",
    "Processo de derivar, obter (automaticamente) informações de alta qualidade a partir de dados textuais.\n",
    "\n",
    "\n",
    "### Motivação\n",
    "- Forma mais predominante de dados disponível\n",
    "- Grande aplicabilidade\n"
   ]
  },
  {
   "cell_type": "markdown",
   "metadata": {
    "slideshow": {
     "slide_type": "subslide"
    }
   },
   "source": [
    "### Linguagem como dado (Language as Data)\n",
    "\n",
    "*A linguagem consiste em dados não estruturados produzidos por pessoas para serem compreendidos por outras pessoas. Por outro lado, os dados estruturados ou semiestruturados incluem campos ou marcações que permitem que sejam facilmente analisados por um computador. No entanto, embora não apresentem uma estrutura facilmente legível por máquina, os dados não estruturados não são aleatórios. Pelo contrário, são regidos por propriedades linguísticas que os tornam muito compreensíveis para outras pessoas* <font color=LightSteelBlue> (Begford, Bilbro e Ojeda, 2018) </font>"
   ]
  },
  {
   "cell_type": "markdown",
   "metadata": {
    "slideshow": {
     "slide_type": "subslide"
    }
   },
   "source": [
    "# Mineração de Textos\n",
    "\n",
    "\n",
    "##  Aplicações\n",
    "- Serviços de atendimento ao cliente\n",
    "- Prevenção de Cybercrimes\n",
    "- Filtragem de Spam\n",
    "- Mineração de Opinião\n",
    "- Análise de dados de mídias sociais\n",
    "- Análise Forense\n",
    "- ..."
   ]
  },
  {
   "attachments": {
    "image.png": {
     "image/png": "[encoded data removed]"
    }
   },
   "cell_type": "markdown",
   "metadata": {
    "slideshow": {
     "slide_type": "slide"
    }
   },
   "source": [
    "## Mineração de Texto\n",
    "\n",
    "### Etapas Gerais\n",
    "\n",
    "![image.png](attachment:image.png)"
   ]
  },
  {
   "cell_type": "markdown",
   "metadata": {
    "slideshow": {
     "slide_type": "subslide"
    }
   },
   "source": [
    "## Mineração de Texto\n",
    "### <font color=d3Ebd5> Coleta de Dados </font>\n",
    "\n",
    "- Escopo\n",
    "- Abordagem da Pesquisa\n",
    "- Amostragem\n",
    "- Extrator de Dados\n"
   ]
  },
  {
   "cell_type": "markdown",
   "metadata": {
    "slideshow": {
     "slide_type": "subslide"
    }
   },
   "source": [
    "## Mineração de Texto\n",
    "### <font color=9bc6a4> Pré Processamento </font>\n",
    "\n",
    "- Eliminação Manual de Atributos\n",
    "- Integração de Dados\n",
    "- Amostragem de Dados\n",
    "- Dados Desbalanceados\n",
    "- Limpeza de Dados\n",
    "- Transformação de Dados\n",
    "- Redução da dimensionalidade\n",
    "\n",
    "<img src=\"https://media.giphy.com/media/kXBVtKjLxINji/giphy.gif\" width=\"120\" height=\"120\" />\n",
    "\n",
    "\n"
   ]
  },
  {
   "cell_type": "markdown",
   "metadata": {
    "slideshow": {
     "slide_type": "subslide"
    }
   },
   "source": [
    "## Mineração de Texto\n",
    "### <font color=9bc6a4> Pré Processamento </font>\n",
    "\n",
    "- Tokenização (identificação de termos /palavras)\n",
    "- Minimização de erros ortográficos\n",
    "- Eliminação de stopwords\n",
    "- Stemming / lematização (minimização de variações morfológicas)\n",
    "- Identificação de entidades mencionadas/nomeadas\n",
    "- Resolução de anáforas \n",
    "\n",
    "<img src=\"https://media.giphy.com/media/l4pSWPz4u8zQcXjY4/giphy.gif\" width=\"130\" height=\"130\" />\n",
    "\n",
    "\n"
   ]
  },
  {
   "cell_type": "markdown",
   "metadata": {
    "slideshow": {
     "slide_type": "subslide"
    }
   },
   "source": [
    "## <font color=9bc6a4> Pré Processamento: Tokenização </font>"
   ]
  },
  {
   "cell_type": "code",
   "execution_count": 2,
   "metadata": {
    "ExecuteTime": {
     "end_time": "2020-11-10T17:44:59.046850Z",
     "start_time": "2020-11-10T17:44:58.976Z"
    },
    "slideshow": {
     "slide_type": "fragment"
    }
   },
   "outputs": [
    {
     "name": "stderr",
     "output_type": "stream",
     "text": [
      "Warning message:\n",
      "\"package 'tokenizers' was built under R version 3.6.3\"\n"
     ]
    },
    {
     "data": {
      "text/html": [
       "<ol>\n",
       "\t<li><ol class=list-inline>\n",
       "\t<li>'violência'</li>\n",
       "\t<li>'simbólica'</li>\n",
       "\t<li>'é'</li>\n",
       "\t<li>'um'</li>\n",
       "\t<li>'conceito'</li>\n",
       "\t<li>'social'</li>\n",
       "\t<li>'elaborado'</li>\n",
       "\t<li>'pelo'</li>\n",
       "\t<li>'sociólogo'</li>\n",
       "\t<li>'francês'</li>\n",
       "\t<li>'pierre'</li>\n",
       "\t<li>'bourdieu'</li>\n",
       "\t<li>'o'</li>\n",
       "\t<li>'qual'</li>\n",
       "\t<li>'aborda'</li>\n",
       "\t<li>'uma'</li>\n",
       "\t<li>'forma'</li>\n",
       "\t<li>'de'</li>\n",
       "\t<li>'violência'</li>\n",
       "\t<li>'exercida'</li>\n",
       "\t<li>'pelo'</li>\n",
       "\t<li>'corpo'</li>\n",
       "\t<li>'sem'</li>\n",
       "\t<li>'coação'</li>\n",
       "\t<li>'física'</li>\n",
       "\t<li>'causando'</li>\n",
       "\t<li>'danos'</li>\n",
       "\t<li>'morais'</li>\n",
       "\t<li>'e'</li>\n",
       "\t<li>'psicológicos'</li>\n",
       "</ol>\n",
       "</li>\n",
       "</ol>\n"
      ],
      "text/latex": [
       "\\begin{enumerate}\n",
       "\\item \\begin{enumerate*}\n",
       "\\item 'violência'\n",
       "\\item 'simbólica'\n",
       "\\item 'é'\n",
       "\\item 'um'\n",
       "\\item 'conceito'\n",
       "\\item 'social'\n",
       "\\item 'elaborado'\n",
       "\\item 'pelo'\n",
       "\\item 'sociólogo'\n",
       "\\item 'francês'\n",
       "\\item 'pierre'\n",
       "\\item 'bourdieu'\n",
       "\\item 'o'\n",
       "\\item 'qual'\n",
       "\\item 'aborda'\n",
       "\\item 'uma'\n",
       "\\item 'forma'\n",
       "\\item 'de'\n",
       "\\item 'violência'\n",
       "\\item 'exercida'\n",
       "\\item 'pelo'\n",
       "\\item 'corpo'\n",
       "\\item 'sem'\n",
       "\\item 'coação'\n",
       "\\item 'física'\n",
       "\\item 'causando'\n",
       "\\item 'danos'\n",
       "\\item 'morais'\n",
       "\\item 'e'\n",
       "\\item 'psicológicos'\n",
       "\\end{enumerate*}\n",
       "\n",
       "\\end{enumerate}\n"
      ],
      "text/markdown": [
       "1. 1. 'violência'\n",
       "2. 'simbólica'\n",
       "3. 'é'\n",
       "4. 'um'\n",
       "5. 'conceito'\n",
       "6. 'social'\n",
       "7. 'elaborado'\n",
       "8. 'pelo'\n",
       "9. 'sociólogo'\n",
       "10. 'francês'\n",
       "11. 'pierre'\n",
       "12. 'bourdieu'\n",
       "13. 'o'\n",
       "14. 'qual'\n",
       "15. 'aborda'\n",
       "16. 'uma'\n",
       "17. 'forma'\n",
       "18. 'de'\n",
       "19. 'violência'\n",
       "20. 'exercida'\n",
       "21. 'pelo'\n",
       "22. 'corpo'\n",
       "23. 'sem'\n",
       "24. 'coação'\n",
       "25. 'física'\n",
       "26. 'causando'\n",
       "27. 'danos'\n",
       "28. 'morais'\n",
       "29. 'e'\n",
       "30. 'psicológicos'\n",
       "\n",
       "\n",
       "\n",
       "\n",
       "\n"
      ],
      "text/plain": [
       "[[1]]\n",
       " [1] \"violência\" \"simbólica\" \"é\"         \"um\"        \"conceito\"  \"social\"   \n",
       " [7] \"elaborado\" \"pelo\"      \"sociólogo\" \"francês\"   \"pierre\"    \"bourdieu\" \n",
       "[13] \"o\"         \"qual\"      \"aborda\"    \"uma\"       \"forma\"     \"de\"       \n",
       "[19] \"violência\" \"exercida\"  \"pelo\"      \"corpo\"     \"sem\"       \"coação\"   \n",
       "[25] \"física\"   \n",
       " [ reached getOption(\"max.print\") -- omitted 5 entries ]\n"
      ]
     },
     "metadata": {},
     "output_type": "display_data"
    },
    {
     "data": {
      "text/html": [
       "<ol>\n",
       "\t<li><ol class=list-inline>\n",
       "\t<li>'olá'</li>\n",
       "\t<li>'@user'</li>\n",
       "\t<li>'este'</li>\n",
       "\t<li>'é'</li>\n",
       "\t<li>'um'</li>\n",
       "\t<li>'exemplo'</li>\n",
       "\t<li>'de'</li>\n",
       "\t<li>'uso'</li>\n",
       "\t<li>'do'</li>\n",
       "\t<li>'pacote'</li>\n",
       "\t<li>'tokenizers'</li>\n",
       "\t<li>'#rstats'</li>\n",
       "\t<li>'#datamining'</li>\n",
       "</ol>\n",
       "</li>\n",
       "</ol>\n"
      ],
      "text/latex": [
       "\\begin{enumerate}\n",
       "\\item \\begin{enumerate*}\n",
       "\\item 'olá'\n",
       "\\item '@user'\n",
       "\\item 'este'\n",
       "\\item 'é'\n",
       "\\item 'um'\n",
       "\\item 'exemplo'\n",
       "\\item 'de'\n",
       "\\item 'uso'\n",
       "\\item 'do'\n",
       "\\item 'pacote'\n",
       "\\item 'tokenizers'\n",
       "\\item '\\#rstats'\n",
       "\\item '\\#datamining'\n",
       "\\end{enumerate*}\n",
       "\n",
       "\\end{enumerate}\n"
      ],
      "text/markdown": [
       "1. 1. 'olá'\n",
       "2. '@user'\n",
       "3. 'este'\n",
       "4. 'é'\n",
       "5. 'um'\n",
       "6. 'exemplo'\n",
       "7. 'de'\n",
       "8. 'uso'\n",
       "9. 'do'\n",
       "10. 'pacote'\n",
       "11. 'tokenizers'\n",
       "12. '#rstats'\n",
       "13. '#datamining'\n",
       "\n",
       "\n",
       "\n",
       "\n",
       "\n"
      ],
      "text/plain": [
       "[[1]]\n",
       " [1] \"olá\"         \"@user\"       \"este\"        \"é\"           \"um\"         \n",
       " [6] \"exemplo\"     \"de\"          \"uso\"         \"do\"          \"pacote\"     \n",
       "[11] \"tokenizers\"  \"#rstats\"     \"#datamining\"\n"
      ]
     },
     "metadata": {},
     "output_type": "display_data"
    }
   ],
   "source": [
    "if(!require('tokenizers')) install.packages('tokenizers')\n",
    "\n",
    "library(tokenizers)\n",
    "\n",
    "options(max.print = 25)\n",
    "\n",
    "text <- paste0(\n",
    "  \"Violência simbólica é um conceito social elaborado pelo\\n\",\n",
    "  \"sociólogo francês Pierre Bourdieu, o qual aborda uma forma\\n\",\n",
    "  \"de violência exercida pelo corpo sem coação física, causando\\n\",\n",
    "  \"danos morais e psicológicos.\")\n",
    "\n",
    "tokenize_words(text)\n",
    "\n",
    "tokenize_tweets(\"Olá, @user. Este é um exemplo de uso do pacote tokenizers. #rstats #datamining\")"
   ]
  },
  {
   "cell_type": "markdown",
   "metadata": {
    "slideshow": {
     "slide_type": "subslide"
    }
   },
   "source": [
    "## <font color=9bc6a4> Pré Processamento: Remoção de Stopwords </font>\n"
   ]
  },
  {
   "cell_type": "code",
   "execution_count": 3,
   "metadata": {
    "ExecuteTime": {
     "end_time": "2020-11-10T17:45:03.687998Z",
     "start_time": "2020-11-10T17:45:02.814Z"
    },
    "slideshow": {
     "slide_type": "skip"
    }
   },
   "outputs": [
    {
     "name": "stderr",
     "output_type": "stream",
     "text": [
      "Warning message:\n",
      "\"package 'tidytext' was built under R version 3.6.3\"\n",
      "Warning message:\n",
      "\"package 'dplyr' was built under R version 3.6.3\"\n",
      "Warning message:\n",
      "\"package 'stringr' was built under R version 3.6.3\"\n",
      "Warning message:\n",
      "\"package 'tm' was built under R version 3.6.3\"\n",
      "Loading required package: NLP\n",
      "\n",
      "Warning message:\n",
      "\"package 'NLP' was built under R version 3.6.3\"\n"
     ]
    }
   ],
   "source": [
    "if(!require('tidytext')) install.packages('tidytext')\n",
    "if(!require('janeaustenr')) install.packages('janeaustenr')\n",
    "if(!require('dplyr')) install.packages('dplyr')\n",
    "if(!require('stringr')) install.packages('stringr')\n",
    "\n",
    "library(tidytext)\n",
    "library(tokenizers)\n",
    "library(dplyr,warn.conflicts = FALSE)\n",
    "library(stringr)\n",
    "library(tm)"
   ]
  },
  {
   "cell_type": "code",
   "execution_count": 4,
   "metadata": {
    "ExecuteTime": {
     "end_time": "2020-11-10T17:45:05.004654Z",
     "start_time": "2020-11-10T17:45:04.956Z"
    },
    "slideshow": {
     "slide_type": "fragment"
    }
   },
   "outputs": [
    {
     "data": {
      "text/html": [
       "<table>\n",
       "<thead><tr><th scope=col>text</th></tr></thead>\n",
       "<tbody>\n",
       "\t<tr><td>Violência</td></tr>\n",
       "\t<tr><td>simbólica</td></tr>\n",
       "\t<tr><td>é        </td></tr>\n",
       "\t<tr><td>um       </td></tr>\n",
       "\t<tr><td>conceito </td></tr>\n",
       "\t<tr><td>social   </td></tr>\n",
       "\t<tr><td>elaborado</td></tr>\n",
       "\t<tr><td>pelo     </td></tr>\n",
       "\t<tr><td>sociólogo</td></tr>\n",
       "\t<tr><td>francês  </td></tr>\n",
       "</tbody>\n",
       "</table>\n"
      ],
      "text/latex": [
       "\\begin{tabular}{r|l}\n",
       " text\\\\\n",
       "\\hline\n",
       "\t Violência\\\\\n",
       "\t simbólica\\\\\n",
       "\t é        \\\\\n",
       "\t um       \\\\\n",
       "\t conceito \\\\\n",
       "\t social   \\\\\n",
       "\t elaborado\\\\\n",
       "\t pelo     \\\\\n",
       "\t sociólogo\\\\\n",
       "\t francês  \\\\\n",
       "\\end{tabular}\n"
      ],
      "text/markdown": [
       "\n",
       "| text |\n",
       "|---|\n",
       "| Violência |\n",
       "| simbólica |\n",
       "| é         |\n",
       "| um        |\n",
       "| conceito  |\n",
       "| social    |\n",
       "| elaborado |\n",
       "| pelo      |\n",
       "| sociólogo |\n",
       "| francês   |\n",
       "\n"
      ],
      "text/plain": [
       "   text     \n",
       "1  Violência\n",
       "2  simbólica\n",
       "3  é        \n",
       "4  um       \n",
       "5  conceito \n",
       "6  social   \n",
       "7  elaborado\n",
       "8  pelo     \n",
       "9  sociólogo\n",
       "10 francês  "
      ]
     },
     "metadata": {},
     "output_type": "display_data"
    }
   ],
   "source": [
    "text <- paste0(\n",
    "  \"Violência simbólica é um conceito social elaborado pelo\\n\",\n",
    "  \"sociólogo francês Pierre Bourdieu, o qual aborda uma forma\\n\",\n",
    "  \"de violência exercida pelo corpo sem coação física, causando\\n\",\n",
    "  \"danos morais e psicológicos.\")\n",
    "\n",
    "t <- tokenize_words(text, lowercase = FALSE, strip_punct = FALSE, simplify = FALSE)\n",
    "df <- data.frame(Reduce(rbind, t)) %>% \n",
    "  rename(text = Reduce.rbind..t.)\n",
    "df <- as_tibble(df)\n",
    "df <- mutate(df, text = as.character(text))\n",
    "\n",
    "head(df,n=10)"
   ]
  },
  {
   "cell_type": "markdown",
   "metadata": {
    "slideshow": {
     "slide_type": "subslide"
    }
   },
   "source": [
    "## <font color=9bc6a4> Pré Processamento: Remoção de Stopwords </font>\n"
   ]
  },
  {
   "cell_type": "code",
   "execution_count": 5,
   "metadata": {
    "ExecuteTime": {
     "end_time": "2020-11-10T17:45:18.267579Z",
     "start_time": "2020-11-10T17:45:18.224Z"
    },
    "slideshow": {
     "slide_type": "fragment"
    }
   },
   "outputs": [
    {
     "name": "stderr",
     "output_type": "stream",
     "text": [
      "Joining, by = \"word\"\n",
      "\n"
     ]
    },
    {
     "data": {
      "text/html": [
       "<table>\n",
       "<thead><tr><th scope=col>word</th></tr></thead>\n",
       "<tbody>\n",
       "\t<tr><td>violência</td></tr>\n",
       "\t<tr><td>simbólica</td></tr>\n",
       "\t<tr><td>conceito </td></tr>\n",
       "\t<tr><td>social   </td></tr>\n",
       "\t<tr><td>elaborado</td></tr>\n",
       "\t<tr><td>pelo     </td></tr>\n",
       "\t<tr><td>sociólogo</td></tr>\n",
       "\t<tr><td>francês  </td></tr>\n",
       "\t<tr><td>pierre   </td></tr>\n",
       "\t<tr><td>bourdieu </td></tr>\n",
       "</tbody>\n",
       "</table>\n"
      ],
      "text/latex": [
       "\\begin{tabular}{r|l}\n",
       " word\\\\\n",
       "\\hline\n",
       "\t violência\\\\\n",
       "\t simbólica\\\\\n",
       "\t conceito \\\\\n",
       "\t social   \\\\\n",
       "\t elaborado\\\\\n",
       "\t pelo     \\\\\n",
       "\t sociólogo\\\\\n",
       "\t francês  \\\\\n",
       "\t pierre   \\\\\n",
       "\t bourdieu \\\\\n",
       "\\end{tabular}\n"
      ],
      "text/markdown": [
       "\n",
       "| word |\n",
       "|---|\n",
       "| violência |\n",
       "| simbólica |\n",
       "| conceito  |\n",
       "| social    |\n",
       "| elaborado |\n",
       "| pelo      |\n",
       "| sociólogo |\n",
       "| francês   |\n",
       "| pierre    |\n",
       "| bourdieu  |\n",
       "\n"
      ],
      "text/plain": [
       "   word     \n",
       "1  violência\n",
       "2  simbólica\n",
       "3  conceito \n",
       "4  social   \n",
       "5  elaborado\n",
       "6  pelo     \n",
       "7  sociólogo\n",
       "8  francês  \n",
       "9  pierre   \n",
       "10 bourdieu "
      ]
     },
     "metadata": {},
     "output_type": "display_data"
    }
   ],
   "source": [
    "custom_stop_words <- tibble(word = append(tm::stopwords('portuguese'), list('é', 'um')))\n",
    "custom_stop_words <- mutate(custom_stop_words, word = as.character(word))\n",
    "\n",
    "tmp <- df %>% \n",
    "  unnest_tokens(word, text) %>%\n",
    "  anti_join(custom_stop_words)\n",
    "head(tmp, n=10)"
   ]
  },
  {
   "cell_type": "markdown",
   "metadata": {
    "slideshow": {
     "slide_type": "subslide"
    }
   },
   "source": [
    "## Mineração de Texto\n",
    "### <font color=80bfb7> Processamento </font>\n",
    "\n",
    "- Metodologia\n",
    "- Linguagem de Programação\n",
    "- Representação de conteúdos\n",
    "    - TF-IDF; Bag-of-Words; Bag-of-Concepts\n",
    "- ..."
   ]
  },
  {
   "cell_type": "markdown",
   "metadata": {
    "slideshow": {
     "slide_type": "subslide"
    }
   },
   "source": [
    "## <font color=80bfb7> Processamento: Exemplo TF-IDF </font>"
   ]
  },
  {
   "cell_type": "code",
   "execution_count": 3,
   "metadata": {
    "ExecuteTime": {
     "end_time": "2020-11-10T17:49:35.465367Z",
     "start_time": "2020-11-10T17:49:34.376Z"
    },
    "slideshow": {
     "slide_type": "fragment"
    }
   },
   "outputs": [
    {
     "name": "stderr",
     "output_type": "stream",
     "text": [
      "`summarise()` ungrouping output (override with `.groups` argument)\n",
      "\n",
      "Joining, by = \"book\"\n",
      "\n"
     ]
    },
    {
     "data": {
      "text/html": [
       "<table>\n",
       "<thead><tr><th scope=col>book</th><th scope=col>word</th><th scope=col>n</th><th scope=col>total</th><th scope=col>tf</th><th scope=col>idf</th><th scope=col>tf_idf</th></tr></thead>\n",
       "<tbody>\n",
       "\t<tr><td>Mansfield Park</td><td>the           </td><td>6206          </td><td>160460        </td><td>0.03867631    </td><td>0             </td><td>0             </td></tr>\n",
       "\t<tr><td>Mansfield Park</td><td>to            </td><td>5475          </td><td>160460        </td><td>0.03412065    </td><td>0             </td><td>0             </td></tr>\n",
       "\t<tr><td>Mansfield Park</td><td>and           </td><td>5438          </td><td>160460        </td><td>0.03389007    </td><td>0             </td><td>0             </td></tr>\n",
       "\t<tr><td>Emma          </td><td>to            </td><td>5239          </td><td>160996        </td><td>0.03254118    </td><td>0             </td><td>0             </td></tr>\n",
       "\t<tr><td>Emma          </td><td>the           </td><td>5201          </td><td>160996        </td><td>0.03230515    </td><td>0             </td><td>0             </td></tr>\n",
       "</tbody>\n",
       "</table>\n"
      ],
      "text/latex": [
       "\\begin{tabular}{r|lllllll}\n",
       " book & word & n & total & tf & idf & tf\\_idf\\\\\n",
       "\\hline\n",
       "\t Mansfield Park & the            & 6206           & 160460         & 0.03867631     & 0              & 0             \\\\\n",
       "\t Mansfield Park & to             & 5475           & 160460         & 0.03412065     & 0              & 0             \\\\\n",
       "\t Mansfield Park & and            & 5438           & 160460         & 0.03389007     & 0              & 0             \\\\\n",
       "\t Emma           & to             & 5239           & 160996         & 0.03254118     & 0              & 0             \\\\\n",
       "\t Emma           & the            & 5201           & 160996         & 0.03230515     & 0              & 0             \\\\\n",
       "\\end{tabular}\n"
      ],
      "text/markdown": [
       "\n",
       "| book | word | n | total | tf | idf | tf_idf |\n",
       "|---|---|---|---|---|---|---|\n",
       "| Mansfield Park | the            | 6206           | 160460         | 0.03867631     | 0              | 0              |\n",
       "| Mansfield Park | to             | 5475           | 160460         | 0.03412065     | 0              | 0              |\n",
       "| Mansfield Park | and            | 5438           | 160460         | 0.03389007     | 0              | 0              |\n",
       "| Emma           | to             | 5239           | 160996         | 0.03254118     | 0              | 0              |\n",
       "| Emma           | the            | 5201           | 160996         | 0.03230515     | 0              | 0              |\n",
       "\n"
      ],
      "text/plain": [
       "  book           word n    total  tf         idf tf_idf\n",
       "1 Mansfield Park the  6206 160460 0.03867631 0   0     \n",
       "2 Mansfield Park to   5475 160460 0.03412065 0   0     \n",
       "3 Mansfield Park and  5438 160460 0.03389007 0   0     \n",
       "4 Emma           to   5239 160996 0.03254118 0   0     \n",
       "5 Emma           the  5201 160996 0.03230515 0   0     "
      ]
     },
     "metadata": {},
     "output_type": "display_data"
    }
   ],
   "source": [
    "if(!require('dplyr')) install.packages('dplyr')\n",
    "if(!require('janeaustenr')) install.packages('janeaustenr')\n",
    "if(!require('tidytext')) install.packages('tidytext')\n",
    "\n",
    "library(dplyr, warn.conflicts = FALSE)\n",
    "library(janeaustenr)\n",
    "library(tidytext)\n",
    "\n",
    "book_words <- austen_books() %>%\n",
    "  unnest_tokens(word, text) %>%\n",
    "  count(book, word, sort = TRUE)\n",
    "\n",
    "total_words <- book_words %>%\n",
    "  group_by(book) %>%\n",
    "  summarize(total = sum(n))\n",
    "\n",
    "book_words <- left_join(book_words, total_words)\n",
    "\n",
    "book_tf_idf <- book_words %>%\n",
    "  bind_tf_idf(word, book, n)\n",
    "\n",
    "head(book_tf_idf,n=5)\n"
   ]
  },
  {
   "cell_type": "markdown",
   "metadata": {
    "slideshow": {
     "slide_type": "subslide"
    }
   },
   "source": [
    "## <font color=80bfb7> Processamento: Exemplo TF-IDF </font>"
   ]
  },
  {
   "cell_type": "code",
   "execution_count": 39,
   "metadata": {
    "ExecuteTime": {
     "end_time": "2020-11-10T17:33:24.116971Z",
     "start_time": "2020-11-10T17:33:24.079Z"
    },
    "slideshow": {
     "slide_type": "fragment"
    }
   },
   "outputs": [
    {
     "data": {
      "text/html": [
       "<table>\n",
       "<thead><tr><th scope=col>book</th><th scope=col>word</th><th scope=col>n</th><th scope=col>tf</th><th scope=col>idf</th><th scope=col>tf_idf</th></tr></thead>\n",
       "<tbody>\n",
       "\t<tr><td>Sense &amp; Sensibility                          </td><td><span style=white-space:pre-wrap>elinor   </span></td><td>623                                              </td><td>0.005193528                                      </td><td>1.791759                                         </td><td>0.009305552                                      </td></tr>\n",
       "\t<tr><td>Sense &amp; Sensibility</td><td>marianne               </td><td>492                    </td><td>0.004101470            </td><td>1.791759               </td><td>0.007348847            </td></tr>\n",
       "\t<tr><td>Mansfield Park     </td><td>crawford           </td><td>493                </td><td>0.003072417        </td><td>1.791759           </td><td>0.005505032        </td></tr>\n",
       "\t<tr><td><span style=white-space:pre-wrap>Pride &amp; Prejudice  </span></td><td><span style=white-space:pre-wrap>darcy    </span>              </td><td>373                                                            </td><td>0.003052273                                                    </td><td>1.791759                                                       </td><td>0.005468939                                                    </td></tr>\n",
       "\t<tr><td>Persuasion         </td><td>elliot             </td><td>254                </td><td>0.003036171        </td><td>1.791759           </td><td>0.005440088        </td></tr>\n",
       "\t<tr><td>Emma               </td><td>emma               </td><td>786                </td><td>0.004882109        </td><td>1.098612           </td><td>0.005363545        </td></tr>\n",
       "\t<tr><td>Northanger Abbey   </td><td>tilney             </td><td>196                </td><td>0.002519928        </td><td>1.791759           </td><td>0.004515105        </td></tr>\n",
       "\t<tr><td>Emma               </td><td>weston             </td><td>389                </td><td>0.002416209        </td><td>1.791759           </td><td>0.004329266        </td></tr>\n",
       "\t<tr><td><span style=white-space:pre-wrap>Pride &amp; Prejudice  </span></td><td><span style=white-space:pre-wrap>bennet   </span>              </td><td>294                                                            </td><td>0.002405813                                                    </td><td>1.791759                                                       </td><td>0.004310639                                                    </td></tr>\n",
       "\t<tr><td>Persuasion         </td><td>wentworth          </td><td>191                </td><td>0.002283105        </td><td>1.791759           </td><td>0.004090775        </td></tr>\n",
       "</tbody>\n",
       "</table>\n"
      ],
      "text/latex": [
       "\\begin{tabular}{r|llllll}\n",
       " book & word & n & tf & idf & tf\\_idf\\\\\n",
       "\\hline\n",
       "\t Sense \\& Sensibility & elinor                & 623                   & 0.005193528           & 1.791759              & 0.009305552          \\\\\n",
       "\t Sense \\& Sensibility & marianne              & 492                   & 0.004101470           & 1.791759              & 0.007348847          \\\\\n",
       "\t Mansfield Park      & crawford            & 493                 & 0.003072417         & 1.791759            & 0.005505032        \\\\\n",
       "\t Pride \\& Prejudice   & darcy                 & 373                   & 0.003052273           & 1.791759              & 0.005468939          \\\\\n",
       "\t Persuasion          & elliot              & 254                 & 0.003036171         & 1.791759            & 0.005440088        \\\\\n",
       "\t Emma                & emma                & 786                 & 0.004882109         & 1.098612            & 0.005363545        \\\\\n",
       "\t Northanger Abbey    & tilney              & 196                 & 0.002519928         & 1.791759            & 0.004515105        \\\\\n",
       "\t Emma                & weston              & 389                 & 0.002416209         & 1.791759            & 0.004329266        \\\\\n",
       "\t Pride \\& Prejudice   & bennet                & 294                   & 0.002405813           & 1.791759              & 0.004310639          \\\\\n",
       "\t Persuasion          & wentworth           & 191                 & 0.002283105         & 1.791759            & 0.004090775        \\\\\n",
       "\\end{tabular}\n"
      ],
      "text/markdown": [
       "\n",
       "| book | word | n | tf | idf | tf_idf |\n",
       "|---|---|---|---|---|---|\n",
       "| Sense & Sensibility | elinor              | 623                 | 0.005193528         | 1.791759            | 0.009305552         |\n",
       "| Sense & Sensibility | marianne            | 492                 | 0.004101470         | 1.791759            | 0.007348847         |\n",
       "| Mansfield Park      | crawford            | 493                 | 0.003072417         | 1.791759            | 0.005505032         |\n",
       "| Pride & Prejudice   | darcy               | 373                 | 0.003052273         | 1.791759            | 0.005468939         |\n",
       "| Persuasion          | elliot              | 254                 | 0.003036171         | 1.791759            | 0.005440088         |\n",
       "| Emma                | emma                | 786                 | 0.004882109         | 1.098612            | 0.005363545         |\n",
       "| Northanger Abbey    | tilney              | 196                 | 0.002519928         | 1.791759            | 0.004515105         |\n",
       "| Emma                | weston              | 389                 | 0.002416209         | 1.791759            | 0.004329266         |\n",
       "| Pride & Prejudice   | bennet              | 294                 | 0.002405813         | 1.791759            | 0.004310639         |\n",
       "| Persuasion          | wentworth           | 191                 | 0.002283105         | 1.791759            | 0.004090775         |\n",
       "\n"
      ],
      "text/plain": [
       "   book                word      n   tf          idf      tf_idf     \n",
       "1  Sense & Sensibility elinor    623 0.005193528 1.791759 0.009305552\n",
       "2  Sense & Sensibility marianne  492 0.004101470 1.791759 0.007348847\n",
       "3  Mansfield Park      crawford  493 0.003072417 1.791759 0.005505032\n",
       "4  Pride & Prejudice   darcy     373 0.003052273 1.791759 0.005468939\n",
       "5  Persuasion          elliot    254 0.003036171 1.791759 0.005440088\n",
       "6  Emma                emma      786 0.004882109 1.098612 0.005363545\n",
       "7  Northanger Abbey    tilney    196 0.002519928 1.791759 0.004515105\n",
       "8  Emma                weston    389 0.002416209 1.791759 0.004329266\n",
       "9  Pride & Prejudice   bennet    294 0.002405813 1.791759 0.004310639\n",
       "10 Persuasion          wentworth 191 0.002283105 1.791759 0.004090775"
      ]
     },
     "metadata": {},
     "output_type": "display_data"
    }
   ],
   "source": [
    "df <- book_tf_idf %>%\n",
    "  select(-total) %>%\n",
    "  arrange(desc(tf_idf))\n",
    "\n",
    "head(df,n=10)"
   ]
  },
  {
   "cell_type": "markdown",
   "metadata": {
    "slideshow": {
     "slide_type": "subslide"
    }
   },
   "source": [
    "## Mineração de Texto\n",
    "### <font color=0b87a1> Análise </font>\n",
    "\n",
    "- Tipo de Análise\n",
    "- Especialista de Domínio\n",
    "- ...\n",
    "\n",
    "<img src=\"https://media.giphy.com/media/xT5LMQRPHbTymgc5Bm/giphy.gif\" width=\"220\" height=\"220\" />"
   ]
  },
  {
   "cell_type": "markdown",
   "metadata": {
    "slideshow": {
     "slide_type": "slide"
    }
   },
   "source": [
    "## Mineração de Texto\n",
    "\n",
    "### TidyText\n",
    "- Cada variável é uma coluna;\n",
    "- Cada observação é uma linha;\n",
    "- Cada tipo de unidade observacional é uma tabela.\n",
    "\n",
    "<img src=\"https://rveryday.files.wordpress.com/2016/11/img_7727.png?w=776&h=343\" width=\"100\" height=\"100\" />"
   ]
  },
  {
   "cell_type": "markdown",
   "metadata": {
    "slideshow": {
     "slide_type": "slide"
    }
   },
   "source": [
    "### Exercícios\n",
    "\n",
    "1. Tokenização diferentes para o texto escolhido.\n",
    "2. Remoção as stopwords.\n",
    "3. Contagem de frequência de palavras.\n",
    "4. Aplicação da técnica de TF-IDF."
   ]
  },
  {
   "cell_type": "markdown",
   "metadata": {
    "slideshow": {
     "slide_type": "slide"
    }
   },
   "source": [
    "# Bibliografia\n",
    "- Aggarwal, Charu C..  1994. **Data Mining**: the Textbook. Springer: Cham. 2015. https://link.springer.com/book/10.1007%2F978-3-319-14142-8\n",
    "- Bengfort, B.; Bilbro, R.; Ojeda, T. **Applied Text Analysis with Python**: Enabling Language-Aware Data Products with Machine Learning. O´Reilly, 2018. 334 p.\n",
    "- Fayyad, U M.; Piatetsky-Shapiro, G.; Smyth, P.; Uthurusamy, R. **Advances in Knowledge Discovery and Data Mining**. AAAI Press. 1996. 626 p.\n",
    "- Feldman, R.; Hirsh, H. Exploiting Background Information in Knowledge Discovery from Text. **Journal of Intelligent Informatino Systems**, 9, 83-92. 1997. https://doi.org/10.1023/A:1008693204338\n",
    "- Goldschmidt, R.; Passos, E.; Bezerra, E. **Data Mining**: Conceitos, Técnicas, Algoritmos, Orientações e Aplicações. 2a Ed. Campus/Elsevier, São Paulo. 2015. https://bridge.minhabiblioteca.com.br/books/9788595156395"
   ]
  }
 ],
 "metadata": {
  "celltoolbar": "Slideshow",
  "hide_input": false,
  "kernelspec": {
   "display_name": "R",
   "language": "R",
   "name": "ir"
  },
  "toc": {
   "base_numbering": 1,
   "nav_menu": {},
   "number_sections": true,
   "sideBar": true,
   "skip_h1_title": false,
   "title_cell": "Table of Contents",
   "title_sidebar": "Contents",
   "toc_cell": false,
   "toc_position": {},
   "toc_section_display": true,
   "toc_window_display": false
  },
  "varInspector": {
   "cols": {
    "lenName": 16,
    "lenType": 16,
    "lenVar": 40
   },
   "kernels_config": {
    "python": {
     "delete_cmd_postfix": "",
     "delete_cmd_prefix": "del ",
     "library": "var_list.py",
     "varRefreshCmd": "print(var_dic_list())"
    },
    "r": {
     "delete_cmd_postfix": ") ",
     "delete_cmd_prefix": "rm(",
     "library": "var_list.r",
     "varRefreshCmd": "cat(var_dic_list()) "
    }
   },
   "types_to_exclude": [
    "module",
    "function",
    "builtin_function_or_method",
    "instance",
    "_Feature"
   ],
   "window_display": false
  }
 },
 "nbformat": 4,
 "nbformat_minor": 2
}
