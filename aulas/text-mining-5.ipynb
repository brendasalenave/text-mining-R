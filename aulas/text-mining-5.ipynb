{
 "cells": [
  {
   "cell_type": "code",
   "execution_count": 39,
   "metadata": {
    "ExecuteTime": {
     "end_time": "2020-12-08T14:03:49.574922Z",
     "start_time": "2020-12-08T14:03:49.536Z"
    },
    "slideshow": {
     "slide_type": "skip"
    }
   },
   "outputs": [],
   "source": [
    "options(warn=-1)"
   ]
  },
  {
   "cell_type": "markdown",
   "metadata": {
    "slideshow": {
     "slide_type": "slide"
    }
   },
   "source": [
    "# Text Mining para Business Analytics (com R)\n",
    "\n",
    "## Associação e Sumarização\n",
    "\n",
    "## Aula #05\n",
    "\n",
    "**Professor: Leandro Krug Wives** <font color=LightSteelBlue> - lwives@inf.ufrgs.br </font>\n",
    "\n",
    "**Assistente: Brenda Salenave Santana** <font color=LightSteelBlue> - bssantana@inf.ufrgs.br </font>\n"
   ]
  },
  {
   "cell_type": "markdown",
   "metadata": {
    "slideshow": {
     "slide_type": "slide"
    }
   },
   "source": [
    "## Mineração de Texto\n",
    "## <font color=MidnightBlue> Tarefas Gerais </font>\n",
    "\n",
    "- <s><font color=Gainsboro>Classificação</font></s>\n",
    "- <s><font color=Gainsboro>Agrupamento</font></s>\n",
    "- Associação\n",
    "    - Descoberta de associações, correlações, sequências (temporais)\n",
    "- Sumarização"
   ]
  },
  {
   "cell_type": "markdown",
   "metadata": {
    "slideshow": {
     "slide_type": "slide"
    }
   },
   "source": [
    "# <center><font color=Navy> Associação </font></center>"
   ]
  },
  {
   "cell_type": "markdown",
   "metadata": {
    "slideshow": {
     "slide_type": "subslide"
    }
   },
   "source": [
    "## <font color=MidnightBlue> Associações </font>\n",
    "\n",
    "- Objetivo: descobrir padrões que descrevem características dos documentos ou da base de documentos\n",
    "- Regras associativas para identificar a probabilidade condicional entre temas, conceitos ou atributos"
   ]
  },
  {
   "cell_type": "markdown",
   "metadata": {
    "slideshow": {
     "slide_type": "subslide"
    }
   },
   "source": [
    "- Análise da influência:\n",
    "    - Exemplo do WallMart: “Fralda x Cerveja”\n",
    "    "
   ]
  },
  {
   "cell_type": "markdown",
   "metadata": {
    "slideshow": {
     "slide_type": "fragment"
    }
   },
   "source": [
    "    - Case da TV por assinatura:\n",
    "    \n",
    "| Associação             \t| Grau de Associação \t|\n",
    "|------------------------\t|--------------------\t|\n",
    "| Imagem → Qualidade     \t| 80%                \t|\n",
    "| Plano X → Custo        \t| 66.67%             \t|\n",
    "| Concorrência → Filmes  \t| 58.3%              \t|\n",
    "| Filmes → Repetição     \t| 39.5%              \t|\n",
    "| Atendimento → Demora   \t| 37.5%              \t|\n",
    "| Concorrência → Custo   \t| 33.3%              \t|\n",
    "| Filmes  → Qualidade    \t| 18.4%              \t|\n",
    "| Filmes → Concorrência  \t| 6.1%               \t|\n",
    "| Filmes → Pay per  view \t| 6.1%               \t|\n",
    "| Filmes → Lançamento    \t| 4.4%               \t|"
   ]
  },
  {
   "cell_type": "markdown",
   "metadata": {
    "slideshow": {
     "slide_type": "subslide"
    }
   },
   "source": [
    "### <font color=MidnightBlue> Associações </font>\n",
    "\n",
    "- Probabilidade condicional entre temas, conceitos ou atributos\n",
    "- Análise da sequência temporal ou padrões recorrentes:\n",
    "    - “Compradores TV_X” → “Compram DVD em 1 Mês” (conf.:80%)\n",
    "    - “Prescrição Medicamento_X” → “Condição clínica deteriorada em 40% dos casos”"
   ]
  },
  {
   "cell_type": "markdown",
   "metadata": {
    "slideshow": {
     "slide_type": "subslide"
    }
   },
   "source": [
    "### Como medir a força de uma regra?\n",
    "Vamos considerar a regra A => B"
   ]
  },
  {
   "cell_type": "markdown",
   "metadata": {
    "slideshow": {
     "slide_type": "fragment"
    }
   },
   "source": [
    "\\begin{equation*}\n",
    "suporte = \\frac{transacoes \\; com \\; A\\;e\\;B}{total\\;de\\;transacoes} =\n",
    "P(A \\cap B)\n",
    "\\end{equation*}"
   ]
  },
  {
   "cell_type": "markdown",
   "metadata": {
    "slideshow": {
     "slide_type": "fragment"
    }
   },
   "source": [
    "***\n",
    "\\begin{equation*}\n",
    "confianca = \\frac{transacoes\\;com\\;A\\;e\\;B}{total\\;transacoes\\;de\\;A} =\n",
    "\\frac{P(A \\cap B)}{P(A)}\n",
    "\\end{equation*}"
   ]
  },
  {
   "cell_type": "markdown",
   "metadata": {
    "slideshow": {
     "slide_type": "fragment"
    }
   },
   "source": [
    "***\n",
    "\\begin{equation*}\n",
    "confiancaEsperada = \\frac{transacoes\\;B}{total\\;de\\;transacoes} =\n",
    "P(B)\n",
    "\\end{equation*}"
   ]
  },
  {
   "cell_type": "markdown",
   "metadata": {
    "slideshow": {
     "slide_type": "fragment"
    }
   },
   "source": [
    "***\n",
    "\\begin{equation*}\n",
    "lift = \\frac{confianca}{confiancaEsperada} =\n",
    " \\frac{P(A \\cap B)}{P(A) \\cdot P(B)}\n",
    "\\end{equation*}"
   ]
  },
  {
   "cell_type": "markdown",
   "metadata": {
    "slideshow": {
     "slide_type": "subslide"
    }
   },
   "source": [
    "## <center> <font color=MidnightBlue>Regras de Associação</font> </center>\n",
    "\n",
    "\n",
    "****\n",
    "\n",
    "## <center> Exemplo </center>"
   ]
  },
  {
   "cell_type": "code",
   "execution_count": null,
   "metadata": {
    "slideshow": {
     "slide_type": "skip"
    }
   },
   "outputs": [],
   "source": [
    "if(!require('arules')) install.packages('arules')"
   ]
  },
  {
   "cell_type": "code",
   "execution_count": 44,
   "metadata": {
    "ExecuteTime": {
     "end_time": "2020-12-08T16:10:46.634811Z",
     "start_time": "2020-12-08T16:10:46.556Z"
    },
    "slideshow": {
     "slide_type": "subslide"
    }
   },
   "outputs": [
    {
     "data": {
      "text/html": [
       "'transactions'"
      ],
      "text/latex": [
       "'transactions'"
      ],
      "text/markdown": [
       "'transactions'"
      ],
      "text/plain": [
       "[1] \"transactions\"\n",
       "attr(,\"package\")\n",
       "[1] \"arules\""
      ]
     },
     "metadata": {},
     "output_type": "display_data"
    }
   ],
   "source": [
    "library(arules)\n",
    "\n",
    "data(Groceries) # carrega dados\n",
    "\n",
    "class(Groceries)"
   ]
  },
  {
   "cell_type": "code",
   "execution_count": 9,
   "metadata": {
    "ExecuteTime": {
     "end_time": "2020-12-07T17:47:35.536490Z",
     "start_time": "2020-12-07T17:47:35.456Z"
    },
    "scrolled": true,
    "slideshow": {
     "slide_type": "fragment"
    }
   },
   "outputs": [
    {
     "name": "stdout",
     "output_type": "stream",
     "text": [
      "    items                \n",
      "[1] {citrus fruit,       \n",
      "     semi-finished bread,\n",
      "     margarine,          \n",
      "     ready soups}        \n",
      "[2] {tropical fruit,     \n",
      "     yogurt,             \n",
      "     coffee}             \n",
      "[3] {whole milk}         \n"
     ]
    }
   ],
   "source": [
    "inspect(head(Groceries, 3))"
   ]
  },
  {
   "cell_type": "markdown",
   "metadata": {
    "slideshow": {
     "slide_type": "subslide"
    }
   },
   "source": [
    "- <font color=SlateGray> Termos mais frequentes </font>"
   ]
  },
  {
   "cell_type": "code",
   "execution_count": 10,
   "metadata": {
    "ExecuteTime": {
     "end_time": "2020-12-07T17:49:05.947594Z",
     "start_time": "2020-12-07T17:49:05.836Z"
    },
    "scrolled": true,
    "slideshow": {
     "slide_type": "fragment"
    }
   },
   "outputs": [
    {
     "name": "stdout",
     "output_type": "stream",
     "text": [
      "Eclat\n",
      "\n",
      "parameter specification:\n",
      " tidLists support minlen maxlen            target  ext\n",
      "    FALSE    0.07      1     15 frequent itemsets TRUE\n",
      "\n",
      "algorithmic control:\n",
      " sparse sort verbose\n",
      "      7   -2    TRUE\n",
      "\n",
      "Absolute minimum support count: 688 \n",
      "\n",
      "create itemset ... \n",
      "set transactions ...[169 item(s), 9835 transaction(s)] done [0.00s].\n",
      "sorting and recoding items ... [18 item(s)] done [0.00s].\n",
      "creating sparse bit matrix ... [18 row(s), 9835 column(s)] done [0.00s].\n",
      "writing  ... [19 set(s)] done [0.00s].\n",
      "Creating S4 object  ... done [0.00s].\n",
      "     items                         support    transIdenticalToItemsets count\n",
      "[1]  {other vegetables,whole milk} 0.07483477  736                      736 \n",
      "[2]  {whole milk}                  0.25551601 2513                     2513 \n",
      "[3]  {other vegetables}            0.19349263 1903                     1903 \n",
      "[4]  {rolls/buns}                  0.18393493 1809                     1809 \n",
      "[5]  {yogurt}                      0.13950178 1372                     1372 \n",
      "[6]  {soda}                        0.17437722 1715                     1715 \n",
      "[7]  {root vegetables}             0.10899847 1072                     1072 \n",
      "[8]  {tropical fruit}              0.10493137 1032                     1032 \n",
      "[9]  {bottled water}               0.11052364 1087                     1087 \n",
      "[10] {sausage}                     0.09395018  924                      924 \n",
      "[11] {shopping bags}               0.09852567  969                      969 \n",
      "[12] {citrus fruit}                0.08276563  814                      814 \n",
      "[13] {pastry}                      0.08896797  875                      875 \n",
      "[14] {pip fruit}                   0.07564820  744                      744 \n",
      "[15] {whipped/sour cream}          0.07168277  705                      705 \n",
      "[16] {fruit/vegetable juice}       0.07229283  711                      711 \n",
      "[17] {newspapers}                  0.07981698  785                      785 \n",
      "[18] {bottled beer}                0.08052872  792                      792 \n",
      "[19] {canned beer}                 0.07768175  764                      764 \n"
     ]
    }
   ],
   "source": [
    "frequentItems <- eclat (Groceries, parameter = list(supp = 0.07, maxlen = 15)) # calcula o suporte para os itens mais frequentes\n",
    "inspect(frequentItems)"
   ]
  },
  {
   "cell_type": "markdown",
   "metadata": {
    "slideshow": {
     "slide_type": "subslide"
    }
   },
   "source": [
    "- <font color=SlateGray> Termos mais frequentes </font>"
   ]
  },
  {
   "cell_type": "code",
   "execution_count": 11,
   "metadata": {
    "ExecuteTime": {
     "end_time": "2020-12-07T17:49:29.799159Z",
     "start_time": "2020-12-07T17:49:29.550Z"
    },
    "scrolled": true,
    "slideshow": {
     "slide_type": "subslide"
    }
   },
   "outputs": [
    {
     "data": {
      "image/png": "[encoded data removed]",
      "text/plain": [
       "Plot with title \"Item Frequency\""
      ]
     },
     "metadata": {
      "image/png": {
       "height": 420,
       "width": 420
      }
     },
     "output_type": "display_data"
    }
   ],
   "source": [
    "itemFrequencyPlot(Groceries, topN=10, type=\"absolute\", main=\"Item Frequency\") # plota itens frequentes"
   ]
  },
  {
   "cell_type": "markdown",
   "metadata": {
    "slideshow": {
     "slide_type": "subslide"
    }
   },
   "source": [
    "- <font color=SlateGray> Como obter as regras de recomendação de produtos? </font>"
   ]
  },
  {
   "cell_type": "code",
   "execution_count": 12,
   "metadata": {
    "ExecuteTime": {
     "end_time": "2020-12-07T17:50:22.557453Z",
     "start_time": "2020-12-07T17:50:22.299Z"
    },
    "scrolled": true,
    "slideshow": {
     "slide_type": "fragment"
    }
   },
   "outputs": [
    {
     "name": "stdout",
     "output_type": "stream",
     "text": [
      "Apriori\n",
      "\n",
      "Parameter specification:\n",
      " confidence minval smax arem  aval originalSupport maxtime support minlen\n",
      "        0.5    0.1    1 none FALSE            TRUE       5   0.001      1\n",
      " maxlen target  ext\n",
      "     10  rules TRUE\n",
      "\n",
      "Algorithmic control:\n",
      " filter tree heap memopt load sort verbose\n",
      "    0.1 TRUE TRUE  FALSE TRUE    2    TRUE\n",
      "\n",
      "Absolute minimum support count: 9 \n",
      "\n",
      "set item appearances ...[0 item(s)] done [0.00s].\n",
      "set transactions ...[169 item(s), 9835 transaction(s)] done [0.01s].\n",
      "sorting and recoding items ... [157 item(s)] done [0.00s].\n",
      "creating transaction tree ... done [0.00s].\n",
      "checking subsets of size 1 2 3 4 5 6 done [0.02s].\n",
      "writing ... [5668 rule(s)] done [0.00s].\n",
      "creating S4 object  ... done [0.01s].\n",
      "    lhs                     rhs                    support confidence    coverage     lift count\n",
      "[1] {rice,                                                                                      \n",
      "     sugar}              => {whole milk}       0.001220132          1 0.001220132 3.913649    12\n",
      "[2] {canned fish,                                                                               \n",
      "     hygiene articles}   => {whole milk}       0.001118454          1 0.001118454 3.913649    11\n",
      "[3] {root vegetables,                                                                           \n",
      "     butter,                                                                                    \n",
      "     rice}               => {whole milk}       0.001016777          1 0.001016777 3.913649    10\n",
      "[4] {root vegetables,                                                                           \n",
      "     whipped/sour cream,                                                                        \n",
      "     flour}              => {whole milk}       0.001728521          1 0.001728521 3.913649    17\n",
      "[5] {butter,                                                                                    \n",
      "     soft cheese,                                                                               \n",
      "     domestic eggs}      => {whole milk}       0.001016777          1 0.001016777 3.913649    10\n",
      "[6] {citrus fruit,                                                                              \n",
      "     root vegetables,                                                                           \n",
      "     soft cheese}        => {other vegetables} 0.001016777          1 0.001016777 5.168156    10\n"
     ]
    }
   ],
   "source": [
    "rules <- apriori (Groceries, parameter = list(supp = 0.001, conf = 0.5)) # Min. Support as 0.001, confidence as 0.8.\n",
    "rules_conf <- sort (rules, by=\"confidence\", decreasing=TRUE) # regras de alta confiança.\n",
    "inspect(head(rules_conf)) # mostra o suporte, lift e confiança para  todas regras"
   ]
  },
  {
   "cell_type": "code",
   "execution_count": 13,
   "metadata": {
    "ExecuteTime": {
     "end_time": "2020-12-07T17:50:53.937397Z",
     "start_time": "2020-12-07T17:50:53.513Z"
    },
    "scrolled": true,
    "slideshow": {
     "slide_type": "subslide"
    }
   },
   "outputs": [
    {
     "name": "stdout",
     "output_type": "stream",
     "text": [
      "    lhs                        rhs                  support confidence    coverage     lift count\n",
      "[1] {Instant food products,                                                                      \n",
      "     soda}                  => {hamburger meat} 0.001220132  0.6315789 0.001931876 18.99565    12\n",
      "[2] {soda,                                                                                       \n",
      "     popcorn}               => {salty snack}    0.001220132  0.6315789 0.001931876 16.69779    12\n",
      "[3] {flour,                                                                                      \n",
      "     baking powder}         => {sugar}          0.001016777  0.5555556 0.001830198 16.40807    10\n",
      "[4] {ham,                                                                                        \n",
      "     processed cheese}      => {white bread}    0.001931876  0.6333333 0.003050330 15.04549    19\n",
      "[5] {whole milk,                                                                                 \n",
      "     Instant food products} => {hamburger meat} 0.001525165  0.5000000 0.003050330 15.03823    15\n",
      "[6] {other vegetables,                                                                           \n",
      "     curd,                                                                                       \n",
      "     yogurt,                                                                                     \n",
      "     whipped/sour cream}    => {cream cheese }  0.001016777  0.5882353 0.001728521 14.83409    10\n"
     ]
    }
   ],
   "source": [
    "rules_lift <- sort (rules, by=\"lift\", decreasing=TRUE) # regras de alta confiança.\n",
    "inspect(head(rules_lift)) # mostra o suporte, lift e confiança para  todas regras"
   ]
  },
  {
   "cell_type": "code",
   "execution_count": 40,
   "metadata": {
    "ExecuteTime": {
     "end_time": "2020-12-08T14:03:58.012225Z",
     "start_time": "2020-12-08T14:03:57.902Z"
    },
    "slideshow": {
     "slide_type": "subslide"
    }
   },
   "outputs": [
    {
     "name": "stdout",
     "output_type": "stream",
     "text": [
      "Apriori\n",
      "\n",
      "Parameter specification:\n",
      " confidence minval smax arem  aval originalSupport maxtime support minlen\n",
      "        0.5    0.1    1 none FALSE            TRUE       5   0.001      1\n",
      " maxlen target  ext\n",
      "      3  rules TRUE\n",
      "\n",
      "Algorithmic control:\n",
      " filter tree heap memopt load sort verbose\n",
      "    0.1 TRUE TRUE  FALSE TRUE    2    TRUE\n",
      "\n",
      "Absolute minimum support count: 9 \n",
      "\n",
      "set item appearances ...[0 item(s)] done [0.00s].\n",
      "set transactions ...[169 item(s), 9835 transaction(s)] done [0.01s].\n",
      "sorting and recoding items ... [157 item(s)] done [0.00s].\n",
      "creating transaction tree ... done [0.01s].\n",
      "checking subsets of size 1 2 3 done [0.01s].\n",
      "writing ... [1472 rule(s)] done [0.00s].\n",
      "creating S4 object  ... done [0.00s].\n"
     ]
    }
   ],
   "source": [
    "rules <- apriori(Groceries, parameter = list (supp = 0.001, conf = 0.5, maxlen=3)) # maxlen = 3 limits the elements in a rule to 3"
   ]
  },
  {
   "cell_type": "markdown",
   "metadata": {
    "slideshow": {
     "slide_type": "subslide"
    }
   },
   "source": [
    "- <font color=SlateGray> Remove regras redundantes</font>"
   ]
  },
  {
   "cell_type": "code",
   "execution_count": 41,
   "metadata": {
    "ExecuteTime": {
     "end_time": "2020-12-08T14:10:02.491653Z",
     "start_time": "2020-12-08T14:10:02.293Z"
    },
    "slideshow": {
     "slide_type": "fragment"
    }
   },
   "outputs": [],
   "source": [
    "subsetRules <- which(colSums(is.subset(rules, rules)) > 1) # extrai subconjunto de regras\n",
    "#length(subsetRules) \n",
    "rules <- rules[-subsetRules] # remove subconjunto. "
   ]
  },
  {
   "cell_type": "markdown",
   "metadata": {
    "slideshow": {
     "slide_type": "subslide"
    }
   },
   "source": [
    "- <font color=SlateGray> Regras relacionadas a itens especificos - influência </font>"
   ]
  },
  {
   "cell_type": "code",
   "execution_count": 42,
   "metadata": {
    "ExecuteTime": {
     "end_time": "2020-12-08T16:06:09.188746Z",
     "start_time": "2020-12-08T16:06:08.950Z"
    },
    "slideshow": {
     "slide_type": "fragment"
    }
   },
   "outputs": [
    {
     "name": "stdout",
     "output_type": "stream",
     "text": [
      "    lhs                     rhs              support confidence    coverage     lift count\n",
      "[1] {rice,                                                                                \n",
      "     sugar}              => {whole milk} 0.001220132          1 0.001220132 3.913649    12\n",
      "[2] {canned fish,                                                                         \n",
      "     hygiene articles}   => {whole milk} 0.001118454          1 0.001118454 3.913649    11\n",
      "[3] {root vegetables,                                                                     \n",
      "     butter,                                                                              \n",
      "     rice}               => {whole milk} 0.001016777          1 0.001016777 3.913649    10\n",
      "[4] {root vegetables,                                                                     \n",
      "     whipped/sour cream,                                                                  \n",
      "     flour}              => {whole milk} 0.001728521          1 0.001728521 3.913649    17\n",
      "[5] {butter,                                                                              \n",
      "     soft cheese,                                                                         \n",
      "     domestic eggs}      => {whole milk} 0.001016777          1 0.001016777 3.913649    10\n",
      "[6] {pip fruit,                                                                           \n",
      "     butter,                                                                              \n",
      "     hygiene articles}   => {whole milk} 0.001016777          1 0.001016777 3.913649    10\n"
     ]
    }
   ],
   "source": [
    "rules <- apriori (data=Groceries, parameter=list (supp=0.001,conf = 0.08), appearance = list (default=\"lhs\",rhs=\"whole milk\"), control = list (verbose=F)) # extrai regras que levam a compra de 'whole milk'\n",
    "rules_conf <- sort (rules, by=\"confidence\", decreasing=TRUE) # regras de alta confiança.\n",
    "inspect(head(rules_conf))"
   ]
  },
  {
   "cell_type": "markdown",
   "metadata": {
    "slideshow": {
     "slide_type": "subslide"
    }
   },
   "source": [
    "- <font color=SlateGray> Regras relacionadas a itens especificos - consequência </font>"
   ]
  },
  {
   "cell_type": "code",
   "execution_count": 42,
   "metadata": {
    "ExecuteTime": {
     "end_time": "2020-12-08T16:06:09.188746Z",
     "start_time": "2020-12-08T16:06:08.950Z"
    },
    "slideshow": {
     "slide_type": "fragment"
    }
   },
   "outputs": [
    {
     "name": "stdout",
     "output_type": "stream",
     "text": [
      "    lhs                     rhs              support confidence    coverage     lift count\n",
      "[1] {rice,                                                                                \n",
      "     sugar}              => {whole milk} 0.001220132          1 0.001220132 3.913649    12\n",
      "[2] {canned fish,                                                                         \n",
      "     hygiene articles}   => {whole milk} 0.001118454          1 0.001118454 3.913649    11\n",
      "[3] {root vegetables,                                                                     \n",
      "     butter,                                                                              \n",
      "     rice}               => {whole milk} 0.001016777          1 0.001016777 3.913649    10\n",
      "[4] {root vegetables,                                                                     \n",
      "     whipped/sour cream,                                                                  \n",
      "     flour}              => {whole milk} 0.001728521          1 0.001728521 3.913649    17\n",
      "[5] {butter,                                                                              \n",
      "     soft cheese,                                                                         \n",
      "     domestic eggs}      => {whole milk} 0.001016777          1 0.001016777 3.913649    10\n",
      "[6] {pip fruit,                                                                           \n",
      "     butter,                                                                              \n",
      "     hygiene articles}   => {whole milk} 0.001016777          1 0.001016777 3.913649    10\n"
     ]
    }
   ],
   "source": [
    "rules <- apriori (data=Groceries, parameter=list (supp=0.001,conf = 0.15,minlen=2), appearance = list(default=\"rhs\",lhs=\"whole milk\"), control = list (verbose=F)) # quem compra leite também compra..\n",
    "rules_conf <- sort (rules, by=\"confidence\", decreasing=TRUE) # regras de alta confiança.\n",
    "inspect(head(rules_conf))"
   ]
  },
  {
   "cell_type": "markdown",
   "metadata": {
    "slideshow": {
     "slide_type": "slide"
    }
   },
   "source": [
    "# <center><font color=Navy> Sumarização </font></center>"
   ]
  },
  {
   "cell_type": "markdown",
   "metadata": {
    "slideshow": {
     "slide_type": "subslide"
    }
   },
   "source": [
    "## <font color=MidnightBlue> Sumarização </font>\n",
    "\n",
    "- Sumarização de documento único\n",
    "  - Sintetiza o conteúdo de um documento\n",
    "- Sumarização de múltiplos documentos \n",
    "  - Sintetiza e condensa informações a partir de diversos documentos de entrada"
   ]
  },
  {
   "cell_type": "markdown",
   "metadata": {
    "slideshow": {
     "slide_type": "subslide"
    }
   },
   "source": [
    "## <font color=MidnightBlue> Sumarização </font>\n",
    "\n",
    "- Extrativa\n",
    "  - Seleciona frases-chave do documento de origem as combina para fazer um resumo.\n",
    "- Abstrativa \n",
    "  - Envolve parafrasear e encurtar partes do documento de origem. Os algoritmos de resumo de texto abstrativo criam novas frases e sentenças que transmitem as informações mais úteis do texto original."
   ]
  },
  {
   "cell_type": "markdown",
   "metadata": {
    "slideshow": {
     "slide_type": "subslide"
    }
   },
   "source": [
    "## <center> <font color=MidnightBlue>Sumarização</font> </center>\n",
    "\n",
    "\n",
    "****\n",
    "\n",
    "## <center> Exemplo </center>"
   ]
  },
  {
   "cell_type": "markdown",
   "metadata": {
    "slideshow": {
     "slide_type": "subslide"
    }
   },
   "source": [
    "- <font color=SlateGray> Sumarização Extrativa</font>"
   ]
  },
  {
   "cell_type": "code",
   "execution_count": null,
   "metadata": {
    "slideshow": {
     "slide_type": "skip"
    }
   },
   "outputs": [],
   "source": [
    "if(!require('LSAfun')) install.packages('LSAfun')\n",
    "if(!require('readr')) install.packages('readr')"
   ]
  },
  {
   "cell_type": "code",
   "execution_count": 17,
   "metadata": {
    "ExecuteTime": {
     "end_time": "2020-12-08T12:39:15.479859Z",
     "start_time": "2020-12-08T12:39:11.928Z"
    },
    "collapsed": true,
    "slideshow": {
     "slide_type": "skip"
    }
   },
   "outputs": [
    {
     "name": "stderr",
     "output_type": "stream",
     "text": [
      "Loading required package: lsa\n",
      "\n",
      "Loading required package: SnowballC\n",
      "\n",
      "Loading required package: rgl\n",
      "\n"
     ]
    },
    {
     "data": {
      "text/html": [
       "<style>\n",
       ".list-inline {list-style: none; margin:0; padding: 0}\n",
       ".list-inline>li {display: inline-block}\n",
       ".list-inline>li:not(:last-child)::after {content: \"\\00b7\"; padding: 0 .5ex}\n",
       "</style>\n",
       "<ol class=list-inline><li>' For test purposes, I will also include a sentence in this \\nexample that is not at all related to the rest of the document'</li><li>' It is set up just to throw some random \\nsentences in this example'</li></ol>\n"
      ],
      "text/latex": [
       "\\begin{enumerate*}\n",
       "\\item ' For test purposes, I will also include a sentence in this \\textbackslash{}nexample that is not at all related to the rest of the document'\n",
       "\\item ' It is set up just to throw some random \\textbackslash{}nsentences in this example'\n",
       "\\end{enumerate*}\n"
      ],
      "text/markdown": [
       "1. ' For test purposes, I will also include a sentence in this \\nexample that is not at all related to the rest of the document'\n",
       "2. ' It is set up just to throw some random \\nsentences in this example'\n",
       "\n",
       "\n"
      ],
      "text/plain": [
       "[1] \" For test purposes, I will also include a sentence in this \\nexample that is not at all related to the rest of the document\"\n",
       "[2] \" It is set up just to throw some random \\nsentences in this example\"                                                        "
      ]
     },
     "metadata": {},
     "output_type": "display_data"
    }
   ],
   "source": [
    "library(LSAfun)\n",
    "\n",
    "S <- \"This is just a test document. It is set up just to throw some random \n",
    "sentences in this example. So do not expect it to make much sense. Probably, even \n",
    "the summary won't be very meaningful. But this is mainly due to the document not being\n",
    "meaningful at all. For test purposes, I will also include a sentence in this \n",
    "example that is not at all related to the rest of the document. Lions are larger than cats.\"\n",
    "\n",
    "\n",
    "genericSummary(S,k=2)"
   ]
  },
  {
   "cell_type": "code",
   "execution_count": 46,
   "metadata": {
    "ExecuteTime": {
     "end_time": "2020-12-08T18:19:56.338074Z",
     "start_time": "2020-12-08T18:19:56.226Z"
    },
    "slideshow": {
     "slide_type": "fragment"
    }
   },
   "outputs": [
    {
     "data": {
      "text/html": [
       "'Joaquim Maria Machado de Assis (Rio de Janeiro, 21 de junho de 1839 — Rio de Janeiro, 29 de setembro de 1908) foi um escritor brasileiro, considerado por muitos críticos, estudiosos, escritores e leitores um dos maiores senão o maior nome da literatura do Brasil. Para o crítico literário norte-americano Harold Bloom, Machado de Assis é o maior escritor negro de todos os tempos. Escreveu em praticamente todos os gêneros literários, sendo poeta, romancista, cronista, dramaturgo, contista, folhetinista, jornalista e crítico literário. Testemunhou a Abolição da escravatura e a mudança política no país quando a República substituiu o Império, além das mais diversas reviravoltas pelo mundo em finais do século XIX e início do XX, tendo sido grande comentador e relator dos eventos político-sociais de sua época.\\r\\n\\r\\nNascido no Morro do Livramento, Rio de Janeiro, mestiço, de uma família pobre, mal estudou em escolas públicas e nunca frequentou universidade. Os biógrafos notam que, interessado pela boemia e pela corte, lutou para subir socialmente abastecendo-se de superioridade intelectual e da cultura da capital. Para isso, assumiu diversos cargos públicos, passando pelo Ministério da Agricultura, do Comércio e das Obras Públicas, e conseguindo precoce notoriedade em jornais onde publicava suas primeiras poesias e crônicas. Em sua maturidade, reunido a colegas próximos, fundou e foi o primeiro presidente unânime da Academia Brasileira de Letras.\\r\\n\\r\\nSua extensa obra constitui-se de dez romances, duzentos contos, dez peças teatrais, cinco coletâneas de poemas e sonetos, e mais de seiscentas crônicas. Machado de Assis é considerado o introdutor do Realismo no Brasil, com a publicação de Memórias Póstumas de Brás Cubas (1881). Este romance é posto ao lado de todas suas produções posteriores, Quincas Borba, Dom Casmurro, Esaú e Jacó e Memorial de Aires, ortodoxamente conhecidas como pertencentes a sua segunda fase, em que se notam traços de pessimismo e ironia, embora não haja rompimento de resíduos românticos. Dessa fase, os críticos destacam que suas melhores obras são as da Trilogia Realista. Sua primeira fase literária é constituída de obras como Ressurreição, A Mão e a Luva, Helena e Iaiá Garcia, onde notam-se características herdadas do Romantismo, ou \"convencionalismo\", como prefere a crítica moderna.\\r\\n\\r\\nSua obra foi de fundamental importância para as escolas literárias brasileiras do século XIX e do século XX e surge nos dias de hoje como de grande interesse acadêmico e público. Influenciou grandes nomes das letras, como Olavo Bilac, Lima Barreto, Drummond de Andrade, John Barth, Donald Barthelme e outros. Ainda em vida, alcançou fama e prestígio pelo Brasil e países vizinhos. Hoje em dia, por sua inovação literária e por sua audácia em temas sociais e precoces, é frequentemente visto como o escritor brasileiro de produção sem precedentes, de modo que, recentemente, seu nome e sua obra têm alcançado diversos críticos, influenciados, estudiosos e admiradores do mundo inteiro. Machado de Assis é considerado um dos grandes gênios da história da literatura, ao lado de autores como Dante, Shakespeare e Camões. Machado de Assis e Eça de Queiroz são considerados os dois maiores escritores em Língua portuguesa do século XIX. É homenageado pelo principal prêmio literário brasileiro, o Prêmio Machado de Assis.'"
      ],
      "text/latex": [
       "'Joaquim Maria Machado de Assis (Rio de Janeiro, 21 de junho de 1839 — Rio de Janeiro, 29 de setembro de 1908) foi um escritor brasileiro, considerado por muitos críticos, estudiosos, escritores e leitores um dos maiores senão o maior nome da literatura do Brasil. Para o crítico literário norte-americano Harold Bloom, Machado de Assis é o maior escritor negro de todos os tempos. Escreveu em praticamente todos os gêneros literários, sendo poeta, romancista, cronista, dramaturgo, contista, folhetinista, jornalista e crítico literário. Testemunhou a Abolição da escravatura e a mudança política no país quando a República substituiu o Império, além das mais diversas reviravoltas pelo mundo em finais do século XIX e início do XX, tendo sido grande comentador e relator dos eventos político-sociais de sua época.\\textbackslash{}r\\textbackslash{}n\\textbackslash{}r\\textbackslash{}nNascido no Morro do Livramento, Rio de Janeiro, mestiço, de uma família pobre, mal estudou em escolas públicas e nunca frequentou universidade. Os biógrafos notam que, interessado pela boemia e pela corte, lutou para subir socialmente abastecendo-se de superioridade intelectual e da cultura da capital. Para isso, assumiu diversos cargos públicos, passando pelo Ministério da Agricultura, do Comércio e das Obras Públicas, e conseguindo precoce notoriedade em jornais onde publicava suas primeiras poesias e crônicas. Em sua maturidade, reunido a colegas próximos, fundou e foi o primeiro presidente unânime da Academia Brasileira de Letras.\\textbackslash{}r\\textbackslash{}n\\textbackslash{}r\\textbackslash{}nSua extensa obra constitui-se de dez romances, duzentos contos, dez peças teatrais, cinco coletâneas de poemas e sonetos, e mais de seiscentas crônicas. Machado de Assis é considerado o introdutor do Realismo no Brasil, com a publicação de Memórias Póstumas de Brás Cubas (1881). Este romance é posto ao lado de todas suas produções posteriores, Quincas Borba, Dom Casmurro, Esaú e Jacó e Memorial de Aires, ortodoxamente conhecidas como pertencentes a sua segunda fase, em que se notam traços de pessimismo e ironia, embora não haja rompimento de resíduos românticos. Dessa fase, os críticos destacam que suas melhores obras são as da Trilogia Realista. Sua primeira fase literária é constituída de obras como Ressurreição, A Mão e a Luva, Helena e Iaiá Garcia, onde notam-se características herdadas do Romantismo, ou \"convencionalismo\", como prefere a crítica moderna.\\textbackslash{}r\\textbackslash{}n\\textbackslash{}r\\textbackslash{}nSua obra foi de fundamental importância para as escolas literárias brasileiras do século XIX e do século XX e surge nos dias de hoje como de grande interesse acadêmico e público. Influenciou grandes nomes das letras, como Olavo Bilac, Lima Barreto, Drummond de Andrade, John Barth, Donald Barthelme e outros. Ainda em vida, alcançou fama e prestígio pelo Brasil e países vizinhos. Hoje em dia, por sua inovação literária e por sua audácia em temas sociais e precoces, é frequentemente visto como o escritor brasileiro de produção sem precedentes, de modo que, recentemente, seu nome e sua obra têm alcançado diversos críticos, influenciados, estudiosos e admiradores do mundo inteiro. Machado de Assis é considerado um dos grandes gênios da história da literatura, ao lado de autores como Dante, Shakespeare e Camões. Machado de Assis e Eça de Queiroz são considerados os dois maiores escritores em Língua portuguesa do século XIX. É homenageado pelo principal prêmio literário brasileiro, o Prêmio Machado de Assis.'"
      ],
      "text/markdown": [
       "'Joaquim Maria Machado de Assis (Rio de Janeiro, 21 de junho de 1839 — Rio de Janeiro, 29 de setembro de 1908) foi um escritor brasileiro, considerado por muitos críticos, estudiosos, escritores e leitores um dos maiores senão o maior nome da literatura do Brasil. Para o crítico literário norte-americano Harold Bloom, Machado de Assis é o maior escritor negro de todos os tempos. Escreveu em praticamente todos os gêneros literários, sendo poeta, romancista, cronista, dramaturgo, contista, folhetinista, jornalista e crítico literário. Testemunhou a Abolição da escravatura e a mudança política no país quando a República substituiu o Império, além das mais diversas reviravoltas pelo mundo em finais do século XIX e início do XX, tendo sido grande comentador e relator dos eventos político-sociais de sua época.\\r\\n\\r\\nNascido no Morro do Livramento, Rio de Janeiro, mestiço, de uma família pobre, mal estudou em escolas públicas e nunca frequentou universidade. Os biógrafos notam que, interessado pela boemia e pela corte, lutou para subir socialmente abastecendo-se de superioridade intelectual e da cultura da capital. Para isso, assumiu diversos cargos públicos, passando pelo Ministério da Agricultura, do Comércio e das Obras Públicas, e conseguindo precoce notoriedade em jornais onde publicava suas primeiras poesias e crônicas. Em sua maturidade, reunido a colegas próximos, fundou e foi o primeiro presidente unânime da Academia Brasileira de Letras.\\r\\n\\r\\nSua extensa obra constitui-se de dez romances, duzentos contos, dez peças teatrais, cinco coletâneas de poemas e sonetos, e mais de seiscentas crônicas. Machado de Assis é considerado o introdutor do Realismo no Brasil, com a publicação de Memórias Póstumas de Brás Cubas (1881). Este romance é posto ao lado de todas suas produções posteriores, Quincas Borba, Dom Casmurro, Esaú e Jacó e Memorial de Aires, ortodoxamente conhecidas como pertencentes a sua segunda fase, em que se notam traços de pessimismo e ironia, embora não haja rompimento de resíduos românticos. Dessa fase, os críticos destacam que suas melhores obras são as da Trilogia Realista. Sua primeira fase literária é constituída de obras como Ressurreição, A Mão e a Luva, Helena e Iaiá Garcia, onde notam-se características herdadas do Romantismo, ou \"convencionalismo\", como prefere a crítica moderna.\\r\\n\\r\\nSua obra foi de fundamental importância para as escolas literárias brasileiras do século XIX e do século XX e surge nos dias de hoje como de grande interesse acadêmico e público. Influenciou grandes nomes das letras, como Olavo Bilac, Lima Barreto, Drummond de Andrade, John Barth, Donald Barthelme e outros. Ainda em vida, alcançou fama e prestígio pelo Brasil e países vizinhos. Hoje em dia, por sua inovação literária e por sua audácia em temas sociais e precoces, é frequentemente visto como o escritor brasileiro de produção sem precedentes, de modo que, recentemente, seu nome e sua obra têm alcançado diversos críticos, influenciados, estudiosos e admiradores do mundo inteiro. Machado de Assis é considerado um dos grandes gênios da história da literatura, ao lado de autores como Dante, Shakespeare e Camões. Machado de Assis e Eça de Queiroz são considerados os dois maiores escritores em Língua portuguesa do século XIX. É homenageado pelo principal prêmio literário brasileiro, o Prêmio Machado de Assis.'"
      ],
      "text/plain": [
       "[1] \"Joaquim Maria Machado de Assis (Rio de Janeiro, 21 de junho de 1839 — Rio de Janeiro, 29 de setembro de 1908) foi um escritor brasileiro, considerado por muitos críticos, estudiosos, escritores e leitores um dos maiores senão o maior nome da literatura do Brasil. Para o crítico literário norte-americano Harold Bloom, Machado de Assis é o maior escritor negro de todos os tempos. Escreveu em praticamente todos os gêneros literários, sendo poeta, romancista, cronista, dramaturgo, contista, folhetinista, jornalista e crítico literário. Testemunhou a Abolição da escravatura e a mudança política no país quando a República substituiu o Império, além das mais diversas reviravoltas pelo mundo em finais do século XIX e início do XX, tendo sido grande comentador e relator dos eventos político-sociais de sua época.\\r\\n\\r\\nNascido no Morro do Livramento, Rio de Janeiro, mestiço, de uma família pobre, mal estudou em escolas públicas e nunca frequentou universidade. Os biógrafos notam que, interessado pela boemia e pela corte, lutou para subir socialmente abastecendo-se de superioridade intelectual e da cultura da capital. Para isso, assumiu diversos cargos públicos, passando pelo Ministério da Agricultura, do Comércio e das Obras Públicas, e conseguindo precoce notoriedade em jornais onde publicava suas primeiras poesias e crônicas. Em sua maturidade, reunido a colegas próximos, fundou e foi o primeiro presidente unânime da Academia Brasileira de Letras.\\r\\n\\r\\nSua extensa obra constitui-se de dez romances, duzentos contos, dez peças teatrais, cinco coletâneas de poemas e sonetos, e mais de seiscentas crônicas. Machado de Assis é considerado o introdutor do Realismo no Brasil, com a publicação de Memórias Póstumas de Brás Cubas (1881). Este romance é posto ao lado de todas suas produções posteriores, Quincas Borba, Dom Casmurro, Esaú e Jacó e Memorial de Aires, ortodoxamente conhecidas como pertencentes a sua segunda fase, em que se notam traços de pessimismo e ironia, embora não haja rompimento de resíduos românticos. Dessa fase, os críticos destacam que suas melhores obras são as da Trilogia Realista. Sua primeira fase literária é constituída de obras como Ressurreição, A Mão e a Luva, Helena e Iaiá Garcia, onde notam-se características herdadas do Romantismo, ou \\\"convencionalismo\\\", como prefere a crítica moderna.\\r\\n\\r\\nSua obra foi de fundamental importância para as escolas literárias brasileiras do século XIX e do século XX e surge nos dias de hoje como de grande interesse acadêmico e público. Influenciou grandes nomes das letras, como Olavo Bilac, Lima Barreto, Drummond de Andrade, John Barth, Donald Barthelme e outros. Ainda em vida, alcançou fama e prestígio pelo Brasil e países vizinhos. Hoje em dia, por sua inovação literária e por sua audácia em temas sociais e precoces, é frequentemente visto como o escritor brasileiro de produção sem precedentes, de modo que, recentemente, seu nome e sua obra têm alcançado diversos críticos, influenciados, estudiosos e admiradores do mundo inteiro. Machado de Assis é considerado um dos grandes gênios da história da literatura, ao lado de autores como Dante, Shakespeare e Camões. Machado de Assis e Eça de Queiroz são considerados os dois maiores escritores em Língua portuguesa do século XIX. É homenageado pelo principal prêmio literário brasileiro, o Prêmio Machado de Assis.\""
      ]
     },
     "metadata": {},
     "output_type": "display_data"
    }
   ],
   "source": [
    "library(LSAfun)\n",
    "library(readr)\n",
    "\n",
    "txt <- read_file(\"biografia.txt\")\n",
    "\n",
    "txt"
   ]
  },
  {
   "cell_type": "code",
   "execution_count": 37,
   "metadata": {
    "ExecuteTime": {
     "end_time": "2020-12-08T13:35:32.391631Z",
     "start_time": "2020-12-08T13:35:32.352Z"
    },
    "slideshow": {
     "slide_type": "subslide"
    }
   },
   "outputs": [],
   "source": [
    "text <- iconv(txt, from = 'UTF-8', to = 'ASCII//TRANSLIT') # converte caracteres acentuados para caracteres sem acentuação"
   ]
  },
  {
   "cell_type": "code",
   "execution_count": 38,
   "metadata": {
    "ExecuteTime": {
     "end_time": "2020-12-08T13:36:18.340347Z",
     "start_time": "2020-12-08T13:36:13.531Z"
    },
    "slideshow": {
     "slide_type": "subslide"
    }
   },
   "outputs": [
    {
     "data": {
      "text/html": [
       "<style>\n",
       ".list-inline {list-style: none; margin:0; padding: 0}\n",
       ".list-inline>li {display: inline-block}\n",
       ".list-inline>li:not(:last-child)::after {content: \"\\00b7\"; padding: 0 .5ex}\n",
       "</style>\n",
       "<ol class=list-inline><li><span style=white-space:pre-wrap>'joaquim maria machado de assis  rio de janeiro     de junho de        rio de janeiro     de setembro de       foi um escritor brasileiro  considerado por muitos criticos  estudiosos  escritores e leitores um dos maiores senao o maior nome da literatura do brasil'</span></li><li><span style=white-space:pre-wrap>' hoje em dia  por sua inovacao literaria e por sua audacia em temas sociais e precoces  e frequentemente visto como o escritor brasileiro de producao sem precedentes  de modo que  recentemente  seu nome e sua obra tem alcancado diversos criticos  influenciados  estudiosos e admiradores do mundo inteiro'</span></li></ol>\n"
      ],
      "text/latex": [
       "\\begin{enumerate*}\n",
       "\\item 'joaquim maria machado de assis  rio de janeiro     de junho de        rio de janeiro     de setembro de       foi um escritor brasileiro  considerado por muitos criticos  estudiosos  escritores e leitores um dos maiores senao o maior nome da literatura do brasil'\n",
       "\\item ' hoje em dia  por sua inovacao literaria e por sua audacia em temas sociais e precoces  e frequentemente visto como o escritor brasileiro de producao sem precedentes  de modo que  recentemente  seu nome e sua obra tem alcancado diversos criticos  influenciados  estudiosos e admiradores do mundo inteiro'\n",
       "\\end{enumerate*}\n"
      ],
      "text/markdown": [
       "1. <span style=white-space:pre-wrap>'joaquim maria machado de assis  rio de janeiro     de junho de        rio de janeiro     de setembro de       foi um escritor brasileiro  considerado por muitos criticos  estudiosos  escritores e leitores um dos maiores senao o maior nome da literatura do brasil'</span>\n",
       "2. <span style=white-space:pre-wrap>' hoje em dia  por sua inovacao literaria e por sua audacia em temas sociais e precoces  e frequentemente visto como o escritor brasileiro de producao sem precedentes  de modo que  recentemente  seu nome e sua obra tem alcancado diversos criticos  influenciados  estudiosos e admiradores do mundo inteiro'</span>\n",
       "\n",
       "\n"
      ],
      "text/plain": [
       "[1] \"joaquim maria machado de assis  rio de janeiro     de junho de        rio de janeiro     de setembro de       foi um escritor brasileiro  considerado por muitos criticos  estudiosos  escritores e leitores um dos maiores senao o maior nome da literatura do brasil\"                                         \n",
       "[2] \" hoje em dia  por sua inovacao literaria e por sua audacia em temas sociais e precoces  e frequentemente visto como o escritor brasileiro de producao sem precedentes  de modo que  recentemente  seu nome e sua obra tem alcancado diversos criticos  influenciados  estudiosos e admiradores do mundo inteiro\""
      ]
     },
     "metadata": {},
     "output_type": "display_data"
    }
   ],
   "source": [
    "genericSummary(text, k=2, split=c(\".\",\"!\",\"?\",\" \"), language=\"portuguese\", breakdown=T)"
   ]
  },
  {
   "cell_type": "markdown",
   "metadata": {
    "slideshow": {
     "slide_type": "slide"
    }
   },
   "source": [
    "# <center> Aula #5 - Associação e Sumarização </center>\n",
    "\n",
    "\n",
    "****\n",
    "\n",
    "# <center> Dúvidas? </center>"
   ]
  },
  {
   "cell_type": "markdown",
   "metadata": {
    "slideshow": {
     "slide_type": "slide"
    }
   },
   "source": [
    "# Exercícios\n",
    "1. Em um texto de sua escolha faça uma **análise dos n-gramas mais comuns** e gere **regras de associação** para os **10** n-gramas mais frequentes.\n",
    "2. **Modifique o código da célula \"Exemplo de sumarização\"** testando **diferentes parâmetros** para a função *genericSummary*. Monte uma núvem de palavras negativas vs positivas (em um único gráfico, colocando vermelho para negativas, azul para neutras e verde para positivas) ou em gráficos separados. *Referência*: [LSAfun](https://cran.r-project.org/web/packages/LSAfun/LSAfun.pdf).\n",
    "\n",
    "\n",
    "------------\n",
    "\n",
    "**Desafio**: a tarefa (preferivelmente em grupos de 2 pessoas) consiste em realizar a análise de dados provenientes do Twitter, considerando uma pessoa, empresa, produto ou serviço. \n",
    "\n",
    "Faça a coleta de dados (tweets) e use os scripts vistos em aula como base. Analise a polaridade dos dados comentados e procure separar os elementos positivos dos negativos, de maneira global e também, se possível, ao longo do tempo (timeline, série temporal). Gere gráficos desses elementos e faça uma análise pessoal (ou em grupo) do resultado. \n",
    "\n",
    "Crie um arquivo .doc (ou similar) e prepare um relatório contendo o nome da atividade, os participantes, uma descrição da pessoa, produto, serviço ou empresa analisado, a fonte de dados (e como foram obtidos) e inclua os gráficos e suas análises. Além disso, inclua uma análise SWAT / FOFA (veja material no Moodle, caso necessite), identificando forças, fraquezas, oportunidades e ameaças. Conclua eventualmente indicando dificuldades, limitações e melhorias."
   ]
  }
 ],
 "metadata": {
  "celltoolbar": "Slideshow",
  "hide_input": false,
  "kernelspec": {
   "display_name": "R",
   "language": "R",
   "name": "ir"
  },
  "language_info": {
   "codemirror_mode": "r",
   "file_extension": ".r",
   "mimetype": "text/x-r-source",
   "name": "R",
   "pygments_lexer": "r",
   "version": "4.0.3"
  },
  "toc": {
   "base_numbering": 1,
   "nav_menu": {},
   "number_sections": true,
   "sideBar": true,
   "skip_h1_title": false,
   "title_cell": "Table of Contents",
   "title_sidebar": "Contents",
   "toc_cell": false,
   "toc_position": {},
   "toc_section_display": true,
   "toc_window_display": false
  },
  "varInspector": {
   "cols": {
    "lenName": 16,
    "lenType": 16,
    "lenVar": 40
   },
   "kernels_config": {
    "python": {
     "delete_cmd_postfix": "",
     "delete_cmd_prefix": "del ",
     "library": "var_list.py",
     "varRefreshCmd": "print(var_dic_list())"
    },
    "r": {
     "delete_cmd_postfix": ") ",
     "delete_cmd_prefix": "rm(",
     "library": "var_list.r",
     "varRefreshCmd": "cat(var_dic_list()) "
    }
   },
   "types_to_exclude": [
    "module",
    "function",
    "builtin_function_or_method",
    "instance",
    "_Feature"
   ],
   "window_display": false
  }
 },
 "nbformat": 4,
 "nbformat_minor": 4
}
