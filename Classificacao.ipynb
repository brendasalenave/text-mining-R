{
 "cells": [
  {
   "cell_type": "markdown",
   "metadata": {},
   "source": [
    "<span style=\"color:MediumTurquoise \"> **Instala Bibliotecas** </span>"
   ]
  },
  {
   "cell_type": "code",
   "execution_count": 3,
   "metadata": {
    "ExecuteTime": {
     "end_time": "2020-11-10T18:53:31.414760Z",
     "start_time": "2020-11-10T18:40:30.654Z"
    }
   },
   "outputs": [],
   "source": [
    "options(warn=-1)"
   ]
  },
  {
   "cell_type": "code",
   "execution_count": 4,
   "metadata": {
    "ExecuteTime": {
     "end_time": "2020-11-10T18:53:41.853426Z",
     "start_time": "2020-11-10T18:53:41.833Z"
    }
   },
   "outputs": [],
   "source": [
    "#install.packages(\"caret\", dependencies = c(\"Depends\", \"Suggests\"))\n",
    "#install.packages(\"tm\", repos=\"http://R-Forge.R-project.org\")"
   ]
  },
  {
   "cell_type": "markdown",
   "metadata": {},
   "source": [
    "<span style=\"color:MediumTurquoise \"> **Carrega Bibliotecas** </span>"
   ]
  },
  {
   "cell_type": "code",
   "execution_count": null,
   "metadata": {
    "ExecuteTime": {
     "end_time": "2020-11-10T18:53:44.396647Z",
     "start_time": "2020-11-10T18:53:43.205Z"
    }
   },
   "outputs": [],
   "source": [
    "library('caret')\n",
    "library('tm')"
   ]
  },
  {
   "cell_type": "markdown",
   "metadata": {},
   "source": [
    "<span style=\"color:MediumTurquoise \"> **Dados de Treino** </span>"
   ]
  },
  {
   "cell_type": "code",
   "execution_count": 78,
   "metadata": {},
   "outputs": [],
   "source": [
    "data <- c('Gatos gostam de perseguir rato.', 'Caẽs comem ossos grandes.')\n",
    "corpus <- VCorpus(VectorSource(data))"
   ]
  },
  {
   "cell_type": "code",
   "execution_count": 79,
   "metadata": {},
   "outputs": [],
   "source": [
    "# Cria matriz de termos por documentos\n",
    "tdm <- DocumentTermMatrix(corpus, list(removePunctuation = TRUE, stopwords = TRUE, stemming = TRUE, removeNumbers = TRUE))"
   ]
  },
  {
   "cell_type": "code",
   "execution_count": 80,
   "metadata": {},
   "outputs": [
    {
     "data": {
      "text/html": [
       "<table>\n",
       "<caption>A data.frame: 2 x 9</caption>\n",
       "<thead>\n",
       "\t<tr><th scope=col>caẽ</th><th scope=col>comem</th><th scope=col>gato</th><th scope=col>gostam</th><th scope=col>grand</th><th scope=col>osso</th><th scope=col>perseguir</th><th scope=col>rato</th><th scope=col>y</th></tr>\n",
       "\t<tr><th scope=col>&lt;dbl&gt;</th><th scope=col>&lt;dbl&gt;</th><th scope=col>&lt;dbl&gt;</th><th scope=col>&lt;dbl&gt;</th><th scope=col>&lt;dbl&gt;</th><th scope=col>&lt;dbl&gt;</th><th scope=col>&lt;dbl&gt;</th><th scope=col>&lt;dbl&gt;</th><th scope=col>&lt;fct&gt;</th></tr>\n",
       "</thead>\n",
       "<tbody>\n",
       "\t<tr><td>0</td><td>0</td><td>1</td><td>1</td><td>0</td><td>0</td><td>1</td><td>1</td><td>0</td></tr>\n",
       "\t<tr><td>1</td><td>1</td><td>0</td><td>0</td><td>1</td><td>1</td><td>0</td><td>0</td><td>1</td></tr>\n",
       "</tbody>\n",
       "</table>\n"
      ],
      "text/latex": [
       "A data.frame: 2 x 9\n",
       "\\begin{tabular}{r|lllllllll}\n",
       " caẽ & comem & gato & gostam & grand & osso & perseguir & rato & y\\\\\n",
       " <dbl> & <dbl> & <dbl> & <dbl> & <dbl> & <dbl> & <dbl> & <dbl> & <fct>\\\\\n",
       "\\hline\n",
       "\t 0 & 0 & 1 & 1 & 0 & 0 & 1 & 1 & 0\\\\\n",
       "\t 1 & 1 & 0 & 0 & 1 & 1 & 0 & 0 & 1\\\\\n",
       "\\end{tabular}\n"
      ],
      "text/markdown": [
       "\n",
       "A data.frame: 2 x 9\n",
       "\n",
       "| caẽ &lt;dbl&gt; | comem &lt;dbl&gt; | gato &lt;dbl&gt; | gostam &lt;dbl&gt; | grand &lt;dbl&gt; | osso &lt;dbl&gt; | perseguir &lt;dbl&gt; | rato &lt;dbl&gt; | y &lt;fct&gt; |\n",
       "|---|---|---|---|---|---|---|---|---|\n",
       "| 0 | 0 | 1 | 1 | 0 | 0 | 1 | 1 | 0 |\n",
       "| 1 | 1 | 0 | 0 | 1 | 1 | 0 | 0 | 1 |\n",
       "\n"
      ],
      "text/plain": [
       "  caẽ comem gato gostam grand osso perseguir rato y\n",
       "1 0   0     1    1      0     0    1         1    0\n",
       "2 1   1     0    0      1     1    0         0    1"
      ]
     },
     "metadata": {},
     "output_type": "display_data"
    }
   ],
   "source": [
    "# Converte em um data.frame para treinamento e atribui uma classificação (fator) a cada documento.\n",
    "train <- as.matrix(tdm)\n",
    "train <- cbind(train, c(0, 1))\n",
    "colnames(train)[ncol(train)] <- 'y'\n",
    "train <- as.data.frame(train)\n",
    "train$y <- as.factor(train$y)\n",
    "train"
   ]
  },
  {
   "cell_type": "markdown",
   "metadata": {},
   "source": [
    "<span style=\"color:MediumTurquoise \"> **Treino** </span>"
   ]
  },
  {
   "cell_type": "code",
   "execution_count": 81,
   "metadata": {
    "collapsed": true
   },
   "outputs": [
    {
     "name": "stderr",
     "output_type": "stream",
     "text": [
      "Warning message:\n",
      "“predictions failed for Resample03: parameter=none Error in family(object)$linkinv(pred) : \n",
      "  Argument eta must be a nonempty numeric vector\n",
      "”Warning message:\n",
      "“predictions failed for Resample04: parameter=none Error in family(object)$linkinv(pred) : \n",
      "  Argument eta must be a nonempty numeric vector\n",
      "”Warning message:\n",
      "“predictions failed for Resample06: parameter=none Error in family(object)$linkinv(pred) : \n",
      "  Argument eta must be a nonempty numeric vector\n",
      "”Warning message:\n",
      "“predictions failed for Resample07: parameter=none Error in family(object)$linkinv(pred) : \n",
      "  Argument eta must be a nonempty numeric vector\n",
      "”Warning message:\n",
      "“predictions failed for Resample09: parameter=none Error in family(object)$linkinv(pred) : \n",
      "  Argument eta must be a nonempty numeric vector\n",
      "”Warning message:\n",
      "“predictions failed for Resample10: parameter=none Error in family(object)$linkinv(pred) : \n",
      "  Argument eta must be a nonempty numeric vector\n",
      "”Warning message:\n",
      "“predictions failed for Resample11: parameter=none Error in family(object)$linkinv(pred) : \n",
      "  Argument eta must be a nonempty numeric vector\n",
      "”Warning message:\n",
      "“predictions failed for Resample12: parameter=none Error in family(object)$linkinv(pred) : \n",
      "  Argument eta must be a nonempty numeric vector\n",
      "”Warning message:\n",
      "“predictions failed for Resample14: parameter=none Error in family(object)$linkinv(pred) : \n",
      "  Argument eta must be a nonempty numeric vector\n",
      "”Warning message:\n",
      "“predictions failed for Resample16: parameter=none Error in family(object)$linkinv(pred) : \n",
      "  Argument eta must be a nonempty numeric vector\n",
      "”Warning message:\n",
      "“predictions failed for Resample18: parameter=none Error in family(object)$linkinv(pred) : \n",
      "  Argument eta must be a nonempty numeric vector\n",
      "”Warning message:\n",
      "“predictions failed for Resample19: parameter=none Error in family(object)$linkinv(pred) : \n",
      "  Argument eta must be a nonempty numeric vector\n",
      "”Warning message:\n",
      "“predictions failed for Resample20: parameter=none Error in family(object)$linkinv(pred) : \n",
      "  Argument eta must be a nonempty numeric vector\n",
      "”Warning message:\n",
      "“predictions failed for Resample23: parameter=none Error in family(object)$linkinv(pred) : \n",
      "  Argument eta must be a nonempty numeric vector\n",
      "”Warning message in nominalTrainWorkflow(x = x, y = y, wts = weights, info = trainInfo, :\n",
      "“There were missing values in resampled performance measures.”"
     ]
    }
   ],
   "source": [
    "fit <- train(y ~ ., data = train, method = 'bayesglm')"
   ]
  },
  {
   "cell_type": "code",
   "execution_count": 84,
   "metadata": {},
   "outputs": [
    {
     "data": {
      "text/html": [
       "<table>\n",
       "<caption>A data.frame: 2 x 2</caption>\n",
       "<thead>\n",
       "\t<tr><th scope=col>0</th><th scope=col>1</th></tr>\n",
       "\t<tr><th scope=col>&lt;dbl&gt;</th><th scope=col>&lt;dbl&gt;</th></tr>\n",
       "</thead>\n",
       "<tbody>\n",
       "\t<tr><td>0.90637851</td><td>0.09362149</td></tr>\n",
       "\t<tr><td>0.09362149</td><td>0.90637851</td></tr>\n",
       "</tbody>\n",
       "</table>\n"
      ],
      "text/latex": [
       "A data.frame: 2 x 2\n",
       "\\begin{tabular}{r|ll}\n",
       " 0 & 1\\\\\n",
       " <dbl> & <dbl>\\\\\n",
       "\\hline\n",
       "\t 0.90637851 & 0.09362149\\\\\n",
       "\t 0.09362149 & 0.90637851\\\\\n",
       "\\end{tabular}\n"
      ],
      "text/markdown": [
       "\n",
       "A data.frame: 2 x 2\n",
       "\n",
       "| 0 &lt;dbl&gt; | 1 &lt;dbl&gt; |\n",
       "|---|---|\n",
       "| 0.90637851 | 0.09362149 |\n",
       "| 0.09362149 | 0.90637851 |\n",
       "\n"
      ],
      "text/plain": [
       "  0          1         \n",
       "1 0.90637851 0.09362149\n",
       "2 0.09362149 0.90637851"
      ]
     },
     "metadata": {},
     "output_type": "display_data"
    }
   ],
   "source": [
    "# Verifica acurácia no treino.\n",
    "predict(fit, newdata = train, type='prob')"
   ]
  },
  {
   "cell_type": "markdown",
   "metadata": {},
   "source": [
    "<span style=\"color:MediumTurquoise \"> **Dados de Teste** </span>"
   ]
  },
  {
   "cell_type": "code",
   "execution_count": 85,
   "metadata": {},
   "outputs": [
    {
     "data": {
      "text/html": [
       "<table>\n",
       "<caption>A matrix: 1 x 8 of type dbl</caption>\n",
       "<thead>\n",
       "\t<tr><th scope=col>caẽ</th><th scope=col>comem</th><th scope=col>gato</th><th scope=col>gostam</th><th scope=col>grand</th><th scope=col>osso</th><th scope=col>perseguir</th><th scope=col>rato</th></tr>\n",
       "</thead>\n",
       "<tbody>\n",
       "\t<tr><td>0</td><td>1</td><td>0</td><td>0</td><td>0</td><td>0</td><td>0</td><td>0</td></tr>\n",
       "</tbody>\n",
       "</table>\n"
      ],
      "text/latex": [
       "A matrix: 1 x 8 of type dbl\n",
       "\\begin{tabular}{r|llllllll}\n",
       " caẽ & comem & gato & gostam & grand & osso & perseguir & rato\\\\\n",
       "\\hline\n",
       "\t 0 & 1 & 0 & 0 & 0 & 0 & 0 & 0\\\\\n",
       "\\end{tabular}\n"
      ],
      "text/markdown": [
       "\n",
       "A matrix: 1 x 8 of type dbl\n",
       "\n",
       "| caẽ | comem | gato | gostam | grand | osso | perseguir | rato |\n",
       "|---|---|---|---|---|---|---|---|\n",
       "| 0 | 1 | 0 | 0 | 0 | 0 | 0 | 0 |\n",
       "\n"
      ],
      "text/plain": [
       "    Terms\n",
       "Docs caẽ comem gato gostam grand osso perseguir rato\n",
       "   1 0   1     0    0      0     0    0         0   "
      ]
     },
     "metadata": {},
     "output_type": "display_data"
    }
   ],
   "source": [
    "data2 <- c('Morcegos comem insetos.')\n",
    "corpus <- VCorpus(VectorSource(data2))\n",
    "tdm <- DocumentTermMatrix(corpus, control = list(dictionary = Terms(tdm), removePunctuation = TRUE, stopwords = TRUE, stemming = TRUE, removeNumbers = TRUE))\n",
    "test <- as.matrix(tdm)\n",
    "test"
   ]
  },
  {
   "cell_type": "code",
   "execution_count": 86,
   "metadata": {},
   "outputs": [
    {
     "data": {
      "text/html": [
       "<table>\n",
       "<caption>A data.frame: 1 x 2</caption>\n",
       "<thead>\n",
       "\t<tr><th scope=col>0</th><th scope=col>1</th></tr>\n",
       "\t<tr><th scope=col>&lt;dbl&gt;</th><th scope=col>&lt;dbl&gt;</th></tr>\n",
       "</thead>\n",
       "<tbody>\n",
       "\t<tr><td>0.3618025</td><td>0.6381975</td></tr>\n",
       "</tbody>\n",
       "</table>\n"
      ],
      "text/latex": [
       "A data.frame: 1 x 2\n",
       "\\begin{tabular}{r|ll}\n",
       " 0 & 1\\\\\n",
       " <dbl> & <dbl>\\\\\n",
       "\\hline\n",
       "\t 0.3618025 & 0.6381975\\\\\n",
       "\\end{tabular}\n"
      ],
      "text/markdown": [
       "\n",
       "A data.frame: 1 x 2\n",
       "\n",
       "| 0 &lt;dbl&gt; | 1 &lt;dbl&gt; |\n",
       "|---|---|\n",
       "| 0.3618025 | 0.6381975 |\n",
       "\n"
      ],
      "text/plain": [
       "  0         1        \n",
       "1 0.3618025 0.6381975"
      ]
     },
     "metadata": {},
     "output_type": "display_data"
    }
   ],
   "source": [
    "# Verifica acurácia no teste.\n",
    "predict(fit, newdata = test, type='prob')"
   ]
  }
 ],
 "metadata": {
  "hide_input": false,
  "kernelspec": {
   "display_name": "R",
   "language": "R",
   "name": "ir"
  },
  "toc": {
   "base_numbering": 1,
   "nav_menu": {},
   "number_sections": true,
   "sideBar": true,
   "skip_h1_title": false,
   "title_cell": "Table of Contents",
   "title_sidebar": "Contents",
   "toc_cell": false,
   "toc_position": {},
   "toc_section_display": true,
   "toc_window_display": false
  },
  "varInspector": {
   "cols": {
    "lenName": 16,
    "lenType": 16,
    "lenVar": 40
   },
   "kernels_config": {
    "python": {
     "delete_cmd_postfix": "",
     "delete_cmd_prefix": "del ",
     "library": "var_list.py",
     "varRefreshCmd": "print(var_dic_list())"
    },
    "r": {
     "delete_cmd_postfix": ") ",
     "delete_cmd_prefix": "rm(",
     "library": "var_list.r",
     "varRefreshCmd": "cat(var_dic_list()) "
    }
   },
   "types_to_exclude": [
    "module",
    "function",
    "builtin_function_or_method",
    "instance",
    "_Feature"
   ],
   "window_display": false
  }
 },
 "nbformat": 4,
 "nbformat_minor": 2
}
