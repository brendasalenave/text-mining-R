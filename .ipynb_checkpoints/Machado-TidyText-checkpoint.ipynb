{
 "cells": [
  {
   "cell_type": "code",
   "execution_count": null,
   "metadata": {
    "ExecuteTime": {
     "end_time": "2020-11-13T01:27:29.978929Z",
     "start_time": "2020-11-13T01:27:29.159Z"
    }
   },
   "outputs": [],
   "source": [
    "options(warn=-1)"
   ]
  },
  {
   "cell_type": "markdown",
   "metadata": {},
   "source": [
    "#### Verifica e instala pacotes"
   ]
  },
  {
   "cell_type": "code",
   "execution_count": null,
   "metadata": {
    "scrolled": true
   },
   "outputs": [],
   "source": [
    "if(!require('dplyr')) install.packages('dplyr')\n",
    "#if(!require('tm.plugin.webmining')) install.packages('tm.plugin.webmining')\n",
    "if(!require('tidytext')) install.packages('tidytext')\n",
    "if(!require('purrr')) install.packages('purrr')\n",
    "if(!require('gutenbergr')) install.packages('gutenbergr')\n",
    "if(!require('ggplot2')) install.packages('ggplot2')\n",
    "if(!require('lexiconPT')) install.packages('lexiconPT')\n",
    "if(!require('wordcloud')) install.packages('wordcloud')"
   ]
  },
  {
   "cell_type": "code",
   "execution_count": 3,
   "metadata": {
    "ExecuteTime": {
     "end_time": "2020-11-13T01:27:51.879394Z",
     "start_time": "2020-11-13T01:27:51.602Z"
    },
    "scrolled": true
   },
   "outputs": [],
   "source": [
    "library(dplyr)\n",
    "#library(tm.plugin.webmining)\n",
    "library(purrr)\n",
    "library(tidytext)\n",
    "library(gutenbergr)\n",
    "library(ggplot2)\n",
    "library(lexiconPT)\n",
    "\n",
    "library(wordcloud)\n",
    "library(readr)\n",
    "library(stringr)\n",
    "library(tidyr)\n",
    "library(reshape2)\n",
    "library(igraph)\n",
    "library(ggraph)"
   ]
  },
  {
   "cell_type": "code",
   "execution_count": 4,
   "metadata": {
    "ExecuteTime": {
     "end_time": "2020-11-13T01:27:56.970991Z",
     "start_time": "2020-11-13T01:27:51.618Z"
    },
    "scrolled": true
   },
   "outputs": [
    {
     "name": "stderr",
     "output_type": "stream",
     "text": [
      "Determining mirror for Project Gutenberg from http://www.gutenberg.org/robot/harvest\n",
      "\n",
      "Using mirror http://aleph.gutenberg.org\n",
      "\n"
     ]
    }
   ],
   "source": [
    "machado <- gutenberg_download(c(55752, 56737, 54829, 55682))"
   ]
  },
  {
   "cell_type": "markdown",
   "metadata": {},
   "source": [
    " #### stop words"
   ]
  },
  {
   "cell_type": "code",
   "execution_count": 5,
   "metadata": {
    "ExecuteTime": {
     "end_time": "2020-11-13T01:27:57.157112Z",
     "start_time": "2020-11-13T01:27:51.628Z"
    }
   },
   "outputs": [],
   "source": [
    "custom_stop_words <- bind_rows(stop_words,\n",
    "                               tibble(word = tm::stopwords(\"portuguese\"),\n",
    "                                          lexicon = \"custom\"))\n",
    "#custom_stop_words.search('a')"
   ]
  },
  {
   "cell_type": "code",
   "execution_count": 6,
   "metadata": {
    "ExecuteTime": {
     "end_time": "2020-11-13T01:27:57.626183Z",
     "start_time": "2020-11-13T01:27:51.639Z"
    },
    "scrolled": true
   },
   "outputs": [],
   "source": [
    "tidy_machado <- machado %>%\n",
    "  unnest_tokens(word, text) %>%\n",
    "  anti_join(custom_stop_words,by='word')"
   ]
  },
  {
   "cell_type": "code",
   "execution_count": 7,
   "metadata": {
    "ExecuteTime": {
     "end_time": "2020-11-13T01:27:58.700142Z",
     "start_time": "2020-11-13T01:27:51.646Z"
    }
   },
   "outputs": [
    {
     "data": {
      "text/html": [
       "<table>\n",
       "<caption>A tibble: 10 × 2</caption>\n",
       "<thead>\n",
       "\t<tr><th scope=col>word</th><th scope=col>n</th></tr>\n",
       "\t<tr><th scope=col>&lt;chr&gt;</th><th scope=col>&lt;int&gt;</th></tr>\n",
       "</thead>\n",
       "<tbody>\n",
       "\t<tr><td>elle    </td><td>1157</td></tr>\n",
       "\t<tr><td>ella    </td><td> 779</td></tr>\n",
       "\t<tr><td>es      </td><td> 751</td></tr>\n",
       "\t<tr><td>rubi    </td><td> 700</td></tr>\n",
       "\t<tr><td>ser     </td><td> 689</td></tr>\n",
       "\t<tr><td>disse   </td><td> 676</td></tr>\n",
       "\t<tr><td>tudo    </td><td> 645</td></tr>\n",
       "\t<tr><td>olhos   </td><td> 626</td></tr>\n",
       "\t<tr><td>capitulo</td><td> 613</td></tr>\n",
       "\t<tr><td>casa    </td><td> 605</td></tr>\n",
       "</tbody>\n",
       "</table>\n"
      ],
      "text/latex": [
       "A tibble: 10 × 2\n",
       "\\begin{tabular}{ll}\n",
       " word & n\\\\\n",
       " <chr> & <int>\\\\\n",
       "\\hline\n",
       "\t elle     & 1157\\\\\n",
       "\t ella     &  779\\\\\n",
       "\t es       &  751\\\\\n",
       "\t rubi     &  700\\\\\n",
       "\t ser      &  689\\\\\n",
       "\t disse    &  676\\\\\n",
       "\t tudo     &  645\\\\\n",
       "\t olhos    &  626\\\\\n",
       "\t capitulo &  613\\\\\n",
       "\t casa     &  605\\\\\n",
       "\\end{tabular}\n"
      ],
      "text/markdown": [
       "\n",
       "A tibble: 10 × 2\n",
       "\n",
       "| word &lt;chr&gt; | n &lt;int&gt; |\n",
       "|---|---|\n",
       "| elle     | 1157 |\n",
       "| ella     |  779 |\n",
       "| es       |  751 |\n",
       "| rubi     |  700 |\n",
       "| ser      |  689 |\n",
       "| disse    |  676 |\n",
       "| tudo     |  645 |\n",
       "| olhos    |  626 |\n",
       "| capitulo |  613 |\n",
       "| casa     |  605 |\n",
       "\n"
      ],
      "text/plain": [
       "   word     n   \n",
       "1  elle     1157\n",
       "2  ella      779\n",
       "3  es        751\n",
       "4  rubi      700\n",
       "5  ser       689\n",
       "6  disse     676\n",
       "7  tudo      645\n",
       "8  olhos     626\n",
       "9  capitulo  613\n",
       "10 casa      605"
      ]
     },
     "metadata": {},
     "output_type": "display_data"
    }
   ],
   "source": [
    "count <- tidy_machado %>%\n",
    "          count(word, sort = TRUE)\n",
    "head(count,n=10)"
   ]
  },
  {
   "cell_type": "markdown",
   "metadata": {},
   "source": [
    "<span style=\"color:MediumTurquoise \"> **Léxicos de Sentimentos** </span>"
   ]
  },
  {
   "cell_type": "code",
   "execution_count": 8,
   "metadata": {
    "ExecuteTime": {
     "end_time": "2020-11-13T01:28:00.150592Z",
     "start_time": "2020-11-13T01:27:51.652Z"
    }
   },
   "outputs": [
    {
     "name": "stdout",
     "output_type": "stream",
     "text": [
      "Rows: 32,191\n",
      "Columns: 4\n",
      "$ word              \u001b[3m\u001b[90m<chr>\u001b[39m\u001b[23m \"=[\", \"=@\", \"=p\", \"=P\", \"=x\", \"=d\", \"=D\", \";)\", \"...\n",
      "$ type              \u001b[3m\u001b[90m<chr>\u001b[39m\u001b[23m \"emot\", \"emot\", \"emot\", \"emot\", \"emot\", \"emot\", \"...\n",
      "$ sentiment         \u001b[3m\u001b[90m<chr>\u001b[39m\u001b[23m \"negative\", \"negative\", \"negative\", \"negative\", \"...\n",
      "$ polarity_revision \u001b[3m\u001b[90m<chr>\u001b[39m\u001b[23m \"A\", \"A\", \"A\", \"A\", \"A\", \"A\", \"A\", \"A\", \"A\", \"A\",...\n"
     ]
    }
   ],
   "source": [
    "data(\"oplexicon_v3.0\")\n",
    "data(\"sentiLex_lem_PT02\")\n",
    "\n",
    "op30 <- oplexicon_v3.0\n",
    "sent <- sentiLex_lem_PT02\n",
    "\n",
    "colnames(op30) <- c(\"word\", \"type\", \"sentiment\", \"polarity_revision\")\n",
    "\n",
    "op30 <- data.frame(lapply(op30, function(x) {\n",
    "                  gsub(\"-1\", \"negative\", x)\n",
    "              }))\n",
    "\n",
    "op30 <- data.frame(lapply(op30, function(x) {\n",
    "                  gsub(\"1\", \"positive\", x)\n",
    "              }))\n",
    "\n",
    "op30 <- data.frame(lapply(op30, function(x) {\n",
    "                  gsub(\"0\", \"neutral\", x)\n",
    "              }))\n",
    "\n",
    "glimpse(op30)\n",
    "#glimpse(sent)"
   ]
  },
  {
   "cell_type": "code",
   "execution_count": 9,
   "metadata": {
    "ExecuteTime": {
     "end_time": "2020-11-13T01:28:00.549526Z",
     "start_time": "2020-11-13T01:27:51.660Z"
    }
   },
   "outputs": [
    {
     "data": {
      "text/html": [
       "<table>\n",
       "<caption>A tibble: 10 × 3</caption>\n",
       "<thead>\n",
       "\t<tr><th scope=col>word</th><th scope=col>sentiment</th><th scope=col>n</th></tr>\n",
       "\t<tr><th scope=col>&lt;chr&gt;</th><th scope=col>&lt;chr&gt;</th><th scope=col>&lt;int&gt;</th></tr>\n",
       "</thead>\n",
       "<tbody>\n",
       "\t<tr><td>ser   </td><td>positive</td><td>689</td></tr>\n",
       "\t<tr><td>nada  </td><td>neutral </td><td>581</td></tr>\n",
       "\t<tr><td>pouco </td><td>negative</td><td>358</td></tr>\n",
       "\t<tr><td>dizer </td><td>neutral </td><td>346</td></tr>\n",
       "\t<tr><td>ver   </td><td>positive</td><td>335</td></tr>\n",
       "\t<tr><td>mesma </td><td>neutral </td><td>302</td></tr>\n",
       "\t<tr><td>ir    </td><td>neutral </td><td>296</td></tr>\n",
       "\t<tr><td>grande</td><td>neutral </td><td>291</td></tr>\n",
       "\t<tr><td>melhor</td><td>positive</td><td>282</td></tr>\n",
       "\t<tr><td>ter   </td><td>neutral </td><td>259</td></tr>\n",
       "</tbody>\n",
       "</table>\n"
      ],
      "text/latex": [
       "A tibble: 10 × 3\n",
       "\\begin{tabular}{lll}\n",
       " word & sentiment & n\\\\\n",
       " <chr> & <chr> & <int>\\\\\n",
       "\\hline\n",
       "\t ser    & positive & 689\\\\\n",
       "\t nada   & neutral  & 581\\\\\n",
       "\t pouco  & negative & 358\\\\\n",
       "\t dizer  & neutral  & 346\\\\\n",
       "\t ver    & positive & 335\\\\\n",
       "\t mesma  & neutral  & 302\\\\\n",
       "\t ir     & neutral  & 296\\\\\n",
       "\t grande & neutral  & 291\\\\\n",
       "\t melhor & positive & 282\\\\\n",
       "\t ter    & neutral  & 259\\\\\n",
       "\\end{tabular}\n"
      ],
      "text/markdown": [
       "\n",
       "A tibble: 10 × 3\n",
       "\n",
       "| word &lt;chr&gt; | sentiment &lt;chr&gt; | n &lt;int&gt; |\n",
       "|---|---|---|\n",
       "| ser    | positive | 689 |\n",
       "| nada   | neutral  | 581 |\n",
       "| pouco  | negative | 358 |\n",
       "| dizer  | neutral  | 346 |\n",
       "| ver    | positive | 335 |\n",
       "| mesma  | neutral  | 302 |\n",
       "| ir     | neutral  | 296 |\n",
       "| grande | neutral  | 291 |\n",
       "| melhor | positive | 282 |\n",
       "| ter    | neutral  | 259 |\n",
       "\n"
      ],
      "text/plain": [
       "   word   sentiment n  \n",
       "1  ser    positive  689\n",
       "2  nada   neutral   581\n",
       "3  pouco  negative  358\n",
       "4  dizer  neutral   346\n",
       "5  ver    positive  335\n",
       "6  mesma  neutral   302\n",
       "7  ir     neutral   296\n",
       "8  grande neutral   291\n",
       "9  melhor positive  282\n",
       "10 ter    neutral   259"
      ]
     },
     "metadata": {},
     "output_type": "display_data"
    }
   ],
   "source": [
    "bing_word_counts <- tidy_machado %>%\n",
    "  inner_join(op30, by='word') %>%\n",
    "  count(word, sentiment, sort = TRUE) %>%\n",
    "  ungroup()\n",
    "head(bing_word_counts, n=10)"
   ]
  },
  {
   "cell_type": "code",
   "execution_count": 10,
   "metadata": {
    "ExecuteTime": {
     "end_time": "2020-11-13T01:28:01.768043Z",
     "start_time": "2020-11-13T01:27:51.667Z"
    }
   },
   "outputs": [
    {
     "data": {
      "image/png": "[encoded data removed]",
      "text/plain": [
       "plot without title"
      ]
     },
     "metadata": {
      "image/png": {
       "height": 420,
       "width": 420
      }
     },
     "output_type": "display_data"
    }
   ],
   "source": [
    "tidy_machado %>%\n",
    "  count(word, sort = TRUE) %>%\n",
    "  filter(n > 660) %>%\n",
    "  mutate(word = reorder(word, n)) %>%\n",
    "  ggplot(aes(word, n)) +\n",
    "  geom_col() +\n",
    "  xlab(NULL) +\n",
    "  coord_flip() + ggtitle(\"Palavras mais comuns nos livros de Machado de Assis\")"
   ]
  },
  {
   "cell_type": "code",
   "execution_count": 11,
   "metadata": {
    "ExecuteTime": {
     "end_time": "2020-11-13T01:28:01.908765Z",
     "start_time": "2020-11-13T01:27:51.675Z"
    }
   },
   "outputs": [
    {
     "data": {
      "text/html": [
       "<table>\n",
       "<caption>A tibble: 10 × 3</caption>\n",
       "<thead>\n",
       "\t<tr><th scope=col>word</th><th scope=col>sentiment</th><th scope=col>n</th></tr>\n",
       "\t<tr><th scope=col>&lt;chr&gt;</th><th scope=col>&lt;chr&gt;</th><th scope=col>&lt;int&gt;</th></tr>\n",
       "</thead>\n",
       "<tbody>\n",
       "\t<tr><td>mar     </td><td>negative</td><td>90</td></tr>\n",
       "\t<tr><td>favor   </td><td>positive</td><td>42</td></tr>\n",
       "\t<tr><td>impress </td><td>positive</td><td>39</td></tr>\n",
       "\t<tr><td>valor   </td><td>positive</td><td>27</td></tr>\n",
       "\t<tr><td>rumor   </td><td>negative</td><td>24</td></tr>\n",
       "\t<tr><td>terror  </td><td>negative</td><td>22</td></tr>\n",
       "\t<tr><td>sublime </td><td>positive</td><td>21</td></tr>\n",
       "\t<tr><td>solid   </td><td>positive</td><td>20</td></tr>\n",
       "\t<tr><td>superior</td><td>positive</td><td>19</td></tr>\n",
       "\t<tr><td>vulgar  </td><td>negative</td><td>19</td></tr>\n",
       "</tbody>\n",
       "</table>\n"
      ],
      "text/latex": [
       "A tibble: 10 × 3\n",
       "\\begin{tabular}{lll}\n",
       " word & sentiment & n\\\\\n",
       " <chr> & <chr> & <int>\\\\\n",
       "\\hline\n",
       "\t mar      & negative & 90\\\\\n",
       "\t favor    & positive & 42\\\\\n",
       "\t impress  & positive & 39\\\\\n",
       "\t valor    & positive & 27\\\\\n",
       "\t rumor    & negative & 24\\\\\n",
       "\t terror   & negative & 22\\\\\n",
       "\t sublime  & positive & 21\\\\\n",
       "\t solid    & positive & 20\\\\\n",
       "\t superior & positive & 19\\\\\n",
       "\t vulgar   & negative & 19\\\\\n",
       "\\end{tabular}\n"
      ],
      "text/markdown": [
       "\n",
       "A tibble: 10 × 3\n",
       "\n",
       "| word &lt;chr&gt; | sentiment &lt;chr&gt; | n &lt;int&gt; |\n",
       "|---|---|---|\n",
       "| mar      | negative | 90 |\n",
       "| favor    | positive | 42 |\n",
       "| impress  | positive | 39 |\n",
       "| valor    | positive | 27 |\n",
       "| rumor    | negative | 24 |\n",
       "| terror   | negative | 22 |\n",
       "| sublime  | positive | 21 |\n",
       "| solid    | positive | 20 |\n",
       "| superior | positive | 19 |\n",
       "| vulgar   | negative | 19 |\n",
       "\n"
      ],
      "text/plain": [
       "   word     sentiment n \n",
       "1  mar      negative  90\n",
       "2  favor    positive  42\n",
       "3  impress  positive  39\n",
       "4  valor    positive  27\n",
       "5  rumor    negative  24\n",
       "6  terror   negative  22\n",
       "7  sublime  positive  21\n",
       "8  solid    positive  20\n",
       "9  superior positive  19\n",
       "10 vulgar   negative  19"
      ]
     },
     "metadata": {},
     "output_type": "display_data"
    }
   ],
   "source": [
    "bing_word_counts <- tidy_machado %>%\n",
    "  inner_join(get_sentiments(\"bing\"),by='word') %>%\n",
    "  count(word, sentiment, sort = TRUE) %>%\n",
    "  ungroup()\n",
    "head(bing_word_counts,n=10)"
   ]
  },
  {
   "cell_type": "code",
   "execution_count": 12,
   "metadata": {
    "ExecuteTime": {
     "end_time": "2020-11-13T01:28:02.738494Z",
     "start_time": "2020-11-13T01:27:51.681Z"
    }
   },
   "outputs": [
    {
     "name": "stderr",
     "output_type": "stream",
     "text": [
      "Selecting by n\n",
      "\n"
     ]
    },
    {
     "data": {
      "image/png": "[encoded data removed]",
      "text/plain": [
       "plot without title"
      ]
     },
     "metadata": {
      "image/png": {
       "height": 420,
       "width": 420
      }
     },
     "output_type": "display_data"
    }
   ],
   "source": [
    "bing_word_counts %>%\n",
    "  group_by(sentiment) %>%\n",
    "  top_n(5) %>%\n",
    "  ungroup() %>%\n",
    "  mutate(word = reorder(word, n)) %>%\n",
    "  ggplot(aes(word, n, fill = sentiment)) +\n",
    "  geom_col(show.legend = FALSE) +\n",
    "  facet_wrap(~sentiment, scales = \"free_y\") +\n",
    "  labs(y = \"Words Contribute to sentiment\",\n",
    "       x = NULL) +\n",
    "  coord_flip()"
   ]
  },
  {
   "cell_type": "code",
   "execution_count": 13,
   "metadata": {
    "ExecuteTime": {
     "end_time": "2020-11-13T01:28:04.683047Z",
     "start_time": "2020-11-13T01:27:51.688Z"
    }
   },
   "outputs": [
    {
     "data": {
      "image/png": "[encoded data removed]",
      "text/plain": [
       "plot without title"
      ]
     },
     "metadata": {
      "image/png": {
       "height": 420,
       "width": 420
      }
     },
     "output_type": "display_data"
    }
   ],
   "source": [
    "tidy_machado %>%\n",
    "  anti_join(stop_words, by='word') %>%\n",
    "  count(word) %>%\n",
    "  with(wordcloud(word, n, max.words = 100))"
   ]
  },
  {
   "cell_type": "code",
   "execution_count": 14,
   "metadata": {
    "ExecuteTime": {
     "end_time": "2020-11-13T01:28:05.454276Z",
     "start_time": "2020-11-13T01:27:51.696Z"
    },
    "scrolled": true
   },
   "outputs": [
    {
     "data": {
      "image/png": "[encoded data removed]",
      "text/plain": [
       "plot without title"
      ]
     },
     "metadata": {
      "image/png": {
       "height": 420,
       "width": 420
      }
     },
     "output_type": "display_data"
    }
   ],
   "source": [
    "tidy_machado %>%\n",
    "  inner_join(get_sentiments(\"bing\"), by='word') %>%\n",
    "  count(word, sentiment, sort = TRUE) %>%\n",
    "  acast(word ~ sentiment, value.var = \"n\", fill = 0) %>%\n",
    "  comparison.cloud(colors = c(\"#F8766D\", \"#00BFC4\"),\n",
    "                   max.words = 150)"
   ]
  },
  {
   "cell_type": "code",
   "execution_count": 15,
   "metadata": {
    "ExecuteTime": {
     "end_time": "2020-11-13T01:28:06.251195Z",
     "start_time": "2020-11-13T01:27:51.705Z"
    }
   },
   "outputs": [
    {
     "data": {
      "text/html": [
       "<table>\n",
       "<caption>A tibble: 10 × 2</caption>\n",
       "<thead>\n",
       "\t<tr><th scope=col>gutenberg_id</th><th scope=col>bigram</th></tr>\n",
       "\t<tr><th scope=col>&lt;int&gt;</th><th scope=col>&lt;chr&gt;</th></tr>\n",
       "</thead>\n",
       "<tbody>\n",
       "\t<tr><td>54829</td><td>mem rias   </td></tr>\n",
       "\t<tr><td>54829</td><td>rias p     </td></tr>\n",
       "\t<tr><td>54829</td><td>p sthumas  </td></tr>\n",
       "\t<tr><td>54829</td><td>sthumas de </td></tr>\n",
       "\t<tr><td>54829</td><td>de braz    </td></tr>\n",
       "\t<tr><td>54829</td><td>braz cubas </td></tr>\n",
       "\t<tr><td>54829</td><td>cubas por  </td></tr>\n",
       "\t<tr><td>54829</td><td>por machado</td></tr>\n",
       "\t<tr><td>54829</td><td>machado de </td></tr>\n",
       "\t<tr><td>54829</td><td>de assis   </td></tr>\n",
       "</tbody>\n",
       "</table>\n"
      ],
      "text/latex": [
       "A tibble: 10 × 2\n",
       "\\begin{tabular}{ll}\n",
       " gutenberg\\_id & bigram\\\\\n",
       " <int> & <chr>\\\\\n",
       "\\hline\n",
       "\t 54829 & mem rias   \\\\\n",
       "\t 54829 & rias p     \\\\\n",
       "\t 54829 & p sthumas  \\\\\n",
       "\t 54829 & sthumas de \\\\\n",
       "\t 54829 & de braz    \\\\\n",
       "\t 54829 & braz cubas \\\\\n",
       "\t 54829 & cubas por  \\\\\n",
       "\t 54829 & por machado\\\\\n",
       "\t 54829 & machado de \\\\\n",
       "\t 54829 & de assis   \\\\\n",
       "\\end{tabular}\n"
      ],
      "text/markdown": [
       "\n",
       "A tibble: 10 × 2\n",
       "\n",
       "| gutenberg_id &lt;int&gt; | bigram &lt;chr&gt; |\n",
       "|---|---|\n",
       "| 54829 | mem rias    |\n",
       "| 54829 | rias p      |\n",
       "| 54829 | p sthumas   |\n",
       "| 54829 | sthumas de  |\n",
       "| 54829 | de braz     |\n",
       "| 54829 | braz cubas  |\n",
       "| 54829 | cubas por   |\n",
       "| 54829 | por machado |\n",
       "| 54829 | machado de  |\n",
       "| 54829 | de assis    |\n",
       "\n"
      ],
      "text/plain": [
       "   gutenberg_id bigram     \n",
       "1  54829        mem rias   \n",
       "2  54829        rias p     \n",
       "3  54829        p sthumas  \n",
       "4  54829        sthumas de \n",
       "5  54829        de braz    \n",
       "6  54829        braz cubas \n",
       "7  54829        cubas por  \n",
       "8  54829        por machado\n",
       "9  54829        machado de \n",
       "10 54829        de assis   "
      ]
     },
     "metadata": {},
     "output_type": "display_data"
    }
   ],
   "source": [
    "machado_bigrams <- machado %>%\n",
    "  unnest_tokens(bigram, text, token = \"ngrams\", n = 2)\n",
    "head(machado_bigrams, n=10)"
   ]
  },
  {
   "cell_type": "code",
   "execution_count": 16,
   "metadata": {
    "ExecuteTime": {
     "end_time": "2020-11-13T01:28:18.536789Z",
     "start_time": "2020-11-13T01:27:51.714Z"
    }
   },
   "outputs": [
    {
     "data": {
      "text/html": [
       "<table>\n",
       "<caption>A tibble: 10 × 3</caption>\n",
       "<thead>\n",
       "\t<tr><th scope=col>word1</th><th scope=col>word2</th><th scope=col>n</th></tr>\n",
       "\t<tr><th scope=col>&lt;chr&gt;</th><th scope=col>&lt;chr&gt;</th><th scope=col>&lt;int&gt;</th></tr>\n",
       "</thead>\n",
       "<tbody>\n",
       "\t<tr><td>de     </td><td>um   </td><td>428</td></tr>\n",
       "\t<tr><td>os     </td><td>olhos</td><td>425</td></tr>\n",
       "\t<tr><td>de     </td><td>uma  </td><td>317</td></tr>\n",
       "\t<tr><td>de     </td><td>ser  </td><td>193</td></tr>\n",
       "\t<tr><td>era    </td><td>um   </td><td>189</td></tr>\n",
       "\t<tr><td>quincas</td><td>borba</td><td>160</td></tr>\n",
       "\t<tr><td>jos    </td><td>dias </td><td>151</td></tr>\n",
       "\t<tr><td>como   </td><td>se   </td><td>148</td></tr>\n",
       "\t<tr><td>alguma </td><td>cousa</td><td>146</td></tr>\n",
       "\t<tr><td>um     </td><td>dia  </td><td>143</td></tr>\n",
       "</tbody>\n",
       "</table>\n"
      ],
      "text/latex": [
       "A tibble: 10 × 3\n",
       "\\begin{tabular}{lll}\n",
       " word1 & word2 & n\\\\\n",
       " <chr> & <chr> & <int>\\\\\n",
       "\\hline\n",
       "\t de      & um    & 428\\\\\n",
       "\t os      & olhos & 425\\\\\n",
       "\t de      & uma   & 317\\\\\n",
       "\t de      & ser   & 193\\\\\n",
       "\t era     & um    & 189\\\\\n",
       "\t quincas & borba & 160\\\\\n",
       "\t jos     & dias  & 151\\\\\n",
       "\t como    & se    & 148\\\\\n",
       "\t alguma  & cousa & 146\\\\\n",
       "\t um      & dia   & 143\\\\\n",
       "\\end{tabular}\n"
      ],
      "text/markdown": [
       "\n",
       "A tibble: 10 × 3\n",
       "\n",
       "| word1 &lt;chr&gt; | word2 &lt;chr&gt; | n &lt;int&gt; |\n",
       "|---|---|---|\n",
       "| de      | um    | 428 |\n",
       "| os      | olhos | 425 |\n",
       "| de      | uma   | 317 |\n",
       "| de      | ser   | 193 |\n",
       "| era     | um    | 189 |\n",
       "| quincas | borba | 160 |\n",
       "| jos     | dias  | 151 |\n",
       "| como    | se    | 148 |\n",
       "| alguma  | cousa | 146 |\n",
       "| um      | dia   | 143 |\n",
       "\n"
      ],
      "text/plain": [
       "   word1   word2 n  \n",
       "1  de      um    428\n",
       "2  os      olhos 425\n",
       "3  de      uma   317\n",
       "4  de      ser   193\n",
       "5  era     um    189\n",
       "6  quincas borba 160\n",
       "7  jos     dias  151\n",
       "8  como    se    148\n",
       "9  alguma  cousa 146\n",
       "10 um      dia   143"
      ]
     },
     "metadata": {},
     "output_type": "display_data"
    }
   ],
   "source": [
    "bigrams_separated <- machado_bigrams %>%\n",
    "  separate(bigram, c(\"word1\", \"word2\"), sep = \" \")\n",
    "bigrams_filtered <- bigrams_separated %>%\n",
    "  filter(!word1 %in% stop_words$word) %>%\n",
    "  filter(!word2 %in% stop_words$word)\n",
    "bigram_counts <- bigrams_filtered %>% \n",
    "  count(word1, word2, sort = TRUE)\n",
    "head(bigram_counts, n=10)"
   ]
  },
  {
   "cell_type": "code",
   "execution_count": 17,
   "metadata": {
    "ExecuteTime": {
     "end_time": "2020-11-13T01:28:18.766058Z",
     "start_time": "2020-11-13T01:27:51.720Z"
    }
   },
   "outputs": [
    {
     "data": {
      "text/html": [
       "<table>\n",
       "<caption>A tibble: 10 × 2</caption>\n",
       "<thead>\n",
       "\t<tr><th scope=col>gutenberg_id</th><th scope=col>bigram</th></tr>\n",
       "\t<tr><th scope=col>&lt;int&gt;</th><th scope=col>&lt;chr&gt;</th></tr>\n",
       "</thead>\n",
       "<tbody>\n",
       "\t<tr><td>54829</td><td>mem rias   </td></tr>\n",
       "\t<tr><td>54829</td><td>sthumas de </td></tr>\n",
       "\t<tr><td>54829</td><td>de braz    </td></tr>\n",
       "\t<tr><td>54829</td><td>braz cubas </td></tr>\n",
       "\t<tr><td>54829</td><td>cubas por  </td></tr>\n",
       "\t<tr><td>54829</td><td>por machado</td></tr>\n",
       "\t<tr><td>54829</td><td>machado de </td></tr>\n",
       "\t<tr><td>54829</td><td>de assis   </td></tr>\n",
       "\t<tr><td>54829</td><td>assis rio  </td></tr>\n",
       "\t<tr><td>54829</td><td>rio de     </td></tr>\n",
       "</tbody>\n",
       "</table>\n"
      ],
      "text/latex": [
       "A tibble: 10 × 2\n",
       "\\begin{tabular}{ll}\n",
       " gutenberg\\_id & bigram\\\\\n",
       " <int> & <chr>\\\\\n",
       "\\hline\n",
       "\t 54829 & mem rias   \\\\\n",
       "\t 54829 & sthumas de \\\\\n",
       "\t 54829 & de braz    \\\\\n",
       "\t 54829 & braz cubas \\\\\n",
       "\t 54829 & cubas por  \\\\\n",
       "\t 54829 & por machado\\\\\n",
       "\t 54829 & machado de \\\\\n",
       "\t 54829 & de assis   \\\\\n",
       "\t 54829 & assis rio  \\\\\n",
       "\t 54829 & rio de     \\\\\n",
       "\\end{tabular}\n"
      ],
      "text/markdown": [
       "\n",
       "A tibble: 10 × 2\n",
       "\n",
       "| gutenberg_id &lt;int&gt; | bigram &lt;chr&gt; |\n",
       "|---|---|\n",
       "| 54829 | mem rias    |\n",
       "| 54829 | sthumas de  |\n",
       "| 54829 | de braz     |\n",
       "| 54829 | braz cubas  |\n",
       "| 54829 | cubas por   |\n",
       "| 54829 | por machado |\n",
       "| 54829 | machado de  |\n",
       "| 54829 | de assis    |\n",
       "| 54829 | assis rio   |\n",
       "| 54829 | rio de      |\n",
       "\n"
      ],
      "text/plain": [
       "   gutenberg_id bigram     \n",
       "1  54829        mem rias   \n",
       "2  54829        sthumas de \n",
       "3  54829        de braz    \n",
       "4  54829        braz cubas \n",
       "5  54829        cubas por  \n",
       "6  54829        por machado\n",
       "7  54829        machado de \n",
       "8  54829        de assis   \n",
       "9  54829        assis rio  \n",
       "10 54829        rio de     "
      ]
     },
     "metadata": {},
     "output_type": "display_data"
    }
   ],
   "source": [
    "bigrams_united <- bigrams_filtered %>%\n",
    "  unite(bigram, word1, word2, sep = \" \")\n",
    "head(bigrams_united, n=10)"
   ]
  },
  {
   "cell_type": "code",
   "execution_count": 18,
   "metadata": {
    "ExecuteTime": {
     "end_time": "2020-11-13T01:28:24.052274Z",
     "start_time": "2020-11-13T01:27:51.733Z"
    }
   },
   "outputs": [
    {
     "data": {
      "image/png": "[encoded data removed]",
      "text/plain": [
       "plot without title"
      ]
     },
     "metadata": {
      "image/png": {
       "height": 420,
       "width": 420
      }
     },
     "output_type": "display_data"
    }
   ],
   "source": [
    "bigram_tf_idf <- bigrams_united %>%\n",
    "  count(bigram)\n",
    "bigram_tf_idf <- bigram_tf_idf %>% filter(n>100)\n",
    "ggplot(aes(x = reorder(bigram, n), y=n), data=bigram_tf_idf) + geom_bar(stat = 'identity') + ggtitle(\"Bigramas mais comuns em Machado de Assis\") + coord_flip()"
   ]
  },
  {
   "cell_type": "code",
   "execution_count": 19,
   "metadata": {
    "ExecuteTime": {
     "end_time": "2020-11-13T01:28:24.151297Z",
     "start_time": "2020-11-13T01:27:51.740Z"
    }
   },
   "outputs": [
    {
     "data": {
      "text/plain": [
       "IGRAPH 85b911d DN-- 106 123 -- \n",
       "+ attr: name (v/c), n (e/n)\n",
       "+ edges from 85b911d (vertex names):\n",
       " [1] de     ->um        os     ->olhos     de     ->uma       de     ->ser      \n",
       " [5] era    ->um        quincas->borba     jos    ->dias      como   ->se       \n",
       " [9] alguma ->cousa     um     ->dia       uma    ->vez       todos  ->os       \n",
       "[13] os     ->seus      em     ->casa      um     ->pouco     depois ->de       \n",
       "[17] carlos ->maria     de     ->si        podia  ->ser       maria  ->benedicta\n",
       "[21] outra  ->vez       ha     ->de        outra  ->cousa     na     ->rua      \n",
       "[25] era    ->uma       da     ->minha     um     ->homem     da     ->casa     \n",
       "[29] de     ->mim       se     ->lhe       os     ->dous      da     ->vida     \n",
       "+ ... omitted several edges"
      ]
     },
     "metadata": {},
     "output_type": "display_data"
    }
   ],
   "source": [
    "bigram_graph <- bigram_counts %>%\n",
    "  filter(n > 40) %>%\n",
    "  graph_from_data_frame()\n",
    "bigram_graph"
   ]
  },
  {
   "cell_type": "code",
   "execution_count": 20,
   "metadata": {
    "ExecuteTime": {
     "end_time": "2020-11-13T01:28:25.175799Z",
     "start_time": "2020-11-13T01:27:51.747Z"
    }
   },
   "outputs": [
    {
     "data": {
      "image/png": "[encoded data removed]",
      "text/plain": [
       "plot without title"
      ]
     },
     "metadata": {
      "image/png": {
       "height": 420,
       "width": 420
      }
     },
     "output_type": "display_data"
    }
   ],
   "source": [
    "set.seed(2019)\n",
    "ggraph(bigram_graph, layout = \"fr\") +\n",
    "  geom_edge_link() +\n",
    "  geom_node_point(color = \"darkslategray4\", size = 3) +\n",
    "  geom_node_text(aes(label = name), vjust = 1.8) + ggtitle(\"Bigramas comuns nos livros de Machado de Assis\")"
   ]
  }
 ],
 "metadata": {
  "hide_input": false,
  "kernelspec": {
   "display_name": "R",
   "language": "R",
   "name": "ir"
  },
  "toc": {
   "base_numbering": 1,
   "nav_menu": {},
   "number_sections": true,
   "sideBar": true,
   "skip_h1_title": false,
   "title_cell": "Table of Contents",
   "title_sidebar": "Contents",
   "toc_cell": false,
   "toc_position": {},
   "toc_section_display": true,
   "toc_window_display": false
  },
  "varInspector": {
   "cols": {
    "lenName": 16,
    "lenType": 16,
    "lenVar": 40
   },
   "kernels_config": {
    "python": {
     "delete_cmd_postfix": "",
     "delete_cmd_prefix": "del ",
     "library": "var_list.py",
     "varRefreshCmd": "print(var_dic_list())"
    },
    "r": {
     "delete_cmd_postfix": ") ",
     "delete_cmd_prefix": "rm(",
     "library": "var_list.r",
     "varRefreshCmd": "cat(var_dic_list()) "
    }
   },
   "types_to_exclude": [
    "module",
    "function",
    "builtin_function_or_method",
    "instance",
    "_Feature"
   ],
   "window_display": false
  }
 },
 "nbformat": 4,
 "nbformat_minor": 2
}
